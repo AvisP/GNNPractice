{
 "cells": [
  {
   "cell_type": "code",
   "execution_count": 5,
   "metadata": {},
   "outputs": [
    {
     "data": {
      "image/png": "[encoded data removed]",
      "text/plain": [
       "<Figure size 432x288 with 1 Axes>"
      ]
     },
     "metadata": {},
     "output_type": "display_data"
    }
   ],
   "source": [
    "from dgl.data import MiniGCDataset\n",
    "import matplotlib.pyplot as plt\n",
    "import networkx as nx\n",
    "import numpy as np\n",
    "# A dataset with 80 samples, each graph is\n",
    "# of size [10, 20]\n",
    "dataset = MiniGCDataset(80, 10, 20)\n",
    "graph, label = dataset[0]\n",
    "fig, ax = plt.subplots()\n",
    "nx.draw(graph.to_networkx(), ax=ax)\n",
    "ax.set_title('Class: {:d}'.format(label))\n",
    "plt.show()"
   ]
  },
  {
   "cell_type": "code",
   "execution_count": 6,
   "metadata": {},
   "outputs": [
    {
     "data": {
      "text/plain": [
       "15"
      ]
     },
     "execution_count": 6,
     "metadata": {},
     "output_type": "execute_result"
    }
   ],
   "source": [
    "graph.num_nodes()"
   ]
  },
  {
   "cell_type": "code",
   "execution_count": 7,
   "metadata": {},
   "outputs": [
    {
     "data": {
      "text/plain": [
       "45"
      ]
     },
     "execution_count": 7,
     "metadata": {},
     "output_type": "execute_result"
    }
   ],
   "source": [
    "graph.num_edges()"
   ]
  },
  {
   "cell_type": "code",
   "execution_count": 8,
   "metadata": {},
   "outputs": [
    {
     "data": {
      "text/plain": [
       "tensor([3, 3, 3, 3, 3, 3, 3, 3, 3, 3, 3, 3, 3, 3, 3])"
      ]
     },
     "execution_count": 8,
     "metadata": {},
     "output_type": "execute_result"
    }
   ],
   "source": [
    "graph.in_degrees()"
   ]
  },
  {
   "cell_type": "code",
   "execution_count": 9,
   "metadata": {},
   "outputs": [
    {
     "data": {
      "text/plain": [
       "tensor([3, 3, 3, 3, 3, 3, 3, 3, 3, 3, 3, 3, 3, 3, 3])"
      ]
     },
     "execution_count": 9,
     "metadata": {},
     "output_type": "execute_result"
    }
   ],
   "source": [
    "graph.out_degrees()"
   ]
  },
  {
   "cell_type": "code",
   "execution_count": 10,
   "metadata": {},
   "outputs": [],
   "source": [
    "import dgl\n",
    "import torch\n",
    "\n",
    "def collate(samples):\n",
    "    # The input `samples` is a list of pairs\n",
    "    #  (graph, label).\n",
    "    graphs, labels = map(list, zip(*samples))\n",
    "    batched_graph = dgl.batch(graphs)\n",
    "    return batched_graph, torch.tensor(labels)\n",
    "\n",
    "# The return type of :func:`dgl.batch` is still a graph. In the same way, \n",
    "# a batch of tensors is still a tensor. This means that any code that works\n",
    "# for one graph immediately works for a batch of graphs. More importantly,\n",
    "# because DGL processes messages on all nodes and edges in parallel, this greatly\n",
    "# improves efficiency."
   ]
  },
  {
   "cell_type": "code",
   "execution_count": 11,
   "metadata": {},
   "outputs": [],
   "source": [
    "from dgl.nn.pytorch import GraphConv"
   ]
  },
  {
   "cell_type": "code",
   "execution_count": 12,
   "metadata": {},
   "outputs": [],
   "source": [
    "import torch.nn as nn\n",
    "import torch.nn.functional as F\n",
    "\n",
    "class Classifier(nn.Module):\n",
    "    def __init__(self, in_dim, hidden_dim, n_classes):\n",
    "        super(Classifier, self).__init__()\n",
    "        self.conv1 = GraphConv(in_dim, hidden_dim)\n",
    "        self.conv2 = GraphConv(hidden_dim, hidden_dim)\n",
    "        self.classify = nn.Linear(hidden_dim, n_classes)\n",
    "\n",
    "    def forward(self, g):\n",
    "        # Use node degree as the initial node feature. For undirected graphs, the in-degree\n",
    "        # is the same as the out_degree.\n",
    "        h = g.in_degrees().view(-1, 1).float()\n",
    "        # Perform graph convolution and activation function.\n",
    "        h = F.relu(self.conv1(g, h))\n",
    "        h = F.relu(self.conv2(g, h))\n",
    "        g.ndata['h'] = h\n",
    "        # Calculate graph representation by averaging all the node representations.\n",
    "        hg = dgl.mean_nodes(g, 'h')     ### Readout Function\n",
    "        return self.classify(hg)"
   ]
  },
  {
   "cell_type": "code",
   "execution_count": 13,
   "metadata": {},
   "outputs": [],
   "source": [
    "import torch.optim as optim\n",
    "from torch.utils.data import DataLoader\n",
    "\n",
    "# Create training and test sets.\n",
    "trainset = MiniGCDataset(320, 10, 20)\n",
    "testset = MiniGCDataset(80, 10, 20)\n",
    "# Use PyTorch's DataLoader and the collate function\n",
    "# defined before.\n",
    "data_loader = DataLoader(trainset, batch_size=32, shuffle=True,\n",
    "                         collate_fn=collate)\n"
   ]
  },
  {
   "cell_type": "code",
   "execution_count": 14,
   "metadata": {},
   "outputs": [
    {
     "data": {
      "text/plain": [
       "Graph(num_nodes=15, num_edges=45,\n",
       "      ndata_schemes={}\n",
       "      edata_schemes={})"
      ]
     },
     "execution_count": 14,
     "metadata": {},
     "output_type": "execute_result"
    }
   ],
   "source": [
    "trainset.graphs[0]"
   ]
  },
  {
   "cell_type": "code",
   "execution_count": 15,
   "metadata": {},
   "outputs": [
    {
     "data": {
      "text/plain": [
       "Classifier(\n",
       "  (conv1): GraphConv(in=1, out=256, normalization=both, activation=None)\n",
       "  (conv2): GraphConv(in=256, out=256, normalization=both, activation=None)\n",
       "  (classify): Linear(in_features=256, out_features=8, bias=True)\n",
       ")"
      ]
     },
     "execution_count": 15,
     "metadata": {},
     "output_type": "execute_result"
    }
   ],
   "source": [
    "# Create model\n",
    "model = Classifier(1, 256, trainset.num_classes)\n",
    "loss_func = nn.CrossEntropyLoss()\n",
    "optimizer = optim.Adam(model.parameters(), lr=0.001)\n",
    "model.train()"
   ]
  },
  {
   "cell_type": "code",
   "execution_count": 16,
   "metadata": {},
   "outputs": [
    {
     "name": "stdout",
     "output_type": "stream",
     "text": [
      "Epoch 0, loss 2.0161\n",
      "Epoch 1, loss 1.9778\n",
      "Epoch 2, loss 1.9693\n",
      "Epoch 3, loss 1.9510\n",
      "Epoch 4, loss 1.9378\n",
      "Epoch 5, loss 1.9428\n",
      "Epoch 6, loss 1.9162\n",
      "Epoch 7, loss 1.8908\n",
      "Epoch 8, loss 1.8653\n",
      "Epoch 9, loss 1.8260\n",
      "Epoch 10, loss 1.7905\n",
      "Epoch 11, loss 1.7431\n",
      "Epoch 12, loss 1.6947\n",
      "Epoch 13, loss 1.6372\n",
      "Epoch 14, loss 1.5819\n",
      "Epoch 15, loss 1.5231\n",
      "Epoch 16, loss 1.4704\n",
      "Epoch 17, loss 1.4112\n",
      "Epoch 18, loss 1.3501\n",
      "Epoch 19, loss 1.2973\n",
      "Epoch 20, loss 1.2393\n",
      "Epoch 21, loss 1.2107\n",
      "Epoch 22, loss 1.1575\n",
      "Epoch 23, loss 1.1339\n",
      "Epoch 24, loss 1.0991\n",
      "Epoch 25, loss 1.0696\n",
      "Epoch 26, loss 1.0337\n",
      "Epoch 27, loss 1.0206\n",
      "Epoch 28, loss 1.0321\n",
      "Epoch 29, loss 0.9762\n",
      "Epoch 30, loss 0.9519\n",
      "Epoch 31, loss 0.9440\n",
      "Epoch 32, loss 0.9321\n",
      "Epoch 33, loss 0.9028\n",
      "Epoch 34, loss 0.8968\n",
      "Epoch 35, loss 0.8936\n",
      "Epoch 36, loss 0.8830\n",
      "Epoch 37, loss 0.9221\n",
      "Epoch 38, loss 0.8788\n",
      "Epoch 39, loss 0.8495\n",
      "Epoch 40, loss 0.8631\n",
      "Epoch 41, loss 0.8459\n",
      "Epoch 42, loss 0.8299\n",
      "Epoch 43, loss 0.8379\n",
      "Epoch 44, loss 0.8388\n",
      "Epoch 45, loss 0.8480\n",
      "Epoch 46, loss 0.8047\n",
      "Epoch 47, loss 0.8201\n",
      "Epoch 48, loss 0.8035\n",
      "Epoch 49, loss 0.7986\n",
      "Epoch 50, loss 0.8124\n",
      "Epoch 51, loss 0.8065\n",
      "Epoch 52, loss 0.7908\n",
      "Epoch 53, loss 0.7828\n",
      "Epoch 54, loss 0.7922\n",
      "Epoch 55, loss 0.8067\n",
      "Epoch 56, loss 0.7896\n",
      "Epoch 57, loss 0.7887\n",
      "Epoch 58, loss 0.7826\n",
      "Epoch 59, loss 0.7641\n",
      "Epoch 60, loss 0.7518\n",
      "Epoch 61, loss 0.7530\n",
      "Epoch 62, loss 0.7757\n",
      "Epoch 63, loss 0.7490\n",
      "Epoch 64, loss 0.7360\n",
      "Epoch 65, loss 0.7415\n",
      "Epoch 66, loss 0.7271\n",
      "Epoch 67, loss 0.7351\n",
      "Epoch 68, loss 0.7334\n",
      "Epoch 69, loss 0.7208\n",
      "Epoch 70, loss 0.7355\n",
      "Epoch 71, loss 0.7313\n",
      "Epoch 72, loss 0.7246\n",
      "Epoch 73, loss 0.7277\n",
      "Epoch 74, loss 0.7230\n",
      "Epoch 75, loss 0.7069\n",
      "Epoch 76, loss 0.6970\n",
      "Epoch 77, loss 0.6973\n",
      "Epoch 78, loss 0.6953\n",
      "Epoch 79, loss 0.6939\n"
     ]
    }
   ],
   "source": [
    "epoch_losses = []\n",
    "for epoch in range(80):\n",
    "    epoch_loss = 0\n",
    "    for iter, (bg, label) in enumerate(data_loader):\n",
    "        prediction = model(bg)\n",
    "        loss = loss_func(prediction, label.long())\n",
    "        optimizer.zero_grad()\n",
    "        loss.backward()\n",
    "        optimizer.step()\n",
    "        epoch_loss += loss.detach().item()\n",
    "    epoch_loss /= (iter + 1)\n",
    "    print('Epoch {}, loss {:.4f}'.format(epoch, epoch_loss))\n",
    "    epoch_losses.append(epoch_loss)"
   ]
  },
  {
   "cell_type": "code",
   "execution_count": 17,
   "metadata": {},
   "outputs": [
    {
     "data": {
      "image/png": "[encoded data removed]",
      "text/plain": [
       "<Figure size 432x288 with 1 Axes>"
      ]
     },
     "metadata": {
      "needs_background": "light"
     },
     "output_type": "display_data"
    }
   ],
   "source": [
    "# The learning curve of a run is presented below.\n",
    "\n",
    "plt.title('cross entropy averaged over minibatches')\n",
    "plt.plot(epoch_losses)\n",
    "plt.show()"
   ]
  },
  {
   "cell_type": "code",
   "execution_count": 18,
   "metadata": {},
   "outputs": [
    {
     "name": "stdout",
     "output_type": "stream",
     "text": [
      "Accuracy of sampled predictions on the test set: 58.7500%\n",
      "Accuracy of argmax predictions on the test set: 71.250000%\n"
     ]
    }
   ],
   "source": [
    "# The trained model is evaluated on the test set created. To deploy\n",
    "# the tutorial, restrict the running time to get a higher\n",
    "# accuracy (:math:`80` % ~ :math:`90` %) than the ones printed below.\n",
    "\n",
    "model.eval()\n",
    "# Convert a list of tuples to two lists\n",
    "test_X, test_Y = map(list, zip(*testset))\n",
    "test_bg = dgl.batch(test_X)\n",
    "test_Y = torch.tensor(test_Y).float().view(-1, 1)\n",
    "probs_Y = torch.softmax(model(test_bg), 1)\n",
    "sampled_Y = torch.multinomial(probs_Y, 1)\n",
    "argmax_Y = torch.max(probs_Y, 1)[1].view(-1, 1)\n",
    "print('Accuracy of sampled predictions on the test set: {:.4f}%'.format(\n",
    "    (test_Y == sampled_Y.float()).sum().item() / len(test_Y) * 100))\n",
    "print('Accuracy of argmax predictions on the test set: {:4f}%'.format(\n",
    "    (test_Y == argmax_Y.float()).sum().item() / len(test_Y) * 100))"
   ]
  },
  {
   "cell_type": "code",
   "execution_count": 19,
   "metadata": {},
   "outputs": [],
   "source": [
    "test_bg = dgl.batch(test_X)"
   ]
  },
  {
   "cell_type": "code",
   "execution_count": 20,
   "metadata": {},
   "outputs": [],
   "source": [
    "probs_Y = torch.softmax(model(test_bg), 1)"
   ]
  },
  {
   "cell_type": "code",
   "execution_count": 21,
   "metadata": {},
   "outputs": [],
   "source": [
    "prediction = model(bg)"
   ]
  },
  {
   "cell_type": "code",
   "execution_count": 22,
   "metadata": {},
   "outputs": [
    {
     "data": {
      "text/plain": [
       "torch.Size([32, 8])"
      ]
     },
     "execution_count": 22,
     "metadata": {},
     "output_type": "execute_result"
    }
   ],
   "source": [
    "prediction.shape"
   ]
  },
  {
   "cell_type": "code",
   "execution_count": 23,
   "metadata": {},
   "outputs": [],
   "source": [
    "First_layer_pred = []\n",
    "for i in range(0,len(trainset)):\n",
    "    h = trainset.graphs[i].in_degrees().view(-1, 1).float()\n",
    "    x = F.relu(model.conv1(trainset.graphs[i], h))\n",
    "    First_layer_pred.append(np.mean(x.detach().numpy(),0))"
   ]
  },
  {
   "cell_type": "code",
   "execution_count": 145,
   "metadata": {},
   "outputs": [
    {
     "data": {
      "text/plain": [
       "array([0.        , 0.00635034, 0.46580884, 0.        , 0.        ,\n",
       "       0.        , 0.        , 0.906904  , 0.663962  , 0.6638413 ,\n",
       "       0.        , 0.        , 0.20090936, 0.        , 0.4599849 ,\n",
       "       0.        , 0.65087616, 0.23567295, 0.        , 0.        ,\n",
       "       0.62305766, 0.        , 0.00573289, 0.        , 0.50708526,\n",
       "       0.        , 0.        , 0.        , 0.21028902, 0.47279823,\n",
       "       0.        , 0.        , 0.        , 0.        , 0.        ,\n",
       "       0.        , 0.8486909 , 0.        , 0.        , 0.        ,\n",
       "       0.655961  , 0.00484467, 0.04229152, 0.9618952 , 0.        ,\n",
       "       0.01206209, 0.06131314, 0.13936044, 0.        , 0.        ,\n",
       "       0.64867246, 0.0068385 , 0.        , 0.        , 0.01709291,\n",
       "       0.6725359 , 0.01213597, 0.006284  , 0.05669726, 0.00584662,\n",
       "       0.        , 0.3655272 , 0.0080488 , 0.00589496, 0.6497811 ,\n",
       "       0.65544856, 0.        , 0.96731466, 0.        , 0.        ,\n",
       "       0.09132253, 0.1177019 , 0.71560794, 0.        , 0.00574267,\n",
       "       0.        , 0.        , 0.        , 0.89349943, 0.21237491,\n",
       "       0.        , 0.        , 0.        , 0.00653696, 0.        ,\n",
       "       0.00892156, 0.01159483, 0.6181707 , 0.        , 0.        ,\n",
       "       0.5065366 , 0.        , 0.        , 0.        , 0.22545308,\n",
       "       0.00568715, 0.31588072, 0.427184  , 0.68855923, 0.        ,\n",
       "       0.        , 0.09825467, 0.        , 0.31925347, 0.77769786,\n",
       "       0.64561427, 0.        , 0.00920399, 0.        , 0.        ,\n",
       "       0.        , 0.4702187 , 0.54071766, 0.6390508 , 0.        ,\n",
       "       0.6545774 , 0.        , 0.        , 0.00670731, 0.        ,\n",
       "       0.        , 0.        , 0.00631645, 0.00847542, 0.        ,\n",
       "       0.        , 0.        , 0.        , 0.5926587 , 0.        ,\n",
       "       0.03526503, 0.        , 0.01207206, 0.        , 0.0066731 ,\n",
       "       0.01778576, 0.        , 0.        , 0.00770864, 0.008102  ,\n",
       "       0.82389   , 0.        , 0.0067836 , 0.6378041 , 0.00574669,\n",
       "       0.00655481, 0.        , 0.48800895, 0.        , 0.1281698 ,\n",
       "       0.2521143 , 0.40970513, 0.        , 0.00687096, 0.        ,\n",
       "       0.09637623, 0.        , 0.        , 0.        , 0.09346092,\n",
       "       0.        , 0.        , 0.17330949, 0.00713211, 0.        ,\n",
       "       0.        , 0.2613902 , 0.09452553, 0.00604424, 0.        ,\n",
       "       0.        , 0.        , 0.0053592 , 0.00698999, 0.        ,\n",
       "       0.2943139 , 0.        , 0.        , 0.08908127, 0.        ,\n",
       "       0.01324973, 0.        , 0.17061527, 0.00680026, 0.12153259,\n",
       "       0.08122468, 0.0106124 , 0.00746718, 0.        , 0.47946274,\n",
       "       0.02028188, 0.        , 0.00611612, 0.43523645, 0.        ,\n",
       "       0.        , 0.        , 0.30917215, 0.        , 0.1935005 ,\n",
       "       0.        , 0.        , 0.6493371 , 0.        , 0.51890093,\n",
       "       0.09960963, 0.00582632, 0.        , 0.00870383, 0.45737502,\n",
       "       0.        , 0.        , 0.283082  , 0.        , 0.        ,\n",
       "       0.7758998 , 0.08395253, 0.        , 0.        , 0.        ,\n",
       "       0.        , 0.        , 0.2296241 , 0.43023822, 0.09691286,\n",
       "       0.        , 0.        , 0.00853501, 0.00727913, 0.        ,\n",
       "       0.00747958, 0.        , 0.        , 0.5747561 , 0.        ,\n",
       "       0.6906852 , 0.0066705 , 0.        , 0.        , 0.        ,\n",
       "       0.        , 0.2216034 , 0.        , 0.        , 0.9371989 ,\n",
       "       0.06682772, 0.        , 0.49292806, 0.        , 0.        ,\n",
       "       0.        , 0.00581649, 0.10507417, 0.4155464 , 0.00661537,\n",
       "       0.02687147], dtype=float32)"
      ]
     },
     "execution_count": 145,
     "metadata": {},
     "output_type": "execute_result"
    }
   ],
   "source": [
    "First_layer_pred[0]"
   ]
  },
  {
   "cell_type": "code",
   "execution_count": 24,
   "metadata": {},
   "outputs": [],
   "source": [
    "First_layer_pred = np.stack(First_layer_pred, axis=0)"
   ]
  },
  {
   "cell_type": "code",
   "execution_count": 147,
   "metadata": {},
   "outputs": [
    {
     "data": {
      "text/plain": [
       "numpy.ndarray"
      ]
     },
     "execution_count": 147,
     "metadata": {},
     "output_type": "execute_result"
    }
   ],
   "source": [
    "type(First_layer_pred)"
   ]
  },
  {
   "cell_type": "code",
   "execution_count": 25,
   "metadata": {},
   "outputs": [],
   "source": [
    "from sklearn.manifold import TSNE"
   ]
  },
  {
   "cell_type": "code",
   "execution_count": 26,
   "metadata": {},
   "outputs": [
    {
     "name": "stdout",
     "output_type": "stream",
     "text": [
      "[t-SNE] Computing 31 nearest neighbors...\n",
      "[t-SNE] Indexed 320 samples in 0.013s...\n",
      "[t-SNE] Computed neighbors for 320 samples in 0.025s...\n",
      "[t-SNE] Computed conditional probabilities for sample 320 / 320\n",
      "[t-SNE] Mean sigma: 0.000000\n",
      "[t-SNE] KL divergence after 250 iterations with early exaggeration: 43.561058\n",
      "[t-SNE] KL divergence after 2000 iterations: -0.447843\n"
     ]
    }
   ],
   "source": [
    "First_layer_TSNE = TSNE(2, perplexity = 10, learning_rate=10, verbose=1, n_iter=2000, random_state=2020)\n",
    "Y = First_layer_TSNE.fit_transform(First_layer_pred)"
   ]
  },
  {
   "cell_type": "code",
   "execution_count": 150,
   "metadata": {},
   "outputs": [
    {
     "data": {
      "text/plain": [
       "array([[-1.11080189e+01, -1.45068939e+02],\n",
       "       [ 7.60516815e+01, -4.67540169e+01],\n",
       "       [ 1.28123001e+02, -4.94698753e+01],\n",
       "       [ 1.28373520e+02, -4.30528488e+01],\n",
       "       [-7.09187698e+00, -1.50395432e+02],\n",
       "       [ 2.21032357e+00, -1.88908173e+02],\n",
       "       [ 1.34548325e+02, -4.86320992e+01],\n",
       "       [-1.51577854e+00, -1.44488739e+02],\n",
       "       [ 9.72004242e+01, -4.30342941e+01],\n",
       "       [ 1.24148651e+02, -5.45623245e+01],\n",
       "       [ 1.62315285e+00, -1.58110352e+02],\n",
       "       [-6.06417322e+00, -1.57699097e+02],\n",
       "       [-1.37178984e+01, -1.89851974e+02],\n",
       "       [-1.13007536e+01, -1.83867340e+02],\n",
       "       [ 8.61759262e+01, -4.49271622e+01],\n",
       "       [-6.06417322e+00, -1.57699097e+02],\n",
       "       [-1.40646827e+00, -1.52289917e+02],\n",
       "       [-1.26485710e+01, -1.53749344e+02],\n",
       "       [-7.37272596e+00, -1.89799118e+02],\n",
       "       [ 8.61759262e+01, -4.49271622e+01],\n",
       "       [-1.51577854e+00, -1.44488739e+02],\n",
       "       [ 2.21032357e+00, -1.88908173e+02],\n",
       "       [-5.16485023e+00, -1.83362244e+02],\n",
       "       [-1.53654113e-01, -1.94973892e+02],\n",
       "       [ 1.24148651e+02, -5.45623245e+01],\n",
       "       [ 1.17320686e+02, -5.04315147e+01],\n",
       "       [ 7.14594421e+01, -4.24455948e+01],\n",
       "       [ 1.16987587e+02, -5.73577423e+01],\n",
       "       [-6.87046242e+00, -1.39936035e+02],\n",
       "       [ 7.14594421e+01, -4.24455948e+01],\n",
       "       [ 9.72004242e+01, -4.30342941e+01],\n",
       "       [ 1.22459229e+02, -6.20317841e+01],\n",
       "       [-7.37272596e+00, -1.89799118e+02],\n",
       "       [ 8.61759262e+01, -4.49271622e+01],\n",
       "       [ 1.21999939e+02, -4.59907303e+01],\n",
       "       [ 1.29322601e+02, -6.08298988e+01],\n",
       "       [ 1.32519196e+02, -5.52046890e+01],\n",
       "       [ 4.63656425e+00, -1.50944244e+02],\n",
       "       [ 7.67924042e+01, -3.91656380e+01],\n",
       "       [ 8.65469284e+01, -3.84311905e+01],\n",
       "       [ 1.97119232e+02,  3.10023861e+01],\n",
       "       [ 2.00019180e+02,  3.71580086e+01],\n",
       "       [-1.77913704e+01,  7.74516296e+01],\n",
       "       [ 7.20594177e+01,  1.39000732e+02],\n",
       "       [ 1.67563461e+02,  5.14676399e+01],\n",
       "       [-1.15217590e+01,  1.56921814e+02],\n",
       "       [-4.29205742e+01,  1.17357834e+02],\n",
       "       [ 1.67563461e+02,  5.14676399e+01],\n",
       "       [-4.93527489e+01,  1.15395447e+02],\n",
       "       [-1.77913704e+01,  7.74516296e+01],\n",
       "       [-2.44099464e+01,  7.72010803e+01],\n",
       "       [ 6.50317307e+01,  1.34754196e+02],\n",
       "       [ 4.73112793e+01,  9.53106155e+01],\n",
       "       [ 4.73112793e+01,  9.53106155e+01],\n",
       "       [ 2.65270500e+01,  4.26818848e+01],\n",
       "       [ 1.84647659e+02,  4.12145844e+01],\n",
       "       [ 7.22895737e+01,  1.30795105e+02],\n",
       "       [-3.04353046e+01,  9.37076035e+01],\n",
       "       [ 7.22895737e+01,  1.30795105e+02],\n",
       "       [ 1.92895981e+02,  3.66999855e+01],\n",
       "       [ 1.84647659e+02,  4.12145844e+01],\n",
       "       [-3.53725052e+01,  8.86116333e+01],\n",
       "       [-3.53725052e+01,  8.86116333e+01],\n",
       "       [ 1.67563461e+02,  5.14676399e+01],\n",
       "       [ 1.92895981e+02,  3.66999855e+01],\n",
       "       [ 1.89965897e+02,  3.06761417e+01],\n",
       "       [-1.15217590e+01,  1.56921814e+02],\n",
       "       [ 3.14891109e+01,  4.13542442e+01],\n",
       "       [ 1.67563461e+02,  5.14676399e+01],\n",
       "       [-4.93527489e+01,  1.15395447e+02],\n",
       "       [-1.88282089e+01,  8.40359802e+01],\n",
       "       [-1.15217590e+01,  1.56921814e+02],\n",
       "       [ 5.27169456e+01,  9.29129486e+01],\n",
       "       [ 1.95791565e+02,  4.28064232e+01],\n",
       "       [ 6.50317307e+01,  1.34754196e+02],\n",
       "       [ 7.22895737e+01,  1.30795105e+02],\n",
       "       [ 2.65270500e+01,  4.26818848e+01],\n",
       "       [ 6.50317307e+01,  1.34754196e+02],\n",
       "       [ 7.20594177e+01,  1.39000732e+02],\n",
       "       [-1.15217590e+01,  1.56921814e+02],\n",
       "       [-1.19232666e+02, -1.68127079e+01],\n",
       "       [-1.17188850e+02, -2.28846130e+01],\n",
       "       [-1.67029221e+02, -1.74493198e+01],\n",
       "       [-1.10971191e+02, -2.27877083e+01],\n",
       "       [-1.14185524e+02,  1.27774162e+01],\n",
       "       [-1.63153534e+02, -2.44531918e+01],\n",
       "       [-1.34843582e+02, -2.80059013e+01],\n",
       "       [-1.27847908e+02, -2.92809448e+01],\n",
       "       [-1.20496490e+02,  9.77754898e+01],\n",
       "       [-1.31754303e+02,  8.49395523e+01],\n",
       "       [-1.27847908e+02, -2.92809448e+01],\n",
       "       [-1.72293213e+02, -2.95936508e+01],\n",
       "       [-1.14185524e+02,  1.27774162e+01],\n",
       "       [-1.16082146e+02,  9.14360504e+01],\n",
       "       [-1.30488861e+02, -2.23897820e+01],\n",
       "       [-1.12898094e+02,  9.82221222e+01],\n",
       "       [-1.26425369e+02,  8.55535583e+01],\n",
       "       [-1.36257675e+02,  6.52734833e+01],\n",
       "       [-1.17188850e+02, -2.28846130e+01],\n",
       "       [-1.43442535e+02,  6.85409851e+01],\n",
       "       [-1.20496490e+02,  9.77754898e+01],\n",
       "       [-1.14185524e+02,  1.27774162e+01],\n",
       "       [-1.36257675e+02,  6.52734833e+01],\n",
       "       [-1.20496490e+02,  9.77754898e+01],\n",
       "       [-1.57673004e+02, -2.39449825e+01],\n",
       "       [-1.30488861e+02, -2.23897820e+01],\n",
       "       [-1.78701263e+02, -2.62863407e+01],\n",
       "       [-1.16082146e+02,  9.14360504e+01],\n",
       "       [-1.39875900e+02,  5.88260880e+01],\n",
       "       [-1.60288345e+02, -1.87934589e+01],\n",
       "       [-1.43442535e+02,  6.85409851e+01],\n",
       "       [-1.79319733e+02, -1.94622860e+01],\n",
       "       [-1.36257675e+02,  6.52734833e+01],\n",
       "       [-1.14185524e+02,  1.27774162e+01],\n",
       "       [-1.14185524e+02,  1.27774162e+01],\n",
       "       [-1.45782974e+02,  6.15189934e+01],\n",
       "       [-1.14185524e+02,  1.27774162e+01],\n",
       "       [-1.13248055e+02, -1.71085072e+01],\n",
       "       [-1.29920609e+02,  8.99523697e+01],\n",
       "       [-1.43442535e+02,  6.85409851e+01],\n",
       "       [-6.95742816e-02, -6.96011658e+01],\n",
       "       [-9.38557816e+01, -1.14650330e+02],\n",
       "       [-7.55058899e+01, -1.07118614e+02],\n",
       "       [-4.56366425e+01, -5.30730705e+01],\n",
       "       [-1.73809402e+02, -1.51778688e+01],\n",
       "       [-1.26403656e+02, -9.37940445e+01],\n",
       "       [ 9.07192469e-01, -7.54710312e+01],\n",
       "       [-7.55058899e+01, -1.07118614e+02],\n",
       "       [-5.83222847e+01, -4.59194984e+01],\n",
       "       [-1.00255417e+02, -1.10181778e+02],\n",
       "       [-1.00255417e+02, -1.10181778e+02],\n",
       "       [-1.72280258e+02, -2.24398842e+01],\n",
       "       [-1.72280258e+02, -2.24398842e+01],\n",
       "       [-1.34534500e+02, -1.01888840e+02],\n",
       "       [-4.18053856e+01, -4.69793739e+01],\n",
       "       [-1.82955952e+01, -5.62017517e+01],\n",
       "       [-6.69599304e+01, -1.05789322e+02],\n",
       "       [-1.33024521e+02, -9.54769516e+01],\n",
       "       [-1.29992172e+02, -1.06542343e+02],\n",
       "       [-7.79811783e+01, -1.13733749e+02],\n",
       "       [-1.40414032e+02, -9.18867722e+01],\n",
       "       [-6.97437439e+01, -1.12566368e+02],\n",
       "       [ 4.59010735e+01, -1.02236214e+02],\n",
       "       [-1.00255417e+02, -1.10181778e+02],\n",
       "       [-4.55737648e+01, -4.08833008e+01],\n",
       "       [-1.27223869e+02, -1.00407440e+02],\n",
       "       [-1.07946892e+02, -1.05625145e+02],\n",
       "       [-1.07440636e+02, -1.14807816e+02],\n",
       "       [-9.36277924e+01, -1.07250229e+02],\n",
       "       [-1.27223869e+02, -1.00407440e+02],\n",
       "       [-1.11792313e+02, -1.10544678e+02],\n",
       "       [-1.91242485e+01, -6.26684952e+01],\n",
       "       [ 1.62413216e+01, -8.26613007e+01],\n",
       "       [-6.69599304e+01, -1.05789322e+02],\n",
       "       [-7.55058899e+01, -1.07118614e+02],\n",
       "       [-1.40414032e+02, -9.18867722e+01],\n",
       "       [ 4.05529213e+01, -9.26159821e+01],\n",
       "       [-1.17928688e+02, -1.05427208e+02],\n",
       "       [-1.00072845e+02, -1.17862846e+02],\n",
       "       [-4.77485542e+01, -4.67353172e+01],\n",
       "       [ 1.30886831e+01,  2.36623688e+01],\n",
       "       [-2.52941561e+00,  1.63705616e+01],\n",
       "       [-8.86098557e+01,  3.32340698e+01],\n",
       "       [ 1.48989620e+01,  8.93157196e+00],\n",
       "       [-7.20738220e+01,  4.44302139e+01],\n",
       "       [ 4.80949020e+00,  2.07803574e+01],\n",
       "       [-8.09548492e+01,  4.25517807e+01],\n",
       "       [ 1.93414192e+01,  1.18526351e+00],\n",
       "       [-7.87897110e+01,  4.94581337e+01],\n",
       "       [ 3.58668971e+00,  9.45767879e-01],\n",
       "       [-8.76402206e+01,  4.00970268e+01],\n",
       "       [ 4.61465216e+00, -6.77462101e+00],\n",
       "       [-7.00072937e+01,  2.80831432e+01],\n",
       "       [ 1.10795088e+01,  1.54386556e+00],\n",
       "       [ 5.45333910e+00,  2.86464500e+01],\n",
       "       [-8.52221832e+01,  2.15374126e+01],\n",
       "       [-6.85219193e+01,  3.62702789e+01],\n",
       "       [ 1.12289457e+01,  1.55803652e+01],\n",
       "       [ 2.27793350e+01,  9.52783585e+00],\n",
       "       [-2.74943256e+00,  2.48169308e+01],\n",
       "       [ 1.33607759e+01, -6.01096296e+00],\n",
       "       [-6.40037727e+00,  9.94863033e+00],\n",
       "       [ 7.76803160e+00,  7.87863350e+00],\n",
       "       [-9.42853241e+01,  4.30336342e+01],\n",
       "       [-9.18656235e+01,  2.66973305e+01],\n",
       "       [-7.56082306e+01,  3.79661369e+01],\n",
       "       [-7.70213623e+01,  2.32394581e+01],\n",
       "       [-7.66209488e+01,  3.10700226e+01],\n",
       "       [ 1.90976143e+01,  1.74787998e+01],\n",
       "       [-3.93842483e+00,  2.19505858e+00],\n",
       "       [-9.75311565e+00,  1.98666458e+01],\n",
       "       [-8.21151886e+01,  3.55624962e+01],\n",
       "       [-9.57081451e+01,  3.48145447e+01],\n",
       "       [-8.71514664e+01,  4.79063835e+01],\n",
       "       [-4.25658321e+00, -5.58616352e+00],\n",
       "       [-1.18965092e+01,  2.55367517e+00],\n",
       "       [-1.38846817e+01,  1.20070133e+01],\n",
       "       [ 5.40573299e-01,  7.95966387e+00],\n",
       "       [-8.32840271e+01,  2.85530968e+01],\n",
       "       [ 4.15185881e+00,  1.38609829e+01],\n",
       "       [ 5.45586967e+00,  1.72584290e+02],\n",
       "       [ 8.20147800e+00,  1.66024124e+02],\n",
       "       [ 5.57044029e+01,  1.06548584e+02],\n",
       "       [ 2.14371395e+00,  1.67332138e+02],\n",
       "       [-5.77489710e+00,  1.76436874e+02],\n",
       "       [-5.18492126e+01,  1.50318848e+02],\n",
       "       [-4.66542740e+01,  1.08758476e+02],\n",
       "       [ 1.39895798e+02,  5.62682266e+01],\n",
       "       [ 2.28519845e+00,  1.61011536e+02],\n",
       "       [ 3.11418209e+01,  6.31220512e+01],\n",
       "       [-4.68257866e+01,  1.38795685e+02],\n",
       "       [ 5.63883171e+01,  1.14012016e+02],\n",
       "       [-4.54865417e+01,  1.49121155e+02],\n",
       "       [ 5.57044029e+01,  1.06548584e+02],\n",
       "       [ 6.27023659e+01,  1.11512779e+02],\n",
       "       [-4.68257866e+01,  1.38795685e+02],\n",
       "       [ 5.63883171e+01,  1.14012016e+02],\n",
       "       [ 3.11418209e+01,  6.31220512e+01],\n",
       "       [ 3.11418209e+01,  6.31220512e+01],\n",
       "       [ 1.44596619e+02,  5.83367462e+01],\n",
       "       [ 5.00355835e+01,  1.10748665e+02],\n",
       "       [-8.00752163e+00,  1.69890396e+02],\n",
       "       [ 3.11418209e+01,  6.31220512e+01],\n",
       "       [ 1.44596619e+02,  5.83367462e+01],\n",
       "       [-4.54865417e+01,  1.49121155e+02],\n",
       "       [-4.54865417e+01,  1.49121155e+02],\n",
       "       [-2.80492516e+01,  8.73205032e+01],\n",
       "       [-3.28029060e+01,  8.21372986e+01],\n",
       "       [ 1.21264386e+00,  1.77555176e+02],\n",
       "       [-4.05816879e+01,  1.11456955e+02],\n",
       "       [-5.38797302e+01,  1.42092316e+02],\n",
       "       [ 3.11418209e+01,  6.31220512e+01],\n",
       "       [ 1.28195257e+01,  1.77310272e+02],\n",
       "       [-5.33857651e+01,  1.35447205e+02],\n",
       "       [-3.53114748e+00,  1.65056580e+02],\n",
       "       [-4.66542740e+01,  1.08758476e+02],\n",
       "       [-1.61790335e+00,  1.71654037e+02],\n",
       "       [ 6.22791100e+01,  1.05155136e+02],\n",
       "       [-2.80492516e+01,  8.73205032e+01],\n",
       "       [-4.68257866e+01,  1.38795685e+02],\n",
       "       [ 3.43087959e+01, -9.03380737e+01],\n",
       "       [-1.37500391e+01, -6.78378372e+01],\n",
       "       [ 3.52254219e+01, -9.71782303e+01],\n",
       "       [ 7.21316071e+01, -1.12401756e+02],\n",
       "       [ 4.93011093e+00, -8.13725357e+01],\n",
       "       [ 1.25188046e+01, -7.09258118e+01],\n",
       "       [ 8.02542572e+01, -1.27684441e+02],\n",
       "       [ 9.34139862e+01, -1.28860596e+02],\n",
       "       [ 5.40421677e+01, -1.05292290e+02],\n",
       "       [-5.27453423e+01, -4.23206329e+01],\n",
       "       [ 9.34139862e+01, -1.28860596e+02],\n",
       "       [ 5.40421677e+01, -1.05292290e+02],\n",
       "       [ 3.52254219e+01, -9.71782303e+01],\n",
       "       [ 8.41368713e+01, -1.21536339e+02],\n",
       "       [ 3.52254219e+01, -9.71782303e+01],\n",
       "       [-2.78392220e+01, -5.24880905e+01],\n",
       "       [ 1.10900364e+01, -7.89739151e+01],\n",
       "       [ 1.67102203e+01, -7.58850861e+01],\n",
       "       [ 1.01585793e+02, -1.32008163e+02],\n",
       "       [-1.09704237e+01, -6.13619461e+01],\n",
       "       [ 5.40421677e+01, -1.05292290e+02],\n",
       "       [-1.09704237e+01, -6.13619461e+01],\n",
       "       [ 9.88994789e+00, -8.54230728e+01],\n",
       "       [ 4.91140823e+01, -1.10652733e+02],\n",
       "       [ 8.41368713e+01, -1.21536339e+02],\n",
       "       [-1.09704237e+01, -6.13619461e+01],\n",
       "       [ 8.02542572e+01, -1.27684441e+02],\n",
       "       [-3.18959904e+01, -4.85446968e+01],\n",
       "       [ 6.85974045e+01, -1.17920319e+02],\n",
       "       [ 5.40421677e+01, -1.05292290e+02],\n",
       "       [-5.31829872e+01, -5.08425674e+01],\n",
       "       [-5.31829872e+01, -5.08425674e+01],\n",
       "       [ 7.57848597e+00, -7.44416122e+01],\n",
       "       [-3.32462387e+01, -5.45270615e+01],\n",
       "       [ 9.75206604e+01, -1.37546967e+02],\n",
       "       [ 9.75206604e+01, -1.37546967e+02],\n",
       "       [ 6.85974045e+01, -1.17920319e+02],\n",
       "       [ 6.85974045e+01, -1.17920319e+02],\n",
       "       [ 8.41368713e+01, -1.21536339e+02],\n",
       "       [ 8.94253540e+01, -1.34117950e+02],\n",
       "       [ 1.49166580e+02,  9.67469177e+01],\n",
       "       [ 1.39450958e+02,  8.66433811e+00],\n",
       "       [ 5.35049477e+01,  1.62201614e+01],\n",
       "       [ 1.40988007e+02,  1.00294868e+02],\n",
       "       [ 1.27515953e+02,  1.70465450e+01],\n",
       "       [ 1.49039871e+02,  1.05652412e+02],\n",
       "       [ 1.56037979e+02,  1.01720718e+02],\n",
       "       [ 1.49039871e+02,  1.05652412e+02],\n",
       "       [ 7.80978775e+01,  2.32884483e+01],\n",
       "       [ 1.28557541e+02,  2.36722507e+01],\n",
       "       [ 6.00887794e+01,  1.33686266e+01],\n",
       "       [ 1.34396408e+02,  1.96679249e+01],\n",
       "       [ 1.02677536e+02,  3.79129410e+01],\n",
       "       [ 1.49166580e+02,  9.67469177e+01],\n",
       "       [ 7.49327164e+01,  2.93175907e+01],\n",
       "       [ 6.00887794e+01,  1.33686266e+01],\n",
       "       [ 1.49166580e+02,  9.67469177e+01],\n",
       "       [ 7.80978775e+01,  2.32884483e+01],\n",
       "       [ 1.39637604e+02,  1.59203634e+01],\n",
       "       [ 1.40988007e+02,  1.00294868e+02],\n",
       "       [ 1.02677536e+02,  3.79129410e+01],\n",
       "       [ 1.02677536e+02,  3.79129410e+01],\n",
       "       [ 6.00887794e+01,  1.33686266e+01],\n",
       "       [ 1.45433319e+02,  1.17147942e+01],\n",
       "       [ 1.40795670e+02,  2.31483955e+01],\n",
       "       [ 1.41904480e+02,  9.23518982e+01],\n",
       "       [ 1.02677536e+02,  3.79129410e+01],\n",
       "       [ 5.90446205e+01,  2.05097370e+01],\n",
       "       [ 1.01118912e+02,  4.49730339e+01],\n",
       "       [ 1.41844086e+02,  1.07725395e+02],\n",
       "       [ 1.33235336e+02,  6.16308355e+00],\n",
       "       [ 6.00887794e+01,  1.33686266e+01],\n",
       "       [ 7.80978775e+01,  2.32884483e+01],\n",
       "       [ 1.07981903e+02,  4.28225784e+01],\n",
       "       [ 1.27235207e+02,  1.03312168e+01],\n",
       "       [ 7.80978775e+01,  2.32884483e+01],\n",
       "       [ 1.35148636e+02,  2.67778492e+01],\n",
       "       [ 1.33748230e+02,  1.32640886e+01],\n",
       "       [ 1.46050415e+02,  1.89900398e+01],\n",
       "       [ 1.49166580e+02,  9.67469177e+01]], dtype=float32)"
      ]
     },
     "execution_count": 150,
     "metadata": {},
     "output_type": "execute_result"
    }
   ],
   "source": [
    "Y"
   ]
  },
  {
   "cell_type": "code",
   "execution_count": 27,
   "metadata": {},
   "outputs": [],
   "source": [
    "import matplotlib.pyplot as plt\n",
    "import matplotlib.cm as cm"
   ]
  },
  {
   "cell_type": "code",
   "execution_count": 28,
   "metadata": {},
   "outputs": [],
   "source": [
    "colors = cm.rainbow(np.linspace(0, 1, max(trainset.labels).detach().numpy()+1)) "
   ]
  },
  {
   "cell_type": "code",
   "execution_count": 29,
   "metadata": {},
   "outputs": [
    {
     "data": {
      "text/plain": [
       "array([[5.00000000e-01, 0.00000000e+00, 1.00000000e+00, 1.00000000e+00],\n",
       "       [2.17647059e-01, 4.29120609e-01, 9.75511968e-01, 1.00000000e+00],\n",
       "       [7.25490196e-02, 7.82927610e-01, 9.00586702e-01, 1.00000000e+00],\n",
       "       [3.54901961e-01, 9.74138602e-01, 7.82927610e-01, 1.00000000e+00],\n",
       "       [6.45098039e-01, 9.74138602e-01, 6.22112817e-01, 1.00000000e+00],\n",
       "       [9.27450980e-01, 7.82927610e-01, 4.34676422e-01, 1.00000000e+00],\n",
       "       [1.00000000e+00, 4.29120609e-01, 2.19946358e-01, 1.00000000e+00],\n",
       "       [1.00000000e+00, 1.22464680e-16, 6.12323400e-17, 1.00000000e+00]])"
      ]
     },
     "execution_count": 29,
     "metadata": {},
     "output_type": "execute_result"
    }
   ],
   "source": [
    "colors"
   ]
  },
  {
   "cell_type": "code",
   "execution_count": 155,
   "metadata": {},
   "outputs": [
    {
     "data": {
      "text/plain": [
       "array(7)"
      ]
     },
     "execution_count": 155,
     "metadata": {},
     "output_type": "execute_result"
    }
   ],
   "source": [
    "max(trainset.labels).detach().numpy()"
   ]
  },
  {
   "cell_type": "code",
   "execution_count": 30,
   "metadata": {},
   "outputs": [],
   "source": [
    "trainset_label_array = trainset.labels.detach().numpy()"
   ]
  },
  {
   "cell_type": "code",
   "execution_count": 31,
   "metadata": {},
   "outputs": [],
   "source": [
    "label_index = (trainset_label_array == 0)"
   ]
  },
  {
   "cell_type": "code",
   "execution_count": 32,
   "metadata": {},
   "outputs": [
    {
     "data": {
      "image/png": "[encoded data removed]",
      "text/plain": [
       "<Figure size 864x864 with 1 Axes>"
      ]
     },
     "metadata": {
      "needs_background": "light"
     },
     "output_type": "display_data"
    }
   ],
   "source": [
    "fig = plt.figure(figsize=(12, 12))\n",
    "ax = fig.add_subplot()\n",
    "for i in range(0,max(trainset.labels).detach().numpy()+1):\n",
    "    label_index = (trainset_label_array == i)\n",
    "    #color_indx = int(trainset.labels[i].detach().numpy());\n",
    "    ax.scatter(Y[label_index, 0], Y[label_index, 1],color=colors[i])\n",
    "#handles, labels = ax.get_legend_handles_labels()\n",
    "plt.legend(['cycle_graph','star_graph','wheel_graph','lollipop_graph','hypercube_graph','grid_graph','complete_graph','circular_ladder_graph'], loc='best')\n",
    "plt.title('TSNE of First Layer Output')\n",
    "plt.show()"
   ]
  },
  {
   "cell_type": "code",
   "execution_count": 175,
   "metadata": {},
   "outputs": [],
   "source": [
    "Second_layer_pred = []\n",
    "for i in range(0,len(trainset)):\n",
    "    h = trainset.graphs[i].in_degrees().view(-1, 1).float()\n",
    "    h = F.relu(model.conv1(trainset.graphs[i], h))\n",
    "    x = F.relu(model.conv2(trainset.graphs[i], h))\n",
    "    Second_layer_pred.append(np.mean(x.detach().numpy(),0))"
   ]
  },
  {
   "cell_type": "code",
   "execution_count": 176,
   "metadata": {},
   "outputs": [],
   "source": [
    "Second_layer_pred = np.stack(Second_layer_pred, axis=0)"
   ]
  },
  {
   "cell_type": "code",
   "execution_count": 193,
   "metadata": {},
   "outputs": [
    {
     "name": "stdout",
     "output_type": "stream",
     "text": [
      "[t-SNE] Computing 31 nearest neighbors...\n",
      "[t-SNE] Indexed 320 samples in 0.012s...\n",
      "[t-SNE] Computed neighbors for 320 samples in 0.027s...\n",
      "[t-SNE] Computed conditional probabilities for sample 320 / 320\n",
      "[t-SNE] Mean sigma: 0.000000\n",
      "[t-SNE] KL divergence after 250 iterations with early exaggeration: 43.299900\n",
      "[t-SNE] KL divergence after 2000 iterations: -0.449301\n"
     ]
    }
   ],
   "source": [
    "Second_layer_TSNE = TSNE(2, perplexity = 10, learning_rate=10, verbose=1, n_iter=2000, random_state=2020)\n",
    "Y = Second_layer_TSNE.fit_transform(Second_layer_pred)"
   ]
  },
  {
   "cell_type": "code",
   "execution_count": 194,
   "metadata": {},
   "outputs": [
    {
     "data": {
      "image/png": "[encoded data removed]",
      "text/plain": [
       "<Figure size 864x864 with 1 Axes>"
      ]
     },
     "metadata": {
      "needs_background": "light"
     },
     "output_type": "display_data"
    }
   ],
   "source": [
    "fig = plt.figure(figsize=(12, 12))\n",
    "ax = fig.add_subplot()\n",
    "for i in range(0,max(trainset.labels).detach().numpy()+1):\n",
    "    label_index = (trainset_label_array == i)\n",
    "    #color_indx = int(trainset.labels[i].detach().numpy());\n",
    "    ax.scatter(Y[label_index, 0], Y[label_index, 1],color=colors[i])\n",
    "#handles, labels = ax.get_legend_handles_labels()\n",
    "plt.legend(['cycle_graph','star_graph','wheel_graph','lollipop_graph','hypercube_graph','grid_graph','complete_graph','circular_ladder_graph'], loc='best')\n",
    "plt.title('TSNE of Second Layer Output')\n",
    "plt.show()"
   ]
  },
  {
   "cell_type": "code",
   "execution_count": 191,
   "metadata": {},
   "outputs": [],
   "source": [
    "Classify_layer_pred = []\n",
    "for i in range(0,len(trainset)):\n",
    "    x = model(trainset.graphs[i])\n",
    "    Classify_layer_pred.append(np.mean(x.detach().numpy(),0))"
   ]
  },
  {
   "cell_type": "code",
   "execution_count": 192,
   "metadata": {},
   "outputs": [],
   "source": [
    "Classify_layer_pred = np.stack(Classify_layer_pred, axis=0)"
   ]
  },
  {
   "cell_type": "code",
   "execution_count": 195,
   "metadata": {},
   "outputs": [
    {
     "name": "stdout",
     "output_type": "stream",
     "text": [
      "[t-SNE] Computing 31 nearest neighbors...\n",
      "[t-SNE] Indexed 320 samples in 0.001s...\n",
      "[t-SNE] Computed neighbors for 320 samples in 0.005s...\n",
      "[t-SNE] Computed conditional probabilities for sample 320 / 320\n",
      "[t-SNE] Mean sigma: 0.000000\n",
      "[t-SNE] KL divergence after 250 iterations with early exaggeration: 43.660587\n",
      "[t-SNE] KL divergence after 2000 iterations: -0.407421\n"
     ]
    }
   ],
   "source": [
    "Classify_layer_TSNE = TSNE(2, perplexity = 10, learning_rate=10, verbose=1, n_iter=2000, random_state=2020)\n",
    "Y = Classify_layer_TSNE.fit_transform(Classify_layer_pred)"
   ]
  },
  {
   "cell_type": "code",
   "execution_count": 196,
   "metadata": {},
   "outputs": [
    {
     "data": {
      "image/png": "[encoded data removed]",
      "text/plain": [
       "<Figure size 864x864 with 1 Axes>"
      ]
     },
     "metadata": {
      "needs_background": "light"
     },
     "output_type": "display_data"
    }
   ],
   "source": [
    "fig = plt.figure(figsize=(12, 12))\n",
    "ax = fig.add_subplot()\n",
    "for i in range(0,max(trainset.labels).detach().numpy()+1):\n",
    "    label_index = (trainset_label_array == i)\n",
    "    #color_indx = int(trainset.labels[i].detach().numpy());\n",
    "    ax.scatter(Y[label_index, 0], Y[label_index, 1],color=colors[i])\n",
    "#handles, labels = ax.get_legend_handles_labels()\n",
    "plt.legend(['cycle_graph','star_graph','wheel_graph','lollipop_graph','hypercube_graph','grid_graph','complete_graph','circular_ladder_graph'], loc='best')\n",
    "plt.title('TSNE of Classify Layer Output')\n",
    "plt.show()"
   ]
  },
  {
   "cell_type": "code",
   "execution_count": null,
   "metadata": {},
   "outputs": [],
   "source": []
  }
 ],
 "metadata": {
  "kernelspec": {
   "display_name": "Python 3",
   "language": "python",
   "name": "python3"
  },
  "language_info": {
   "codemirror_mode": {
    "name": "ipython",
    "version": 3
   },
   "file_extension": ".py",
   "mimetype": "text/x-python",
   "name": "python",
   "nbconvert_exporter": "python",
   "pygments_lexer": "ipython3",
   "version": "3.7.5"
  }
 },
 "nbformat": 4,
 "nbformat_minor": 2
}
