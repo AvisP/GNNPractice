{
 "cells": [
  {
   "cell_type": "markdown",
   "metadata": {},
   "source": [
    "<h3> Simple graph classification task</h3>\n",
    "\n",
    "In this tutorial, you learn how to perform batched graph classification\n",
    "with DGL. The example task objective is to classify eight types of topologies shown here.\n",
    "\n",
    "![title](graph_classifier_1.png)\n",
    "\n",
    "Implement a synthetic dataset :class:`data.MiniGCDataset` in DGL. The dataset has eight  different types of graphs and each class has the same number of graph samples."
   ]
  },
  {
   "cell_type": "code",
   "execution_count": 22,
   "metadata": {},
   "outputs": [
    {
     "data": {
      "image/png": "[encoded data removed]",
      "text/plain": [
       "<Figure size 432x288 with 1 Axes>"
      ]
     },
     "metadata": {},
     "output_type": "display_data"
    }
   ],
   "source": [
    "from dgl.data import MiniGCDataset\n",
    "import matplotlib.pyplot as plt\n",
    "import networkx as nx\n",
    "import numpy as np\n",
    "# A dataset with 80 samples, each graph is\n",
    "# of size [10, 20]\n",
    "dataset = MiniGCDataset(80, 10, 20)\n",
    "graph, label = dataset[0]\n",
    "fig, ax = plt.subplots()\n",
    "nx.draw(graph.to_networkx(), ax=ax)\n",
    "ax.set_title('Class: {:d}'.format(label))\n",
    "plt.show()"
   ]
  },
  {
   "cell_type": "code",
   "execution_count": 2,
   "metadata": {},
   "outputs": [
    {
     "data": {
      "text/plain": [
       "15"
      ]
     },
     "execution_count": 2,
     "metadata": {},
     "output_type": "execute_result"
    }
   ],
   "source": [
    "graph.num_nodes()"
   ]
  },
  {
   "cell_type": "code",
   "execution_count": 3,
   "metadata": {},
   "outputs": [
    {
     "data": {
      "text/plain": [
       "45"
      ]
     },
     "execution_count": 3,
     "metadata": {},
     "output_type": "execute_result"
    }
   ],
   "source": [
    "graph.num_edges()"
   ]
  },
  {
   "cell_type": "code",
   "execution_count": 4,
   "metadata": {},
   "outputs": [
    {
     "data": {
      "text/plain": [
       "tensor([3, 3, 3, 3, 3, 3, 3, 3, 3, 3, 3, 3, 3, 3, 3])"
      ]
     },
     "execution_count": 4,
     "metadata": {},
     "output_type": "execute_result"
    }
   ],
   "source": [
    "graph.in_degrees()"
   ]
  },
  {
   "cell_type": "code",
   "execution_count": 5,
   "metadata": {},
   "outputs": [
    {
     "data": {
      "text/plain": [
       "tensor([3, 3, 3, 3, 3, 3, 3, 3, 3, 3, 3, 3, 3, 3, 3])"
      ]
     },
     "execution_count": 5,
     "metadata": {},
     "output_type": "execute_result"
    }
   ],
   "source": [
    "graph.out_degrees()"
   ]
  },
  {
   "cell_type": "markdown",
   "metadata": {},
   "source": [
    " Form a graph mini-batch\n",
    "\n",
    " To train neural networks efficiently, a common practice is to batch\n",
    " multiple samples together to form a mini-batch. Batching fixed-shaped tensor\n",
    " inputs is common. For example, batching two images of size 28 x 28\n",
    " gives a tensor of shape 2 x 28 x 28. By contrast, batching graph inputs\n",
    " has two challenges:\n",
    "\n",
    " * Graphs are sparse.\n",
    " * Graphs can have various length. For example, number of nodes and edges.\n",
    "\n",
    " To address this, DGL provides a :func:`dgl.batch` API. It leverages the idea that  a batch of graphs can be viewed as a large graph that has many disjointed connected components. Below is a visualization that gives the general idea.\n",
    "\n",
    " .. image:: https://data.dgl.ai/tutorial/batch/batch.png\n",
    "     :width: 400pt\n",
    "     :align: center\n",
    "\n",
    " Define the following ``collate`` function to form a mini-batch from a given list of graph and label pairs.\n"
   ]
  },
  {
   "cell_type": "code",
   "execution_count": 6,
   "metadata": {},
   "outputs": [],
   "source": [
    "import dgl\n",
    "import torch\n",
    "\n",
    "def collate(samples):\n",
    "    # The input `samples` is a list of pairs\n",
    "    #  (graph, label).\n",
    "    graphs, labels = map(list, zip(*samples))\n",
    "    batched_graph = dgl.batch(graphs)\n",
    "    return batched_graph, torch.tensor(labels)\n",
    "\n",
    "# The return type of :func:`dgl.batch` is still a graph. In the same way, \n",
    "# a batch of tensors is still a tensor. This means that any code that works\n",
    "# for one graph immediately works for a batch of graphs. More importantly,\n",
    "# because DGL processes messages on all nodes and edges in parallel, this greatly\n",
    "# improves efficiency."
   ]
  },
  {
   "cell_type": "markdown",
   "metadata": {},
   "source": [
    "<h3> Graph Classifier </h3>\n",
    "\n",
    "![Here is](graph_classifier_2.png)\n",
    "\n",
    " From a batch of graphs, perform message passing and graph convolution\n",
    " for nodes to communicate with others. After message passing, compute a\n",
    " tensor for graph representation from node (and edge) attributes. This    step might be called readout or aggregation. Finally, the graph \n",
    " representations are fed into a classifier :math:`g` to predict the graph labels.\n",
    "\n",
    " Graph convolution layer can be found in the ``dgl.nn.<backend>`` submodule."
   ]
  },
  {
   "cell_type": "code",
   "execution_count": 7,
   "metadata": {},
   "outputs": [],
   "source": [
    "from dgl.nn.pytorch import GraphConv"
   ]
  },
  {
   "cell_type": "markdown",
   "metadata": {},
   "source": [
    "Readout and classification\n",
    "\n",
    "For this demonstration, consider initial node features to be their degrees. After two rounds of graph convolution, perform a graph readout by averaging over all node features for each graph in the batch.\n",
    "\n",
    "$  h_g=\\frac{1}{|\\mathcal{V}|}\\sum_{v\\in\\mathcal{V}}h_{v}$\n",
    "\n",
    " In DGL, :func:`dgl.mean_nodes` handles this task for a batch of\n",
    " classifier with one linear layer to obtain pre-softmax logits.\n"
   ]
  },
  {
   "cell_type": "code",
   "execution_count": 8,
   "metadata": {},
   "outputs": [],
   "source": [
    "import torch.nn as nn\n",
    "import torch.nn.functional as F\n",
    "\n",
    "class Classifier(nn.Module):\n",
    "    def __init__(self, in_dim, hidden_dim, n_classes):\n",
    "        super(Classifier, self).__init__()\n",
    "        self.conv1 = GraphConv(in_dim, hidden_dim)\n",
    "        self.conv2 = GraphConv(hidden_dim, hidden_dim)\n",
    "        self.classify = nn.Linear(hidden_dim, n_classes)\n",
    "\n",
    "    def forward(self, g):\n",
    "        # Use node degree as the initial node feature. For undirected graphs, the in-degree\n",
    "        # is the same as the out_degree.\n",
    "        h = g.in_degrees().view(-1, 1).float()\n",
    "        # Perform graph convolution and activation function.\n",
    "        h = F.relu(self.conv1(g, h))\n",
    "        h = F.relu(self.conv2(g, h))\n",
    "        g.ndata['h'] = h\n",
    "        # Calculate graph representation by averaging all the node representations.\n",
    "        hg = dgl.mean_nodes(g, 'h')     ### Readout Function\n",
    "        return self.classify(hg)"
   ]
  },
  {
   "cell_type": "markdown",
   "metadata": {},
   "source": [
    "<h4> Setup and training</h4>\n",
    "\n",
    " Create a synthetic dataset of :math:`400` graphs with :math:`10` ~\n",
    " :math:`20` nodes. :math:`320` graphs constitute a training set and\n",
    " :math:`80` graphs constitute a test set.\n"
   ]
  },
  {
   "cell_type": "code",
   "execution_count": 140,
   "metadata": {},
   "outputs": [],
   "source": [
    "import torch.optim as optim\n",
    "from torch.utils.data import DataLoader\n",
    "\n",
    "# Create training and test sets.\n",
    "trainset = MiniGCDataset(320, 10, 20)\n",
    "testset = MiniGCDataset(80, 10, 20)\n",
    "# Use PyTorch's DataLoader and the collate function\n",
    "# defined before.\n",
    "data_loader = DataLoader(trainset, batch_size=32, shuffle=True,\n",
    "                         collate_fn=collate)\n"
   ]
  },
  {
   "cell_type": "code",
   "execution_count": 49,
   "metadata": {},
   "outputs": [
    {
     "data": {
      "text/plain": [
       "['__class__',\n",
       " '__delattr__',\n",
       " '__dict__',\n",
       " '__dir__',\n",
       " '__doc__',\n",
       " '__eq__',\n",
       " '__format__',\n",
       " '__ge__',\n",
       " '__getattribute__',\n",
       " '__getitem__',\n",
       " '__gt__',\n",
       " '__hash__',\n",
       " '__init__',\n",
       " '__init_subclass__',\n",
       " '__le__',\n",
       " '__len__',\n",
       " '__lt__',\n",
       " '__module__',\n",
       " '__ne__',\n",
       " '__new__',\n",
       " '__reduce__',\n",
       " '__reduce_ex__',\n",
       " '__repr__',\n",
       " '__setattr__',\n",
       " '__sizeof__',\n",
       " '__str__',\n",
       " '__subclasshook__',\n",
       " '__weakref__',\n",
       " '_download',\n",
       " '_force_reload',\n",
       " '_gen_circular_ladder',\n",
       " '_gen_clique',\n",
       " '_gen_cycle',\n",
       " '_gen_grid',\n",
       " '_gen_hypercube',\n",
       " '_gen_lollipop',\n",
       " '_gen_star',\n",
       " '_gen_wheel',\n",
       " '_generate',\n",
       " '_get_hash',\n",
       " '_hash',\n",
       " '_hash_func',\n",
       " '_hash_key',\n",
       " '_load',\n",
       " '_name',\n",
       " '_raw_dir',\n",
       " '_save_dir',\n",
       " '_url',\n",
       " '_verbose',\n",
       " 'download',\n",
       " 'graphs',\n",
       " 'has_cache',\n",
       " 'hash',\n",
       " 'labels',\n",
       " 'load',\n",
       " 'max_num_v',\n",
       " 'min_num_v',\n",
       " 'name',\n",
       " 'num_classes',\n",
       " 'num_graphs',\n",
       " 'process',\n",
       " 'raw_dir',\n",
       " 'raw_path',\n",
       " 'save',\n",
       " 'save_dir',\n",
       " 'save_graph',\n",
       " 'save_path',\n",
       " 'seed',\n",
       " 'url',\n",
       " 'verbose']"
      ]
     },
     "execution_count": 49,
     "metadata": {},
     "output_type": "execute_result"
    }
   ],
   "source": [
    "dir(trainset)"
   ]
  },
  {
   "cell_type": "code",
   "execution_count": 141,
   "metadata": {},
   "outputs": [
    {
     "data": {
      "text/plain": [
       "tensor([0, 0, 0, 0, 0, 0, 0, 0, 0, 0, 0, 0, 0, 0, 0, 0, 0, 0, 0, 0, 0, 0, 0, 0,\n",
       "        0, 0, 0, 0, 0, 0, 0, 0, 0, 0, 0, 0, 0, 0, 0, 0, 1, 1, 1, 1, 1, 1, 1, 1,\n",
       "        1, 1, 1, 1, 1, 1, 1, 1, 1, 1, 1, 1, 1, 1, 1, 1, 1, 1, 1, 1, 1, 1, 1, 1,\n",
       "        1, 1, 1, 1, 1, 1, 1, 1, 2, 2, 2, 2, 2, 2, 2, 2, 2, 2, 2, 2, 2, 2, 2, 2,\n",
       "        2, 2, 2, 2, 2, 2, 2, 2, 2, 2, 2, 2, 2, 2, 2, 2, 2, 2, 2, 2, 2, 2, 2, 2,\n",
       "        3, 3, 3, 3, 3, 3, 3, 3, 3, 3, 3, 3, 3, 3, 3, 3, 3, 3, 3, 3, 3, 3, 3, 3,\n",
       "        3, 3, 3, 3, 3, 3, 3, 3, 3, 3, 3, 3, 3, 3, 3, 3, 4, 4, 4, 4, 4, 4, 4, 4,\n",
       "        4, 4, 4, 4, 4, 4, 4, 4, 4, 4, 4, 4, 4, 4, 4, 4, 4, 4, 4, 4, 4, 4, 4, 4,\n",
       "        4, 4, 4, 4, 4, 4, 4, 4, 5, 5, 5, 5, 5, 5, 5, 5, 5, 5, 5, 5, 5, 5, 5, 5,\n",
       "        5, 5, 5, 5, 5, 5, 5, 5, 5, 5, 5, 5, 5, 5, 5, 5, 5, 5, 5, 5, 5, 5, 5, 5,\n",
       "        6, 6, 6, 6, 6, 6, 6, 6, 6, 6, 6, 6, 6, 6, 6, 6, 6, 6, 6, 6, 6, 6, 6, 6,\n",
       "        6, 6, 6, 6, 6, 6, 6, 6, 6, 6, 6, 6, 6, 6, 6, 6, 7, 7, 7, 7, 7, 7, 7, 7,\n",
       "        7, 7, 7, 7, 7, 7, 7, 7, 7, 7, 7, 7, 7, 7, 7, 7, 7, 7, 7, 7, 7, 7, 7, 7,\n",
       "        7, 7, 7, 7, 7, 7, 7, 7], dtype=torch.int32)"
      ]
     },
     "execution_count": 141,
     "metadata": {},
     "output_type": "execute_result"
    }
   ],
   "source": [
    "trainset.labels"
   ]
  },
  {
   "cell_type": "code",
   "execution_count": 55,
   "metadata": {},
   "outputs": [
    {
     "data": {
      "text/plain": [
       "Graph(num_nodes=15, num_edges=45,\n",
       "      ndata_schemes={}\n",
       "      edata_schemes={})"
      ]
     },
     "execution_count": 55,
     "metadata": {},
     "output_type": "execute_result"
    }
   ],
   "source": [
    "trainset.graphs[0]"
   ]
  },
  {
   "cell_type": "code",
   "execution_count": 48,
   "metadata": {},
   "outputs": [
    {
     "name": "stdout",
     "output_type": "stream",
     "text": [
      "Graph(num_nodes=449, num_edges=3231,\n",
      "      ndata_schemes={}\n",
      "      edata_schemes={})\n",
      "Graph(num_nodes=426, num_edges=2960,\n",
      "      ndata_schemes={}\n",
      "      edata_schemes={})\n",
      "Graph(num_nodes=463, num_edges=2153,\n",
      "      ndata_schemes={}\n",
      "      edata_schemes={})\n",
      "Graph(num_nodes=429, num_edges=2519,\n",
      "      ndata_schemes={}\n",
      "      edata_schemes={})\n",
      "Graph(num_nodes=481, num_edges=2911,\n",
      "      ndata_schemes={}\n",
      "      edata_schemes={})\n",
      "Graph(num_nodes=456, num_edges=2760,\n",
      "      ndata_schemes={}\n",
      "      edata_schemes={})\n",
      "Graph(num_nodes=417, num_edges=2427,\n",
      "      ndata_schemes={}\n",
      "      edata_schemes={})\n",
      "Graph(num_nodes=438, num_edges=3030,\n",
      "      ndata_schemes={}\n",
      "      edata_schemes={})\n",
      "Graph(num_nodes=444, num_edges=2212,\n",
      "      ndata_schemes={}\n",
      "      edata_schemes={})\n",
      "Graph(num_nodes=431, num_edges=2193,\n",
      "      ndata_schemes={}\n",
      "      edata_schemes={})\n"
     ]
    }
   ],
   "source": [
    "for iter, (bg, label) in enumerate(data_loader):\n",
    "    print(bg)"
   ]
  },
  {
   "cell_type": "code",
   "execution_count": 10,
   "metadata": {},
   "outputs": [
    {
     "data": {
      "text/plain": [
       "Classifier(\n",
       "  (conv1): GraphConv(in=1, out=256, normalization=both, activation=None)\n",
       "  (conv2): GraphConv(in=256, out=256, normalization=both, activation=None)\n",
       "  (classify): Linear(in_features=256, out_features=8, bias=True)\n",
       ")"
      ]
     },
     "execution_count": 10,
     "metadata": {},
     "output_type": "execute_result"
    }
   ],
   "source": [
    "# Create model\n",
    "model = Classifier(1, 256, trainset.num_classes)\n",
    "loss_func = nn.CrossEntropyLoss()\n",
    "optimizer = optim.Adam(model.parameters(), lr=0.001)\n",
    "model.train()"
   ]
  },
  {
   "cell_type": "code",
   "execution_count": 11,
   "metadata": {},
   "outputs": [
    {
     "name": "stdout",
     "output_type": "stream",
     "text": [
      "Epoch 0, loss 1.9815\n",
      "Epoch 1, loss 1.9723\n",
      "Epoch 2, loss 1.9607\n",
      "Epoch 3, loss 1.9500\n",
      "Epoch 4, loss 1.9330\n",
      "Epoch 5, loss 1.9174\n",
      "Epoch 6, loss 1.9019\n",
      "Epoch 7, loss 1.8827\n",
      "Epoch 8, loss 1.8567\n",
      "Epoch 9, loss 1.8245\n",
      "Epoch 10, loss 1.7827\n",
      "Epoch 11, loss 1.7350\n",
      "Epoch 12, loss 1.6863\n",
      "Epoch 13, loss 1.6428\n",
      "Epoch 14, loss 1.5866\n",
      "Epoch 15, loss 1.5263\n",
      "Epoch 16, loss 1.4728\n",
      "Epoch 17, loss 1.4007\n",
      "Epoch 18, loss 1.3406\n",
      "Epoch 19, loss 1.2909\n",
      "Epoch 20, loss 1.2373\n",
      "Epoch 21, loss 1.1906\n",
      "Epoch 22, loss 1.1461\n",
      "Epoch 23, loss 1.1022\n",
      "Epoch 24, loss 1.0747\n",
      "Epoch 25, loss 1.0517\n",
      "Epoch 26, loss 1.0203\n",
      "Epoch 27, loss 1.0043\n",
      "Epoch 28, loss 0.9728\n",
      "Epoch 29, loss 0.9418\n",
      "Epoch 30, loss 0.9254\n",
      "Epoch 31, loss 0.9029\n",
      "Epoch 32, loss 0.8914\n",
      "Epoch 33, loss 0.8793\n",
      "Epoch 34, loss 0.8733\n",
      "Epoch 35, loss 0.8575\n",
      "Epoch 36, loss 0.8404\n",
      "Epoch 37, loss 0.8413\n",
      "Epoch 38, loss 0.8339\n",
      "Epoch 39, loss 0.8265\n",
      "Epoch 40, loss 0.8293\n",
      "Epoch 41, loss 0.8041\n",
      "Epoch 42, loss 0.8111\n",
      "Epoch 43, loss 0.7913\n",
      "Epoch 44, loss 0.8166\n",
      "Epoch 45, loss 0.7978\n",
      "Epoch 46, loss 0.7957\n",
      "Epoch 47, loss 0.7739\n",
      "Epoch 48, loss 0.7759\n",
      "Epoch 49, loss 0.7643\n",
      "Epoch 50, loss 0.7649\n",
      "Epoch 51, loss 0.7521\n",
      "Epoch 52, loss 0.7392\n",
      "Epoch 53, loss 0.7336\n",
      "Epoch 54, loss 0.7373\n",
      "Epoch 55, loss 0.7493\n",
      "Epoch 56, loss 0.7524\n",
      "Epoch 57, loss 0.7181\n",
      "Epoch 58, loss 0.7357\n",
      "Epoch 59, loss 0.7254\n",
      "Epoch 60, loss 0.7125\n",
      "Epoch 61, loss 0.7066\n",
      "Epoch 62, loss 0.7133\n",
      "Epoch 63, loss 0.7168\n",
      "Epoch 64, loss 0.7368\n",
      "Epoch 65, loss 0.7283\n",
      "Epoch 66, loss 0.7018\n",
      "Epoch 67, loss 0.7125\n",
      "Epoch 68, loss 0.6897\n",
      "Epoch 69, loss 0.6872\n",
      "Epoch 70, loss 0.6920\n",
      "Epoch 71, loss 0.6971\n",
      "Epoch 72, loss 0.6855\n",
      "Epoch 73, loss 0.6847\n",
      "Epoch 74, loss 0.6727\n",
      "Epoch 75, loss 0.6772\n",
      "Epoch 76, loss 0.6821\n",
      "Epoch 77, loss 0.6732\n",
      "Epoch 78, loss 0.6961\n",
      "Epoch 79, loss 0.6889\n"
     ]
    }
   ],
   "source": [
    "epoch_losses = []\n",
    "for epoch in range(80):\n",
    "    epoch_loss = 0\n",
    "    for iter, (bg, label) in enumerate(data_loader):\n",
    "        prediction = model(bg)\n",
    "        loss = loss_func(prediction, label.long())\n",
    "        optimizer.zero_grad()\n",
    "        loss.backward()\n",
    "        optimizer.step()\n",
    "        epoch_loss += loss.detach().item()\n",
    "    epoch_loss /= (iter + 1)\n",
    "    print('Epoch {}, loss {:.4f}'.format(epoch, epoch_loss))\n",
    "    epoch_losses.append(epoch_loss)"
   ]
  },
  {
   "cell_type": "code",
   "execution_count": 25,
   "metadata": {},
   "outputs": [
    {
     "data": {
      "image/png": "[encoded data removed]",
      "text/plain": [
       "<Figure size 432x288 with 1 Axes>"
      ]
     },
     "metadata": {
      "needs_background": "light"
     },
     "output_type": "display_data"
    }
   ],
   "source": [
    "# The learning curve of a run is presented below.\n",
    "\n",
    "plt.title('cross entropy averaged over minibatches')\n",
    "plt.plot(epoch_losses)\n",
    "plt.show()"
   ]
  },
  {
   "cell_type": "code",
   "execution_count": 37,
   "metadata": {},
   "outputs": [
    {
     "name": "stdout",
     "output_type": "stream",
     "text": [
      "Accuracy of sampled predictions on the test set: 61.2500%\n",
      "Accuracy of argmax predictions on the test set: 65.000000%\n"
     ]
    }
   ],
   "source": [
    "# The trained model is evaluated on the test set created. To deploy\n",
    "# the tutorial, restrict the running time to get a higher\n",
    "# accuracy (:math:`80` % ~ :math:`90` %) than the ones printed below.\n",
    "\n",
    "model.eval()\n",
    "# Convert a list of tuples to two lists\n",
    "test_X, test_Y = map(list, zip(*testset))\n",
    "test_bg = dgl.batch(test_X)\n",
    "test_Y = torch.tensor(test_Y).float().view(-1, 1)\n",
    "probs_Y = torch.softmax(model(test_bg), 1)\n",
    "sampled_Y = torch.multinomial(probs_Y, 1)\n",
    "argmax_Y = torch.max(probs_Y, 1)[1].view(-1, 1)\n",
    "print('Accuracy of sampled predictions on the test set: {:.4f}%'.format(\n",
    "    (test_Y == sampled_Y.float()).sum().item() / len(test_Y) * 100))\n",
    "print('Accuracy of argmax predictions on the test set: {:4f}%'.format(\n",
    "    (test_Y == argmax_Y.float()).sum().item() / len(test_Y) * 100))"
   ]
  },
  {
   "cell_type": "markdown",
   "metadata": {},
   "source": [
    "Softmax turn logits (numeric output of the last linear layer of a multi-class classification neural network) into probabilities by take the exponents of each output and then normalize each number by the sum of those exponents so the entire output vector adds up to one — all probabilities should add up to one. Cross entropy loss is usually the loss function for such a multi-class classification problem. Softmax is frequently appended to the last layer of an image classification network \n",
    "\n",
    "Indices are ordered from left to right according to when each was sampled.\n",
    "torch.multinomial -> Returns a tensor where each row contains num_samples indices sampled from the multinomial probability distribution located in the corresponding row of tensor input"
   ]
  },
  {
   "cell_type": "code",
   "execution_count": 29,
   "metadata": {},
   "outputs": [],
   "source": [
    "test_bg = dgl.batch(test_X)"
   ]
  },
  {
   "cell_type": "code",
   "execution_count": 32,
   "metadata": {},
   "outputs": [
    {
     "data": {
      "text/plain": [
       "[Graph(num_nodes=15, num_edges=45,\n",
       "       ndata_schemes={}\n",
       "       edata_schemes={}), Graph(num_nodes=10, num_edges=30,\n",
       "       ndata_schemes={}\n",
       "       edata_schemes={}), Graph(num_nodes=13, num_edges=39,\n",
       "       ndata_schemes={}\n",
       "       edata_schemes={}), Graph(num_nodes=13, num_edges=39,\n",
       "       ndata_schemes={}\n",
       "       edata_schemes={}), Graph(num_nodes=17, num_edges=51,\n",
       "       ndata_schemes={}\n",
       "       edata_schemes={}), Graph(num_nodes=19, num_edges=57,\n",
       "       ndata_schemes={}\n",
       "       edata_schemes={}), Graph(num_nodes=13, num_edges=39,\n",
       "       ndata_schemes={}\n",
       "       edata_schemes={}), Graph(num_nodes=15, num_edges=45,\n",
       "       ndata_schemes={}\n",
       "       edata_schemes={}), Graph(num_nodes=12, num_edges=36,\n",
       "       ndata_schemes={}\n",
       "       edata_schemes={}), Graph(num_nodes=14, num_edges=42,\n",
       "       ndata_schemes={}\n",
       "       edata_schemes={}), Graph(num_nodes=17, num_edges=49,\n",
       "       ndata_schemes={}\n",
       "       edata_schemes={}), Graph(num_nodes=16, num_edges=46,\n",
       "       ndata_schemes={}\n",
       "       edata_schemes={}), Graph(num_nodes=18, num_edges=52,\n",
       "       ndata_schemes={}\n",
       "       edata_schemes={}), Graph(num_nodes=18, num_edges=52,\n",
       "       ndata_schemes={}\n",
       "       edata_schemes={}), Graph(num_nodes=11, num_edges=31,\n",
       "       ndata_schemes={}\n",
       "       edata_schemes={}), Graph(num_nodes=16, num_edges=46,\n",
       "       ndata_schemes={}\n",
       "       edata_schemes={}), Graph(num_nodes=17, num_edges=49,\n",
       "       ndata_schemes={}\n",
       "       edata_schemes={}), Graph(num_nodes=17, num_edges=49,\n",
       "       ndata_schemes={}\n",
       "       edata_schemes={}), Graph(num_nodes=18, num_edges=52,\n",
       "       ndata_schemes={}\n",
       "       edata_schemes={}), Graph(num_nodes=11, num_edges=31,\n",
       "       ndata_schemes={}\n",
       "       edata_schemes={}), Graph(num_nodes=15, num_edges=71,\n",
       "       ndata_schemes={}\n",
       "       edata_schemes={}), Graph(num_nodes=19, num_edges=91,\n",
       "       ndata_schemes={}\n",
       "       edata_schemes={}), Graph(num_nodes=18, num_edges=86,\n",
       "       ndata_schemes={}\n",
       "       edata_schemes={}), Graph(num_nodes=19, num_edges=91,\n",
       "       ndata_schemes={}\n",
       "       edata_schemes={}), Graph(num_nodes=14, num_edges=66,\n",
       "       ndata_schemes={}\n",
       "       edata_schemes={}), Graph(num_nodes=13, num_edges=61,\n",
       "       ndata_schemes={}\n",
       "       edata_schemes={}), Graph(num_nodes=10, num_edges=46,\n",
       "       ndata_schemes={}\n",
       "       edata_schemes={}), Graph(num_nodes=13, num_edges=61,\n",
       "       ndata_schemes={}\n",
       "       edata_schemes={}), Graph(num_nodes=15, num_edges=71,\n",
       "       ndata_schemes={}\n",
       "       edata_schemes={}), Graph(num_nodes=10, num_edges=46,\n",
       "       ndata_schemes={}\n",
       "       edata_schemes={}), Graph(num_nodes=12, num_edges=64,\n",
       "       ndata_schemes={}\n",
       "       edata_schemes={}), Graph(num_nodes=18, num_edges=234,\n",
       "       ndata_schemes={}\n",
       "       edata_schemes={}), Graph(num_nodes=13, num_edges=109,\n",
       "       ndata_schemes={}\n",
       "       edata_schemes={}), Graph(num_nodes=13, num_edges=79,\n",
       "       ndata_schemes={}\n",
       "       edata_schemes={}), Graph(num_nodes=17, num_edges=231,\n",
       "       ndata_schemes={}\n",
       "       edata_schemes={}), Graph(num_nodes=11, num_edges=73,\n",
       "       ndata_schemes={}\n",
       "       edata_schemes={}), Graph(num_nodes=19, num_edges=295,\n",
       "       ndata_schemes={}\n",
       "       edata_schemes={}), Graph(num_nodes=14, num_edges=96,\n",
       "       ndata_schemes={}\n",
       "       edata_schemes={}), Graph(num_nodes=12, num_edges=64,\n",
       "       ndata_schemes={}\n",
       "       edata_schemes={}), Graph(num_nodes=12, num_edges=106,\n",
       "       ndata_schemes={}\n",
       "       edata_schemes={}), Graph(num_nodes=8, num_edges=32,\n",
       "       ndata_schemes={}\n",
       "       edata_schemes={}), Graph(num_nodes=8, num_edges=32,\n",
       "       ndata_schemes={}\n",
       "       edata_schemes={}), Graph(num_nodes=8, num_edges=32,\n",
       "       ndata_schemes={}\n",
       "       edata_schemes={}), Graph(num_nodes=8, num_edges=32,\n",
       "       ndata_schemes={}\n",
       "       edata_schemes={}), Graph(num_nodes=16, num_edges=80,\n",
       "       ndata_schemes={}\n",
       "       edata_schemes={}), Graph(num_nodes=16, num_edges=80,\n",
       "       ndata_schemes={}\n",
       "       edata_schemes={}), Graph(num_nodes=8, num_edges=32,\n",
       "       ndata_schemes={}\n",
       "       edata_schemes={}), Graph(num_nodes=8, num_edges=32,\n",
       "       ndata_schemes={}\n",
       "       edata_schemes={}), Graph(num_nodes=8, num_edges=32,\n",
       "       ndata_schemes={}\n",
       "       edata_schemes={}), Graph(num_nodes=16, num_edges=80,\n",
       "       ndata_schemes={}\n",
       "       edata_schemes={}), Graph(num_nodes=18, num_edges=72,\n",
       "       ndata_schemes={}\n",
       "       edata_schemes={}), Graph(num_nodes=9, num_edges=33,\n",
       "       ndata_schemes={}\n",
       "       edata_schemes={}), Graph(num_nodes=15, num_edges=59,\n",
       "       ndata_schemes={}\n",
       "       edata_schemes={}), Graph(num_nodes=15, num_edges=59,\n",
       "       ndata_schemes={}\n",
       "       edata_schemes={}), Graph(num_nodes=10, num_edges=36,\n",
       "       ndata_schemes={}\n",
       "       edata_schemes={}), Graph(num_nodes=8, num_edges=28,\n",
       "       ndata_schemes={}\n",
       "       edata_schemes={}), Graph(num_nodes=12, num_edges=46,\n",
       "       ndata_schemes={}\n",
       "       edata_schemes={}), Graph(num_nodes=16, num_edges=64,\n",
       "       ndata_schemes={}\n",
       "       edata_schemes={}), Graph(num_nodes=10, num_edges=36,\n",
       "       ndata_schemes={}\n",
       "       edata_schemes={}), Graph(num_nodes=12, num_edges=44,\n",
       "       ndata_schemes={}\n",
       "       edata_schemes={}), Graph(num_nodes=14, num_edges=196,\n",
       "       ndata_schemes={}\n",
       "       edata_schemes={}), Graph(num_nodes=13, num_edges=169,\n",
       "       ndata_schemes={}\n",
       "       edata_schemes={}), Graph(num_nodes=14, num_edges=196,\n",
       "       ndata_schemes={}\n",
       "       edata_schemes={}), Graph(num_nodes=14, num_edges=196,\n",
       "       ndata_schemes={}\n",
       "       edata_schemes={}), Graph(num_nodes=18, num_edges=324,\n",
       "       ndata_schemes={}\n",
       "       edata_schemes={}), Graph(num_nodes=14, num_edges=196,\n",
       "       ndata_schemes={}\n",
       "       edata_schemes={}), Graph(num_nodes=13, num_edges=169,\n",
       "       ndata_schemes={}\n",
       "       edata_schemes={}), Graph(num_nodes=17, num_edges=289,\n",
       "       ndata_schemes={}\n",
       "       edata_schemes={}), Graph(num_nodes=15, num_edges=225,\n",
       "       ndata_schemes={}\n",
       "       edata_schemes={}), Graph(num_nodes=15, num_edges=225,\n",
       "       ndata_schemes={}\n",
       "       edata_schemes={}), Graph(num_nodes=10, num_edges=40,\n",
       "       ndata_schemes={}\n",
       "       edata_schemes={}), Graph(num_nodes=10, num_edges=40,\n",
       "       ndata_schemes={}\n",
       "       edata_schemes={}), Graph(num_nodes=14, num_edges=56,\n",
       "       ndata_schemes={}\n",
       "       edata_schemes={}), Graph(num_nodes=18, num_edges=72,\n",
       "       ndata_schemes={}\n",
       "       edata_schemes={}), Graph(num_nodes=12, num_edges=48,\n",
       "       ndata_schemes={}\n",
       "       edata_schemes={}), Graph(num_nodes=10, num_edges=40,\n",
       "       ndata_schemes={}\n",
       "       edata_schemes={}), Graph(num_nodes=14, num_edges=56,\n",
       "       ndata_schemes={}\n",
       "       edata_schemes={}), Graph(num_nodes=10, num_edges=40,\n",
       "       ndata_schemes={}\n",
       "       edata_schemes={}), Graph(num_nodes=10, num_edges=40,\n",
       "       ndata_schemes={}\n",
       "       edata_schemes={}), Graph(num_nodes=12, num_edges=48,\n",
       "       ndata_schemes={}\n",
       "       edata_schemes={})]"
      ]
     },
     "execution_count": 32,
     "metadata": {},
     "output_type": "execute_result"
    }
   ],
   "source": [
    "test_X"
   ]
  },
  {
   "cell_type": "code",
   "execution_count": 34,
   "metadata": {},
   "outputs": [
    {
     "data": {
      "text/plain": [
       "tensor([[ 1.4051e+01,  3.3241e+00, -8.9414e+00, -3.2399e+00,  1.8490e+00,\n",
       "          1.0465e+01, -2.6754e+01,  4.5853e+00],\n",
       "        [ 1.4051e+01,  3.3241e+00, -8.9414e+00, -3.2399e+00,  1.8490e+00,\n",
       "          1.0465e+01, -2.6754e+01,  4.5853e+00],\n",
       "        [ 1.4051e+01,  3.3241e+00, -8.9414e+00, -3.2399e+00,  1.8490e+00,\n",
       "          1.0465e+01, -2.6754e+01,  4.5853e+00],\n",
       "        [ 1.4051e+01,  3.3241e+00, -8.9414e+00, -3.2399e+00,  1.8490e+00,\n",
       "          1.0465e+01, -2.6754e+01,  4.5853e+00],\n",
       "        [ 1.4051e+01,  3.3241e+00, -8.9414e+00, -3.2399e+00,  1.8490e+00,\n",
       "          1.0465e+01, -2.6754e+01,  4.5853e+00],\n",
       "        [ 1.4051e+01,  3.3241e+00, -8.9414e+00, -3.2399e+00,  1.8490e+00,\n",
       "          1.0465e+01, -2.6754e+01,  4.5853e+00],\n",
       "        [ 1.4051e+01,  3.3241e+00, -8.9414e+00, -3.2399e+00,  1.8490e+00,\n",
       "          1.0465e+01, -2.6754e+01,  4.5853e+00],\n",
       "        [ 1.4051e+01,  3.3241e+00, -8.9414e+00, -3.2399e+00,  1.8490e+00,\n",
       "          1.0465e+01, -2.6754e+01,  4.5853e+00],\n",
       "        [ 1.4051e+01,  3.3241e+00, -8.9414e+00, -3.2399e+00,  1.8490e+00,\n",
       "          1.0465e+01, -2.6754e+01,  4.5853e+00],\n",
       "        [ 1.4051e+01,  3.3241e+00, -8.9414e+00, -3.2399e+00,  1.8490e+00,\n",
       "          1.0465e+01, -2.6754e+01,  4.5853e+00],\n",
       "        [-1.3846e+01,  1.4102e+00, -9.4515e-02, -1.4834e+00,  1.8456e+00,\n",
       "         -2.4900e+00, -1.1354e+01,  5.5615e-01],\n",
       "        [-1.2225e+01,  1.5654e+00, -5.7918e-01, -1.6203e+00,  1.8742e+00,\n",
       "         -1.7002e+00, -1.2183e+01,  9.3597e-01],\n",
       "        [-1.5387e+01,  1.2587e+00,  3.6489e-01, -1.3514e+00,  1.8187e+00,\n",
       "         -3.2397e+00, -1.0568e+01,  1.9344e-01],\n",
       "        [-1.5387e+01,  1.2587e+00,  3.6489e-01, -1.3514e+00,  1.8187e+00,\n",
       "         -3.2397e+00, -1.0568e+01,  1.9344e-01],\n",
       "        [-2.5069e+00,  2.2902e+00, -3.5381e+00, -2.3138e+00,  1.9737e+00,\n",
       "          3.0059e+00, -1.7132e+01,  2.8388e+00],\n",
       "        [-1.2225e+01,  1.5654e+00, -5.7918e-01, -1.6203e+00,  1.8742e+00,\n",
       "         -1.7002e+00, -1.2183e+01,  9.3597e-01],\n",
       "        [-1.3846e+01,  1.4102e+00, -9.4515e-02, -1.4834e+00,  1.8456e+00,\n",
       "         -2.4900e+00, -1.1354e+01,  5.5615e-01],\n",
       "        [-1.3846e+01,  1.4102e+00, -9.4515e-02, -1.4834e+00,  1.8456e+00,\n",
       "         -2.4900e+00, -1.1354e+01,  5.5615e-01],\n",
       "        [-1.5387e+01,  1.2587e+00,  3.6489e-01, -1.3514e+00,  1.8187e+00,\n",
       "         -3.2397e+00, -1.0568e+01,  1.9344e-01],\n",
       "        [-2.5069e+00,  2.2902e+00, -3.5381e+00, -2.3138e+00,  1.9737e+00,\n",
       "          3.0059e+00, -1.7132e+01,  2.8388e+00],\n",
       "        [-3.6694e+01, -5.5307e-01,  4.6786e+00,  4.1833e-01,  1.6373e+00,\n",
       "         -1.2407e+01, -5.0747e+00, -3.8415e+00],\n",
       "        [-4.1811e+01, -1.2904e+00,  5.0877e+00,  1.6668e+00,  1.1176e+00,\n",
       "         -1.4833e+01, -3.2516e+00, -5.1501e+00],\n",
       "        [-4.0619e+01, -1.1176e+00,  4.9974e+00,  1.3714e+00,  1.2394e+00,\n",
       "         -1.4268e+01, -3.6709e+00, -4.8451e+00],\n",
       "        [-4.1811e+01, -1.2904e+00,  5.0877e+00,  1.6668e+00,  1.1176e+00,\n",
       "         -1.4833e+01, -3.2516e+00, -5.1501e+00],\n",
       "        [-3.5239e+01, -3.4717e-01,  4.5410e+00,  8.1935e-02,  1.7809e+00,\n",
       "         -1.1716e+01, -5.6096e+00, -3.4717e+00],\n",
       "        [-3.3693e+01, -1.3052e-01,  4.3862e+00, -2.6976e-01,  1.9308e+00,\n",
       "         -1.0982e+01, -6.1819e+00, -3.0797e+00],\n",
       "        [-2.7934e+01,  5.0069e-01,  2.9445e+00, -8.6780e-01,  2.1855e+00,\n",
       "         -8.2229e+00, -8.8771e+00, -1.7243e+00],\n",
       "        [-3.3693e+01, -1.3052e-01,  4.3862e+00, -2.6976e-01,  1.9308e+00,\n",
       "         -1.0982e+01, -6.1819e+00, -3.0797e+00],\n",
       "        [-3.6694e+01, -5.5307e-01,  4.6786e+00,  4.1833e-01,  1.6373e+00,\n",
       "         -1.2407e+01, -5.0747e+00, -3.8415e+00],\n",
       "        [-2.7934e+01,  5.0069e-01,  2.9445e+00, -8.6780e-01,  2.1855e+00,\n",
       "         -8.2229e+00, -8.8771e+00, -1.7243e+00],\n",
       "        [-3.9382e+01, -1.8607e+00,  1.5293e+00,  3.6277e+00,  2.9598e-02,\n",
       "         -1.3692e+01, -6.7761e+00, -5.6218e+00],\n",
       "        [-1.9572e+02, -2.1639e+01,  1.5477e+01,  3.4777e+01, -1.2186e+01,\n",
       "         -8.4918e+01,  3.5008e+01, -4.2428e+01],\n",
       "        [-1.0345e+02, -9.8362e+00,  8.4807e+00,  1.6265e+01, -4.6639e+00,\n",
       "         -4.2990e+01,  1.3113e+01, -2.0300e+01],\n",
       "        [-5.4976e+01, -3.8572e+00,  3.1109e+00,  6.8667e+00, -1.1798e+00,\n",
       "         -2.0845e+01, -1.8319e+00, -9.2549e+00],\n",
       "        [-2.0797e+02, -2.3076e+01,  1.6953e+01,  3.6947e+01, -1.2982e+01,\n",
       "         -9.0478e+01,  3.8635e+01, -4.5149e+01],\n",
       "        [-6.7421e+01, -5.1560e+00,  5.2888e+00,  8.6868e+00, -1.7300e+00,\n",
       "         -2.6493e+01,  2.6791e+00, -1.1757e+01],\n",
       "        [-2.4651e+02, -2.8028e+01,  1.9686e+01,  4.4738e+01, -1.6175e+01,\n",
       "         -1.0797e+02,  4.7485e+01, -5.4451e+01],\n",
       "        [-7.1308e+01, -5.9746e+00,  4.6956e+00,  1.0320e+01, -2.4782e+00,\n",
       "         -2.8340e+01,  3.3076e+00, -1.3086e+01],\n",
       "        [-3.9382e+01, -1.8607e+00,  1.5293e+00,  3.6277e+00,  2.9599e-02,\n",
       "         -1.3692e+01, -6.7761e+00, -5.6218e+00],\n",
       "        [-1.1302e+02, -1.0895e+01,  9.9037e+00,  1.7835e+01, -5.1908e+00,\n",
       "         -4.7332e+01,  1.6350e+01, -2.2305e+01],\n",
       "        [-8.0993e+00,  2.2093e+00, -2.7137e+00, -2.3728e+00,  2.3977e+00,\n",
       "          1.1698e+00, -1.7843e+01,  2.6476e+00],\n",
       "        [-8.0993e+00,  2.2093e+00, -2.7137e+00, -2.3728e+00,  2.3977e+00,\n",
       "          1.1698e+00, -1.7843e+01,  2.6476e+00],\n",
       "        [-8.0993e+00,  2.2093e+00, -2.7137e+00, -2.3728e+00,  2.3977e+00,\n",
       "          1.1698e+00, -1.7843e+01,  2.6476e+00],\n",
       "        [-8.0993e+00,  2.2093e+00, -2.7137e+00, -2.3728e+00,  2.3977e+00,\n",
       "          1.1698e+00, -1.7843e+01,  2.6476e+00],\n",
       "        [-3.0913e+01,  2.8870e-01,  3.6133e+00, -7.1874e-01,  2.2393e+00,\n",
       "         -9.4637e+00, -8.2292e+00, -2.2361e+00],\n",
       "        [-3.0913e+01,  2.8870e-01,  3.6133e+00, -7.1874e-01,  2.2393e+00,\n",
       "         -9.4637e+00, -8.2292e+00, -2.2361e+00],\n",
       "        [-8.0993e+00,  2.2093e+00, -2.7137e+00, -2.3728e+00,  2.3977e+00,\n",
       "          1.1698e+00, -1.7843e+01,  2.6476e+00],\n",
       "        [-8.0993e+00,  2.2093e+00, -2.7137e+00, -2.3728e+00,  2.3977e+00,\n",
       "          1.1698e+00, -1.7843e+01,  2.6476e+00],\n",
       "        [-8.0993e+00,  2.2093e+00, -2.7137e+00, -2.3728e+00,  2.3977e+00,\n",
       "          1.1698e+00, -1.7843e+01,  2.6476e+00],\n",
       "        [-3.0913e+01,  2.8870e-01,  3.6133e+00, -7.1874e-01,  2.2393e+00,\n",
       "         -9.4637e+00, -8.2292e+00, -2.2361e+00],\n",
       "        [-8.9392e+00,  2.1209e+00, -2.4635e+00, -2.2684e+00,  2.3363e+00,\n",
       "          7.3907e-01, -1.7381e+01,  2.2740e+00],\n",
       "        [-1.7080e+00,  2.5949e+00, -4.4833e+00, -2.6761e+00,  2.2870e+00,\n",
       "          4.0611e+00, -2.0310e+01,  3.4138e+00],\n",
       "        [-7.5010e+00,  2.2200e+00, -2.8640e+00, -2.3572e+00,  2.3356e+00,\n",
       "          1.4038e+00, -1.7969e+01,  2.5369e+00],\n",
       "        [-7.5010e+00,  2.2200e+00, -2.8640e+00, -2.3572e+00,  2.3356e+00,\n",
       "          1.4038e+00, -1.7969e+01,  2.5369e+00],\n",
       "        [ 4.4258e-01,  2.7121e+00, -5.1095e+00, -2.7666e+00,  2.2355e+00,\n",
       "          4.9694e+00, -2.1255e+01,  3.5931e+00],\n",
       "        [ 2.5732e+00,  2.8365e+00, -5.7070e+00, -2.8586e+00,  2.1864e+00,\n",
       "          5.9126e+00, -2.2102e+01,  3.7951e+00],\n",
       "        [-5.3447e+00,  2.3662e+00, -3.4656e+00, -2.4884e+00,  2.3326e+00,\n",
       "          2.3999e+00, -1.8849e+01,  2.9235e+00],\n",
       "        [-9.0067e+00,  2.1115e+00, -2.4434e+00, -2.2717e+00,  2.3501e+00,\n",
       "          7.1332e-01, -1.7355e+01,  2.3149e+00],\n",
       "        [ 4.4258e-01,  2.7121e+00, -5.1095e+00, -2.7666e+00,  2.2355e+00,\n",
       "          4.9694e+00, -2.1255e+01,  3.5931e+00],\n",
       "        [-9.8084e-01,  2.6286e+00, -4.7102e+00, -2.7013e+00,  2.2629e+00,\n",
       "          4.3363e+00, -2.0687e+01,  3.4370e+00],\n",
       "        [-2.1416e+02, -2.3785e+01,  1.7931e+01,  3.8060e+01, -1.3310e+01,\n",
       "         -9.3300e+01,  4.0998e+01, -4.6431e+01],\n",
       "        [-1.9429e+02, -2.1222e+01,  1.6561e+01,  3.4029e+01, -1.1650e+01,\n",
       "         -8.4278e+01,  3.6500e+01, -4.1619e+01],\n",
       "        [-2.1416e+02, -2.3785e+01,  1.7931e+01,  3.8060e+01, -1.3310e+01,\n",
       "         -9.3300e+01,  4.0998e+01, -4.6431e+01],\n",
       "        [-2.1416e+02, -2.3785e+01,  1.7931e+01,  3.8060e+01, -1.3310e+01,\n",
       "         -9.3300e+01,  4.0998e+01, -4.6431e+01],\n",
       "        [-2.9356e+02, -3.3995e+01,  2.3411e+01,  5.4117e+01, -1.9932e+01,\n",
       "         -1.2932e+02,  5.8915e+01, -6.5660e+01],\n",
       "        [-2.1416e+02, -2.3785e+01,  1.7931e+01,  3.8060e+01, -1.3310e+01,\n",
       "         -9.3300e+01,  4.0998e+01, -4.6431e+01],\n",
       "        [-1.9429e+02, -2.1222e+01,  1.6561e+01,  3.4029e+01, -1.1650e+01,\n",
       "         -8.4278e+01,  3.6500e+01, -4.1619e+01],\n",
       "        [-2.7375e+02, -3.1462e+01,  2.2040e+01,  5.0135e+01, -1.8284e+01,\n",
       "         -1.2035e+02,  5.4471e+01, -6.0863e+01],\n",
       "        [-2.3403e+02, -2.6348e+01,  1.9300e+01,  4.2091e+01, -1.4969e+01,\n",
       "         -1.0232e+02,  4.5495e+01, -5.1244e+01],\n",
       "        [-2.3403e+02, -2.6348e+01,  1.9300e+01,  4.2091e+01, -1.4969e+01,\n",
       "         -1.0232e+02,  4.5495e+01, -5.1244e+01],\n",
       "        [-8.0993e+00,  2.2093e+00, -2.7137e+00, -2.3728e+00,  2.3977e+00,\n",
       "          1.1698e+00, -1.7843e+01,  2.6476e+00],\n",
       "        [-8.0993e+00,  2.2093e+00, -2.7137e+00, -2.3728e+00,  2.3977e+00,\n",
       "          1.1698e+00, -1.7843e+01,  2.6476e+00],\n",
       "        [-8.0993e+00,  2.2093e+00, -2.7137e+00, -2.3728e+00,  2.3977e+00,\n",
       "          1.1698e+00, -1.7843e+01,  2.6476e+00],\n",
       "        [-8.0993e+00,  2.2093e+00, -2.7137e+00, -2.3728e+00,  2.3977e+00,\n",
       "          1.1698e+00, -1.7843e+01,  2.6476e+00],\n",
       "        [-8.0993e+00,  2.2093e+00, -2.7137e+00, -2.3728e+00,  2.3977e+00,\n",
       "          1.1698e+00, -1.7843e+01,  2.6476e+00],\n",
       "        [-8.0993e+00,  2.2093e+00, -2.7137e+00, -2.3728e+00,  2.3977e+00,\n",
       "          1.1698e+00, -1.7843e+01,  2.6476e+00],\n",
       "        [-8.0993e+00,  2.2093e+00, -2.7137e+00, -2.3728e+00,  2.3977e+00,\n",
       "          1.1698e+00, -1.7843e+01,  2.6476e+00],\n",
       "        [-8.0993e+00,  2.2093e+00, -2.7137e+00, -2.3728e+00,  2.3977e+00,\n",
       "          1.1698e+00, -1.7843e+01,  2.6476e+00],\n",
       "        [-8.0993e+00,  2.2093e+00, -2.7137e+00, -2.3728e+00,  2.3977e+00,\n",
       "          1.1698e+00, -1.7843e+01,  2.6476e+00],\n",
       "        [-8.0993e+00,  2.2093e+00, -2.7137e+00, -2.3728e+00,  2.3977e+00,\n",
       "          1.1698e+00, -1.7843e+01,  2.6476e+00]], grad_fn=<AddmmBackward>)"
      ]
     },
     "execution_count": 34,
     "metadata": {},
     "output_type": "execute_result"
    }
   ],
   "source": [
    "model(test_bg)"
   ]
  },
  {
   "cell_type": "code",
   "execution_count": 35,
   "metadata": {},
   "outputs": [],
   "source": [
    "probs_Y = torch.softmax(model(test_bg), 1)"
   ]
  },
  {
   "cell_type": "code",
   "execution_count": 36,
   "metadata": {},
   "outputs": [
    {
     "data": {
      "text/plain": [
       "tensor([[9.7294e-01, 2.1345e-05, 1.0057e-10, 3.0103e-08, 4.8832e-06, 2.6955e-02,\n",
       "         1.8465e-18, 7.5340e-05],\n",
       "        [9.7294e-01, 2.1345e-05, 1.0057e-10, 3.0103e-08, 4.8832e-06, 2.6955e-02,\n",
       "         1.8465e-18, 7.5340e-05],\n",
       "        [9.7294e-01, 2.1345e-05, 1.0057e-10, 3.0103e-08, 4.8832e-06, 2.6955e-02,\n",
       "         1.8465e-18, 7.5340e-05],\n",
       "        [9.7294e-01, 2.1345e-05, 1.0057e-10, 3.0103e-08, 4.8832e-06, 2.6955e-02,\n",
       "         1.8465e-18, 7.5340e-05],\n",
       "        [9.7294e-01, 2.1345e-05, 1.0057e-10, 3.0103e-08, 4.8832e-06, 2.6955e-02,\n",
       "         1.8465e-18, 7.5340e-05],\n",
       "        [9.7294e-01, 2.1345e-05, 1.0057e-10, 3.0103e-08, 4.8832e-06, 2.6955e-02,\n",
       "         1.8465e-18, 7.5340e-05],\n",
       "        [9.7294e-01, 2.1345e-05, 1.0057e-10, 3.0103e-08, 4.8832e-06, 2.6955e-02,\n",
       "         1.8465e-18, 7.5340e-05],\n",
       "        [9.7294e-01, 2.1345e-05, 1.0057e-10, 3.0103e-08, 4.8832e-06, 2.6955e-02,\n",
       "         1.8465e-18, 7.5340e-05],\n",
       "        [9.7294e-01, 2.1345e-05, 1.0057e-10, 3.0103e-08, 4.8832e-06, 2.6955e-02,\n",
       "         1.8465e-18, 7.5340e-05],\n",
       "        [9.7294e-01, 2.1345e-05, 1.0057e-10, 3.0103e-08, 4.8832e-06, 2.6955e-02,\n",
       "         1.8465e-18, 7.5340e-05],\n",
       "        [7.2421e-08, 3.0591e-01, 6.7935e-02, 1.6940e-02, 4.7280e-01, 6.1907e-03,\n",
       "         8.7518e-07, 1.3022e-01],\n",
       "        [3.3165e-07, 3.2348e-01, 3.7885e-02, 1.3376e-02, 4.4053e-01, 1.2348e-02,\n",
       "         3.4588e-07, 1.7238e-01],\n",
       "        [1.6441e-08, 2.7862e-01, 1.1398e-01, 2.0486e-02, 4.8779e-01, 3.1002e-03,\n",
       "         2.0357e-06, 9.6024e-02],\n",
       "        [1.6441e-08, 2.7862e-01, 1.1398e-01, 2.0486e-02, 4.8779e-01, 3.1002e-03,\n",
       "         2.0357e-06, 9.6024e-02],\n",
       "        [1.4935e-03, 1.8096e-01, 5.3256e-04, 1.8117e-03, 1.3186e-01, 3.7015e-01,\n",
       "         6.6488e-10, 3.1319e-01],\n",
       "        [3.3165e-07, 3.2348e-01, 3.7885e-02, 1.3376e-02, 4.4053e-01, 1.2348e-02,\n",
       "         3.4588e-07, 1.7238e-01],\n",
       "        [7.2421e-08, 3.0591e-01, 6.7935e-02, 1.6940e-02, 4.7280e-01, 6.1907e-03,\n",
       "         8.7518e-07, 1.3022e-01],\n",
       "        [7.2421e-08, 3.0591e-01, 6.7935e-02, 1.6940e-02, 4.7280e-01, 6.1907e-03,\n",
       "         8.7518e-07, 1.3022e-01],\n",
       "        [1.6441e-08, 2.7862e-01, 1.1398e-01, 2.0486e-02, 4.8779e-01, 3.1002e-03,\n",
       "         2.0357e-06, 9.6024e-02],\n",
       "        [1.4935e-03, 1.8096e-01, 5.3256e-04, 1.8117e-03, 1.3186e-01, 3.7015e-01,\n",
       "         6.6488e-10, 3.1319e-01],\n",
       "        [1.0088e-18, 5.0067e-03, 9.3677e-01, 1.3226e-02, 4.4755e-02, 3.5614e-08,\n",
       "         5.4427e-05, 1.8681e-04],\n",
       "        [4.0685e-21, 1.6121e-03, 9.4919e-01, 3.1022e-02, 1.7913e-02, 2.1178e-09,\n",
       "         2.2680e-04, 3.3971e-05],\n",
       "        [1.4691e-20, 2.0995e-03, 9.5022e-01, 2.5297e-02, 2.2169e-02, 4.0824e-09,\n",
       "         1.6339e-04, 5.0498e-05],\n",
       "        [4.0685e-21, 1.6121e-03, 9.4919e-01, 3.1022e-02, 1.7913e-02, 2.1178e-09,\n",
       "         2.2680e-04, 3.3971e-05],\n",
       "        [4.8900e-18, 6.9594e-03, 9.2356e-01, 1.0689e-02, 5.8452e-02, 8.0375e-08,\n",
       "         3.6067e-05, 3.0593e-04],\n",
       "        [2.6190e-17, 9.8700e-03, 9.0346e-01, 8.5871e-03, 7.7546e-02, 1.9125e-07,\n",
       "         2.3241e-05, 5.1704e-04],\n",
       "        [2.4490e-14, 5.4730e-02, 6.3034e-01, 1.3928e-02, 2.9508e-01, 8.9047e-06,\n",
       "         4.6290e-06, 5.9147e-03],\n",
       "        [2.6190e-17, 9.8700e-03, 9.0346e-01, 8.5871e-03, 7.7546e-02, 1.9125e-07,\n",
       "         2.3241e-05, 5.1704e-04],\n",
       "        [1.0088e-18, 5.0067e-03, 9.3677e-01, 1.3226e-02, 4.4755e-02, 3.5614e-08,\n",
       "         5.4427e-05, 1.8681e-04],\n",
       "        [2.4490e-14, 5.4730e-02, 6.3034e-01, 1.3928e-02, 2.9508e-01, 8.9047e-06,\n",
       "         4.6290e-06, 5.9147e-03],\n",
       "        [1.8156e-19, 3.5819e-03, 1.0625e-01, 8.6634e-01, 2.3717e-02, 2.6059e-08,\n",
       "         2.6265e-05, 8.3305e-05],\n",
       "        [0.0000e+00, 1.3961e-25, 1.8367e-09, 4.4254e-01, 1.7786e-21, 0.0000e+00,\n",
       "         5.5746e-01, 1.3063e-34],\n",
       "        [0.0000e+00, 4.4282e-12, 3.9915e-04, 9.5859e-01, 7.8077e-10, 1.7692e-26,\n",
       "         4.1008e-02, 1.2639e-16],\n",
       "        [1.3543e-27, 2.1500e-05, 2.2837e-02, 9.7667e-01, 3.1275e-04, 9.0073e-13,\n",
       "         1.6293e-04, 9.7322e-08],\n",
       "        [0.0000e+00, 1.3356e-27, 3.2358e-10, 1.5611e-01, 3.2306e-23, 0.0000e+00,\n",
       "         8.4389e-01, 3.4646e-37],\n",
       "        [8.5366e-34, 9.3936e-07, 3.2281e-02, 9.6532e-01, 2.8887e-05, 5.0827e-16,\n",
       "         2.3746e-03, 1.2764e-09],\n",
       "        [0.0000e+00, 1.5075e-33, 7.9420e-13, 6.0240e-02, 2.1178e-28, 0.0000e+00,\n",
       "         9.3976e-01, 5.6052e-45],\n",
       "        [3.5286e-36, 8.3453e-08, 3.5928e-03, 9.9551e-01, 2.7538e-06, 1.6147e-17,\n",
       "         8.9665e-04, 6.8073e-11],\n",
       "        [1.8156e-19, 3.5819e-03, 1.0625e-01, 8.6634e-01, 2.3717e-02, 2.6059e-08,\n",
       "         2.6265e-05, 8.3305e-05],\n",
       "        [0.0000e+00, 2.7149e-13, 2.9285e-04, 8.1507e-01, 8.1509e-11, 4.0684e-29,\n",
       "         1.8464e-01, 3.0097e-18],\n",
       "        [8.0767e-06, 2.4222e-01, 1.7626e-03, 2.4786e-03, 2.9244e-01, 8.5653e-02,\n",
       "         4.7378e-10, 3.7543e-01],\n",
       "        [8.0767e-06, 2.4222e-01, 1.7626e-03, 2.4786e-03, 2.9244e-01, 8.5653e-02,\n",
       "         4.7378e-10, 3.7543e-01],\n",
       "        [8.0767e-06, 2.4222e-01, 1.7626e-03, 2.4786e-03, 2.9244e-01, 8.5653e-02,\n",
       "         4.7378e-10, 3.7543e-01],\n",
       "        [8.0767e-06, 2.4222e-01, 1.7626e-03, 2.4786e-03, 2.9244e-01, 8.5653e-02,\n",
       "         4.7378e-10, 3.7543e-01],\n",
       "        [7.7554e-16, 2.7574e-02, 7.6621e-01, 1.0069e-02, 1.9393e-01, 1.6035e-06,\n",
       "         5.5108e-06, 2.2079e-03],\n",
       "        [7.7554e-16, 2.7574e-02, 7.6621e-01, 1.0069e-02, 1.9393e-01, 1.6035e-06,\n",
       "         5.5108e-06, 2.2079e-03],\n",
       "        [8.0767e-06, 2.4222e-01, 1.7626e-03, 2.4786e-03, 2.9244e-01, 8.5653e-02,\n",
       "         4.7378e-10, 3.7543e-01],\n",
       "        [8.0767e-06, 2.4222e-01, 1.7626e-03, 2.4786e-03, 2.9244e-01, 8.5653e-02,\n",
       "         4.7378e-10, 3.7543e-01],\n",
       "        [8.0767e-06, 2.4222e-01, 1.7626e-03, 2.4786e-03, 2.9244e-01, 8.5653e-02,\n",
       "         4.7378e-10, 3.7543e-01],\n",
       "        [7.7554e-16, 2.7574e-02, 7.6621e-01, 1.0069e-02, 1.9393e-01, 1.6035e-06,\n",
       "         5.5108e-06, 2.2079e-03],\n",
       "        [4.2742e-06, 2.7177e-01, 2.7749e-03, 3.3727e-03, 3.3709e-01, 6.8248e-02,\n",
       "         9.2186e-10, 3.1674e-01],\n",
       "        [1.6193e-03, 1.1969e-01, 1.0093e-04, 6.1500e-04, 8.7969e-02, 5.1856e-01,\n",
       "         1.3503e-11, 2.7145e-01],\n",
       "        [1.5177e-05, 2.5291e-01, 1.5667e-03, 2.6007e-03, 2.8390e-01, 1.1181e-01,\n",
       "         4.3155e-10, 3.4720e-01],\n",
       "        [1.5177e-05, 2.5291e-01, 1.5667e-03, 2.6007e-03, 2.8390e-01, 1.1181e-01,\n",
       "         4.3155e-10, 3.4720e-01],\n",
       "        [7.5447e-03, 7.2994e-02, 2.9268e-05, 3.0474e-04, 4.5321e-02, 6.9765e-01,\n",
       "         2.8483e-12, 1.7616e-01],\n",
       "        [2.8919e-02, 3.7629e-02, 7.3303e-06, 1.2653e-04, 1.9641e-02, 8.1554e-01,\n",
       "         5.5593e-13, 9.8139e-02],\n",
       "        [9.4135e-05, 2.1015e-01, 6.1636e-04, 1.6377e-03, 2.0323e-01, 2.1737e-01,\n",
       "         1.2852e-10, 3.6691e-01],\n",
       "        [3.9414e-06, 2.6560e-01, 2.7929e-03, 3.3161e-03, 3.3716e-01, 6.5615e-02,\n",
       "         9.3350e-10, 3.2552e-01],\n",
       "        [7.5447e-03, 7.2994e-02, 2.9268e-05, 3.0474e-04, 4.5321e-02, 6.9765e-01,\n",
       "         2.8483e-12, 1.7616e-01],\n",
       "        [2.8530e-03, 1.0540e-01, 6.8499e-05, 5.1067e-04, 7.3122e-02, 5.8148e-01,\n",
       "         7.8930e-12, 2.3656e-01],\n",
       "        [0.0000e+00, 6.9632e-29, 9.1127e-11, 5.0309e-02, 2.4671e-24, 0.0000e+00,\n",
       "         9.4969e-01, 1.0180e-38],\n",
       "        [0.0000e+00, 7.8752e-26, 2.0196e-09, 7.7886e-02, 1.1310e-21, 0.0000e+00,\n",
       "         9.2211e-01, 1.0923e-34],\n",
       "        [0.0000e+00, 6.9632e-29, 9.1127e-11, 5.0309e-02, 2.4671e-24, 0.0000e+00,\n",
       "         9.4969e-01, 1.0180e-38],\n",
       "        [0.0000e+00, 6.9632e-29, 9.1127e-11, 5.0309e-02, 2.4671e-24, 0.0000e+00,\n",
       "         9.4969e-01, 1.0180e-38],\n",
       "        [0.0000e+00, 4.4247e-41, 3.7775e-16, 8.1783e-03, 5.6703e-35, 0.0000e+00,\n",
       "         9.9182e-01, 0.0000e+00],\n",
       "        [0.0000e+00, 6.9632e-29, 9.1127e-11, 5.0309e-02, 2.4671e-24, 0.0000e+00,\n",
       "         9.4969e-01, 1.0180e-38],\n",
       "        [0.0000e+00, 7.8752e-26, 2.0196e-09, 7.7886e-02, 1.1310e-21, 0.0000e+00,\n",
       "         9.2211e-01, 1.0923e-34],\n",
       "        [0.0000e+00, 4.7193e-38, 8.1238e-15, 1.2921e-02, 2.4947e-32, 0.0000e+00,\n",
       "         9.8708e-01, 0.0000e+00],\n",
       "        [0.0000e+00, 6.0924e-32, 4.0688e-12, 3.2156e-02, 5.3252e-27, 0.0000e+00,\n",
       "         9.6784e-01, 9.3887e-43],\n",
       "        [0.0000e+00, 6.0924e-32, 4.0688e-12, 3.2156e-02, 5.3252e-27, 0.0000e+00,\n",
       "         9.6784e-01, 9.3887e-43],\n",
       "        [8.0767e-06, 2.4222e-01, 1.7626e-03, 2.4786e-03, 2.9244e-01, 8.5653e-02,\n",
       "         4.7378e-10, 3.7543e-01],\n",
       "        [8.0767e-06, 2.4222e-01, 1.7626e-03, 2.4786e-03, 2.9244e-01, 8.5653e-02,\n",
       "         4.7378e-10, 3.7543e-01],\n",
       "        [8.0767e-06, 2.4222e-01, 1.7626e-03, 2.4786e-03, 2.9244e-01, 8.5653e-02,\n",
       "         4.7378e-10, 3.7543e-01],\n",
       "        [8.0767e-06, 2.4222e-01, 1.7626e-03, 2.4786e-03, 2.9244e-01, 8.5653e-02,\n",
       "         4.7378e-10, 3.7543e-01],\n",
       "        [8.0767e-06, 2.4222e-01, 1.7626e-03, 2.4786e-03, 2.9244e-01, 8.5653e-02,\n",
       "         4.7378e-10, 3.7543e-01],\n",
       "        [8.0767e-06, 2.4222e-01, 1.7626e-03, 2.4786e-03, 2.9244e-01, 8.5653e-02,\n",
       "         4.7378e-10, 3.7543e-01],\n",
       "        [8.0767e-06, 2.4222e-01, 1.7626e-03, 2.4786e-03, 2.9244e-01, 8.5653e-02,\n",
       "         4.7378e-10, 3.7543e-01],\n",
       "        [8.0767e-06, 2.4222e-01, 1.7626e-03, 2.4786e-03, 2.9244e-01, 8.5653e-02,\n",
       "         4.7378e-10, 3.7543e-01],\n",
       "        [8.0767e-06, 2.4222e-01, 1.7626e-03, 2.4786e-03, 2.9244e-01, 8.5653e-02,\n",
       "         4.7378e-10, 3.7543e-01],\n",
       "        [8.0767e-06, 2.4222e-01, 1.7626e-03, 2.4786e-03, 2.9244e-01, 8.5653e-02,\n",
       "         4.7378e-10, 3.7543e-01]], grad_fn=<SoftmaxBackward>)"
      ]
     },
     "execution_count": 36,
     "metadata": {},
     "output_type": "execute_result"
    }
   ],
   "source": [
    "probs_Y"
   ]
  },
  {
   "cell_type": "code",
   "execution_count": 142,
   "metadata": {},
   "outputs": [
    {
     "ename": "NameError",
     "evalue": "name 'sampled_Y' is not defined",
     "output_type": "error",
     "traceback": [
      "\u001b[1;31m---------------------------------------------------------------------------\u001b[0m",
      "\u001b[1;31mNameError\u001b[0m                                 Traceback (most recent call last)",
      "\u001b[1;32m<ipython-input-142-78925f17a624>\u001b[0m in \u001b[0;36m<module>\u001b[1;34m\u001b[0m\n\u001b[1;32m----> 1\u001b[1;33m \u001b[0msampled_Y\u001b[0m\u001b[1;33m\u001b[0m\u001b[1;33m\u001b[0m\u001b[0m\n\u001b[0m",
      "\u001b[1;31mNameError\u001b[0m: name 'sampled_Y' is not defined"
     ]
    }
   ],
   "source": [
    "sampled_Y"
   ]
  },
  {
   "cell_type": "code",
   "execution_count": 45,
   "metadata": {},
   "outputs": [
    {
     "data": {
      "text/plain": [
       "['__call__',\n",
       " '__class__',\n",
       " '__delattr__',\n",
       " '__dir__',\n",
       " '__doc__',\n",
       " '__eq__',\n",
       " '__format__',\n",
       " '__func__',\n",
       " '__ge__',\n",
       " '__get__',\n",
       " '__getattribute__',\n",
       " '__gt__',\n",
       " '__hash__',\n",
       " '__init__',\n",
       " '__init_subclass__',\n",
       " '__le__',\n",
       " '__lt__',\n",
       " '__ne__',\n",
       " '__new__',\n",
       " '__reduce__',\n",
       " '__reduce_ex__',\n",
       " '__repr__',\n",
       " '__self__',\n",
       " '__setattr__',\n",
       " '__sizeof__',\n",
       " '__str__',\n",
       " '__subclasshook__']"
      ]
     },
     "execution_count": 45,
     "metadata": {},
     "output_type": "execute_result"
    }
   ],
   "source": [
    "dir(model.forward)"
   ]
  },
  {
   "cell_type": "code",
   "execution_count": 14,
   "metadata": {},
   "outputs": [
    {
     "data": {
      "text/plain": [
       "['T_destination',\n",
       " '__annotations__',\n",
       " '__call__',\n",
       " '__class__',\n",
       " '__delattr__',\n",
       " '__dict__',\n",
       " '__dir__',\n",
       " '__doc__',\n",
       " '__eq__',\n",
       " '__format__',\n",
       " '__ge__',\n",
       " '__getattr__',\n",
       " '__getattribute__',\n",
       " '__gt__',\n",
       " '__hash__',\n",
       " '__init__',\n",
       " '__init_subclass__',\n",
       " '__le__',\n",
       " '__lt__',\n",
       " '__module__',\n",
       " '__ne__',\n",
       " '__new__',\n",
       " '__reduce__',\n",
       " '__reduce_ex__',\n",
       " '__repr__',\n",
       " '__setattr__',\n",
       " '__setstate__',\n",
       " '__sizeof__',\n",
       " '__str__',\n",
       " '__subclasshook__',\n",
       " '__weakref__',\n",
       " '_apply',\n",
       " '_backward_hooks',\n",
       " '_buffers',\n",
       " '_call_impl',\n",
       " '_forward_hooks',\n",
       " '_forward_pre_hooks',\n",
       " '_forward_unimplemented',\n",
       " '_get_name',\n",
       " '_load_from_state_dict',\n",
       " '_load_state_dict_pre_hooks',\n",
       " '_modules',\n",
       " '_named_members',\n",
       " '_non_persistent_buffers_set',\n",
       " '_parameters',\n",
       " '_register_load_state_dict_pre_hook',\n",
       " '_register_state_dict_hook',\n",
       " '_replicate_for_data_parallel',\n",
       " '_save_to_state_dict',\n",
       " '_slow_forward',\n",
       " '_state_dict_hooks',\n",
       " '_version',\n",
       " 'add_module',\n",
       " 'apply',\n",
       " 'bfloat16',\n",
       " 'buffers',\n",
       " 'children',\n",
       " 'classify',\n",
       " 'conv1',\n",
       " 'conv2',\n",
       " 'cpu',\n",
       " 'cuda',\n",
       " 'double',\n",
       " 'dump_patches',\n",
       " 'eval',\n",
       " 'extra_repr',\n",
       " 'float',\n",
       " 'forward',\n",
       " 'half',\n",
       " 'load_state_dict',\n",
       " 'modules',\n",
       " 'named_buffers',\n",
       " 'named_children',\n",
       " 'named_modules',\n",
       " 'named_parameters',\n",
       " 'parameters',\n",
       " 'register_backward_hook',\n",
       " 'register_buffer',\n",
       " 'register_forward_hook',\n",
       " 'register_forward_pre_hook',\n",
       " 'register_parameter',\n",
       " 'requires_grad_',\n",
       " 'share_memory',\n",
       " 'state_dict',\n",
       " 'to',\n",
       " 'train',\n",
       " 'training',\n",
       " 'type',\n",
       " 'zero_grad']"
      ]
     },
     "execution_count": 14,
     "metadata": {},
     "output_type": "execute_result"
    }
   ],
   "source": [
    "dir(model)"
   ]
  },
  {
   "cell_type": "code",
   "execution_count": 18,
   "metadata": {},
   "outputs": [
    {
     "ename": "RuntimeError",
     "evalue": "size mismatch, m1: [1 x 451], m2: [1 x 256] at ..\\aten\\src\\TH/generic/THTensorMath.cpp:41",
     "output_type": "error",
     "traceback": [
      "\u001b[1;31m---------------------------------------------------------------------------\u001b[0m",
      "\u001b[1;31mRuntimeError\u001b[0m                              Traceback (most recent call last)",
      "\u001b[1;32m<ipython-input-18-9029ff0862b9>\u001b[0m in \u001b[0;36m<module>\u001b[1;34m\u001b[0m\n\u001b[1;32m----> 1\u001b[1;33m \u001b[0mmodel\u001b[0m\u001b[1;33m.\u001b[0m\u001b[0mconv1\u001b[0m\u001b[1;33m(\u001b[0m\u001b[0mbg\u001b[0m\u001b[1;33m,\u001b[0m \u001b[0mtorch\u001b[0m\u001b[1;33m.\u001b[0m\u001b[0mtensor\u001b[0m\u001b[1;33m(\u001b[0m\u001b[1;36m3\u001b[0m\u001b[1;33m)\u001b[0m\u001b[1;33m)\u001b[0m\u001b[1;33m\u001b[0m\u001b[1;33m\u001b[0m\u001b[0m\n\u001b[0m",
      "\u001b[1;32m~\\Anaconda3\\envs\\tf-gpu5\\lib\\site-packages\\torch\\nn\\modules\\module.py\u001b[0m in \u001b[0;36m_call_impl\u001b[1;34m(self, *input, **kwargs)\u001b[0m\n\u001b[0;32m    720\u001b[0m             \u001b[0mresult\u001b[0m \u001b[1;33m=\u001b[0m \u001b[0mself\u001b[0m\u001b[1;33m.\u001b[0m\u001b[0m_slow_forward\u001b[0m\u001b[1;33m(\u001b[0m\u001b[1;33m*\u001b[0m\u001b[0minput\u001b[0m\u001b[1;33m,\u001b[0m \u001b[1;33m**\u001b[0m\u001b[0mkwargs\u001b[0m\u001b[1;33m)\u001b[0m\u001b[1;33m\u001b[0m\u001b[1;33m\u001b[0m\u001b[0m\n\u001b[0;32m    721\u001b[0m         \u001b[1;32melse\u001b[0m\u001b[1;33m:\u001b[0m\u001b[1;33m\u001b[0m\u001b[1;33m\u001b[0m\u001b[0m\n\u001b[1;32m--> 722\u001b[1;33m             \u001b[0mresult\u001b[0m \u001b[1;33m=\u001b[0m \u001b[0mself\u001b[0m\u001b[1;33m.\u001b[0m\u001b[0mforward\u001b[0m\u001b[1;33m(\u001b[0m\u001b[1;33m*\u001b[0m\u001b[0minput\u001b[0m\u001b[1;33m,\u001b[0m \u001b[1;33m**\u001b[0m\u001b[0mkwargs\u001b[0m\u001b[1;33m)\u001b[0m\u001b[1;33m\u001b[0m\u001b[1;33m\u001b[0m\u001b[0m\n\u001b[0m\u001b[0;32m    723\u001b[0m         for hook in itertools.chain(\n\u001b[0;32m    724\u001b[0m                 \u001b[0m_global_forward_hooks\u001b[0m\u001b[1;33m.\u001b[0m\u001b[0mvalues\u001b[0m\u001b[1;33m(\u001b[0m\u001b[1;33m)\u001b[0m\u001b[1;33m,\u001b[0m\u001b[1;33m\u001b[0m\u001b[1;33m\u001b[0m\u001b[0m\n",
      "\u001b[1;32m~\\Anaconda3\\envs\\tf-gpu5\\lib\\site-packages\\dgl\\nn\\pytorch\\conv\\graphconv.py\u001b[0m in \u001b[0;36mforward\u001b[1;34m(self, graph, feat, weight)\u001b[0m\n\u001b[0;32m    277\u001b[0m                 \u001b[0mrst\u001b[0m \u001b[1;33m=\u001b[0m \u001b[0mgraph\u001b[0m\u001b[1;33m.\u001b[0m\u001b[0mdstdata\u001b[0m\u001b[1;33m[\u001b[0m\u001b[1;34m'h'\u001b[0m\u001b[1;33m]\u001b[0m\u001b[1;33m\u001b[0m\u001b[1;33m\u001b[0m\u001b[0m\n\u001b[0;32m    278\u001b[0m                 \u001b[1;32mif\u001b[0m \u001b[0mweight\u001b[0m \u001b[1;32mis\u001b[0m \u001b[1;32mnot\u001b[0m \u001b[1;32mNone\u001b[0m\u001b[1;33m:\u001b[0m\u001b[1;33m\u001b[0m\u001b[1;33m\u001b[0m\u001b[0m\n\u001b[1;32m--> 279\u001b[1;33m                     \u001b[0mrst\u001b[0m \u001b[1;33m=\u001b[0m \u001b[0mth\u001b[0m\u001b[1;33m.\u001b[0m\u001b[0mmatmul\u001b[0m\u001b[1;33m(\u001b[0m\u001b[0mrst\u001b[0m\u001b[1;33m,\u001b[0m \u001b[0mweight\u001b[0m\u001b[1;33m)\u001b[0m\u001b[1;33m\u001b[0m\u001b[1;33m\u001b[0m\u001b[0m\n\u001b[0m\u001b[0;32m    280\u001b[0m \u001b[1;33m\u001b[0m\u001b[0m\n\u001b[0;32m    281\u001b[0m             \u001b[1;32mif\u001b[0m \u001b[0mself\u001b[0m\u001b[1;33m.\u001b[0m\u001b[0m_norm\u001b[0m \u001b[1;33m!=\u001b[0m \u001b[1;34m'none'\u001b[0m\u001b[1;33m:\u001b[0m\u001b[1;33m\u001b[0m\u001b[1;33m\u001b[0m\u001b[0m\n",
      "\u001b[1;31mRuntimeError\u001b[0m: size mismatch, m1: [1 x 451], m2: [1 x 256] at ..\\aten\\src\\TH/generic/THTensorMath.cpp:41"
     ]
    }
   ],
   "source": [
    "model.conv1(bg, torch.tensor(3))"
   ]
  },
  {
   "cell_type": "code",
   "execution_count": 14,
   "metadata": {},
   "outputs": [],
   "source": [
    "prediction = model(bg)"
   ]
  },
  {
   "cell_type": "code",
   "execution_count": 15,
   "metadata": {},
   "outputs": [
    {
     "data": {
      "text/plain": [
       "torch.Size([32, 8])"
      ]
     },
     "execution_count": 15,
     "metadata": {},
     "output_type": "execute_result"
    }
   ],
   "source": [
    "prediction.shape"
   ]
  },
  {
   "cell_type": "code",
   "execution_count": 143,
   "metadata": {},
   "outputs": [
    {
     "data": {
      "text/plain": [
       "tensor(0, dtype=torch.int32)"
      ]
     },
     "execution_count": 143,
     "metadata": {},
     "output_type": "execute_result"
    }
   ],
   "source": [
    "trainset.labels[0]"
   ]
  },
  {
   "cell_type": "code",
   "execution_count": 144,
   "metadata": {},
   "outputs": [],
   "source": [
    "First_layer_pred = []\n",
    "for i in range(0,len(trainset)):\n",
    "    h = trainset.graphs[i].in_degrees().view(-1, 1).float()\n",
    "    x = F.relu(model.conv1(trainset.graphs[i], h))\n",
    "    First_layer_pred.append(np.mean(x.detach().numpy(),0))"
   ]
  },
  {
   "cell_type": "code",
   "execution_count": 145,
   "metadata": {},
   "outputs": [
    {
     "data": {
      "text/plain": [
       "array([0.        , 0.00635034, 0.46580884, 0.        , 0.        ,\n",
       "       0.        , 0.        , 0.906904  , 0.663962  , 0.6638413 ,\n",
       "       0.        , 0.        , 0.20090936, 0.        , 0.4599849 ,\n",
       "       0.        , 0.65087616, 0.23567295, 0.        , 0.        ,\n",
       "       0.62305766, 0.        , 0.00573289, 0.        , 0.50708526,\n",
       "       0.        , 0.        , 0.        , 0.21028902, 0.47279823,\n",
       "       0.        , 0.        , 0.        , 0.        , 0.        ,\n",
       "       0.        , 0.8486909 , 0.        , 0.        , 0.        ,\n",
       "       0.655961  , 0.00484467, 0.04229152, 0.9618952 , 0.        ,\n",
       "       0.01206209, 0.06131314, 0.13936044, 0.        , 0.        ,\n",
       "       0.64867246, 0.0068385 , 0.        , 0.        , 0.01709291,\n",
       "       0.6725359 , 0.01213597, 0.006284  , 0.05669726, 0.00584662,\n",
       "       0.        , 0.3655272 , 0.0080488 , 0.00589496, 0.6497811 ,\n",
       "       0.65544856, 0.        , 0.96731466, 0.        , 0.        ,\n",
       "       0.09132253, 0.1177019 , 0.71560794, 0.        , 0.00574267,\n",
       "       0.        , 0.        , 0.        , 0.89349943, 0.21237491,\n",
       "       0.        , 0.        , 0.        , 0.00653696, 0.        ,\n",
       "       0.00892156, 0.01159483, 0.6181707 , 0.        , 0.        ,\n",
       "       0.5065366 , 0.        , 0.        , 0.        , 0.22545308,\n",
       "       0.00568715, 0.31588072, 0.427184  , 0.68855923, 0.        ,\n",
       "       0.        , 0.09825467, 0.        , 0.31925347, 0.77769786,\n",
       "       0.64561427, 0.        , 0.00920399, 0.        , 0.        ,\n",
       "       0.        , 0.4702187 , 0.54071766, 0.6390508 , 0.        ,\n",
       "       0.6545774 , 0.        , 0.        , 0.00670731, 0.        ,\n",
       "       0.        , 0.        , 0.00631645, 0.00847542, 0.        ,\n",
       "       0.        , 0.        , 0.        , 0.5926587 , 0.        ,\n",
       "       0.03526503, 0.        , 0.01207206, 0.        , 0.0066731 ,\n",
       "       0.01778576, 0.        , 0.        , 0.00770864, 0.008102  ,\n",
       "       0.82389   , 0.        , 0.0067836 , 0.6378041 , 0.00574669,\n",
       "       0.00655481, 0.        , 0.48800895, 0.        , 0.1281698 ,\n",
       "       0.2521143 , 0.40970513, 0.        , 0.00687096, 0.        ,\n",
       "       0.09637623, 0.        , 0.        , 0.        , 0.09346092,\n",
       "       0.        , 0.        , 0.17330949, 0.00713211, 0.        ,\n",
       "       0.        , 0.2613902 , 0.09452553, 0.00604424, 0.        ,\n",
       "       0.        , 0.        , 0.0053592 , 0.00698999, 0.        ,\n",
       "       0.2943139 , 0.        , 0.        , 0.08908127, 0.        ,\n",
       "       0.01324973, 0.        , 0.17061527, 0.00680026, 0.12153259,\n",
       "       0.08122468, 0.0106124 , 0.00746718, 0.        , 0.47946274,\n",
       "       0.02028188, 0.        , 0.00611612, 0.43523645, 0.        ,\n",
       "       0.        , 0.        , 0.30917215, 0.        , 0.1935005 ,\n",
       "       0.        , 0.        , 0.6493371 , 0.        , 0.51890093,\n",
       "       0.09960963, 0.00582632, 0.        , 0.00870383, 0.45737502,\n",
       "       0.        , 0.        , 0.283082  , 0.        , 0.        ,\n",
       "       0.7758998 , 0.08395253, 0.        , 0.        , 0.        ,\n",
       "       0.        , 0.        , 0.2296241 , 0.43023822, 0.09691286,\n",
       "       0.        , 0.        , 0.00853501, 0.00727913, 0.        ,\n",
       "       0.00747958, 0.        , 0.        , 0.5747561 , 0.        ,\n",
       "       0.6906852 , 0.0066705 , 0.        , 0.        , 0.        ,\n",
       "       0.        , 0.2216034 , 0.        , 0.        , 0.9371989 ,\n",
       "       0.06682772, 0.        , 0.49292806, 0.        , 0.        ,\n",
       "       0.        , 0.00581649, 0.10507417, 0.4155464 , 0.00661537,\n",
       "       0.02687147], dtype=float32)"
      ]
     },
     "execution_count": 145,
     "metadata": {},
     "output_type": "execute_result"
    }
   ],
   "source": [
    "First_layer_pred[0]"
   ]
  },
  {
   "cell_type": "code",
   "execution_count": 146,
   "metadata": {},
   "outputs": [],
   "source": [
    "First_layer_pred = np.stack(First_layer_pred, axis=0)"
   ]
  },
  {
   "cell_type": "code",
   "execution_count": 147,
   "metadata": {},
   "outputs": [
    {
     "data": {
      "text/plain": [
       "numpy.ndarray"
      ]
     },
     "execution_count": 147,
     "metadata": {},
     "output_type": "execute_result"
    }
   ],
   "source": [
    "type(First_layer_pred)"
   ]
  },
  {
   "cell_type": "code",
   "execution_count": 148,
   "metadata": {},
   "outputs": [],
   "source": [
    "from sklearn.manifold import TSNE"
   ]
  },
  {
   "cell_type": "code",
   "execution_count": 149,
   "metadata": {},
   "outputs": [
    {
     "name": "stdout",
     "output_type": "stream",
     "text": [
      "[t-SNE] Computing 31 nearest neighbors...\n",
      "[t-SNE] Indexed 320 samples in 0.012s...\n",
      "[t-SNE] Computed neighbors for 320 samples in 0.024s...\n",
      "[t-SNE] Computed conditional probabilities for sample 320 / 320\n",
      "[t-SNE] Mean sigma: 0.000000\n",
      "[t-SNE] KL divergence after 250 iterations with early exaggeration: 43.541618\n",
      "[t-SNE] KL divergence after 2000 iterations: -0.483263\n"
     ]
    }
   ],
   "source": [
    "First_layer_TSNE = TSNE(2, perplexity = 10, learning_rate=10, verbose=1, n_iter=2000, random_state=2020)\n",
    "Y = First_layer_TSNE.fit_transform(First_layer_pred)"
   ]
  },
  {
   "cell_type": "code",
   "execution_count": 150,
   "metadata": {},
   "outputs": [
    {
     "data": {
      "text/plain": [
       "array([[-1.11080189e+01, -1.45068939e+02],\n",
       "       [ 7.60516815e+01, -4.67540169e+01],\n",
       "       [ 1.28123001e+02, -4.94698753e+01],\n",
       "       [ 1.28373520e+02, -4.30528488e+01],\n",
       "       [-7.09187698e+00, -1.50395432e+02],\n",
       "       [ 2.21032357e+00, -1.88908173e+02],\n",
       "       [ 1.34548325e+02, -4.86320992e+01],\n",
       "       [-1.51577854e+00, -1.44488739e+02],\n",
       "       [ 9.72004242e+01, -4.30342941e+01],\n",
       "       [ 1.24148651e+02, -5.45623245e+01],\n",
       "       [ 1.62315285e+00, -1.58110352e+02],\n",
       "       [-6.06417322e+00, -1.57699097e+02],\n",
       "       [-1.37178984e+01, -1.89851974e+02],\n",
       "       [-1.13007536e+01, -1.83867340e+02],\n",
       "       [ 8.61759262e+01, -4.49271622e+01],\n",
       "       [-6.06417322e+00, -1.57699097e+02],\n",
       "       [-1.40646827e+00, -1.52289917e+02],\n",
       "       [-1.26485710e+01, -1.53749344e+02],\n",
       "       [-7.37272596e+00, -1.89799118e+02],\n",
       "       [ 8.61759262e+01, -4.49271622e+01],\n",
       "       [-1.51577854e+00, -1.44488739e+02],\n",
       "       [ 2.21032357e+00, -1.88908173e+02],\n",
       "       [-5.16485023e+00, -1.83362244e+02],\n",
       "       [-1.53654113e-01, -1.94973892e+02],\n",
       "       [ 1.24148651e+02, -5.45623245e+01],\n",
       "       [ 1.17320686e+02, -5.04315147e+01],\n",
       "       [ 7.14594421e+01, -4.24455948e+01],\n",
       "       [ 1.16987587e+02, -5.73577423e+01],\n",
       "       [-6.87046242e+00, -1.39936035e+02],\n",
       "       [ 7.14594421e+01, -4.24455948e+01],\n",
       "       [ 9.72004242e+01, -4.30342941e+01],\n",
       "       [ 1.22459229e+02, -6.20317841e+01],\n",
       "       [-7.37272596e+00, -1.89799118e+02],\n",
       "       [ 8.61759262e+01, -4.49271622e+01],\n",
       "       [ 1.21999939e+02, -4.59907303e+01],\n",
       "       [ 1.29322601e+02, -6.08298988e+01],\n",
       "       [ 1.32519196e+02, -5.52046890e+01],\n",
       "       [ 4.63656425e+00, -1.50944244e+02],\n",
       "       [ 7.67924042e+01, -3.91656380e+01],\n",
       "       [ 8.65469284e+01, -3.84311905e+01],\n",
       "       [ 1.97119232e+02,  3.10023861e+01],\n",
       "       [ 2.00019180e+02,  3.71580086e+01],\n",
       "       [-1.77913704e+01,  7.74516296e+01],\n",
       "       [ 7.20594177e+01,  1.39000732e+02],\n",
       "       [ 1.67563461e+02,  5.14676399e+01],\n",
       "       [-1.15217590e+01,  1.56921814e+02],\n",
       "       [-4.29205742e+01,  1.17357834e+02],\n",
       "       [ 1.67563461e+02,  5.14676399e+01],\n",
       "       [-4.93527489e+01,  1.15395447e+02],\n",
       "       [-1.77913704e+01,  7.74516296e+01],\n",
       "       [-2.44099464e+01,  7.72010803e+01],\n",
       "       [ 6.50317307e+01,  1.34754196e+02],\n",
       "       [ 4.73112793e+01,  9.53106155e+01],\n",
       "       [ 4.73112793e+01,  9.53106155e+01],\n",
       "       [ 2.65270500e+01,  4.26818848e+01],\n",
       "       [ 1.84647659e+02,  4.12145844e+01],\n",
       "       [ 7.22895737e+01,  1.30795105e+02],\n",
       "       [-3.04353046e+01,  9.37076035e+01],\n",
       "       [ 7.22895737e+01,  1.30795105e+02],\n",
       "       [ 1.92895981e+02,  3.66999855e+01],\n",
       "       [ 1.84647659e+02,  4.12145844e+01],\n",
       "       [-3.53725052e+01,  8.86116333e+01],\n",
       "       [-3.53725052e+01,  8.86116333e+01],\n",
       "       [ 1.67563461e+02,  5.14676399e+01],\n",
       "       [ 1.92895981e+02,  3.66999855e+01],\n",
       "       [ 1.89965897e+02,  3.06761417e+01],\n",
       "       [-1.15217590e+01,  1.56921814e+02],\n",
       "       [ 3.14891109e+01,  4.13542442e+01],\n",
       "       [ 1.67563461e+02,  5.14676399e+01],\n",
       "       [-4.93527489e+01,  1.15395447e+02],\n",
       "       [-1.88282089e+01,  8.40359802e+01],\n",
       "       [-1.15217590e+01,  1.56921814e+02],\n",
       "       [ 5.27169456e+01,  9.29129486e+01],\n",
       "       [ 1.95791565e+02,  4.28064232e+01],\n",
       "       [ 6.50317307e+01,  1.34754196e+02],\n",
       "       [ 7.22895737e+01,  1.30795105e+02],\n",
       "       [ 2.65270500e+01,  4.26818848e+01],\n",
       "       [ 6.50317307e+01,  1.34754196e+02],\n",
       "       [ 7.20594177e+01,  1.39000732e+02],\n",
       "       [-1.15217590e+01,  1.56921814e+02],\n",
       "       [-1.19232666e+02, -1.68127079e+01],\n",
       "       [-1.17188850e+02, -2.28846130e+01],\n",
       "       [-1.67029221e+02, -1.74493198e+01],\n",
       "       [-1.10971191e+02, -2.27877083e+01],\n",
       "       [-1.14185524e+02,  1.27774162e+01],\n",
       "       [-1.63153534e+02, -2.44531918e+01],\n",
       "       [-1.34843582e+02, -2.80059013e+01],\n",
       "       [-1.27847908e+02, -2.92809448e+01],\n",
       "       [-1.20496490e+02,  9.77754898e+01],\n",
       "       [-1.31754303e+02,  8.49395523e+01],\n",
       "       [-1.27847908e+02, -2.92809448e+01],\n",
       "       [-1.72293213e+02, -2.95936508e+01],\n",
       "       [-1.14185524e+02,  1.27774162e+01],\n",
       "       [-1.16082146e+02,  9.14360504e+01],\n",
       "       [-1.30488861e+02, -2.23897820e+01],\n",
       "       [-1.12898094e+02,  9.82221222e+01],\n",
       "       [-1.26425369e+02,  8.55535583e+01],\n",
       "       [-1.36257675e+02,  6.52734833e+01],\n",
       "       [-1.17188850e+02, -2.28846130e+01],\n",
       "       [-1.43442535e+02,  6.85409851e+01],\n",
       "       [-1.20496490e+02,  9.77754898e+01],\n",
       "       [-1.14185524e+02,  1.27774162e+01],\n",
       "       [-1.36257675e+02,  6.52734833e+01],\n",
       "       [-1.20496490e+02,  9.77754898e+01],\n",
       "       [-1.57673004e+02, -2.39449825e+01],\n",
       "       [-1.30488861e+02, -2.23897820e+01],\n",
       "       [-1.78701263e+02, -2.62863407e+01],\n",
       "       [-1.16082146e+02,  9.14360504e+01],\n",
       "       [-1.39875900e+02,  5.88260880e+01],\n",
       "       [-1.60288345e+02, -1.87934589e+01],\n",
       "       [-1.43442535e+02,  6.85409851e+01],\n",
       "       [-1.79319733e+02, -1.94622860e+01],\n",
       "       [-1.36257675e+02,  6.52734833e+01],\n",
       "       [-1.14185524e+02,  1.27774162e+01],\n",
       "       [-1.14185524e+02,  1.27774162e+01],\n",
       "       [-1.45782974e+02,  6.15189934e+01],\n",
       "       [-1.14185524e+02,  1.27774162e+01],\n",
       "       [-1.13248055e+02, -1.71085072e+01],\n",
       "       [-1.29920609e+02,  8.99523697e+01],\n",
       "       [-1.43442535e+02,  6.85409851e+01],\n",
       "       [-6.95742816e-02, -6.96011658e+01],\n",
       "       [-9.38557816e+01, -1.14650330e+02],\n",
       "       [-7.55058899e+01, -1.07118614e+02],\n",
       "       [-4.56366425e+01, -5.30730705e+01],\n",
       "       [-1.73809402e+02, -1.51778688e+01],\n",
       "       [-1.26403656e+02, -9.37940445e+01],\n",
       "       [ 9.07192469e-01, -7.54710312e+01],\n",
       "       [-7.55058899e+01, -1.07118614e+02],\n",
       "       [-5.83222847e+01, -4.59194984e+01],\n",
       "       [-1.00255417e+02, -1.10181778e+02],\n",
       "       [-1.00255417e+02, -1.10181778e+02],\n",
       "       [-1.72280258e+02, -2.24398842e+01],\n",
       "       [-1.72280258e+02, -2.24398842e+01],\n",
       "       [-1.34534500e+02, -1.01888840e+02],\n",
       "       [-4.18053856e+01, -4.69793739e+01],\n",
       "       [-1.82955952e+01, -5.62017517e+01],\n",
       "       [-6.69599304e+01, -1.05789322e+02],\n",
       "       [-1.33024521e+02, -9.54769516e+01],\n",
       "       [-1.29992172e+02, -1.06542343e+02],\n",
       "       [-7.79811783e+01, -1.13733749e+02],\n",
       "       [-1.40414032e+02, -9.18867722e+01],\n",
       "       [-6.97437439e+01, -1.12566368e+02],\n",
       "       [ 4.59010735e+01, -1.02236214e+02],\n",
       "       [-1.00255417e+02, -1.10181778e+02],\n",
       "       [-4.55737648e+01, -4.08833008e+01],\n",
       "       [-1.27223869e+02, -1.00407440e+02],\n",
       "       [-1.07946892e+02, -1.05625145e+02],\n",
       "       [-1.07440636e+02, -1.14807816e+02],\n",
       "       [-9.36277924e+01, -1.07250229e+02],\n",
       "       [-1.27223869e+02, -1.00407440e+02],\n",
       "       [-1.11792313e+02, -1.10544678e+02],\n",
       "       [-1.91242485e+01, -6.26684952e+01],\n",
       "       [ 1.62413216e+01, -8.26613007e+01],\n",
       "       [-6.69599304e+01, -1.05789322e+02],\n",
       "       [-7.55058899e+01, -1.07118614e+02],\n",
       "       [-1.40414032e+02, -9.18867722e+01],\n",
       "       [ 4.05529213e+01, -9.26159821e+01],\n",
       "       [-1.17928688e+02, -1.05427208e+02],\n",
       "       [-1.00072845e+02, -1.17862846e+02],\n",
       "       [-4.77485542e+01, -4.67353172e+01],\n",
       "       [ 1.30886831e+01,  2.36623688e+01],\n",
       "       [-2.52941561e+00,  1.63705616e+01],\n",
       "       [-8.86098557e+01,  3.32340698e+01],\n",
       "       [ 1.48989620e+01,  8.93157196e+00],\n",
       "       [-7.20738220e+01,  4.44302139e+01],\n",
       "       [ 4.80949020e+00,  2.07803574e+01],\n",
       "       [-8.09548492e+01,  4.25517807e+01],\n",
       "       [ 1.93414192e+01,  1.18526351e+00],\n",
       "       [-7.87897110e+01,  4.94581337e+01],\n",
       "       [ 3.58668971e+00,  9.45767879e-01],\n",
       "       [-8.76402206e+01,  4.00970268e+01],\n",
       "       [ 4.61465216e+00, -6.77462101e+00],\n",
       "       [-7.00072937e+01,  2.80831432e+01],\n",
       "       [ 1.10795088e+01,  1.54386556e+00],\n",
       "       [ 5.45333910e+00,  2.86464500e+01],\n",
       "       [-8.52221832e+01,  2.15374126e+01],\n",
       "       [-6.85219193e+01,  3.62702789e+01],\n",
       "       [ 1.12289457e+01,  1.55803652e+01],\n",
       "       [ 2.27793350e+01,  9.52783585e+00],\n",
       "       [-2.74943256e+00,  2.48169308e+01],\n",
       "       [ 1.33607759e+01, -6.01096296e+00],\n",
       "       [-6.40037727e+00,  9.94863033e+00],\n",
       "       [ 7.76803160e+00,  7.87863350e+00],\n",
       "       [-9.42853241e+01,  4.30336342e+01],\n",
       "       [-9.18656235e+01,  2.66973305e+01],\n",
       "       [-7.56082306e+01,  3.79661369e+01],\n",
       "       [-7.70213623e+01,  2.32394581e+01],\n",
       "       [-7.66209488e+01,  3.10700226e+01],\n",
       "       [ 1.90976143e+01,  1.74787998e+01],\n",
       "       [-3.93842483e+00,  2.19505858e+00],\n",
       "       [-9.75311565e+00,  1.98666458e+01],\n",
       "       [-8.21151886e+01,  3.55624962e+01],\n",
       "       [-9.57081451e+01,  3.48145447e+01],\n",
       "       [-8.71514664e+01,  4.79063835e+01],\n",
       "       [-4.25658321e+00, -5.58616352e+00],\n",
       "       [-1.18965092e+01,  2.55367517e+00],\n",
       "       [-1.38846817e+01,  1.20070133e+01],\n",
       "       [ 5.40573299e-01,  7.95966387e+00],\n",
       "       [-8.32840271e+01,  2.85530968e+01],\n",
       "       [ 4.15185881e+00,  1.38609829e+01],\n",
       "       [ 5.45586967e+00,  1.72584290e+02],\n",
       "       [ 8.20147800e+00,  1.66024124e+02],\n",
       "       [ 5.57044029e+01,  1.06548584e+02],\n",
       "       [ 2.14371395e+00,  1.67332138e+02],\n",
       "       [-5.77489710e+00,  1.76436874e+02],\n",
       "       [-5.18492126e+01,  1.50318848e+02],\n",
       "       [-4.66542740e+01,  1.08758476e+02],\n",
       "       [ 1.39895798e+02,  5.62682266e+01],\n",
       "       [ 2.28519845e+00,  1.61011536e+02],\n",
       "       [ 3.11418209e+01,  6.31220512e+01],\n",
       "       [-4.68257866e+01,  1.38795685e+02],\n",
       "       [ 5.63883171e+01,  1.14012016e+02],\n",
       "       [-4.54865417e+01,  1.49121155e+02],\n",
       "       [ 5.57044029e+01,  1.06548584e+02],\n",
       "       [ 6.27023659e+01,  1.11512779e+02],\n",
       "       [-4.68257866e+01,  1.38795685e+02],\n",
       "       [ 5.63883171e+01,  1.14012016e+02],\n",
       "       [ 3.11418209e+01,  6.31220512e+01],\n",
       "       [ 3.11418209e+01,  6.31220512e+01],\n",
       "       [ 1.44596619e+02,  5.83367462e+01],\n",
       "       [ 5.00355835e+01,  1.10748665e+02],\n",
       "       [-8.00752163e+00,  1.69890396e+02],\n",
       "       [ 3.11418209e+01,  6.31220512e+01],\n",
       "       [ 1.44596619e+02,  5.83367462e+01],\n",
       "       [-4.54865417e+01,  1.49121155e+02],\n",
       "       [-4.54865417e+01,  1.49121155e+02],\n",
       "       [-2.80492516e+01,  8.73205032e+01],\n",
       "       [-3.28029060e+01,  8.21372986e+01],\n",
       "       [ 1.21264386e+00,  1.77555176e+02],\n",
       "       [-4.05816879e+01,  1.11456955e+02],\n",
       "       [-5.38797302e+01,  1.42092316e+02],\n",
       "       [ 3.11418209e+01,  6.31220512e+01],\n",
       "       [ 1.28195257e+01,  1.77310272e+02],\n",
       "       [-5.33857651e+01,  1.35447205e+02],\n",
       "       [-3.53114748e+00,  1.65056580e+02],\n",
       "       [-4.66542740e+01,  1.08758476e+02],\n",
       "       [-1.61790335e+00,  1.71654037e+02],\n",
       "       [ 6.22791100e+01,  1.05155136e+02],\n",
       "       [-2.80492516e+01,  8.73205032e+01],\n",
       "       [-4.68257866e+01,  1.38795685e+02],\n",
       "       [ 3.43087959e+01, -9.03380737e+01],\n",
       "       [-1.37500391e+01, -6.78378372e+01],\n",
       "       [ 3.52254219e+01, -9.71782303e+01],\n",
       "       [ 7.21316071e+01, -1.12401756e+02],\n",
       "       [ 4.93011093e+00, -8.13725357e+01],\n",
       "       [ 1.25188046e+01, -7.09258118e+01],\n",
       "       [ 8.02542572e+01, -1.27684441e+02],\n",
       "       [ 9.34139862e+01, -1.28860596e+02],\n",
       "       [ 5.40421677e+01, -1.05292290e+02],\n",
       "       [-5.27453423e+01, -4.23206329e+01],\n",
       "       [ 9.34139862e+01, -1.28860596e+02],\n",
       "       [ 5.40421677e+01, -1.05292290e+02],\n",
       "       [ 3.52254219e+01, -9.71782303e+01],\n",
       "       [ 8.41368713e+01, -1.21536339e+02],\n",
       "       [ 3.52254219e+01, -9.71782303e+01],\n",
       "       [-2.78392220e+01, -5.24880905e+01],\n",
       "       [ 1.10900364e+01, -7.89739151e+01],\n",
       "       [ 1.67102203e+01, -7.58850861e+01],\n",
       "       [ 1.01585793e+02, -1.32008163e+02],\n",
       "       [-1.09704237e+01, -6.13619461e+01],\n",
       "       [ 5.40421677e+01, -1.05292290e+02],\n",
       "       [-1.09704237e+01, -6.13619461e+01],\n",
       "       [ 9.88994789e+00, -8.54230728e+01],\n",
       "       [ 4.91140823e+01, -1.10652733e+02],\n",
       "       [ 8.41368713e+01, -1.21536339e+02],\n",
       "       [-1.09704237e+01, -6.13619461e+01],\n",
       "       [ 8.02542572e+01, -1.27684441e+02],\n",
       "       [-3.18959904e+01, -4.85446968e+01],\n",
       "       [ 6.85974045e+01, -1.17920319e+02],\n",
       "       [ 5.40421677e+01, -1.05292290e+02],\n",
       "       [-5.31829872e+01, -5.08425674e+01],\n",
       "       [-5.31829872e+01, -5.08425674e+01],\n",
       "       [ 7.57848597e+00, -7.44416122e+01],\n",
       "       [-3.32462387e+01, -5.45270615e+01],\n",
       "       [ 9.75206604e+01, -1.37546967e+02],\n",
       "       [ 9.75206604e+01, -1.37546967e+02],\n",
       "       [ 6.85974045e+01, -1.17920319e+02],\n",
       "       [ 6.85974045e+01, -1.17920319e+02],\n",
       "       [ 8.41368713e+01, -1.21536339e+02],\n",
       "       [ 8.94253540e+01, -1.34117950e+02],\n",
       "       [ 1.49166580e+02,  9.67469177e+01],\n",
       "       [ 1.39450958e+02,  8.66433811e+00],\n",
       "       [ 5.35049477e+01,  1.62201614e+01],\n",
       "       [ 1.40988007e+02,  1.00294868e+02],\n",
       "       [ 1.27515953e+02,  1.70465450e+01],\n",
       "       [ 1.49039871e+02,  1.05652412e+02],\n",
       "       [ 1.56037979e+02,  1.01720718e+02],\n",
       "       [ 1.49039871e+02,  1.05652412e+02],\n",
       "       [ 7.80978775e+01,  2.32884483e+01],\n",
       "       [ 1.28557541e+02,  2.36722507e+01],\n",
       "       [ 6.00887794e+01,  1.33686266e+01],\n",
       "       [ 1.34396408e+02,  1.96679249e+01],\n",
       "       [ 1.02677536e+02,  3.79129410e+01],\n",
       "       [ 1.49166580e+02,  9.67469177e+01],\n",
       "       [ 7.49327164e+01,  2.93175907e+01],\n",
       "       [ 6.00887794e+01,  1.33686266e+01],\n",
       "       [ 1.49166580e+02,  9.67469177e+01],\n",
       "       [ 7.80978775e+01,  2.32884483e+01],\n",
       "       [ 1.39637604e+02,  1.59203634e+01],\n",
       "       [ 1.40988007e+02,  1.00294868e+02],\n",
       "       [ 1.02677536e+02,  3.79129410e+01],\n",
       "       [ 1.02677536e+02,  3.79129410e+01],\n",
       "       [ 6.00887794e+01,  1.33686266e+01],\n",
       "       [ 1.45433319e+02,  1.17147942e+01],\n",
       "       [ 1.40795670e+02,  2.31483955e+01],\n",
       "       [ 1.41904480e+02,  9.23518982e+01],\n",
       "       [ 1.02677536e+02,  3.79129410e+01],\n",
       "       [ 5.90446205e+01,  2.05097370e+01],\n",
       "       [ 1.01118912e+02,  4.49730339e+01],\n",
       "       [ 1.41844086e+02,  1.07725395e+02],\n",
       "       [ 1.33235336e+02,  6.16308355e+00],\n",
       "       [ 6.00887794e+01,  1.33686266e+01],\n",
       "       [ 7.80978775e+01,  2.32884483e+01],\n",
       "       [ 1.07981903e+02,  4.28225784e+01],\n",
       "       [ 1.27235207e+02,  1.03312168e+01],\n",
       "       [ 7.80978775e+01,  2.32884483e+01],\n",
       "       [ 1.35148636e+02,  2.67778492e+01],\n",
       "       [ 1.33748230e+02,  1.32640886e+01],\n",
       "       [ 1.46050415e+02,  1.89900398e+01],\n",
       "       [ 1.49166580e+02,  9.67469177e+01]], dtype=float32)"
      ]
     },
     "execution_count": 150,
     "metadata": {},
     "output_type": "execute_result"
    }
   ],
   "source": [
    "Y"
   ]
  },
  {
   "cell_type": "code",
   "execution_count": 75,
   "metadata": {},
   "outputs": [],
   "source": [
    "import matplotlib.pyplot as plt\n",
    "import matplotlib.cm as cm"
   ]
  },
  {
   "cell_type": "code",
   "execution_count": 118,
   "metadata": {},
   "outputs": [],
   "source": [
    "colors = cm.rainbow(np.linspace(0, 1, max(trainset.labels).detach().numpy()+1)) "
   ]
  },
  {
   "cell_type": "code",
   "execution_count": 168,
   "metadata": {},
   "outputs": [
    {
     "data": {
      "text/plain": [
       "array([[5.00000000e-01, 0.00000000e+00, 1.00000000e+00, 1.00000000e+00],\n",
       "       [2.17647059e-01, 4.29120609e-01, 9.75511968e-01, 1.00000000e+00],\n",
       "       [7.25490196e-02, 7.82927610e-01, 9.00586702e-01, 1.00000000e+00],\n",
       "       [3.54901961e-01, 9.74138602e-01, 7.82927610e-01, 1.00000000e+00],\n",
       "       [6.45098039e-01, 9.74138602e-01, 6.22112817e-01, 1.00000000e+00],\n",
       "       [9.27450980e-01, 7.82927610e-01, 4.34676422e-01, 1.00000000e+00],\n",
       "       [1.00000000e+00, 4.29120609e-01, 2.19946358e-01, 1.00000000e+00],\n",
       "       [1.00000000e+00, 1.22464680e-16, 6.12323400e-17, 1.00000000e+00]])"
      ]
     },
     "execution_count": 168,
     "metadata": {},
     "output_type": "execute_result"
    }
   ],
   "source": [
    "colors"
   ]
  },
  {
   "cell_type": "code",
   "execution_count": 155,
   "metadata": {},
   "outputs": [
    {
     "data": {
      "text/plain": [
       "array(7)"
      ]
     },
     "execution_count": 155,
     "metadata": {},
     "output_type": "execute_result"
    }
   ],
   "source": [
    "max(trainset.labels).detach().numpy()"
   ]
  },
  {
   "cell_type": "code",
   "execution_count": 157,
   "metadata": {},
   "outputs": [],
   "source": [
    "trainset_label_array = trainset.labels.detach().numpy()"
   ]
  },
  {
   "cell_type": "code",
   "execution_count": 158,
   "metadata": {},
   "outputs": [],
   "source": [
    "label_index = (trainset_label_array == 0)"
   ]
  },
  {
   "cell_type": "code",
   "execution_count": 180,
   "metadata": {},
   "outputs": [],
   "source": [
    "fig = plt.figure(figsize=(12, 12))\n",
    "ax = fig.add_subplot()\n",
    "for i in range(0,max(trainset.labels).detach().numpy()+1):\n",
    "    label_index = (trainset_label_array == i)\n",
    "    #color_indx = int(trainset.labels[i].detach().numpy());\n",
    "    ax.scatter(Y[label_index, 0], Y[label_index, 1],color=colors[i])\n",
    "#handles, labels = ax.get_legend_handles_labels()\n",
    "plt.legend(['cycle_graph','star_graph','wheel_graph','lollipop_graph','hypercube_graph','grid_graph','complete_graph','circular_ladder_graph'], loc='best')\n",
    "plt.title('TSNE of First Layer Output')\n",
    "plt.show()"
   ]
  },
  {
   "cell_type": "code",
   "execution_count": 164,
   "metadata": {},
   "outputs": [
    {
     "data": {
      "text/plain": [
       "array([False, False, False, False, False, False, False, False, False,\n",
       "       False, False, False, False, False, False, False, False, False,\n",
       "       False, False, False, False, False, False, False, False, False,\n",
       "       False, False, False, False, False, False, False, False, False,\n",
       "       False, False, False, False, False, False, False, False, False,\n",
       "       False, False, False, False, False, False, False, False, False,\n",
       "       False, False, False, False, False, False, False, False, False,\n",
       "       False, False, False, False, False, False, False, False, False,\n",
       "       False, False, False, False, False, False, False, False, False,\n",
       "       False, False, False, False, False, False, False, False, False,\n",
       "       False, False, False, False, False, False, False, False, False,\n",
       "       False, False, False, False, False, False, False, False, False,\n",
       "       False, False, False, False, False, False, False, False, False,\n",
       "       False, False, False, False, False, False, False, False, False,\n",
       "       False, False, False, False, False, False, False, False, False,\n",
       "       False, False, False, False, False, False, False, False, False,\n",
       "       False, False, False, False, False, False, False, False, False,\n",
       "       False, False, False, False, False, False, False, False, False,\n",
       "       False, False, False, False, False, False, False, False, False,\n",
       "       False, False, False, False, False, False, False, False, False,\n",
       "       False, False, False, False, False, False, False, False, False,\n",
       "       False, False, False, False, False, False, False, False, False,\n",
       "       False, False, False, False, False, False, False, False, False,\n",
       "       False, False, False, False, False, False, False, False, False,\n",
       "       False, False, False, False, False, False, False, False, False,\n",
       "       False, False, False, False, False, False, False, False, False,\n",
       "       False, False, False, False, False, False, False, False, False,\n",
       "       False, False, False, False, False, False, False, False, False,\n",
       "       False, False, False, False, False, False, False, False, False,\n",
       "       False, False, False, False, False, False, False, False, False,\n",
       "       False, False, False, False, False, False, False, False, False,\n",
       "       False,  True,  True,  True,  True,  True,  True,  True,  True,\n",
       "        True,  True,  True,  True,  True,  True,  True,  True,  True,\n",
       "        True,  True,  True,  True,  True,  True,  True,  True,  True,\n",
       "        True,  True,  True,  True,  True,  True,  True,  True,  True,\n",
       "        True,  True,  True,  True,  True])"
      ]
     },
     "execution_count": 164,
     "metadata": {},
     "output_type": "execute_result"
    }
   ],
   "source": [
    "label_index"
   ]
  },
  {
   "cell_type": "code",
   "execution_count": 165,
   "metadata": {},
   "outputs": [
    {
     "data": {
      "text/plain": [
       "array([149.16658 , 139.45096 ,  53.504948, 140.988   , 127.51595 ,\n",
       "       149.03987 , 156.03798 , 149.03987 ,  78.09788 , 128.55754 ,\n",
       "        60.08878 , 134.39641 , 102.677536, 149.16658 ,  74.93272 ,\n",
       "        60.08878 , 149.16658 ,  78.09788 , 139.6376  , 140.988   ,\n",
       "       102.677536, 102.677536,  60.08878 , 145.43332 , 140.79567 ,\n",
       "       141.90448 , 102.677536,  59.04462 , 101.11891 , 141.84409 ,\n",
       "       133.23534 ,  60.08878 ,  78.09788 , 107.9819  , 127.23521 ,\n",
       "        78.09788 , 135.14864 , 133.74823 , 146.05042 , 149.16658 ],\n",
       "      dtype=float32)"
      ]
     },
     "execution_count": 165,
     "metadata": {},
     "output_type": "execute_result"
    }
   ],
   "source": [
    "Y[label_index, 0]"
   ]
  },
  {
   "cell_type": "code",
   "execution_count": 175,
   "metadata": {},
   "outputs": [],
   "source": [
    "Second_layer_pred = []\n",
    "for i in range(0,len(trainset)):\n",
    "    h = trainset.graphs[i].in_degrees().view(-1, 1).float()\n",
    "    h = F.relu(model.conv1(trainset.graphs[i], h))\n",
    "    x = F.relu(model.conv2(trainset.graphs[i], h))\n",
    "    Second_layer_pred.append(np.mean(x.detach().numpy(),0))"
   ]
  },
  {
   "cell_type": "code",
   "execution_count": 176,
   "metadata": {},
   "outputs": [],
   "source": [
    "Second_layer_pred = np.stack(Second_layer_pred, axis=0)"
   ]
  },
  {
   "cell_type": "code",
   "execution_count": 193,
   "metadata": {},
   "outputs": [
    {
     "name": "stdout",
     "output_type": "stream",
     "text": [
      "[t-SNE] Computing 31 nearest neighbors...\n",
      "[t-SNE] Indexed 320 samples in 0.012s...\n",
      "[t-SNE] Computed neighbors for 320 samples in 0.027s...\n",
      "[t-SNE] Computed conditional probabilities for sample 320 / 320\n",
      "[t-SNE] Mean sigma: 0.000000\n",
      "[t-SNE] KL divergence after 250 iterations with early exaggeration: 43.299900\n",
      "[t-SNE] KL divergence after 2000 iterations: -0.449301\n"
     ]
    }
   ],
   "source": [
    "Second_layer_TSNE = TSNE(2, perplexity = 10, learning_rate=10, verbose=1, n_iter=2000, random_state=2020)\n",
    "Y = Second_layer_TSNE.fit_transform(Second_layer_pred)"
   ]
  },
  {
   "cell_type": "code",
   "execution_count": 194,
   "metadata": {},
   "outputs": [
    {
     "data": {
      "image/png": "[encoded data removed]",
      "text/plain": [
       "<Figure size 864x864 with 1 Axes>"
      ]
     },
     "metadata": {
      "needs_background": "light"
     },
     "output_type": "display_data"
    }
   ],
   "source": [
    "fig = plt.figure(figsize=(12, 12))\n",
    "ax = fig.add_subplot()\n",
    "for i in range(0,max(trainset.labels).detach().numpy()+1):\n",
    "    label_index = (trainset_label_array == i)\n",
    "    #color_indx = int(trainset.labels[i].detach().numpy());\n",
    "    ax.scatter(Y[label_index, 0], Y[label_index, 1],color=colors[i])\n",
    "#handles, labels = ax.get_legend_handles_labels()\n",
    "plt.legend(['cycle_graph','star_graph','wheel_graph','lollipop_graph','hypercube_graph','grid_graph','complete_graph','circular_ladder_graph'], loc='best')\n",
    "plt.title('TSNE of Second Layer Output')\n",
    "plt.show()"
   ]
  },
  {
   "cell_type": "code",
   "execution_count": 191,
   "metadata": {},
   "outputs": [],
   "source": [
    "Classify_layer_pred = []\n",
    "for i in range(0,len(trainset)):\n",
    "    x = model(trainset.graphs[i])\n",
    "    Classify_layer_pred.append(np.mean(x.detach().numpy(),0))"
   ]
  },
  {
   "cell_type": "code",
   "execution_count": 192,
   "metadata": {},
   "outputs": [],
   "source": [
    "Classify_layer_pred = np.stack(Classify_layer_pred, axis=0)"
   ]
  },
  {
   "cell_type": "code",
   "execution_count": 195,
   "metadata": {},
   "outputs": [
    {
     "name": "stdout",
     "output_type": "stream",
     "text": [
      "[t-SNE] Computing 31 nearest neighbors...\n",
      "[t-SNE] Indexed 320 samples in 0.001s...\n",
      "[t-SNE] Computed neighbors for 320 samples in 0.005s...\n",
      "[t-SNE] Computed conditional probabilities for sample 320 / 320\n",
      "[t-SNE] Mean sigma: 0.000000\n",
      "[t-SNE] KL divergence after 250 iterations with early exaggeration: 43.660587\n",
      "[t-SNE] KL divergence after 2000 iterations: -0.407421\n"
     ]
    }
   ],
   "source": [
    "Classify_layer_TSNE = TSNE(2, perplexity = 10, learning_rate=10, verbose=1, n_iter=2000, random_state=2020)\n",
    "Y = Classify_layer_TSNE.fit_transform(Classify_layer_pred)"
   ]
  },
  {
   "cell_type": "code",
   "execution_count": 196,
   "metadata": {},
   "outputs": [
    {
     "data": {
      "image/png": "[encoded data removed]",
      "text/plain": [
       "<Figure size 864x864 with 1 Axes>"
      ]
     },
     "metadata": {
      "needs_background": "light"
     },
     "output_type": "display_data"
    }
   ],
   "source": [
    "fig = plt.figure(figsize=(12, 12))\n",
    "ax = fig.add_subplot()\n",
    "for i in range(0,max(trainset.labels).detach().numpy()+1):\n",
    "    label_index = (trainset_label_array == i)\n",
    "    #color_indx = int(trainset.labels[i].detach().numpy());\n",
    "    ax.scatter(Y[label_index, 0], Y[label_index, 1],color=colors[i])\n",
    "#handles, labels = ax.get_legend_handles_labels()\n",
    "plt.legend(['cycle_graph','star_graph','wheel_graph','lollipop_graph','hypercube_graph','grid_graph','complete_graph','circular_ladder_graph'], loc='best')\n",
    "plt.title('TSNE of Classify Layer Output')\n",
    "plt.show()"
   ]
  },
  {
   "cell_type": "code",
   "execution_count": 16,
   "metadata": {},
   "outputs": [],
   "source": [
    "h = trainset.graphs[235].in_degrees().view(-1, 1).float()"
   ]
  },
  {
   "cell_type": "code",
   "execution_count": 17,
   "metadata": {},
   "outputs": [
    {
     "data": {
      "text/plain": [
       "torch.Size([10, 1])"
      ]
     },
     "execution_count": 17,
     "metadata": {},
     "output_type": "execute_result"
    }
   ],
   "source": [
    "h.shape"
   ]
  },
  {
   "cell_type": "code",
   "execution_count": 18,
   "metadata": {},
   "outputs": [],
   "source": [
    "x = F.relu(model.conv1(trainset.graphs[235], h))"
   ]
  },
  {
   "cell_type": "code",
   "execution_count": 19,
   "metadata": {},
   "outputs": [
    {
     "data": {
      "text/plain": [
       "torch.Size([10, 256])"
      ]
     },
     "execution_count": 19,
     "metadata": {},
     "output_type": "execute_result"
    }
   ],
   "source": [
    "x.shape"
   ]
  },
  {
   "cell_type": "code",
   "execution_count": 30,
   "metadata": {},
   "outputs": [
    {
     "data": {
      "text/plain": [
       "tensor([[0.0000, 0.0207, 0.4733,  ..., 0.4410, 0.0221, 0.0432],\n",
       "        [0.0000, 0.0207, 0.4733,  ..., 0.4410, 0.0221, 0.0432],\n",
       "        [0.0000, 0.0867, 0.5076,  ..., 0.5583, 0.0930, 0.1183],\n",
       "        ...,\n",
       "        [0.0000, 0.0867, 0.5076,  ..., 0.5583, 0.0930, 0.1183],\n",
       "        [0.0000, 0.0207, 0.4733,  ..., 0.4410, 0.0221, 0.0432],\n",
       "        [0.0000, 0.0207, 0.4733,  ..., 0.4410, 0.0221, 0.0432]],\n",
       "       grad_fn=<ReluBackward0>)"
      ]
     },
     "execution_count": 30,
     "metadata": {},
     "output_type": "execute_result"
    }
   ],
   "source": [
    "x"
   ]
  },
  {
   "cell_type": "code",
   "execution_count": 32,
   "metadata": {},
   "outputs": [
    {
     "data": {
      "text/plain": [
       "array([0.        , 0.06282251, 0.49513087, 0.        , 0.        ,\n",
       "       0.        , 0.        , 1.0150828 , 0.720852  , 0.8016842 ,\n",
       "       0.        , 0.        , 0.26686653, 0.        , 0.47322187,\n",
       "       0.        , 0.70951504, 0.32819238, 0.        , 0.        ,\n",
       "       0.7527854 , 0.        , 0.06541852, 0.        , 0.53135145,\n",
       "       0.        , 0.        , 0.        , 0.29378667, 0.6008326 ,\n",
       "       0.        , 0.        , 0.        , 0.        , 0.        ,\n",
       "       0.        , 0.94386685, 0.        , 0.        , 0.        ,\n",
       "       0.74052286, 0.0621765 , 0.11175314, 1.0870229 , 0.        ,\n",
       "       0.06167049, 0.12201588, 0.22321728, 0.        , 0.        ,\n",
       "       0.7086924 , 0.06141835, 0.        , 0.        , 0.08010171,\n",
       "       0.73347795, 0.0596354 , 0.06561718, 0.10714191, 0.06289883,\n",
       "       0.        , 0.47556558, 0.0691704 , 0.0688483 , 0.73222256,\n",
       "       0.7353724 , 0.        , 1.0991019 , 0.        , 0.        ,\n",
       "       0.1701107 , 0.19400367, 0.80919045, 0.        , 0.06278358,\n",
       "       0.        , 0.        , 0.        , 1.0205128 , 0.29326668,\n",
       "       0.        , 0.        , 0.        , 0.06627145, 0.        ,\n",
       "       0.07135149, 0.06613126, 0.7212278 , 0.        , 0.        ,\n",
       "       0.542346  , 0.        , 0.        , 0.        , 0.31746227,\n",
       "       0.06322408, 0.41201758, 0.53811324, 0.7820329 , 0.        ,\n",
       "       0.        , 0.17558125, 0.        , 0.4101408 , 0.85681045,\n",
       "       0.7792554 , 0.        , 0.05980849, 0.        , 0.        ,\n",
       "       0.        , 0.48730263, 0.5773638 , 0.69543076, 0.        ,\n",
       "       0.71394217, 0.        , 0.        , 0.05920528, 0.        ,\n",
       "       0.        , 0.        , 0.06461978, 0.06821495, 0.        ,\n",
       "       0.        , 0.        , 0.        , 0.6903564 , 0.        ,\n",
       "       0.10469326, 0.        , 0.07292707, 0.        , 0.06321773,\n",
       "       0.07559631, 0.        , 0.        , 0.0656976 , 0.05940412,\n",
       "       0.9403143 , 0.        , 0.06508198, 0.7370761 , 0.06419035,\n",
       "       0.0670547 , 0.        , 0.5074863 , 0.        , 0.2074217 ,\n",
       "       0.32057446, 0.41568694, 0.        , 0.06510071, 0.        ,\n",
       "       0.16954467, 0.        , 0.        , 0.        , 0.1717041 ,\n",
       "       0.        , 0.        , 0.24829657, 0.06592816, 0.        ,\n",
       "       0.        , 0.36124158, 0.1687958 , 0.06237091, 0.        ,\n",
       "       0.        , 0.        , 0.06448096, 0.06972297, 0.        ,\n",
       "       0.3983159 , 0.        , 0.        , 0.16159458, 0.        ,\n",
       "       0.06759574, 0.        , 0.21431348, 0.06507236, 0.19437012,\n",
       "       0.14923258, 0.07229261, 0.06844302, 0.        , 0.59260714,\n",
       "       0.08369187, 0.        , 0.06349631, 0.44639158, 0.        ,\n",
       "       0.        , 0.        , 0.38585657, 0.        , 0.2877558 ,\n",
       "       0.        , 0.        , 0.70435697, 0.        , 0.5494281 ,\n",
       "       0.18423107, 0.0563047 , 0.        , 0.06416442, 0.4966585 ,\n",
       "       0.        , 0.        , 0.38857737, 0.        , 0.        ,\n",
       "       0.86282015, 0.15673158, 0.        , 0.        , 0.        ,\n",
       "       0.        , 0.        , 0.3201313 , 0.44480142, 0.17167717,\n",
       "       0.        , 0.        , 0.05461301, 0.05812776, 0.        ,\n",
       "       0.05794499, 0.        , 0.        , 0.61999   , 0.        ,\n",
       "       0.7917452 , 0.06499149, 0.        , 0.        , 0.        ,\n",
       "       0.        , 0.3066469 , 0.        , 0.        , 1.056814  ,\n",
       "       0.11723332, 0.        , 0.5176579 , 0.        , 0.        ,\n",
       "       0.        , 0.06805608, 0.18984482, 0.51580626, 0.06731193,\n",
       "       0.09109928], dtype=float32)"
      ]
     },
     "execution_count": 32,
     "metadata": {},
     "output_type": "execute_result"
    }
   ],
   "source": [
    "np.mean(x.detach().numpy(),0)"
   ]
  },
  {
   "cell_type": "code",
   "execution_count": 104,
   "metadata": {},
   "outputs": [],
   "source": [
    "xtemp.to_csv('convLayerOutput_Graph5.csv')"
   ]
  },
  {
   "cell_type": "code",
   "execution_count": 96,
   "metadata": {},
   "outputs": [
    {
     "data": {
      "text/plain": [
       "tensor([3, 3, 4, 4, 4, 4, 4, 4, 3, 3])"
      ]
     },
     "execution_count": 96,
     "metadata": {},
     "output_type": "execute_result"
    }
   ],
   "source": [
    "trainset.graphs[235].in_degrees()"
   ]
  },
  {
   "cell_type": "code",
   "execution_count": null,
   "metadata": {},
   "outputs": [],
   "source": []
  }
 ],
 "metadata": {
  "kernelspec": {
   "display_name": "Python 3",
   "language": "python",
   "name": "python3"
  },
  "language_info": {
   "codemirror_mode": {
    "name": "ipython",
    "version": 3
   },
   "file_extension": ".py",
   "mimetype": "text/x-python",
   "name": "python",
   "nbconvert_exporter": "python",
   "pygments_lexer": "ipython3",
   "version": "3.7.9"
  }
 },
 "nbformat": 4,
 "nbformat_minor": 2
}
