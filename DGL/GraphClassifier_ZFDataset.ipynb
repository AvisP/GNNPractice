{
 "cells": [
  {
   "cell_type": "markdown",
   "metadata": {},
   "source": [
    "https://github.com/dmlc/dgl/issues/644\n",
    "\n",
    "https://easyupload.io/m/ofmvbi\n",
    "\n",
    "https://github.com/dmlc/dgl/issues/644"
   ]
  },
  {
   "cell_type": "code",
   "execution_count": 1,
   "metadata": {},
   "outputs": [
    {
     "name": "stderr",
     "output_type": "stream",
     "text": [
      "Using backend: pytorch\n"
     ]
    }
   ],
   "source": [
    "import numpy as np\n",
    "import matplotlib.pyplot as plt\n",
    "# %matplotlib inline\n",
    "# from tqdm.autonotebook import tqdm\n",
    "# import tqdm\n",
    "# import umap\n",
    "import pandas as pd\n",
    "import torch\n",
    "import dgl\n",
    "import os"
   ]
  },
  {
   "cell_type": "code",
   "execution_count": 2,
   "metadata": {},
   "outputs": [],
   "source": [
    "syllable_df_Nest1 = pd.read_pickle(r'E:\\ZF_DataSet\\zf_Nest1_noRescale1.pickle')\n",
    "syllable_df_Nest2 = pd.read_pickle(r'E:\\ZF_DataSet\\zf_Nest2_noRescale.pickle')\n",
    "syllable_df_Nest3 = pd.read_pickle(r'E:\\ZF_DataSet\\zf_Nest3_noRescale1.pickle')"
   ]
  },
  {
   "cell_type": "code",
   "execution_count": 4,
   "metadata": {
    "scrolled": true
   },
   "outputs": [],
   "source": [
    "syllable_df_Nest1 = pd.read_pickle(r'E:\\ZF_DataSet\\zf_Nest1_noRescale1.pickle')\n",
    "syllable_df_Nest3 = pd.read_pickle(r'E:\\ZF_DataSet\\zf_Nest3_noRescale1.pickle')"
   ]
  },
  {
   "cell_type": "code",
   "execution_count": 5,
   "metadata": {},
   "outputs": [],
   "source": [
    "# syllable_df_Nest_Total = pd.concat([syllable_df_Nest1, syllable_df_Nest2, syllable_df_Nest3])\n",
    "syllable_df_Nest_Total = pd.concat([syllable_df_Nest1, syllable_df_Nest3])"
   ]
  },
  {
   "cell_type": "code",
   "execution_count": 8,
   "metadata": {},
   "outputs": [],
   "source": [
    "del syllable_df_Nest1,syllable_df_Nest3"
   ]
  },
  {
   "cell_type": "code",
   "execution_count": 9,
   "metadata": {},
   "outputs": [
    {
     "data": {
      "text/html": [
       "<div>\n",
       "<style scoped>\n",
       "    .dataframe tbody tr th:only-of-type {\n",
       "        vertical-align: middle;\n",
       "    }\n",
       "\n",
       "    .dataframe tbody tr th {\n",
       "        vertical-align: top;\n",
       "    }\n",
       "\n",
       "    .dataframe thead th {\n",
       "        text-align: right;\n",
       "    }\n",
       "</style>\n",
       "<table border=\"1\" class=\"dataframe\">\n",
       "  <thead>\n",
       "    <tr style=\"text-align: right;\">\n",
       "      <th></th>\n",
       "      <th>start_time</th>\n",
       "      <th>end_time</th>\n",
       "      <th>labels</th>\n",
       "      <th>indv</th>\n",
       "      <th>indvi</th>\n",
       "      <th>key</th>\n",
       "      <th>audio</th>\n",
       "      <th>rate</th>\n",
       "      <th>spectrogram</th>\n",
       "    </tr>\n",
       "  </thead>\n",
       "  <tbody>\n",
       "    <tr>\n",
       "      <th>0</th>\n",
       "      <td>0.103084</td>\n",
       "      <td>0.133787</td>\n",
       "      <td>-</td>\n",
       "      <td>cyea</td>\n",
       "      <td>1</td>\n",
       "      <td>cyea_0000</td>\n",
       "      <td>[-0.0037507678, -0.0037730576, -0.0033396403, ...</td>\n",
       "      <td>44100</td>\n",
       "      <td>[[0, 0, 0, 0, 0, 0, 0, 0, 0, 0, 0, 0, 0, 0, 0,...</td>\n",
       "    </tr>\n",
       "    <tr>\n",
       "      <th>1</th>\n",
       "      <td>0.197664</td>\n",
       "      <td>0.342063</td>\n",
       "      <td>a</td>\n",
       "      <td>cyea</td>\n",
       "      <td>2</td>\n",
       "      <td>cyea_0000</td>\n",
       "      <td>[-0.0016009295, -0.00080086064, 0.00024397256,...</td>\n",
       "      <td>44100</td>\n",
       "      <td>[[0, 0, 0, 0, 0, 0, 0, 0, 0, 0, 0, 0, 0, 0, 0,...</td>\n",
       "    </tr>\n",
       "    <tr>\n",
       "      <th>2</th>\n",
       "      <td>0.369546</td>\n",
       "      <td>0.536848</td>\n",
       "      <td>b</td>\n",
       "      <td>cyea</td>\n",
       "      <td>3</td>\n",
       "      <td>cyea_0000</td>\n",
       "      <td>[0.0028250518, 0.0025573175, 0.002130959, 0.00...</td>\n",
       "      <td>44100</td>\n",
       "      <td>[[0, 0, 0, 0, 0, 0, 0, 0, 0, 0, 0, 0, 0, 0, 0,...</td>\n",
       "    </tr>\n",
       "    <tr>\n",
       "      <th>3</th>\n",
       "      <td>0.559955</td>\n",
       "      <td>0.687823</td>\n",
       "      <td>c</td>\n",
       "      <td>cyea</td>\n",
       "      <td>4</td>\n",
       "      <td>cyea_0000</td>\n",
       "      <td>[0.00036472746, 0.00013401418, -0.00052369735,...</td>\n",
       "      <td>44100</td>\n",
       "      <td>[[0, 0, 0, 0, 0, 0, 0, 0, 0, 0, 0, 0, 0, 0, 0,...</td>\n",
       "    </tr>\n",
       "    <tr>\n",
       "      <th>4</th>\n",
       "      <td>0.726644</td>\n",
       "      <td>0.832925</td>\n",
       "      <td>d</td>\n",
       "      <td>cyea</td>\n",
       "      <td>5</td>\n",
       "      <td>cyea_0000</td>\n",
       "      <td>[0.0033374317, 0.004109387, 0.003555804, 0.002...</td>\n",
       "      <td>44100</td>\n",
       "      <td>[[0, 0, 0, 0, 0, 0, 0, 0, 0, 0, 0, 0, 0, 0, 0,...</td>\n",
       "    </tr>\n",
       "    <tr>\n",
       "      <th>...</th>\n",
       "      <td>...</td>\n",
       "      <td>...</td>\n",
       "      <td>...</td>\n",
       "      <td>...</td>\n",
       "      <td>...</td>\n",
       "      <td>...</td>\n",
       "      <td>...</td>\n",
       "      <td>...</td>\n",
       "      <td>...</td>\n",
       "    </tr>\n",
       "    <tr>\n",
       "      <th>2336</th>\n",
       "      <td>7.075119</td>\n",
       "      <td>7.226888</td>\n",
       "      <td>0</td>\n",
       "      <td>xsup</td>\n",
       "      <td>43</td>\n",
       "      <td>xsup_0038</td>\n",
       "      <td>[-0.0032940966, -0.0016097012, 0.00020126643, ...</td>\n",
       "      <td>44100</td>\n",
       "      <td>[[0, 0, 0, 0, 0, 0, 0, 0, 0, 0, 0, 0, 0, 0, 0,...</td>\n",
       "    </tr>\n",
       "    <tr>\n",
       "      <th>2337</th>\n",
       "      <td>7.271582</td>\n",
       "      <td>7.393895</td>\n",
       "      <td>0</td>\n",
       "      <td>xsup</td>\n",
       "      <td>44</td>\n",
       "      <td>xsup_0038</td>\n",
       "      <td>[0.001897059, 0.0014919004, 0.00013391365, -0....</td>\n",
       "      <td>44100</td>\n",
       "      <td>[[0, 0, 0, 0, 0, 0, 0, 0, 0, 0, 0, 0, 0, 0, 0,...</td>\n",
       "    </tr>\n",
       "    <tr>\n",
       "      <th>2338</th>\n",
       "      <td>7.438385</td>\n",
       "      <td>7.489428</td>\n",
       "      <td>0</td>\n",
       "      <td>xsup</td>\n",
       "      <td>45</td>\n",
       "      <td>xsup_0038</td>\n",
       "      <td>[-0.0044735107, -0.0024320602, -0.00042925373,...</td>\n",
       "      <td>44100</td>\n",
       "      <td>[[0, 0, 0, 0, 0, 0, 0, 0, 0, 0, 0, 0, 0, 0, 0,...</td>\n",
       "    </tr>\n",
       "    <tr>\n",
       "      <th>2339</th>\n",
       "      <td>7.524416</td>\n",
       "      <td>7.583509</td>\n",
       "      <td>0</td>\n",
       "      <td>xsup</td>\n",
       "      <td>46</td>\n",
       "      <td>xsup_0038</td>\n",
       "      <td>[-0.0012339784, 0.0007764878, 0.0044724033, 0....</td>\n",
       "      <td>44100</td>\n",
       "      <td>[[0, 0, 0, 0, 0, 0, 0, 0, 0, 0, 0, 0, 0, 0, 0,...</td>\n",
       "    </tr>\n",
       "    <tr>\n",
       "      <th>2340</th>\n",
       "      <td>7.610765</td>\n",
       "      <td>7.762149</td>\n",
       "      <td>0</td>\n",
       "      <td>xsup</td>\n",
       "      <td>47</td>\n",
       "      <td>xsup_0038</td>\n",
       "      <td>[-0.00047164847, -0.00017841891, 0.000682751, ...</td>\n",
       "      <td>44100</td>\n",
       "      <td>[[0, 0, 0, 0, 0, 0, 0, 0, 0, 0, 0, 0, 0, 0, 0,...</td>\n",
       "    </tr>\n",
       "  </tbody>\n",
       "</table>\n",
       "<p>5280 rows × 9 columns</p>\n",
       "</div>"
      ],
      "text/plain": [
       "      start_time  end_time labels  indv  indvi        key  \\\n",
       "0       0.103084  0.133787      -  cyea      1  cyea_0000   \n",
       "1       0.197664  0.342063      a  cyea      2  cyea_0000   \n",
       "2       0.369546  0.536848      b  cyea      3  cyea_0000   \n",
       "3       0.559955  0.687823      c  cyea      4  cyea_0000   \n",
       "4       0.726644  0.832925      d  cyea      5  cyea_0000   \n",
       "...          ...       ...    ...   ...    ...        ...   \n",
       "2336    7.075119  7.226888      0  xsup     43  xsup_0038   \n",
       "2337    7.271582  7.393895      0  xsup     44  xsup_0038   \n",
       "2338    7.438385  7.489428      0  xsup     45  xsup_0038   \n",
       "2339    7.524416  7.583509      0  xsup     46  xsup_0038   \n",
       "2340    7.610765  7.762149      0  xsup     47  xsup_0038   \n",
       "\n",
       "                                                  audio   rate  \\\n",
       "0     [-0.0037507678, -0.0037730576, -0.0033396403, ...  44100   \n",
       "1     [-0.0016009295, -0.00080086064, 0.00024397256,...  44100   \n",
       "2     [0.0028250518, 0.0025573175, 0.002130959, 0.00...  44100   \n",
       "3     [0.00036472746, 0.00013401418, -0.00052369735,...  44100   \n",
       "4     [0.0033374317, 0.004109387, 0.003555804, 0.002...  44100   \n",
       "...                                                 ...    ...   \n",
       "2336  [-0.0032940966, -0.0016097012, 0.00020126643, ...  44100   \n",
       "2337  [0.001897059, 0.0014919004, 0.00013391365, -0....  44100   \n",
       "2338  [-0.0044735107, -0.0024320602, -0.00042925373,...  44100   \n",
       "2339  [-0.0012339784, 0.0007764878, 0.0044724033, 0....  44100   \n",
       "2340  [-0.00047164847, -0.00017841891, 0.000682751, ...  44100   \n",
       "\n",
       "                                            spectrogram  \n",
       "0     [[0, 0, 0, 0, 0, 0, 0, 0, 0, 0, 0, 0, 0, 0, 0,...  \n",
       "1     [[0, 0, 0, 0, 0, 0, 0, 0, 0, 0, 0, 0, 0, 0, 0,...  \n",
       "2     [[0, 0, 0, 0, 0, 0, 0, 0, 0, 0, 0, 0, 0, 0, 0,...  \n",
       "3     [[0, 0, 0, 0, 0, 0, 0, 0, 0, 0, 0, 0, 0, 0, 0,...  \n",
       "4     [[0, 0, 0, 0, 0, 0, 0, 0, 0, 0, 0, 0, 0, 0, 0,...  \n",
       "...                                                 ...  \n",
       "2336  [[0, 0, 0, 0, 0, 0, 0, 0, 0, 0, 0, 0, 0, 0, 0,...  \n",
       "2337  [[0, 0, 0, 0, 0, 0, 0, 0, 0, 0, 0, 0, 0, 0, 0,...  \n",
       "2338  [[0, 0, 0, 0, 0, 0, 0, 0, 0, 0, 0, 0, 0, 0, 0,...  \n",
       "2339  [[0, 0, 0, 0, 0, 0, 0, 0, 0, 0, 0, 0, 0, 0, 0,...  \n",
       "2340  [[0, 0, 0, 0, 0, 0, 0, 0, 0, 0, 0, 0, 0, 0, 0,...  \n",
       "\n",
       "[5280 rows x 9 columns]"
      ]
     },
     "execution_count": 9,
     "metadata": {},
     "output_type": "execute_result"
    }
   ],
   "source": [
    "syllable_df_Nest_Total"
   ]
  },
  {
   "cell_type": "code",
   "execution_count": 10,
   "metadata": {},
   "outputs": [],
   "source": [
    "unique_keys = syllable_df_Nest_Total.key.unique()"
   ]
  },
  {
   "cell_type": "code",
   "execution_count": 11,
   "metadata": {},
   "outputs": [
    {
     "data": {
      "text/plain": [
       "array(['cyea_0000', 'cyea_0001', 'cyea_0002', 'cyea_0003', 'cyea_0004',\n",
       "       'cyea_0005', 'cyea_0006', 'cyea_0007', 'cyea_0008', 'cyea_0009',\n",
       "       'cyea_0010', 'cyea_0011', 'cyea_0012', 'cyea_0013', 'cyea_0014',\n",
       "       'cyea_0015', 'cyea_0016', 'cyea_0017', 'cyea_0018', 'cyea_0019',\n",
       "       'cyea_0020', 'cyea_0021', 'cyea_0022', 'cyea_0023', 'cyea_0024',\n",
       "       'cyea_0025', 'cyea_0026', 'cyea_0027', 'cyea_0028', 'cyea_0029',\n",
       "       'cyea_0030', 'cyea_0031', 'cyea_0032', 'cyea_0033', 'cyea_0034',\n",
       "       'cyea_0035', 'cyea_0036', 'cyea_0037', 'cyea_0038', 'cyea_0039',\n",
       "       'cyea_0040', 'hphi_0000', 'hphi_0001', 'hphi_0002', 'hphi_0003',\n",
       "       'hphi_0004', 'hphi_0005', 'hphi_0006', 'hphi_0007', 'hphi_0008',\n",
       "       'hphi_0009', 'hphi_0010', 'hphi_0011', 'hphi_0012', 'hphi_0013',\n",
       "       'hphi_0014', 'hphi_0015', 'hphi_0016', 'hphi_0017', 'hphi_0018',\n",
       "       'hphi_0019', 'hphi_0020', 'hphi_0021', 'hphi_0022', 'hphi_0023',\n",
       "       'hphi_0024', 'hphi_0025', 'hphi_0026', 'hphi_0027', 'hphi_0028',\n",
       "       'hphi_0029', 'hphi_0030', 'hphi_0031', 'hphi_0032', 'hphi_0033',\n",
       "       'hphi_0034', 'hphi_0035', 'hphi_0036', 'hphi_0037', 'hphi_0038',\n",
       "       'hphi_0039', 'hphi_0040', 'hphi_0041', 'hphi_0042', 'hphi_0043',\n",
       "       'ivoj_0000', 'ivoj_0001', 'ivoj_0002', 'ivoj_0003', 'ivoj_0004',\n",
       "       'ivoj_0005', 'ivoj_0006', 'phpd_0000', 'phpd_0001', 'phpd_0002',\n",
       "       'phpd_0003', 'phpd_0004', 'phpd_0005', 'phpd_0006', 'phpd_0007',\n",
       "       'phpd_0008', 'phpd_0009', 'phpd_0010', 'phpd_0011', 'phpd_0012',\n",
       "       'phpd_0013', 'phpd_0014', 'phpd_0015', 'phpd_0016', 'phpd_0017',\n",
       "       'phpd_0018', 'phpd_0019', 'phpd_0020', 'phpd_0021', 'phpd_0022',\n",
       "       'phpd_0023', 'phpd_0024', 'phpd_0025', 'phpd_0026', 'phpd_0027',\n",
       "       'phpd_0028', 'phpd_0029', 'phpd_0030', 'phpd_0031', 'phpd_0032',\n",
       "       'phpd_0033', 'phpd_0034', 'phpd_0035', 'phpd_0036', 'phpd_0037',\n",
       "       'phpd_0038', 'phpd_0039', 'phpd_0040', 'phpd_0041', 'phpd_0042',\n",
       "       'phpd_0043', 'phpd_0044', 'phpd_0045', 'phpd_0046', 'phpd_0047',\n",
       "       'phpd_0048', 'phpd_0049', 'phpd_0050', 'phpd_0051', 'phpd_0052',\n",
       "       'phpd_0053', 'phpd_0054', 'phpd_0055', 'phpd_0056', 'phpd_0057',\n",
       "       'phpd_0058', 'phpd_0059', 'phpd_0060', 'phpd_0061', 'phpd_0062',\n",
       "       'khxv_0000', 'khxv_0001', 'khxv_0002', 'khxv_0003', 'khxv_0004',\n",
       "       'khxv_0005', 'khxv_0006', 'khxv_0007', 'khxv_0008', 'khxv_0009',\n",
       "       'khxv_0010', 'khxv_0011', 'khxv_0012', 'khxv_0013', 'khxv_0014',\n",
       "       'khxv_0015', 'khxv_0016', 'khxv_0017', 'khxv_0018', 'khxv_0019',\n",
       "       'khxv_0020', 'khxv_0021', 'khxv_0022', 'khxv_0023', 'khxv_0024',\n",
       "       'khxv_0025', 'khxv_0026', 'khxv_0027', 'khxv_0028', 'khxv_0029',\n",
       "       'khxv_0030', 'khxv_0031', 'khxv_0032', 'khxv_0033', 'khxv_0034',\n",
       "       'khxv_0035', 'khxv_0036', 'khxv_0037', 'khxv_0038', 'khxv_0039',\n",
       "       'khxv_0040', 'khxv_0041', 'khxv_0042', 'khxv_0043', 'khxv_0044',\n",
       "       'khxv_0045', 'khxv_0046', 'khxv_0047', 'oogw_0000', 'oogw_0001',\n",
       "       'oogw_0002', 'oogw_0003', 'oogw_0004', 'oogw_0005', 'oogw_0006',\n",
       "       'oogw_0007', 'oogw_0008', 'oogw_0009', 'oogw_0010', 'oogw_0011',\n",
       "       'oogw_0012', 'oogw_0013', 'oogw_0014', 'oogw_0015', 'oogw_0016',\n",
       "       'oogw_0017', 'oogw_0018', 'oogw_0019', 'oogw_0020', 'oogw_0021',\n",
       "       'oogw_0022', 'oogw_0023', 'oogw_0024', 'oogw_0025', 'oogw_0026',\n",
       "       'oogw_0027', 'oogw_0028', 'oogw_0029', 'oogw_0030', 'oogw_0031',\n",
       "       'oogw_0032', 'oogw_0033', 'oogw_0034', 'oogw_0035', 'xsup_0000',\n",
       "       'xsup_0001', 'xsup_0002', 'xsup_0003', 'xsup_0004', 'xsup_0005',\n",
       "       'xsup_0006', 'xsup_0007', 'xsup_0008', 'xsup_0009', 'xsup_0010',\n",
       "       'xsup_0011', 'xsup_0012', 'xsup_0013', 'xsup_0014', 'xsup_0015',\n",
       "       'xsup_0016', 'xsup_0017', 'xsup_0018', 'xsup_0019', 'xsup_0020',\n",
       "       'xsup_0021', 'xsup_0022', 'xsup_0023', 'xsup_0024', 'xsup_0025',\n",
       "       'xsup_0026', 'xsup_0027', 'xsup_0028', 'xsup_0029', 'xsup_0030',\n",
       "       'xsup_0031', 'xsup_0032', 'xsup_0033', 'xsup_0034', 'xsup_0035',\n",
       "       'xsup_0036', 'xsup_0037', 'xsup_0038'], dtype=object)"
      ]
     },
     "execution_count": 11,
     "metadata": {},
     "output_type": "execute_result"
    }
   ],
   "source": [
    "unique_keys"
   ]
  },
  {
   "cell_type": "code",
   "execution_count": 12,
   "metadata": {},
   "outputs": [
    {
     "data": {
      "text/plain": [
       "(278,)"
      ]
     },
     "execution_count": 12,
     "metadata": {},
     "output_type": "execute_result"
    }
   ],
   "source": [
    "unique_keys.shape"
   ]
  },
  {
   "cell_type": "code",
   "execution_count": 11,
   "metadata": {},
   "outputs": [],
   "source": [
    "syllable_df_Nest_Total.reset_index(drop=True, inplace=True)"
   ]
  },
  {
   "cell_type": "code",
   "execution_count": 12,
   "metadata": {},
   "outputs": [
    {
     "data": {
      "text/html": [
       "<div>\n",
       "<style scoped>\n",
       "    .dataframe tbody tr th:only-of-type {\n",
       "        vertical-align: middle;\n",
       "    }\n",
       "\n",
       "    .dataframe tbody tr th {\n",
       "        vertical-align: top;\n",
       "    }\n",
       "\n",
       "    .dataframe thead th {\n",
       "        text-align: right;\n",
       "    }\n",
       "</style>\n",
       "<table border=\"1\" class=\"dataframe\">\n",
       "  <thead>\n",
       "    <tr style=\"text-align: right;\">\n",
       "      <th></th>\n",
       "      <th>start_time</th>\n",
       "      <th>end_time</th>\n",
       "      <th>labels</th>\n",
       "      <th>indv</th>\n",
       "      <th>indvi</th>\n",
       "      <th>key</th>\n",
       "      <th>audio</th>\n",
       "      <th>rate</th>\n",
       "      <th>spectrogram</th>\n",
       "    </tr>\n",
       "  </thead>\n",
       "  <tbody>\n",
       "    <tr>\n",
       "      <th>0</th>\n",
       "      <td>0.103084</td>\n",
       "      <td>0.133787</td>\n",
       "      <td>-</td>\n",
       "      <td>cyea</td>\n",
       "      <td>1</td>\n",
       "      <td>cyea_0000</td>\n",
       "      <td>[-0.0037507678, -0.0037730576, -0.0033396403, ...</td>\n",
       "      <td>44100</td>\n",
       "      <td>[[0, 0, 0, 0, 0, 0, 0, 0, 0, 0, 0, 0, 0, 0, 0,...</td>\n",
       "    </tr>\n",
       "    <tr>\n",
       "      <th>1</th>\n",
       "      <td>0.197664</td>\n",
       "      <td>0.342063</td>\n",
       "      <td>a</td>\n",
       "      <td>cyea</td>\n",
       "      <td>2</td>\n",
       "      <td>cyea_0000</td>\n",
       "      <td>[-0.0016009295, -0.00080086064, 0.00024397256,...</td>\n",
       "      <td>44100</td>\n",
       "      <td>[[0, 0, 0, 0, 0, 0, 0, 0, 0, 0, 0, 0, 0, 0, 0,...</td>\n",
       "    </tr>\n",
       "    <tr>\n",
       "      <th>2</th>\n",
       "      <td>0.369546</td>\n",
       "      <td>0.536848</td>\n",
       "      <td>b</td>\n",
       "      <td>cyea</td>\n",
       "      <td>3</td>\n",
       "      <td>cyea_0000</td>\n",
       "      <td>[0.0028250518, 0.0025573175, 0.002130959, 0.00...</td>\n",
       "      <td>44100</td>\n",
       "      <td>[[0, 0, 0, 0, 0, 0, 0, 0, 0, 0, 0, 0, 0, 0, 0,...</td>\n",
       "    </tr>\n",
       "    <tr>\n",
       "      <th>3</th>\n",
       "      <td>0.559955</td>\n",
       "      <td>0.687823</td>\n",
       "      <td>c</td>\n",
       "      <td>cyea</td>\n",
       "      <td>4</td>\n",
       "      <td>cyea_0000</td>\n",
       "      <td>[0.00036472746, 0.00013401418, -0.00052369735,...</td>\n",
       "      <td>44100</td>\n",
       "      <td>[[0, 0, 0, 0, 0, 0, 0, 0, 0, 0, 0, 0, 0, 0, 0,...</td>\n",
       "    </tr>\n",
       "    <tr>\n",
       "      <th>4</th>\n",
       "      <td>0.726644</td>\n",
       "      <td>0.832925</td>\n",
       "      <td>d</td>\n",
       "      <td>cyea</td>\n",
       "      <td>5</td>\n",
       "      <td>cyea_0000</td>\n",
       "      <td>[0.0033374317, 0.004109387, 0.003555804, 0.002...</td>\n",
       "      <td>44100</td>\n",
       "      <td>[[0, 0, 0, 0, 0, 0, 0, 0, 0, 0, 0, 0, 0, 0, 0,...</td>\n",
       "    </tr>\n",
       "    <tr>\n",
       "      <th>...</th>\n",
       "      <td>...</td>\n",
       "      <td>...</td>\n",
       "      <td>...</td>\n",
       "      <td>...</td>\n",
       "      <td>...</td>\n",
       "      <td>...</td>\n",
       "      <td>...</td>\n",
       "      <td>...</td>\n",
       "      <td>...</td>\n",
       "    </tr>\n",
       "    <tr>\n",
       "      <th>6531</th>\n",
       "      <td>3.418322</td>\n",
       "      <td>3.531202</td>\n",
       "      <td>x</td>\n",
       "      <td>qfod</td>\n",
       "      <td>25</td>\n",
       "      <td>qfod_0020</td>\n",
       "      <td>[0.001607974, 0.0014466287, 0.0013839657, 0.00...</td>\n",
       "      <td>44100</td>\n",
       "      <td>[[0, 0, 0, 0, 0, 0, 0, 0, 0, 0, 0, 0, 0, 0, 0,...</td>\n",
       "    </tr>\n",
       "    <tr>\n",
       "      <th>6532</th>\n",
       "      <td>3.547302</td>\n",
       "      <td>3.618005</td>\n",
       "      <td>a</td>\n",
       "      <td>qfod</td>\n",
       "      <td>26</td>\n",
       "      <td>qfod_0020</td>\n",
       "      <td>[0.0031453993, 0.0033043711, 0.0031612804, 0.0...</td>\n",
       "      <td>44100</td>\n",
       "      <td>[[0, 0, 0, 0, 0, 0, 0, 0, 0, 0, 0, 0, 0, 0, 0,...</td>\n",
       "    </tr>\n",
       "    <tr>\n",
       "      <th>6533</th>\n",
       "      <td>3.640884</td>\n",
       "      <td>3.760068</td>\n",
       "      <td>b</td>\n",
       "      <td>qfod</td>\n",
       "      <td>27</td>\n",
       "      <td>qfod_0020</td>\n",
       "      <td>[-0.00044836118, -0.00051836553, -0.0005220862...</td>\n",
       "      <td>44100</td>\n",
       "      <td>[[0, 0, 0, 0, 0, 0, 0, 0, 0, 0, 0, 0, 0, 0, 0,...</td>\n",
       "    </tr>\n",
       "    <tr>\n",
       "      <th>6534</th>\n",
       "      <td>3.802132</td>\n",
       "      <td>3.856871</td>\n",
       "      <td>c</td>\n",
       "      <td>qfod</td>\n",
       "      <td>28</td>\n",
       "      <td>qfod_0020</td>\n",
       "      <td>[-0.0010881362, -0.00035361922, 9.417791e-06, ...</td>\n",
       "      <td>44100</td>\n",
       "      <td>[[0, 0, 0, 0, 0, 0, 0, 0, 0, 0, 0, 0, 0, 0, 0,...</td>\n",
       "    </tr>\n",
       "    <tr>\n",
       "      <th>6535</th>\n",
       "      <td>3.897551</td>\n",
       "      <td>4.070816</td>\n",
       "      <td>0</td>\n",
       "      <td>qfod</td>\n",
       "      <td>29</td>\n",
       "      <td>qfod_0020</td>\n",
       "      <td>[-0.0008240709, -0.0008595158, -0.0008577384, ...</td>\n",
       "      <td>44100</td>\n",
       "      <td>[[0, 0, 0, 0, 0, 0, 0, 0, 0, 0, 0, 0, 0, 0, 0,...</td>\n",
       "    </tr>\n",
       "  </tbody>\n",
       "</table>\n",
       "<p>6536 rows × 9 columns</p>\n",
       "</div>"
      ],
      "text/plain": [
       "      start_time  end_time labels  indv  indvi        key  \\\n",
       "0       0.103084  0.133787      -  cyea      1  cyea_0000   \n",
       "1       0.197664  0.342063      a  cyea      2  cyea_0000   \n",
       "2       0.369546  0.536848      b  cyea      3  cyea_0000   \n",
       "3       0.559955  0.687823      c  cyea      4  cyea_0000   \n",
       "4       0.726644  0.832925      d  cyea      5  cyea_0000   \n",
       "...          ...       ...    ...   ...    ...        ...   \n",
       "6531    3.418322  3.531202      x  qfod     25  qfod_0020   \n",
       "6532    3.547302  3.618005      a  qfod     26  qfod_0020   \n",
       "6533    3.640884  3.760068      b  qfod     27  qfod_0020   \n",
       "6534    3.802132  3.856871      c  qfod     28  qfod_0020   \n",
       "6535    3.897551  4.070816      0  qfod     29  qfod_0020   \n",
       "\n",
       "                                                  audio   rate  \\\n",
       "0     [-0.0037507678, -0.0037730576, -0.0033396403, ...  44100   \n",
       "1     [-0.0016009295, -0.00080086064, 0.00024397256,...  44100   \n",
       "2     [0.0028250518, 0.0025573175, 0.002130959, 0.00...  44100   \n",
       "3     [0.00036472746, 0.00013401418, -0.00052369735,...  44100   \n",
       "4     [0.0033374317, 0.004109387, 0.003555804, 0.002...  44100   \n",
       "...                                                 ...    ...   \n",
       "6531  [0.001607974, 0.0014466287, 0.0013839657, 0.00...  44100   \n",
       "6532  [0.0031453993, 0.0033043711, 0.0031612804, 0.0...  44100   \n",
       "6533  [-0.00044836118, -0.00051836553, -0.0005220862...  44100   \n",
       "6534  [-0.0010881362, -0.00035361922, 9.417791e-06, ...  44100   \n",
       "6535  [-0.0008240709, -0.0008595158, -0.0008577384, ...  44100   \n",
       "\n",
       "                                            spectrogram  \n",
       "0     [[0, 0, 0, 0, 0, 0, 0, 0, 0, 0, 0, 0, 0, 0, 0,...  \n",
       "1     [[0, 0, 0, 0, 0, 0, 0, 0, 0, 0, 0, 0, 0, 0, 0,...  \n",
       "2     [[0, 0, 0, 0, 0, 0, 0, 0, 0, 0, 0, 0, 0, 0, 0,...  \n",
       "3     [[0, 0, 0, 0, 0, 0, 0, 0, 0, 0, 0, 0, 0, 0, 0,...  \n",
       "4     [[0, 0, 0, 0, 0, 0, 0, 0, 0, 0, 0, 0, 0, 0, 0,...  \n",
       "...                                                 ...  \n",
       "6531  [[0, 0, 0, 0, 0, 0, 0, 0, 0, 0, 0, 0, 0, 0, 0,...  \n",
       "6532  [[0, 0, 0, 0, 0, 0, 0, 0, 0, 0, 0, 0, 0, 0, 0,...  \n",
       "6533  [[0, 0, 0, 0, 0, 0, 0, 0, 0, 0, 0, 0, 0, 0, 0,...  \n",
       "6534  [[0, 0, 0, 0, 0, 0, 0, 0, 0, 0, 0, 0, 0, 0, 0,...  \n",
       "6535  [[0, 0, 0, 0, 0, 0, 0, 0, 0, 0, 0, 0, 0, 0, 0,...  \n",
       "\n",
       "[6536 rows x 9 columns]"
      ]
     },
     "execution_count": 12,
     "metadata": {},
     "output_type": "execute_result"
    }
   ],
   "source": [
    "syllable_df_Nest_Total"
   ]
  },
  {
   "cell_type": "code",
   "execution_count": 17,
   "metadata": {},
   "outputs": [],
   "source": [
    "current_songfile = syllable_df_Nest_Total.loc[syllable_df_Nest_Total['key']==unique_keys[1]]"
   ]
  },
  {
   "cell_type": "code",
   "execution_count": 18,
   "metadata": {},
   "outputs": [
    {
     "data": {
      "text/html": [
       "<div>\n",
       "<style scoped>\n",
       "    .dataframe tbody tr th:only-of-type {\n",
       "        vertical-align: middle;\n",
       "    }\n",
       "\n",
       "    .dataframe tbody tr th {\n",
       "        vertical-align: top;\n",
       "    }\n",
       "\n",
       "    .dataframe thead th {\n",
       "        text-align: right;\n",
       "    }\n",
       "</style>\n",
       "<table border=\"1\" class=\"dataframe\">\n",
       "  <thead>\n",
       "    <tr style=\"text-align: right;\">\n",
       "      <th></th>\n",
       "      <th>start_time</th>\n",
       "      <th>end_time</th>\n",
       "      <th>labels</th>\n",
       "      <th>indv</th>\n",
       "      <th>indvi</th>\n",
       "      <th>key</th>\n",
       "      <th>audio</th>\n",
       "      <th>rate</th>\n",
       "      <th>spectrogram</th>\n",
       "    </tr>\n",
       "  </thead>\n",
       "  <tbody>\n",
       "    <tr>\n",
       "      <th>8</th>\n",
       "      <td>0.117506</td>\n",
       "      <td>0.152993</td>\n",
       "      <td>0</td>\n",
       "      <td>cyea</td>\n",
       "      <td>1</td>\n",
       "      <td>cyea_0001</td>\n",
       "      <td>[-0.00037137, 4.7047957e-05, 0.0002565287, 0.0...</td>\n",
       "      <td>44100</td>\n",
       "      <td>[[0, 0, 0, 0, 0, 0, 0, 0, 0, 0, 0, 0, 0, 0, 0,...</td>\n",
       "    </tr>\n",
       "    <tr>\n",
       "      <th>9</th>\n",
       "      <td>0.192630</td>\n",
       "      <td>0.332857</td>\n",
       "      <td>a</td>\n",
       "      <td>cyea</td>\n",
       "      <td>2</td>\n",
       "      <td>cyea_0001</td>\n",
       "      <td>[0.0011349955, 0.0020628849, 0.0023775643, 0.0...</td>\n",
       "      <td>44100</td>\n",
       "      <td>[[0, 0, 0, 0, 0, 0, 0, 0, 0, 0, 0, 0, 0, 0, 0,...</td>\n",
       "    </tr>\n",
       "    <tr>\n",
       "      <th>10</th>\n",
       "      <td>0.361950</td>\n",
       "      <td>0.535261</td>\n",
       "      <td>b</td>\n",
       "      <td>cyea</td>\n",
       "      <td>3</td>\n",
       "      <td>cyea_0001</td>\n",
       "      <td>[-0.0034360948, -0.003357369, -0.0035251137, -...</td>\n",
       "      <td>44100</td>\n",
       "      <td>[[0, 0, 0, 0, 0, 0, 0, 0, 0, 0, 0, 0, 0, 0, 0,...</td>\n",
       "    </tr>\n",
       "    <tr>\n",
       "      <th>11</th>\n",
       "      <td>0.552766</td>\n",
       "      <td>0.681565</td>\n",
       "      <td>c</td>\n",
       "      <td>cyea</td>\n",
       "      <td>4</td>\n",
       "      <td>cyea_0001</td>\n",
       "      <td>[0.0014408395, 0.002870692, 0.0026942156, 0.00...</td>\n",
       "      <td>44100</td>\n",
       "      <td>[[0, 0, 0, 0, 0, 0, 0, 0, 0, 0, 0, 0, 0, 0, 0,...</td>\n",
       "    </tr>\n",
       "    <tr>\n",
       "      <th>12</th>\n",
       "      <td>0.719977</td>\n",
       "      <td>0.825397</td>\n",
       "      <td>d</td>\n",
       "      <td>cyea</td>\n",
       "      <td>5</td>\n",
       "      <td>cyea_0001</td>\n",
       "      <td>[-0.0016020363, -9.5485055e-05, 0.0011669077, ...</td>\n",
       "      <td>44100</td>\n",
       "      <td>[[0, 0, 0, 0, 0, 0, 0, 0, 0, 0, 0, 0, 0, 0, 0,...</td>\n",
       "    </tr>\n",
       "    <tr>\n",
       "      <th>13</th>\n",
       "      <td>0.879093</td>\n",
       "      <td>0.941859</td>\n",
       "      <td>e</td>\n",
       "      <td>cyea</td>\n",
       "      <td>6</td>\n",
       "      <td>cyea_0001</td>\n",
       "      <td>[0.0028592453, 0.0038831835, 0.0046247137, 0.0...</td>\n",
       "      <td>44100</td>\n",
       "      <td>[[0, 0, 0, 0, 0, 0, 0, 0, 0, 0, 0, 0, 0, 0, 0,...</td>\n",
       "    </tr>\n",
       "    <tr>\n",
       "      <th>14</th>\n",
       "      <td>0.970363</td>\n",
       "      <td>1.142404</td>\n",
       "      <td>b</td>\n",
       "      <td>cyea</td>\n",
       "      <td>7</td>\n",
       "      <td>cyea_0001</td>\n",
       "      <td>[-0.001890278, -0.0015421592, -0.0014457257, -...</td>\n",
       "      <td>44100</td>\n",
       "      <td>[[0, 0, 0, 0, 0, 0, 0, 0, 0, 0, 0, 0, 0, 0, 0,...</td>\n",
       "    </tr>\n",
       "    <tr>\n",
       "      <th>15</th>\n",
       "      <td>1.164490</td>\n",
       "      <td>1.293039</td>\n",
       "      <td>c</td>\n",
       "      <td>cyea</td>\n",
       "      <td>8</td>\n",
       "      <td>cyea_0001</td>\n",
       "      <td>[-1.8841472e-05, -0.0013359456, -0.0010901309,...</td>\n",
       "      <td>44100</td>\n",
       "      <td>[[0, 0, 0, 0, 0, 0, 0, 0, 0, 0, 0, 0, 0, 0, 0,...</td>\n",
       "    </tr>\n",
       "  </tbody>\n",
       "</table>\n",
       "</div>"
      ],
      "text/plain": [
       "    start_time  end_time labels  indv  indvi        key  \\\n",
       "8     0.117506  0.152993      0  cyea      1  cyea_0001   \n",
       "9     0.192630  0.332857      a  cyea      2  cyea_0001   \n",
       "10    0.361950  0.535261      b  cyea      3  cyea_0001   \n",
       "11    0.552766  0.681565      c  cyea      4  cyea_0001   \n",
       "12    0.719977  0.825397      d  cyea      5  cyea_0001   \n",
       "13    0.879093  0.941859      e  cyea      6  cyea_0001   \n",
       "14    0.970363  1.142404      b  cyea      7  cyea_0001   \n",
       "15    1.164490  1.293039      c  cyea      8  cyea_0001   \n",
       "\n",
       "                                                audio   rate  \\\n",
       "8   [-0.00037137, 4.7047957e-05, 0.0002565287, 0.0...  44100   \n",
       "9   [0.0011349955, 0.0020628849, 0.0023775643, 0.0...  44100   \n",
       "10  [-0.0034360948, -0.003357369, -0.0035251137, -...  44100   \n",
       "11  [0.0014408395, 0.002870692, 0.0026942156, 0.00...  44100   \n",
       "12  [-0.0016020363, -9.5485055e-05, 0.0011669077, ...  44100   \n",
       "13  [0.0028592453, 0.0038831835, 0.0046247137, 0.0...  44100   \n",
       "14  [-0.001890278, -0.0015421592, -0.0014457257, -...  44100   \n",
       "15  [-1.8841472e-05, -0.0013359456, -0.0010901309,...  44100   \n",
       "\n",
       "                                          spectrogram  \n",
       "8   [[0, 0, 0, 0, 0, 0, 0, 0, 0, 0, 0, 0, 0, 0, 0,...  \n",
       "9   [[0, 0, 0, 0, 0, 0, 0, 0, 0, 0, 0, 0, 0, 0, 0,...  \n",
       "10  [[0, 0, 0, 0, 0, 0, 0, 0, 0, 0, 0, 0, 0, 0, 0,...  \n",
       "11  [[0, 0, 0, 0, 0, 0, 0, 0, 0, 0, 0, 0, 0, 0, 0,...  \n",
       "12  [[0, 0, 0, 0, 0, 0, 0, 0, 0, 0, 0, 0, 0, 0, 0,...  \n",
       "13  [[0, 0, 0, 0, 0, 0, 0, 0, 0, 0, 0, 0, 0, 0, 0,...  \n",
       "14  [[0, 0, 0, 0, 0, 0, 0, 0, 0, 0, 0, 0, 0, 0, 0,...  \n",
       "15  [[0, 0, 0, 0, 0, 0, 0, 0, 0, 0, 0, 0, 0, 0, 0,...  "
      ]
     },
     "execution_count": 18,
     "metadata": {},
     "output_type": "execute_result"
    }
   ],
   "source": [
    "current_songfile"
   ]
  },
  {
   "cell_type": "code",
   "execution_count": 32,
   "metadata": {},
   "outputs": [
    {
     "data": {
      "text/plain": [
       "(8, 9)"
      ]
     },
     "execution_count": 32,
     "metadata": {},
     "output_type": "execute_result"
    }
   ],
   "source": [
    "current_songfile.shape"
   ]
  },
  {
   "cell_type": "code",
   "execution_count": 95,
   "metadata": {},
   "outputs": [],
   "source": [
    "# temporary_node_number = torch.linspace(0,current_songfile.shape[0]-1,current_songfile.shape[0], dtype=int)"
   ]
  },
  {
   "cell_type": "code",
   "execution_count": 96,
   "metadata": {},
   "outputs": [
    {
     "data": {
      "text/plain": [
       "tensor([0, 1, 2, 3, 4, 5, 6, 7])"
      ]
     },
     "execution_count": 96,
     "metadata": {},
     "output_type": "execute_result"
    }
   ],
   "source": [
    "# temporary_node_number"
   ]
  },
  {
   "cell_type": "code",
   "execution_count": 98,
   "metadata": {},
   "outputs": [],
   "source": [
    "# g1 = dgl.graph((temporary_node_number[:-1],temporary_node_number[1:]))"
   ]
  },
  {
   "cell_type": "code",
   "execution_count": 99,
   "metadata": {},
   "outputs": [
    {
     "data": {
      "text/plain": [
       "tensor([0, 1, 2, 3, 4, 5, 6])"
      ]
     },
     "execution_count": 99,
     "metadata": {},
     "output_type": "execute_result"
    }
   ],
   "source": [
    "# temporary_node_number[:-1]"
   ]
  },
  {
   "cell_type": "code",
   "execution_count": 100,
   "metadata": {},
   "outputs": [
    {
     "data": {
      "text/plain": [
       "tensor([1, 2, 3, 4, 5, 6, 7])"
      ]
     },
     "execution_count": 100,
     "metadata": {},
     "output_type": "execute_result"
    }
   ],
   "source": [
    "# temporary_node_number[1:]"
   ]
  },
  {
   "cell_type": "code",
   "execution_count": 53,
   "metadata": {},
   "outputs": [
    {
     "data": {
      "text/plain": [
       "array([[0, 0, 0, ..., 0, 0, 0],\n",
       "       [0, 0, 0, ..., 0, 0, 0],\n",
       "       [0, 0, 0, ..., 0, 0, 0],\n",
       "       ...,\n",
       "       [0, 0, 0, ..., 0, 0, 0],\n",
       "       [0, 0, 0, ..., 0, 0, 0],\n",
       "       [0, 0, 0, ..., 0, 0, 0]], dtype=uint8)"
      ]
     },
     "execution_count": 53,
     "metadata": {},
     "output_type": "execute_result"
    }
   ],
   "source": [
    "# current_songfile['spectrogram'].values[0]"
   ]
  },
  {
   "cell_type": "code",
   "execution_count": 56,
   "metadata": {},
   "outputs": [
    {
     "data": {
      "text/plain": [
       "tensor([[0., 0., 0.,  ..., 0., 0., 0.],\n",
       "        [0., 0., 0.,  ..., 0., 0., 0.],\n",
       "        [0., 0., 0.,  ..., 0., 0., 0.],\n",
       "        ...,\n",
       "        [0., 0., 0.,  ..., 0., 0., 0.],\n",
       "        [0., 0., 0.,  ..., 0., 0., 0.],\n",
       "        [0., 0., 0.,  ..., 0., 0., 0.]])"
      ]
     },
     "execution_count": 56,
     "metadata": {},
     "output_type": "execute_result"
    }
   ],
   "source": [
    "# torch.Tensor(current_songfile['spectrogram'].values[0])"
   ]
  },
  {
   "cell_type": "code",
   "execution_count": 101,
   "metadata": {},
   "outputs": [],
   "source": [
    "# current_songfile_node_features = []\n",
    "# for spec in current_songfile['spectrogram'].values:\n",
    "#     current_songfile_node_features.append((spec.flatten()))"
   ]
  },
  {
   "cell_type": "code",
   "execution_count": 102,
   "metadata": {},
   "outputs": [
    {
     "data": {
      "text/plain": [
       "tensor([[0, 0, 0,  ..., 0, 0, 0],\n",
       "        [0, 0, 0,  ..., 0, 0, 0],\n",
       "        [0, 0, 0,  ..., 0, 0, 0],\n",
       "        ...,\n",
       "        [0, 0, 0,  ..., 0, 0, 0],\n",
       "        [0, 0, 0,  ..., 0, 0, 0],\n",
       "        [0, 0, 0,  ..., 0, 0, 0]], dtype=torch.uint8)"
      ]
     },
     "execution_count": 102,
     "metadata": {},
     "output_type": "execute_result"
    }
   ],
   "source": [
    "# torch.tensor(current_songfile_node_features)"
   ]
  },
  {
   "cell_type": "code",
   "execution_count": 103,
   "metadata": {},
   "outputs": [
    {
     "data": {
      "text/plain": [
       "torch.Size([8, 277504])"
      ]
     },
     "execution_count": 103,
     "metadata": {},
     "output_type": "execute_result"
    }
   ],
   "source": [
    "# torch.tensor(current_songfile_node_features).shape"
   ]
  },
  {
   "cell_type": "code",
   "execution_count": 86,
   "metadata": {},
   "outputs": [
    {
     "data": {
      "text/plain": [
       "<bound method DGLHeteroGraph.number_of_nodes of Graph(num_nodes=9, num_edges=8,\n",
       "      ndata_schemes={'h': Scheme(shape=(5,), dtype=torch.float32)}\n",
       "      edata_schemes={})>"
      ]
     },
     "execution_count": 86,
     "metadata": {},
     "output_type": "execute_result"
    }
   ],
   "source": [
    "# g1.number_of_nodes"
   ]
  },
  {
   "cell_type": "code",
   "execution_count": 104,
   "metadata": {},
   "outputs": [],
   "source": [
    "# g1.ndata['h']=torch.tensor(current_songfile_node_features)"
   ]
  },
  {
   "cell_type": "code",
   "execution_count": 13,
   "metadata": {},
   "outputs": [],
   "source": [
    "def create_graph_label(given_key):\n",
    "#     current_songfile = syllable_df_Nest1.loc[syllable_df_Nest1['key']==unique_keys[i]]\n",
    "    current_songfile = syllable_df_Nest_Total.loc[syllable_df_Nest_Total['key']==given_key]\n",
    "    temporary_node_number = torch.linspace(0,current_songfile.shape[0]-1,current_songfile.shape[0], dtype=int)\n",
    "    current_graph = dgl.graph((temporary_node_number[:-1],temporary_node_number[1:]))\n",
    "    current_songfile_node_features = []\n",
    "    for spec in current_songfile['spectrogram'].values:\n",
    "        current_songfile_node_features.append((spec.flatten()))\n",
    "    current_graph.ndata['h']=torch.tensor(current_songfile_node_features, dtype=torch.double)\n",
    "    graph_label = syllable_df_Nest_Total.loc[syllable_df_Nest_Total['key']==given_key]['indv'].values[0]\n",
    "    return current_graph, graph_label"
   ]
  },
  {
   "cell_type": "code",
   "execution_count": 17,
   "metadata": {},
   "outputs": [],
   "source": [
    "# g1,l1 = create_graph(1)\n",
    "# g2,l2 = create_graph(2)"
   ]
  },
  {
   "cell_type": "code",
   "execution_count": 119,
   "metadata": {},
   "outputs": [
    {
     "data": {
      "text/plain": [
       "Graph(num_nodes=8, num_edges=7,\n",
       "      ndata_schemes={'h': Scheme(shape=(277504,), dtype=torch.uint8)}\n",
       "      edata_schemes={})"
      ]
     },
     "execution_count": 119,
     "metadata": {},
     "output_type": "execute_result"
    }
   ],
   "source": [
    "# g2"
   ]
  },
  {
   "cell_type": "code",
   "execution_count": 120,
   "metadata": {},
   "outputs": [
    {
     "data": {
      "text/plain": [
       "'cyea'"
      ]
     },
     "execution_count": 120,
     "metadata": {},
     "output_type": "execute_result"
    }
   ],
   "source": [
    "# l2"
   ]
  },
  {
   "cell_type": "code",
   "execution_count": 18,
   "metadata": {},
   "outputs": [
    {
     "data": {
      "text/plain": [
       "tensor([[0., 0., 0.,  ..., 0., 0., 0.],\n",
       "        [0., 0., 0.,  ..., 0., 0., 0.]], dtype=torch.float64)"
      ]
     },
     "execution_count": 18,
     "metadata": {},
     "output_type": "execute_result"
    }
   ],
   "source": [
    "# Graph_Total = []\n",
    "# Graph_Total.append(g1)\n",
    "# Graph_Total.append(g2)\n",
    "# bg = dgl.batch(Graph_Total)\n",
    "# dgl.readout_nodes(bg, 'h')  #Chnage dtype to float # https://docs.dgl.ai/en/latest/guide/training-graph.html"
   ]
  },
  {
   "cell_type": "code",
   "execution_count": 122,
   "metadata": {},
   "outputs": [
    {
     "data": {
      "text/plain": [
       "Graph(num_nodes=16, num_edges=14,\n",
       "      ndata_schemes={'h': Scheme(shape=(277504,), dtype=torch.uint8)}\n",
       "      edata_schemes={})"
      ]
     },
     "execution_count": 122,
     "metadata": {},
     "output_type": "execute_result"
    }
   ],
   "source": [
    "# bg"
   ]
  },
  {
   "cell_type": "code",
   "execution_count": null,
   "metadata": {},
   "outputs": [
    {
     "data": {
      "application/javascript": [
       "google.colab.output.setIframeHeight(0, true, {maxHeight: 300})"
      ],
      "text/plain": [
       "<IPython.core.display.Javascript object>"
      ]
     },
     "metadata": {},
     "output_type": "display_data"
    },
    {
     "name": "stdout",
     "output_type": "stream",
     "text": [
      "cyea_0000\n",
      "cyea_0001\n",
      "cyea_0002\n",
      "cyea_0003\n",
      "cyea_0004\n",
      "cyea_0005\n",
      "cyea_0006\n",
      "cyea_0007\n",
      "cyea_0008\n",
      "cyea_0009\n",
      "cyea_0010\n",
      "cyea_0011\n",
      "cyea_0012\n",
      "cyea_0013\n",
      "cyea_0014\n",
      "cyea_0015\n",
      "cyea_0016\n",
      "cyea_0017\n",
      "cyea_0018\n",
      "cyea_0019\n",
      "cyea_0020\n",
      "cyea_0021\n",
      "cyea_0022\n",
      "cyea_0023\n",
      "cyea_0024\n",
      "cyea_0025\n",
      "cyea_0026\n",
      "cyea_0027\n",
      "cyea_0028\n",
      "cyea_0029\n",
      "cyea_0030\n",
      "cyea_0031\n",
      "cyea_0032\n",
      "cyea_0033\n",
      "cyea_0034\n",
      "cyea_0035\n",
      "cyea_0036\n",
      "cyea_0037\n",
      "cyea_0038\n",
      "cyea_0039\n",
      "cyea_0040\n",
      "hphi_0000\n",
      "hphi_0001\n",
      "hphi_0002\n",
      "hphi_0003\n",
      "hphi_0004\n",
      "hphi_0005\n",
      "hphi_0006\n",
      "hphi_0007\n",
      "hphi_0008\n",
      "hphi_0009\n",
      "hphi_0010\n",
      "hphi_0011\n",
      "hphi_0012\n",
      "hphi_0013\n",
      "hphi_0014\n",
      "hphi_0015\n",
      "hphi_0016\n",
      "hphi_0017\n",
      "hphi_0018\n",
      "hphi_0019\n",
      "hphi_0020\n",
      "hphi_0021\n",
      "hphi_0022\n",
      "hphi_0023\n",
      "hphi_0024\n",
      "hphi_0025\n",
      "hphi_0026\n",
      "hphi_0027\n",
      "hphi_0028\n",
      "hphi_0029\n",
      "hphi_0030\n",
      "hphi_0031\n",
      "hphi_0032\n",
      "hphi_0033\n",
      "hphi_0034\n",
      "hphi_0035\n",
      "hphi_0036\n",
      "hphi_0037\n",
      "hphi_0038\n",
      "hphi_0039\n",
      "hphi_0040\n",
      "hphi_0041\n",
      "hphi_0042\n",
      "hphi_0043\n",
      "ivoj_0000\n",
      "ivoj_0001\n",
      "ivoj_0002\n",
      "ivoj_0003\n",
      "ivoj_0004\n",
      "ivoj_0005\n",
      "ivoj_0006\n",
      "phpd_0000\n",
      "phpd_0001\n",
      "phpd_0002\n",
      "phpd_0003\n",
      "phpd_0004\n",
      "phpd_0005\n",
      "phpd_0006\n",
      "phpd_0007\n",
      "phpd_0008\n",
      "phpd_0009\n",
      "phpd_0010\n",
      "phpd_0011\n",
      "phpd_0012\n",
      "phpd_0013\n",
      "phpd_0014\n",
      "phpd_0015\n",
      "phpd_0016\n",
      "phpd_0017\n",
      "phpd_0018\n",
      "phpd_0019\n",
      "phpd_0020\n",
      "phpd_0021\n",
      "phpd_0022\n",
      "phpd_0023\n",
      "phpd_0024\n",
      "phpd_0025\n",
      "phpd_0026\n",
      "phpd_0027\n",
      "phpd_0028\n",
      "phpd_0029\n",
      "phpd_0030\n",
      "phpd_0031\n",
      "phpd_0032\n",
      "phpd_0033\n",
      "phpd_0034\n",
      "phpd_0035\n",
      "phpd_0036\n",
      "phpd_0037\n",
      "phpd_0038\n",
      "phpd_0039\n",
      "phpd_0040\n",
      "phpd_0041\n",
      "phpd_0042\n",
      "phpd_0043\n",
      "phpd_0044\n",
      "phpd_0045\n",
      "phpd_0046\n",
      "phpd_0047\n",
      "phpd_0048\n",
      "phpd_0049\n",
      "phpd_0050\n",
      "phpd_0051\n",
      "phpd_0052\n",
      "phpd_0053\n",
      "phpd_0054\n",
      "phpd_0055\n",
      "phpd_0056\n",
      "phpd_0057\n",
      "phpd_0058\n",
      "phpd_0059\n",
      "phpd_0060\n",
      "phpd_0061\n",
      "phpd_0062\n",
      "cxyc_0000\n",
      "cxyc_0001\n",
      "cxyc_0002\n",
      "cxyc_0003\n",
      "cxyc_0004\n",
      "cxyc_0005\n",
      "cxyc_0006\n",
      "cxyc_0007\n",
      "cxyc_0008\n",
      "cxyc_0009\n",
      "cxyc_0010\n",
      "cxyc_0011\n",
      "cxyc_0012\n",
      "cxyc_0013\n",
      "cxyc_0014\n",
      "cxyc_0015\n",
      "cxyc_0016\n",
      "cxyc_0017\n",
      "cxyc_0018\n",
      "cxyc_0019\n",
      "cxyc_0020\n",
      "cxyc_0021\n",
      "cxyc_0022\n",
      "cxyc_0023\n",
      "cxyc_0024\n",
      "cxyc_0025\n",
      "cxyc_0026\n",
      "nsrn_0000\n",
      "nsrn_0001\n",
      "nsrn_0002\n",
      "nsrn_0003\n",
      "nsrn_0004\n",
      "nsrn_0005\n",
      "nsrn_0006\n",
      "nsrn_0007\n",
      "nsrn_0008\n",
      "nsrn_0009\n",
      "nsrn_0010\n",
      "nsrn_0011\n",
      "nsrn_0012\n",
      "nsrn_0013\n",
      "nsrn_0014\n",
      "nsrn_0015\n",
      "nsrn_0016\n",
      "nsrn_0017\n",
      "nsrn_0018\n",
      "nsrn_0019\n",
      "nsrn_0020\n",
      "nsrn_0021\n",
      "nsrn_0022\n",
      "nsrn_0023\n",
      "nsrn_0024\n",
      "nsrn_0025\n",
      "nsrn_0026\n"
     ]
    }
   ],
   "source": [
    "from IPython.display import Javascript  # Restrict height of output cell.\n",
    "display(Javascript('''google.colab.output.setIframeHeight(0, true, {maxHeight: 300})'''))\n",
    "\n",
    "Graph_Total = []\n",
    "Label_Total = []\n",
    "for key in unique_keys:\n",
    "    print(key)\n",
    "    graph_current, label_current = create_graph_label(key)\n",
    "    Graph_Total.append(graph_current)\n",
    "    Label_Total.append(label_current)"
   ]
  },
  {
   "cell_type": "code",
   "execution_count": null,
   "metadata": {},
   "outputs": [],
   "source": [
    "del syllable_df_Nest_Total"
   ]
  },
  {
   "cell_type": "code",
   "execution_count": 15,
   "metadata": {},
   "outputs": [
    {
     "data": {
      "text/plain": [
       "155"
      ]
     },
     "execution_count": 15,
     "metadata": {},
     "output_type": "execute_result"
    }
   ],
   "source": [
    "len(Graph_Total)"
   ]
  },
  {
   "cell_type": "code",
   "execution_count": 16,
   "metadata": {},
   "outputs": [
    {
     "data": {
      "text/plain": [
       "155"
      ]
     },
     "execution_count": 16,
     "metadata": {},
     "output_type": "execute_result"
    }
   ],
   "source": [
    "len(Label_Total)"
   ]
  },
  {
   "cell_type": "code",
   "execution_count": 17,
   "metadata": {},
   "outputs": [],
   "source": [
    "from sklearn import preprocessing\n",
    "le = preprocessing.LabelEncoder()\n",
    "targets = le.fit_transform(Label_Total)"
   ]
  },
  {
   "cell_type": "code",
   "execution_count": 18,
   "metadata": {},
   "outputs": [],
   "source": [
    "targets = torch.as_tensor(targets, dtype=torch.long)"
   ]
  },
  {
   "cell_type": "code",
   "execution_count": 19,
   "metadata": {},
   "outputs": [
    {
     "data": {
      "text/plain": [
       "tensor([0, 0, 0, 0, 0, 0, 0, 0, 0, 0, 0, 0, 0, 0, 0, 0, 0, 0, 0, 0, 0, 0, 0, 0,\n",
       "        0, 0, 0, 0, 0, 0, 0, 0, 0, 0, 0, 0, 0, 0, 0, 0, 0, 1, 1, 1, 1, 1, 1, 1,\n",
       "        1, 1, 1, 1, 1, 1, 1, 1, 1, 1, 1, 1, 1, 1, 1, 1, 1, 1, 1, 1, 1, 1, 1, 1,\n",
       "        1, 1, 1, 1, 1, 1, 1, 1, 1, 1, 1, 1, 1, 2, 2, 2, 2, 2, 2, 2, 3, 3, 3, 3,\n",
       "        3, 3, 3, 3, 3, 3, 3, 3, 3, 3, 3, 3, 3, 3, 3, 3, 3, 3, 3, 3, 3, 3, 3, 3,\n",
       "        3, 3, 3, 3, 3, 3, 3, 3, 3, 3, 3, 3, 3, 3, 3, 3, 3, 3, 3, 3, 3, 3, 3, 3,\n",
       "        3, 3, 3, 3, 3, 3, 3, 3, 3, 3, 3])"
      ]
     },
     "execution_count": 19,
     "metadata": {},
     "output_type": "execute_result"
    }
   ],
   "source": [
    "targets"
   ]
  },
  {
   "cell_type": "code",
   "execution_count": 64,
   "metadata": {},
   "outputs": [
    {
     "data": {
      "text/plain": [
       "['cyea', 'hphi', 'ivoj', 'phpd']"
      ]
     },
     "execution_count": 64,
     "metadata": {},
     "output_type": "execute_result"
    }
   ],
   "source": [
    "list(le.classes_)"
   ]
  },
  {
   "cell_type": "code",
   "execution_count": 55,
   "metadata": {},
   "outputs": [
    {
     "data": {
      "text/plain": [
       "torch.Tensor"
      ]
     },
     "execution_count": 55,
     "metadata": {},
     "output_type": "execute_result"
    }
   ],
   "source": [
    "# type(targets)"
   ]
  },
  {
   "cell_type": "code",
   "execution_count": 20,
   "metadata": {},
   "outputs": [
    {
     "data": {
      "text/plain": [
       "Graph(num_nodes=8, num_edges=7,\n",
       "      ndata_schemes={'h': Scheme(shape=(277504,), dtype=torch.float64)}\n",
       "      edata_schemes={})"
      ]
     },
     "execution_count": 20,
     "metadata": {},
     "output_type": "execute_result"
    }
   ],
   "source": [
    "Graph_Total[0]"
   ]
  },
  {
   "cell_type": "code",
   "execution_count": 21,
   "metadata": {},
   "outputs": [],
   "source": [
    "from dgl.data.dgl_dataset import DGLDataset\n",
    "from dgl.data.utils import save_graphs, load_graphs, makedirs\n",
    "\n",
    "__all__ = ['ZebraFinchDataset']\n",
    "\n",
    "class ZebraFinchDataset(DGLDataset):\n",
    "    \"\"\"The synthetic graph classification dataset class.\n",
    "        Parameters\n",
    "    ----------\n",
    "    num_graphs: int\n",
    "        Number of graphs in this dataset.\n",
    "    min_num_v: int\n",
    "        Minimum number of nodes for graphs\n",
    "    max_num_v: int\n",
    "        Maximum number of nodes for graphs\n",
    "    seed : int, default is 0\n",
    "        Random seed for data generation\n",
    "    Attributes\n",
    "    ----------\n",
    "    num_graphs : int\n",
    "        Number of graphs\n",
    "    min_num_v : int\n",
    "        The minimum number of nodes\n",
    "    max_num_v : int\n",
    "        The maximum number of nodes\n",
    "    num_classes : int\n",
    "        The number of classes\n",
    "    Examples\n",
    "    --------\n",
    "    >>> data = MiniGCDataset(100, 16, 32, seed=0)\n",
    "    The dataset instance is an iterable\n",
    "    >>> len(data)\n",
    "    100\n",
    "    >>> g, label = data[64]\n",
    "    >>> g\n",
    "    Graph(num_nodes=20, num_edges=82,\n",
    "          ndata_schemes={}\n",
    "          edata_schemes={})\n",
    "    >>> label\n",
    "    tensor(5)\n",
    "    Batch the graphs and labels for mini-batch training\n",
    "    >>> graphs, labels = zip(*[data[i] for i in range(16)])\n",
    "    >>> batched_graphs = dgl.batch(graphs)\n",
    "    >>> batched_labels = torch.tensor(labels)\n",
    "    >>> batched_graphs\n",
    "    Graph(num_nodes=356, num_edges=1060,\n",
    "          ndata_schemes={}\n",
    "          edata_schemes={})\n",
    "    \"\"\"\n",
    "\n",
    "    def __init__(self, graphs, labels, seed=0,\n",
    "                 save_graph=True, force_reload=False, verbose=False):\n",
    "#         self.num_graphs = num_graphs\n",
    "#         self.min_num_v = min_num_v\n",
    "#         self.max_num_v = max_num_v\n",
    "        self.seed = seed\n",
    "        self.save_graph = save_graph\n",
    "        self.graphs = graphs\n",
    "        self.labels = labels\n",
    "\n",
    "        super(ZebraFinchDataset, self).__init__(name=\"ZebraFinch\", hash_key=(graphs, labels, seed),\n",
    "                                            force_reload=force_reload,\n",
    "                                            verbose=verbose)\n",
    "\n",
    "#     def process(self):\n",
    "#         time.sleep(0.01)\n",
    "#         self.graphs = graphs\n",
    "#         self.labels = labels\n",
    "#         self._generate(graphs, labels, self.seed)\n",
    "\n",
    "    def __len__(self):\n",
    "        \"\"\"Return the number of graphs in the dataset.\"\"\"\n",
    "        return len(self.graphs)\n",
    "\n",
    "    def __getitem__(self, idx):\n",
    "        \"\"\"Get the idx-th sample.\n",
    "        Parameters\n",
    "        ---------\n",
    "        idx : int\n",
    "            The sample index.\n",
    "        Returns\n",
    "        -------\n",
    "        (:class:`dgl.Graph`, Tensor)\n",
    "            The graph and its label.\n",
    "        \"\"\"\n",
    "        return self.graphs[idx], self.labels[idx]\n",
    "\n",
    "    def has_cache(self):\n",
    "        graph_path = os.path.join(self.save_path, 'dgl_graph_{}.bin'.format(self.hash))\n",
    "        if os.path.exists(graph_path):\n",
    "            return True\n",
    "\n",
    "        return False\n",
    "\n",
    "    def save(self):\n",
    "        \"\"\"save the graph list and the labels\"\"\"\n",
    "        if self.save_graph:\n",
    "            graph_path = os.path.join(self.save_path, 'dgl_graph_{}.bin'.format(self.hash))\n",
    "            save_graphs(str(graph_path), self.graphs, {'labels': self.labels})\n",
    "\n",
    "    def load(self):\n",
    "        graphs, label_dict = load_graphs(os.path.join(self.save_path, 'dgl_graph_{}.bin'.format(self.hash)))\n",
    "        self.graphs = graphs\n",
    "        self.labels = label_dict['labels']\n",
    "\n",
    "    @property\n",
    "    def num_classes(self):\n",
    "        \"\"\"Number of classes.\"\"\"\n",
    "        return len(torch.unique(self.labels))\n",
    "\n",
    "    def _generate(self, seed):\n",
    "        if seed is not None:\n",
    "            np.random.seed(seed)\n",
    "        # preprocess\n",
    "        for i in range(self.num_graphs):\n",
    "            # convert to DGLGraph, and add self loops\n",
    "            self.graphs[i] = add_self_loop(from_networkx(self.graphs[i]))\n",
    "        self.labels = F.tensor(np.array(self.labels).astype(np.int))"
   ]
  },
  {
   "cell_type": "code",
   "execution_count": 23,
   "metadata": {},
   "outputs": [],
   "source": [
    "trainset = ZebraFinchDataset(Graph_Total, targets)"
   ]
  },
  {
   "cell_type": "code",
   "execution_count": 24,
   "metadata": {},
   "outputs": [
    {
     "data": {
      "text/plain": [
       "__main__.ZebraFinchDataset"
      ]
     },
     "execution_count": 24,
     "metadata": {},
     "output_type": "execute_result"
    }
   ],
   "source": [
    "type(trainset)"
   ]
  },
  {
   "cell_type": "code",
   "execution_count": 68,
   "metadata": {},
   "outputs": [],
   "source": [
    "# Trainset_test = ZebraFinchDataset(Graph_Total[35:50], targets[35:50])"
   ]
  },
  {
   "cell_type": "code",
   "execution_count": 70,
   "metadata": {},
   "outputs": [],
   "source": [
    "# import pickle\n",
    "\n",
    "# with open('ZFTrainset.pickle', 'wb') as handle:\n",
    "#     pickle.dump((Graph_Total[35:50], targets[35:50]), handle)"
   ]
  },
  {
   "cell_type": "code",
   "execution_count": 25,
   "metadata": {},
   "outputs": [],
   "source": [
    "import dgl\n",
    "import torch\n",
    "\n",
    "def collate(samples):\n",
    "    # The input `samples` is a list of pairs\n",
    "    #  (graph, label).\n",
    "    graphs, labels = map(list, zip(*samples))\n",
    "    batched_graph = dgl.batch(graphs)\n",
    "    return batched_graph, torch.tensor(labels)"
   ]
  },
  {
   "cell_type": "code",
   "execution_count": 42,
   "metadata": {},
   "outputs": [],
   "source": [
    "import torch.optim as optim\n",
    "from torch.utils.data import DataLoader\n",
    "\n",
    "# Create training and test sets.\n",
    "# trainset = MiniGCDataset(320, 10, 20)\n",
    "# testset = MiniGCDataset(80, 10, 20)\n",
    "# Use PyTorch's DataLoader and the collate function\n",
    "# defined before.\n",
    "data_loader = DataLoader(trainset, batch_size=32, shuffle=True,\n",
    "                         collate_fn=collate)"
   ]
  },
  {
   "cell_type": "code",
   "execution_count": 35,
   "metadata": {},
   "outputs": [],
   "source": [
    "g,vlabels = trainset[0]"
   ]
  },
  {
   "cell_type": "code",
   "execution_count": 36,
   "metadata": {},
   "outputs": [
    {
     "data": {
      "text/plain": [
       "Graph(num_nodes=8, num_edges=7,\n",
       "      ndata_schemes={'h': Scheme(shape=(277504,), dtype=torch.float64)}\n",
       "      edata_schemes={})"
      ]
     },
     "execution_count": 36,
     "metadata": {},
     "output_type": "execute_result"
    }
   ],
   "source": [
    "g"
   ]
  },
  {
   "cell_type": "code",
   "execution_count": 37,
   "metadata": {},
   "outputs": [
    {
     "data": {
      "text/plain": [
       "tensor(0)"
      ]
     },
     "execution_count": 37,
     "metadata": {},
     "output_type": "execute_result"
    }
   ],
   "source": [
    "vlabels"
   ]
  },
  {
   "cell_type": "code",
   "execution_count": 38,
   "metadata": {},
   "outputs": [
    {
     "data": {
      "text/plain": [
       "4"
      ]
     },
     "execution_count": 38,
     "metadata": {},
     "output_type": "execute_result"
    }
   ],
   "source": [
    "trainset.num_classes"
   ]
  },
  {
   "cell_type": "code",
   "execution_count": 46,
   "metadata": {},
   "outputs": [],
   "source": [
    "import torch.nn as nn\n",
    "import torch.nn.functional as F\n",
    "from dgl.nn.pytorch import GraphConv\n",
    "\n",
    "class Classifier(nn.Module):\n",
    "    def __init__(self, in_dim, hidden_dim, n_classes):\n",
    "        super(Classifier, self).__init__()\n",
    "        self.conv1 = GraphConv(in_dim, hidden_dim,allow_zero_in_degree=True)\n",
    "        self.conv2 = GraphConv(hidden_dim, hidden_dim,allow_zero_in_degree=True)\n",
    "        self.classify = nn.Linear(hidden_dim, n_classes)\n",
    "\n",
    "    def forward(self, g):\n",
    "        # Use node degree as the initial node feature. For undirected graphs, the in-degree\n",
    "        # is the same as the out_degree.\n",
    "        h = g.ndata['h'].float()\n",
    "        # Perform graph convolution and activation function.\n",
    "        h = F.relu(self.conv1(g, h))\n",
    "        h = F.relu(self.conv2(g, h)) \n",
    "        g.ndata['h'] = h\n",
    "        # Calculate graph representation by averaging all the node representations.\n",
    "        hg = dgl.mean_nodes(g, 'h')     ### Readout Function\n",
    "        return self.classify(hg.float())"
   ]
  },
  {
   "cell_type": "code",
   "execution_count": 47,
   "metadata": {},
   "outputs": [
    {
     "data": {
      "text/plain": [
       "Classifier(\n",
       "  (conv1): GraphConv(in=277504, out=256, normalization=both, activation=None)\n",
       "  (conv2): GraphConv(in=256, out=256, normalization=both, activation=None)\n",
       "  (classify): Linear(in_features=256, out_features=4, bias=True)\n",
       ")"
      ]
     },
     "execution_count": 47,
     "metadata": {},
     "output_type": "execute_result"
    }
   ],
   "source": [
    "# Create model\n",
    "model = Classifier(277504, 256, trainset.num_classes)\n",
    "loss_func = nn.CrossEntropyLoss()\n",
    "optimizer = optim.Adam(model.parameters(), lr=0.001)\n",
    "model.train()"
   ]
  },
  {
   "cell_type": "code",
   "execution_count": 49,
   "metadata": {},
   "outputs": [
    {
     "name": "stdout",
     "output_type": "stream",
     "text": [
      "Epoch 0, loss 4522.3934\n",
      "Epoch 1, loss 854.6261\n",
      "Epoch 2, loss 443.2906\n",
      "Epoch 3, loss 151.8110\n",
      "Epoch 4, loss 43.5269\n",
      "Epoch 5, loss 177.0350\n",
      "Epoch 6, loss 128.1465\n",
      "Epoch 7, loss 64.2261\n",
      "Epoch 8, loss 101.4683\n",
      "Epoch 9, loss 36.3270\n",
      "Epoch 10, loss 10.0386\n",
      "Epoch 11, loss 0.8672\n",
      "Epoch 12, loss 2.6389\n",
      "Epoch 13, loss 31.9747\n",
      "Epoch 14, loss 6.8470\n",
      "Epoch 15, loss 0.0000\n",
      "Epoch 16, loss 3.2537\n",
      "Epoch 17, loss 0.6544\n",
      "Epoch 18, loss 0.1870\n",
      "Epoch 19, loss 1.8024\n",
      "Epoch 20, loss 0.2199\n",
      "Epoch 21, loss 0.4557\n",
      "Epoch 22, loss 0.0000\n",
      "Epoch 23, loss 2.2122\n",
      "Epoch 24, loss 1.4885\n",
      "Epoch 25, loss 2.6950\n",
      "Epoch 26, loss 1.3894\n",
      "Epoch 27, loss 1.4817\n",
      "Epoch 28, loss 2.1467\n",
      "Epoch 29, loss 4.2997\n",
      "Epoch 30, loss 0.0000\n",
      "Epoch 31, loss 3.4150\n",
      "Epoch 32, loss 0.0000\n",
      "Epoch 33, loss 0.0000\n",
      "Epoch 34, loss 0.0000\n",
      "Epoch 35, loss 0.0000\n",
      "Epoch 36, loss 0.0000\n",
      "Epoch 37, loss 0.1980\n",
      "Epoch 38, loss 0.4523\n",
      "Epoch 39, loss 0.0000\n",
      "Epoch 40, loss 0.0000\n",
      "Epoch 41, loss 0.0000\n",
      "Epoch 42, loss 0.5651\n",
      "Epoch 43, loss 0.0000\n",
      "Epoch 44, loss 0.0000\n",
      "Epoch 45, loss 1.7543\n",
      "Epoch 46, loss 0.0000\n",
      "Epoch 47, loss 0.2112\n",
      "Epoch 48, loss 0.0000\n",
      "Epoch 49, loss 0.0000\n",
      "Epoch 50, loss 0.0000\n"
     ]
    },
    {
     "ename": "KeyboardInterrupt",
     "evalue": "",
     "output_type": "error",
     "traceback": [
      "\u001b[1;31m------------------------------------------------------------\u001b[0m",
      "\u001b[1;31mKeyboardInterrupt\u001b[0m          Traceback (most recent call last)",
      "\u001b[1;32m<ipython-input-49-a98752abbc17>\u001b[0m in \u001b[0;36m<module>\u001b[1;34m\u001b[0m\n\u001b[0;32m      8\u001b[0m         \u001b[0moptimizer\u001b[0m\u001b[1;33m.\u001b[0m\u001b[0mzero_grad\u001b[0m\u001b[1;33m(\u001b[0m\u001b[1;33m)\u001b[0m\u001b[1;33m\u001b[0m\u001b[1;33m\u001b[0m\u001b[0m\n\u001b[0;32m      9\u001b[0m         \u001b[0mloss\u001b[0m\u001b[1;33m.\u001b[0m\u001b[0mbackward\u001b[0m\u001b[1;33m(\u001b[0m\u001b[1;33m)\u001b[0m\u001b[1;33m\u001b[0m\u001b[1;33m\u001b[0m\u001b[0m\n\u001b[1;32m---> 10\u001b[1;33m         \u001b[0moptimizer\u001b[0m\u001b[1;33m.\u001b[0m\u001b[0mstep\u001b[0m\u001b[1;33m(\u001b[0m\u001b[1;33m)\u001b[0m\u001b[1;33m\u001b[0m\u001b[1;33m\u001b[0m\u001b[0m\n\u001b[0m\u001b[0;32m     11\u001b[0m         \u001b[0mepoch_loss\u001b[0m \u001b[1;33m+=\u001b[0m \u001b[0mloss\u001b[0m\u001b[1;33m.\u001b[0m\u001b[0mdetach\u001b[0m\u001b[1;33m(\u001b[0m\u001b[1;33m)\u001b[0m\u001b[1;33m.\u001b[0m\u001b[0mitem\u001b[0m\u001b[1;33m(\u001b[0m\u001b[1;33m)\u001b[0m\u001b[1;33m\u001b[0m\u001b[1;33m\u001b[0m\u001b[0m\n\u001b[0;32m     12\u001b[0m     \u001b[0mepoch_loss\u001b[0m \u001b[1;33m/=\u001b[0m \u001b[1;33m(\u001b[0m\u001b[0miter\u001b[0m \u001b[1;33m+\u001b[0m \u001b[1;36m1\u001b[0m\u001b[1;33m)\u001b[0m\u001b[1;33m\u001b[0m\u001b[1;33m\u001b[0m\u001b[0m\n",
      "\u001b[1;32m~\\Anaconda3\\envs\\tf-gpu5\\lib\\site-packages\\torch\\autograd\\grad_mode.py\u001b[0m in \u001b[0;36mdecorate_context\u001b[1;34m(*args, **kwargs)\u001b[0m\n\u001b[0;32m     13\u001b[0m         \u001b[1;32mdef\u001b[0m \u001b[0mdecorate_context\u001b[0m\u001b[1;33m(\u001b[0m\u001b[1;33m*\u001b[0m\u001b[0margs\u001b[0m\u001b[1;33m,\u001b[0m \u001b[1;33m**\u001b[0m\u001b[0mkwargs\u001b[0m\u001b[1;33m)\u001b[0m\u001b[1;33m:\u001b[0m\u001b[1;33m\u001b[0m\u001b[1;33m\u001b[0m\u001b[0m\n\u001b[0;32m     14\u001b[0m             \u001b[1;32mwith\u001b[0m \u001b[0mself\u001b[0m\u001b[1;33m:\u001b[0m\u001b[1;33m\u001b[0m\u001b[1;33m\u001b[0m\u001b[0m\n\u001b[1;32m---> 15\u001b[1;33m                 \u001b[1;32mreturn\u001b[0m \u001b[0mfunc\u001b[0m\u001b[1;33m(\u001b[0m\u001b[1;33m*\u001b[0m\u001b[0margs\u001b[0m\u001b[1;33m,\u001b[0m \u001b[1;33m**\u001b[0m\u001b[0mkwargs\u001b[0m\u001b[1;33m)\u001b[0m\u001b[1;33m\u001b[0m\u001b[1;33m\u001b[0m\u001b[0m\n\u001b[0m\u001b[0;32m     16\u001b[0m         \u001b[1;32mreturn\u001b[0m \u001b[0mdecorate_context\u001b[0m\u001b[1;33m\u001b[0m\u001b[1;33m\u001b[0m\u001b[0m\n\u001b[0;32m     17\u001b[0m \u001b[1;33m\u001b[0m\u001b[0m\n",
      "\u001b[1;32m~\\Anaconda3\\envs\\tf-gpu5\\lib\\site-packages\\torch\\optim\\adam.py\u001b[0m in \u001b[0;36mstep\u001b[1;34m(self, closure)\u001b[0m\n\u001b[0;32m    105\u001b[0m                     \u001b[0mdenom\u001b[0m \u001b[1;33m=\u001b[0m \u001b[1;33m(\u001b[0m\u001b[0mmax_exp_avg_sq\u001b[0m\u001b[1;33m.\u001b[0m\u001b[0msqrt\u001b[0m\u001b[1;33m(\u001b[0m\u001b[1;33m)\u001b[0m \u001b[1;33m/\u001b[0m \u001b[0mmath\u001b[0m\u001b[1;33m.\u001b[0m\u001b[0msqrt\u001b[0m\u001b[1;33m(\u001b[0m\u001b[0mbias_correction2\u001b[0m\u001b[1;33m)\u001b[0m\u001b[1;33m)\u001b[0m\u001b[1;33m.\u001b[0m\u001b[0madd_\u001b[0m\u001b[1;33m(\u001b[0m\u001b[0mgroup\u001b[0m\u001b[1;33m[\u001b[0m\u001b[1;34m'eps'\u001b[0m\u001b[1;33m]\u001b[0m\u001b[1;33m)\u001b[0m\u001b[1;33m\u001b[0m\u001b[1;33m\u001b[0m\u001b[0m\n\u001b[0;32m    106\u001b[0m                 \u001b[1;32melse\u001b[0m\u001b[1;33m:\u001b[0m\u001b[1;33m\u001b[0m\u001b[1;33m\u001b[0m\u001b[0m\n\u001b[1;32m--> 107\u001b[1;33m                     \u001b[0mdenom\u001b[0m \u001b[1;33m=\u001b[0m \u001b[1;33m(\u001b[0m\u001b[0mexp_avg_sq\u001b[0m\u001b[1;33m.\u001b[0m\u001b[0msqrt\u001b[0m\u001b[1;33m(\u001b[0m\u001b[1;33m)\u001b[0m \u001b[1;33m/\u001b[0m \u001b[0mmath\u001b[0m\u001b[1;33m.\u001b[0m\u001b[0msqrt\u001b[0m\u001b[1;33m(\u001b[0m\u001b[0mbias_correction2\u001b[0m\u001b[1;33m)\u001b[0m\u001b[1;33m)\u001b[0m\u001b[1;33m.\u001b[0m\u001b[0madd_\u001b[0m\u001b[1;33m(\u001b[0m\u001b[0mgroup\u001b[0m\u001b[1;33m[\u001b[0m\u001b[1;34m'eps'\u001b[0m\u001b[1;33m]\u001b[0m\u001b[1;33m)\u001b[0m\u001b[1;33m\u001b[0m\u001b[1;33m\u001b[0m\u001b[0m\n\u001b[0m\u001b[0;32m    108\u001b[0m \u001b[1;33m\u001b[0m\u001b[0m\n\u001b[0;32m    109\u001b[0m                 \u001b[0mstep_size\u001b[0m \u001b[1;33m=\u001b[0m \u001b[0mgroup\u001b[0m\u001b[1;33m[\u001b[0m\u001b[1;34m'lr'\u001b[0m\u001b[1;33m]\u001b[0m \u001b[1;33m/\u001b[0m \u001b[0mbias_correction1\u001b[0m\u001b[1;33m\u001b[0m\u001b[1;33m\u001b[0m\u001b[0m\n",
      "\u001b[1;31mKeyboardInterrupt\u001b[0m: "
     ]
    }
   ],
   "source": [
    "epoch_losses = []\n",
    "for epoch in range(50):\n",
    "    epoch_loss = 0\n",
    "    for iter, (bg, label) in enumerate(data_loader):\n",
    "#         print(bg)\n",
    "        prediction = model(bg)\n",
    "        loss = loss_func(prediction, label.long())\n",
    "        optimizer.zero_grad()\n",
    "        loss.backward()\n",
    "        optimizer.step()\n",
    "        epoch_loss += loss.detach().item()\n",
    "    epoch_loss /= (iter + 1)\n",
    "    print('Epoch {}, loss {:.4f}'.format(epoch, epoch_loss))\n",
    "    epoch_losses.append(epoch_loss)"
   ]
  },
  {
   "cell_type": "code",
   "execution_count": 44,
   "metadata": {},
   "outputs": [
    {
     "data": {
      "text/plain": [
       "4"
      ]
     },
     "execution_count": 44,
     "metadata": {},
     "output_type": "execute_result"
    }
   ],
   "source": [
    "len(torch.unique(targets))"
   ]
  },
  {
   "cell_type": "code",
   "execution_count": null,
   "metadata": {},
   "outputs": [],
   "source": [
    "First_layer_pred = []\n",
    "for i in range(0,len(trainset)):\n",
    "    h = trainset.graphs[i].ndata['h'].float()\n",
    "    # Perform graph convolution and activation function.\n",
    "    h = F.relu(model.conv1(trainset.graphs[i], h))\n",
    "    h = F.relu(model.conv2(trainset.graphs[i], h)) \n",
    "    trainset.graphs[i].ndata['h'] = h\n",
    "    # Calculate graph representation by averaging all the node representations.\n",
    "    hg = dgl.mean_nodes(trainset.graphs[i], 'h')\n",
    "    h = trainset.graphs[i].in_degrees().view(-1, 1).float()\n",
    "    x = F.relu(model.conv1(trainset.graphs[i], h))\n",
    "    First_layer_pred.append(np.mean(x.detach().numpy(),0))"
   ]
  },
  {
   "cell_type": "code",
   "execution_count": 50,
   "metadata": {},
   "outputs": [],
   "source": [
    "Classify_layer_pred = []\n",
    "\n",
    "for i in range(0,len(trainset)):\n",
    "    x = model(trainset.graphs[i])\n",
    "    Classify_layer_pred.append(np.mean(x.detach().numpy(),0))"
   ]
  },
  {
   "cell_type": "code",
   "execution_count": 53,
   "metadata": {},
   "outputs": [
    {
     "data": {
      "text/plain": [
       "[array([ 6704.07  , -1319.8153,  1028.9525, -1859.3843], dtype=float32),\n",
       " array([ 6958.9204, -1407.0354,  1011.8477, -2040.3275], dtype=float32),\n",
       " array([ 7019.128  , -1399.8795 ,   928.99396, -1918.8816 ], dtype=float32),\n",
       " array([ 6805.9556, -1441.0592,   693.7828, -1677.8171], dtype=float32),\n",
       " array([ 7741.8223 , -1419.1614 ,   926.41547, -2199.0652 ], dtype=float32),\n",
       " array([ 7784.2417, -1706.6943,   707.7316, -2108.802 ], dtype=float32),\n",
       " array([ 8248.719 , -1791.8871,   622.2016, -2439.042 ], dtype=float32),\n",
       " array([ 8078.9155, -1765.3156,   575.6425, -2318.478 ], dtype=float32),\n",
       " array([ 7491.7363, -1541.6936,   833.9101, -2093.327 ], dtype=float32),\n",
       " array([ 6709.4614, -1272.1573,   784.5096, -1651.8436], dtype=float32),\n",
       " array([ 7500.2363, -1517.932 ,   770.4339, -2134.264 ], dtype=float32),\n",
       " array([ 7549.655 , -1465.1884,   686.5883, -2204.5667], dtype=float32),\n",
       " array([11213.847 , -3364.4211, -1028.0822, -3257.826 ], dtype=float32),\n",
       " array([ 7745.6675, -1526.8159,   627.3079, -2330.4612], dtype=float32),\n",
       " array([ 9844.641 , -2528.8425,   725.0052, -3179.467 ], dtype=float32),\n",
       " array([2495.1895 , -618.5751 ,  862.8227 ,  136.20116], dtype=float32),\n",
       " array([ 7932.969 , -1727.656 ,   605.6934, -2233.1335], dtype=float32),\n",
       " array([ 6895.0615, -1423.6683,   720.9273, -1643.267 ], dtype=float32),\n",
       " array([ 7682.942  , -1532.2413 ,   388.52408, -1901.0621 ], dtype=float32),\n",
       " array([ 8413.874  , -1914.4514 ,   542.22626, -2572.236  ], dtype=float32),\n",
       " array([ 8545.504 , -1991.3188,   781.8167, -2627.966 ], dtype=float32),\n",
       " array([ 7822.7754, -1607.8022,   702.9754, -2315.0725], dtype=float32),\n",
       " array([ 8439.459 , -1820.2592,   537.3127, -2505.5928], dtype=float32),\n",
       " array([ 8903.542 , -2048.689 ,   482.2715, -2654.3293], dtype=float32),\n",
       " array([13481.18  , -4049.7185, -1457.2039, -4471.993 ], dtype=float32),\n",
       " array([13146.849 , -3232.8647,  -823.0418, -4274.325 ], dtype=float32),\n",
       " array([ 7312.742  , -1427.0577 ,   651.47675, -1853.3649 ], dtype=float32),\n",
       " array([ 8212.614 , -1770.8214,   730.8637, -2459.1067], dtype=float32),\n",
       " array([ 6409.2715, -1289.4855,   940.1857, -1588.2662], dtype=float32),\n",
       " array([ 7348.575 , -1388.5201,   884.8051, -2062.898 ], dtype=float32),\n",
       " array([ 5746.192 , -1136.9271,  1228.1235, -1270.9503], dtype=float32),\n",
       " array([ 6535.912  , -1350.0238 ,   929.94867, -1554.797  ], dtype=float32),\n",
       " array([ 6259.1797, -1240.2355,   999.4931, -1426.9366], dtype=float32),\n",
       " array([ 7242.64   , -1470.4972 ,   981.54645, -2034.0737 ], dtype=float32),\n",
       " array([ 7539.368  , -1453.1732 ,   929.50446, -2016.9906 ], dtype=float32),\n",
       " array([11002.213  , -2664.5742 ,  -312.81796, -3268.0486 ], dtype=float32),\n",
       " array([ 8635.533 , -2017.3073,   624.1995, -2575.3618], dtype=float32),\n",
       " array([10923.652  , -2624.366  ,  -320.64413, -3200.847  ], dtype=float32),\n",
       " array([ 7915.1675 , -1390.6058 ,   749.75507, -2147.1948 ], dtype=float32),\n",
       " array([11846.904  , -2928.441  ,  -289.23666, -3815.8518 ], dtype=float32),\n",
       " array([ 9919.762  , -2512.872  ,   232.62515, -2920.171  ], dtype=float32),\n",
       " array([-3128.7913 ,  4432.611  ,  2623.8696 ,   718.46436], dtype=float32),\n",
       " array([-2066.1956,  3774.0996,  2364.37  ,   554.86  ], dtype=float32),\n",
       " array([-3914.375 ,  4294.6333,  2021.3273,  1393.1669], dtype=float32),\n",
       " array([-3646.2546,  4052.0037,  2035.6649,  1271.9725], dtype=float32),\n",
       " array([-3331.7346,  4438.804 ,  2717.2305,   965.7113], dtype=float32),\n",
       " array([-3142.417 ,  4044.86  ,  2313.1638,   967.6107], dtype=float32),\n",
       " array([-3321.7925,  4237.4434,  2443.2595,  1116.893 ], dtype=float32),\n",
       " array([-2297.6094 ,  3899.9238 ,  2897.9194 ,   551.12415], dtype=float32),\n",
       " array([-3167.5688,  4095.6045,  2382.054 ,   887.9269], dtype=float32),\n",
       " array([-3901.2805,  4502.1714,  2156.3909,  1127.0292], dtype=float32),\n",
       " array([-3007.5   ,  4251.581 ,  2819.685 ,   989.4901], dtype=float32),\n",
       " array([-2179.811 ,  4377.835 ,  1716.0203,   795.5272], dtype=float32),\n",
       " array([-3061.0823,  4117.6763,  2703.4536,  1063.3424], dtype=float32),\n",
       " array([-2177.2588 ,  3788.9163 ,  2452.6572 ,   388.19006], dtype=float32),\n",
       " array([-3627.161 ,  4340.822 ,  2454.709 ,  1129.8564], dtype=float32),\n",
       " array([-1223.5541,  3745.5815,  2224.1304,   328.1847], dtype=float32),\n",
       " array([-3453.2139,  4198.989 ,  2386.762 ,  1123.7782], dtype=float32),\n",
       " array([-3159.8228 ,  4599.5796 ,  2606.9297 ,   289.83008], dtype=float32),\n",
       " array([-3087.664 ,  4275.1694,  2878.6724,   857.5049], dtype=float32),\n",
       " array([-2559.33  ,  4033.3022,  2570.7605,   497.4779], dtype=float32),\n",
       " array([-3395.504 ,  4168.943 ,  2351.6567,  1106.9393], dtype=float32),\n",
       " array([-1438.4126,  3630.8035,  2227.593 ,   361.4049], dtype=float32),\n",
       " array([-3362.7307,  4393.1196,  2648.5742,   966.0166], dtype=float32),\n",
       " array([-2218.3174,  3904.5188,  2610.4966,   481.302 ], dtype=float32),\n",
       " array([-3686.666 ,  4531.5093,  2405.3577,   694.136 ], dtype=float32),\n",
       " array([-2838.7305,  4237.6987,  2601.3882,   733.4177], dtype=float32),\n",
       " array([-1055.897 ,  3246.4546,  1323.5441,   576.2355], dtype=float32),\n",
       " array([-2631.0771 ,  4482.525  ,  2552.171  ,   134.14122], dtype=float32),\n",
       " array([-3006.6875,  4279.726 ,  2751.151 ,   718.7162], dtype=float32),\n",
       " array([-3394.789 ,  4308.383 ,  2700.2026,  1328.3893], dtype=float32),\n",
       " array([-3492.8997,  3820.4382,  2294.375 ,  1912.0706], dtype=float32),\n",
       " array([-3447.1672,  4035.8542,  2521.6316,  1799.3212], dtype=float32),\n",
       " array([-3747.1697,  4082.0803,  2299.834 ,  2091.9373], dtype=float32),\n",
       " array([-158.89291, 3272.547  , 1430.6356 ,  371.2782 ], dtype=float32),\n",
       " array([-1444.1069,  3421.1978,  1566.5978,  1150.4473], dtype=float32),\n",
       " array([-1738.0643,  3325.9514,  1752.0691,  1289.8171], dtype=float32),\n",
       " array([-3665.316 ,  4055.2007,  2247.1038,  1726.5944], dtype=float32),\n",
       " array([-3373.8706,  3832.753 ,  2164.7983,  1490.9637], dtype=float32),\n",
       " array([-3429.0532,  3819.4998,  2457.7285,  1885.9862], dtype=float32),\n",
       " array([-4030.978 ,  4549.47  ,  2179.1182,  1408.0571], dtype=float32),\n",
       " array([-3383.922 ,  3864.2146,  2366.1785,  1597.5077], dtype=float32),\n",
       " array([-3369.4731,  4265.975 ,  2361.7407,  1116.5223], dtype=float32),\n",
       " array([-3282.31  ,  3981.4092,  2416.5073,  1518.6482], dtype=float32),\n",
       " array([-3229.8345,  4129.7583,  2544.6304,  1393.2584], dtype=float32),\n",
       " array([-1062.0164,  1697.536 ,  3475.8003,   682.0028], dtype=float32),\n",
       " array([-1065.3112,  1799.5148,  3490.0283,   733.2361], dtype=float32),\n",
       " array([-894.82166, 1615.0492 , 3441.8777 ,  685.4894 ], dtype=float32),\n",
       " array([-1114.2246,  1664.7218,  3606.9795,  1153.2034], dtype=float32),\n",
       " array([-1675.8162,  2141.1902,  2846.1287,   823.1157], dtype=float32),\n",
       " array([-1421.637  ,  1794.7229 ,  2984.695  ,   871.17285], dtype=float32),\n",
       " array([-1226.5325,  1660.6342,  3286.456 ,  1148.23  ], dtype=float32),\n",
       " array([-2403.1123,  1497.7075,  1166.4758,  2388.3767], dtype=float32),\n",
       " array([-2375.0198,  1383.3584,  1114.6825,  2442.1863], dtype=float32),\n",
       " array([-2223.142 ,  1613.7115,  2102.3875,  2520.4475], dtype=float32),\n",
       " array([-2449.5664,  1637.1534,  1794.3761,  2671.5195], dtype=float32),\n",
       " array([-2441.2192,  1769.0051,  2090.9595,  2744.1545], dtype=float32),\n",
       " array([-2400.1172,  1689.9271,  2055.0005,  2647.1704], dtype=float32),\n",
       " array([-2121.4526,  1510.3419,  2108.2026,  2667.5574], dtype=float32),\n",
       " array([-2071.9143,  1509.7042,  2239.0244,  2677.0964], dtype=float32),\n",
       " array([-2315.1592,  1627.6241,  2134.2158,  2941.7488], dtype=float32),\n",
       " array([-2218.4028,  1646.6061,  2185.9617,  2766.1343], dtype=float32),\n",
       " array([-2388.577 ,  1790.1307,  1836.1466,  3042.9587], dtype=float32),\n",
       " array([-2503.8225,  1981.5751,  1890.4418,  2934.7917], dtype=float32),\n",
       " array([-2556.6995,  1912.8583,  1671.4869,  2969.6829], dtype=float32),\n",
       " array([-2370.793 ,  1812.5575,  2280.0366,  2814.559 ], dtype=float32),\n",
       " array([-2135.8394,  1634.1022,  2438.7974,  2772.8032], dtype=float32),\n",
       " array([-2624.0776,  1809.4967,  2157.8677,  3107.0618], dtype=float32),\n",
       " array([-2394.4958,  1597.3136,  1984.3433,  3102.5154], dtype=float32),\n",
       " array([-2750.7427,  2167.8086,  1983.3859,  3391.2913], dtype=float32),\n",
       " array([-2555.3357,  1820.8295,  1565.239 ,  3131.0867], dtype=float32),\n",
       " array([-2180.7854,  1626.5309,  2272.5037,  2806.6643], dtype=float32),\n",
       " array([-2148.2825,  1473.2836,  2026.506 ,  3004.7368], dtype=float32),\n",
       " array([-2114.5195,  1587.3497,  2234.3833,  2739.4219], dtype=float32),\n",
       " array([-2690.6577,  1811.0243,  2040.4501,  3263.2827], dtype=float32),\n",
       " array([-2456.8687,  1828.6869,  2434.2144,  2919.205 ], dtype=float32),\n",
       " array([-2203.8774,  1504.5021,  2069.0752,  2967.723 ], dtype=float32),\n",
       " array([-2569.8887,  1949.8314,  2283.8232,  2867.3806], dtype=float32),\n",
       " array([-2565.2466,  1753.4755,  2123.11  ,  3159.6887], dtype=float32),\n",
       " array([-2713.8408,  1522.1803,  1148.0698,  3031.4539], dtype=float32),\n",
       " array([-3118.349 ,  2330.7197,  1759.7538,  3327.7695], dtype=float32),\n",
       " array([-2915.5735,  2218.7544,  1914.1234,  3253.2888], dtype=float32),\n",
       " array([-2607.3535,  1947.6993,  1936.4102,  3381.0715], dtype=float32),\n",
       " array([-2586.435 ,  1903.2172,  1652.6936,  2966.4924], dtype=float32),\n",
       " array([-2869.9182,  2061.8298,  1714.1317,  3157.165 ], dtype=float32),\n",
       " array([-2785.5479,  2219.553 ,  1734.023 ,  2905.256 ], dtype=float32),\n",
       " array([-2923.7358,  2259.9617,  1666.5089,  3055.2104], dtype=float32),\n",
       " array([-2469.574 ,  1993.951 ,  2013.5536,  2868.3208], dtype=float32),\n",
       " array([-2704.5444,  2056.6057,  1601.3616,  2714.8752], dtype=float32),\n",
       " array([-1916.8461,  1936.3715,  1684.7803,  2456.5054], dtype=float32),\n",
       " array([-2604.2534,  2179.7725,  1901.4996,  3151.3462], dtype=float32),\n",
       " array([-2966.964 ,  2571.8396,  2179.1523,  3126.571 ], dtype=float32),\n",
       " array([-2681.4602,  1579.4071,  1097.9232,  2943.9783], dtype=float32),\n",
       " array([-2583.721 ,  1542.524 ,   985.2384,  2998.7341], dtype=float32),\n",
       " array([-3238.2595,  2417.8674,  1224.7998,  2641.2908], dtype=float32),\n",
       " array([-2999.3389,  2311.0881,  1994.908 ,  3391.4807], dtype=float32),\n",
       " array([-2614.3518,  2249.744 ,  2064.219 ,  2940.1086], dtype=float32),\n",
       " array([-2886.4697,  2035.1082,  1751.7551,  3343.8757], dtype=float32),\n",
       " array([-3405.0256,  2709.9126,  1645.9874,  3020.8953], dtype=float32),\n",
       " array([-3220.8442,  2328.2812,  1578.3033,  3258.6453], dtype=float32),\n",
       " array([-3057.1316,  1842.3721,  1034.8992,  3308.7898], dtype=float32),\n",
       " array([-3120.2153,  2520.7375,  1911.6968,  3207.6326], dtype=float32),\n",
       " array([-2501.3267,  2288.697 ,  2276.1687,  2991.0022], dtype=float32),\n",
       " array([-1262.9648,  1934.4464,  1576.1426,  2642.7554], dtype=float32),\n",
       " array([-2461.6294,  2105.9475,  1963.2421,  3289.056 ], dtype=float32),\n",
       " array([-1819.7301,  2105.6323,  1088.7362,  3026.659 ], dtype=float32),\n",
       " array([-2142.8457,  2204.2583,  2051.3066,  2677.238 ], dtype=float32),\n",
       " array([-2623.3076,  2327.7925,  1926.0277,  2902.2515], dtype=float32),\n",
       " array([-3074.705 ,  2446.2197,  1904.2667,  3259.5635], dtype=float32),\n",
       " array([-678.65015, 1676.0516 , 1446.5074 , 2157.464  ], dtype=float32),\n",
       " array([-2577.638 ,  2239.351 ,  1986.0774,  2792.934 ], dtype=float32),\n",
       " array([-3307.202 ,  2637.5496,  1628.7057,  2953.0662], dtype=float32),\n",
       " array([-2856.1616,  2522.281 ,  2083.2715,  2784.4263], dtype=float32),\n",
       " array([-3140.259 ,  2247.1958,  1590.2855,  3231.5188], dtype=float32),\n",
       " array([-3102.0393,  2111.7966,   686.0871,  2375.281 ], dtype=float32)]"
      ]
     },
     "execution_count": 53,
     "metadata": {},
     "output_type": "execute_result"
    }
   ],
   "source": [
    "Classify_layer_pred"
   ]
  },
  {
   "cell_type": "code",
   "execution_count": 54,
   "metadata": {},
   "outputs": [],
   "source": [
    "Classify_layer_pred = np.stack(Classify_layer_pred, axis=0)"
   ]
  },
  {
   "cell_type": "code",
   "execution_count": 55,
   "metadata": {},
   "outputs": [
    {
     "data": {
      "text/plain": [
       "array([[ 6704.07   , -1319.8153 ,  1028.9525 , -1859.3843 ],\n",
       "       [ 6958.9204 , -1407.0354 ,  1011.8477 , -2040.3275 ],\n",
       "       [ 7019.128  , -1399.8795 ,   928.99396, -1918.8816 ],\n",
       "       [ 6805.9556 , -1441.0592 ,   693.7828 , -1677.8171 ],\n",
       "       [ 7741.8223 , -1419.1614 ,   926.41547, -2199.0652 ],\n",
       "       [ 7784.2417 , -1706.6943 ,   707.7316 , -2108.802  ],\n",
       "       [ 8248.719  , -1791.8871 ,   622.2016 , -2439.042  ],\n",
       "       [ 8078.9155 , -1765.3156 ,   575.6425 , -2318.478  ],\n",
       "       [ 7491.7363 , -1541.6936 ,   833.9101 , -2093.327  ],\n",
       "       [ 6709.4614 , -1272.1573 ,   784.5096 , -1651.8436 ],\n",
       "       [ 7500.2363 , -1517.932  ,   770.4339 , -2134.264  ],\n",
       "       [ 7549.655  , -1465.1884 ,   686.5883 , -2204.5667 ],\n",
       "       [11213.847  , -3364.4211 , -1028.0822 , -3257.826  ],\n",
       "       [ 7745.6675 , -1526.8159 ,   627.3079 , -2330.4612 ],\n",
       "       [ 9844.641  , -2528.8425 ,   725.0052 , -3179.467  ],\n",
       "       [ 2495.1895 ,  -618.5751 ,   862.8227 ,   136.20116],\n",
       "       [ 7932.969  , -1727.656  ,   605.6934 , -2233.1335 ],\n",
       "       [ 6895.0615 , -1423.6683 ,   720.9273 , -1643.267  ],\n",
       "       [ 7682.942  , -1532.2413 ,   388.52408, -1901.0621 ],\n",
       "       [ 8413.874  , -1914.4514 ,   542.22626, -2572.236  ],\n",
       "       [ 8545.504  , -1991.3188 ,   781.8167 , -2627.966  ],\n",
       "       [ 7822.7754 , -1607.8022 ,   702.9754 , -2315.0725 ],\n",
       "       [ 8439.459  , -1820.2592 ,   537.3127 , -2505.5928 ],\n",
       "       [ 8903.542  , -2048.689  ,   482.2715 , -2654.3293 ],\n",
       "       [13481.18   , -4049.7185 , -1457.2039 , -4471.993  ],\n",
       "       [13146.849  , -3232.8647 ,  -823.0418 , -4274.325  ],\n",
       "       [ 7312.742  , -1427.0577 ,   651.47675, -1853.3649 ],\n",
       "       [ 8212.614  , -1770.8214 ,   730.8637 , -2459.1067 ],\n",
       "       [ 6409.2715 , -1289.4855 ,   940.1857 , -1588.2662 ],\n",
       "       [ 7348.575  , -1388.5201 ,   884.8051 , -2062.898  ],\n",
       "       [ 5746.192  , -1136.9271 ,  1228.1235 , -1270.9503 ],\n",
       "       [ 6535.912  , -1350.0238 ,   929.94867, -1554.797  ],\n",
       "       [ 6259.1797 , -1240.2355 ,   999.4931 , -1426.9366 ],\n",
       "       [ 7242.64   , -1470.4972 ,   981.54645, -2034.0737 ],\n",
       "       [ 7539.368  , -1453.1732 ,   929.50446, -2016.9906 ],\n",
       "       [11002.213  , -2664.5742 ,  -312.81796, -3268.0486 ],\n",
       "       [ 8635.533  , -2017.3073 ,   624.1995 , -2575.3618 ],\n",
       "       [10923.652  , -2624.366  ,  -320.64413, -3200.847  ],\n",
       "       [ 7915.1675 , -1390.6058 ,   749.75507, -2147.1948 ],\n",
       "       [11846.904  , -2928.441  ,  -289.23666, -3815.8518 ],\n",
       "       [ 9919.762  , -2512.872  ,   232.62515, -2920.171  ],\n",
       "       [-3128.7913 ,  4432.611  ,  2623.8696 ,   718.46436],\n",
       "       [-2066.1956 ,  3774.0996 ,  2364.37   ,   554.86   ],\n",
       "       [-3914.375  ,  4294.6333 ,  2021.3273 ,  1393.1669 ],\n",
       "       [-3646.2546 ,  4052.0037 ,  2035.6649 ,  1271.9725 ],\n",
       "       [-3331.7346 ,  4438.804  ,  2717.2305 ,   965.7113 ],\n",
       "       [-3142.417  ,  4044.86   ,  2313.1638 ,   967.6107 ],\n",
       "       [-3321.7925 ,  4237.4434 ,  2443.2595 ,  1116.893  ],\n",
       "       [-2297.6094 ,  3899.9238 ,  2897.9194 ,   551.12415],\n",
       "       [-3167.5688 ,  4095.6045 ,  2382.054  ,   887.9269 ],\n",
       "       [-3901.2805 ,  4502.1714 ,  2156.3909 ,  1127.0292 ],\n",
       "       [-3007.5    ,  4251.581  ,  2819.685  ,   989.4901 ],\n",
       "       [-2179.811  ,  4377.835  ,  1716.0203 ,   795.5272 ],\n",
       "       [-3061.0823 ,  4117.6763 ,  2703.4536 ,  1063.3424 ],\n",
       "       [-2177.2588 ,  3788.9163 ,  2452.6572 ,   388.19006],\n",
       "       [-3627.161  ,  4340.822  ,  2454.709  ,  1129.8564 ],\n",
       "       [-1223.5541 ,  3745.5815 ,  2224.1304 ,   328.1847 ],\n",
       "       [-3453.2139 ,  4198.989  ,  2386.762  ,  1123.7782 ],\n",
       "       [-3159.8228 ,  4599.5796 ,  2606.9297 ,   289.83008],\n",
       "       [-3087.664  ,  4275.1694 ,  2878.6724 ,   857.5049 ],\n",
       "       [-2559.33   ,  4033.3022 ,  2570.7605 ,   497.4779 ],\n",
       "       [-3395.504  ,  4168.943  ,  2351.6567 ,  1106.9393 ],\n",
       "       [-1438.4126 ,  3630.8035 ,  2227.593  ,   361.4049 ],\n",
       "       [-3362.7307 ,  4393.1196 ,  2648.5742 ,   966.0166 ],\n",
       "       [-2218.3174 ,  3904.5188 ,  2610.4966 ,   481.302  ],\n",
       "       [-3686.666  ,  4531.5093 ,  2405.3577 ,   694.136  ],\n",
       "       [-2838.7305 ,  4237.6987 ,  2601.3882 ,   733.4177 ],\n",
       "       [-1055.897  ,  3246.4546 ,  1323.5441 ,   576.2355 ],\n",
       "       [-2631.0771 ,  4482.525  ,  2552.171  ,   134.14122],\n",
       "       [-3006.6875 ,  4279.726  ,  2751.151  ,   718.7162 ],\n",
       "       [-3394.789  ,  4308.383  ,  2700.2026 ,  1328.3893 ],\n",
       "       [-3492.8997 ,  3820.4382 ,  2294.375  ,  1912.0706 ],\n",
       "       [-3447.1672 ,  4035.8542 ,  2521.6316 ,  1799.3212 ],\n",
       "       [-3747.1697 ,  4082.0803 ,  2299.834  ,  2091.9373 ],\n",
       "       [ -158.89291,  3272.547  ,  1430.6356 ,   371.2782 ],\n",
       "       [-1444.1069 ,  3421.1978 ,  1566.5978 ,  1150.4473 ],\n",
       "       [-1738.0643 ,  3325.9514 ,  1752.0691 ,  1289.8171 ],\n",
       "       [-3665.316  ,  4055.2007 ,  2247.1038 ,  1726.5944 ],\n",
       "       [-3373.8706 ,  3832.753  ,  2164.7983 ,  1490.9637 ],\n",
       "       [-3429.0532 ,  3819.4998 ,  2457.7285 ,  1885.9862 ],\n",
       "       [-4030.978  ,  4549.47   ,  2179.1182 ,  1408.0571 ],\n",
       "       [-3383.922  ,  3864.2146 ,  2366.1785 ,  1597.5077 ],\n",
       "       [-3369.4731 ,  4265.975  ,  2361.7407 ,  1116.5223 ],\n",
       "       [-3282.31   ,  3981.4092 ,  2416.5073 ,  1518.6482 ],\n",
       "       [-3229.8345 ,  4129.7583 ,  2544.6304 ,  1393.2584 ],\n",
       "       [-1062.0164 ,  1697.536  ,  3475.8003 ,   682.0028 ],\n",
       "       [-1065.3112 ,  1799.5148 ,  3490.0283 ,   733.2361 ],\n",
       "       [ -894.82166,  1615.0492 ,  3441.8777 ,   685.4894 ],\n",
       "       [-1114.2246 ,  1664.7218 ,  3606.9795 ,  1153.2034 ],\n",
       "       [-1675.8162 ,  2141.1902 ,  2846.1287 ,   823.1157 ],\n",
       "       [-1421.637  ,  1794.7229 ,  2984.695  ,   871.17285],\n",
       "       [-1226.5325 ,  1660.6342 ,  3286.456  ,  1148.23   ],\n",
       "       [-2403.1123 ,  1497.7075 ,  1166.4758 ,  2388.3767 ],\n",
       "       [-2375.0198 ,  1383.3584 ,  1114.6825 ,  2442.1863 ],\n",
       "       [-2223.142  ,  1613.7115 ,  2102.3875 ,  2520.4475 ],\n",
       "       [-2449.5664 ,  1637.1534 ,  1794.3761 ,  2671.5195 ],\n",
       "       [-2441.2192 ,  1769.0051 ,  2090.9595 ,  2744.1545 ],\n",
       "       [-2400.1172 ,  1689.9271 ,  2055.0005 ,  2647.1704 ],\n",
       "       [-2121.4526 ,  1510.3419 ,  2108.2026 ,  2667.5574 ],\n",
       "       [-2071.9143 ,  1509.7042 ,  2239.0244 ,  2677.0964 ],\n",
       "       [-2315.1592 ,  1627.6241 ,  2134.2158 ,  2941.7488 ],\n",
       "       [-2218.4028 ,  1646.6061 ,  2185.9617 ,  2766.1343 ],\n",
       "       [-2388.577  ,  1790.1307 ,  1836.1466 ,  3042.9587 ],\n",
       "       [-2503.8225 ,  1981.5751 ,  1890.4418 ,  2934.7917 ],\n",
       "       [-2556.6995 ,  1912.8583 ,  1671.4869 ,  2969.6829 ],\n",
       "       [-2370.793  ,  1812.5575 ,  2280.0366 ,  2814.559  ],\n",
       "       [-2135.8394 ,  1634.1022 ,  2438.7974 ,  2772.8032 ],\n",
       "       [-2624.0776 ,  1809.4967 ,  2157.8677 ,  3107.0618 ],\n",
       "       [-2394.4958 ,  1597.3136 ,  1984.3433 ,  3102.5154 ],\n",
       "       [-2750.7427 ,  2167.8086 ,  1983.3859 ,  3391.2913 ],\n",
       "       [-2555.3357 ,  1820.8295 ,  1565.239  ,  3131.0867 ],\n",
       "       [-2180.7854 ,  1626.5309 ,  2272.5037 ,  2806.6643 ],\n",
       "       [-2148.2825 ,  1473.2836 ,  2026.506  ,  3004.7368 ],\n",
       "       [-2114.5195 ,  1587.3497 ,  2234.3833 ,  2739.4219 ],\n",
       "       [-2690.6577 ,  1811.0243 ,  2040.4501 ,  3263.2827 ],\n",
       "       [-2456.8687 ,  1828.6869 ,  2434.2144 ,  2919.205  ],\n",
       "       [-2203.8774 ,  1504.5021 ,  2069.0752 ,  2967.723  ],\n",
       "       [-2569.8887 ,  1949.8314 ,  2283.8232 ,  2867.3806 ],\n",
       "       [-2565.2466 ,  1753.4755 ,  2123.11   ,  3159.6887 ],\n",
       "       [-2713.8408 ,  1522.1803 ,  1148.0698 ,  3031.4539 ],\n",
       "       [-3118.349  ,  2330.7197 ,  1759.7538 ,  3327.7695 ],\n",
       "       [-2915.5735 ,  2218.7544 ,  1914.1234 ,  3253.2888 ],\n",
       "       [-2607.3535 ,  1947.6993 ,  1936.4102 ,  3381.0715 ],\n",
       "       [-2586.435  ,  1903.2172 ,  1652.6936 ,  2966.4924 ],\n",
       "       [-2869.9182 ,  2061.8298 ,  1714.1317 ,  3157.165  ],\n",
       "       [-2785.5479 ,  2219.553  ,  1734.023  ,  2905.256  ],\n",
       "       [-2923.7358 ,  2259.9617 ,  1666.5089 ,  3055.2104 ],\n",
       "       [-2469.574  ,  1993.951  ,  2013.5536 ,  2868.3208 ],\n",
       "       [-2704.5444 ,  2056.6057 ,  1601.3616 ,  2714.8752 ],\n",
       "       [-1916.8461 ,  1936.3715 ,  1684.7803 ,  2456.5054 ],\n",
       "       [-2604.2534 ,  2179.7725 ,  1901.4996 ,  3151.3462 ],\n",
       "       [-2966.964  ,  2571.8396 ,  2179.1523 ,  3126.571  ],\n",
       "       [-2681.4602 ,  1579.4071 ,  1097.9232 ,  2943.9783 ],\n",
       "       [-2583.721  ,  1542.524  ,   985.2384 ,  2998.7341 ],\n",
       "       [-3238.2595 ,  2417.8674 ,  1224.7998 ,  2641.2908 ],\n",
       "       [-2999.3389 ,  2311.0881 ,  1994.908  ,  3391.4807 ],\n",
       "       [-2614.3518 ,  2249.744  ,  2064.219  ,  2940.1086 ],\n",
       "       [-2886.4697 ,  2035.1082 ,  1751.7551 ,  3343.8757 ],\n",
       "       [-3405.0256 ,  2709.9126 ,  1645.9874 ,  3020.8953 ],\n",
       "       [-3220.8442 ,  2328.2812 ,  1578.3033 ,  3258.6453 ],\n",
       "       [-3057.1316 ,  1842.3721 ,  1034.8992 ,  3308.7898 ],\n",
       "       [-3120.2153 ,  2520.7375 ,  1911.6968 ,  3207.6326 ],\n",
       "       [-2501.3267 ,  2288.697  ,  2276.1687 ,  2991.0022 ],\n",
       "       [-1262.9648 ,  1934.4464 ,  1576.1426 ,  2642.7554 ],\n",
       "       [-2461.6294 ,  2105.9475 ,  1963.2421 ,  3289.056  ],\n",
       "       [-1819.7301 ,  2105.6323 ,  1088.7362 ,  3026.659  ],\n",
       "       [-2142.8457 ,  2204.2583 ,  2051.3066 ,  2677.238  ],\n",
       "       [-2623.3076 ,  2327.7925 ,  1926.0277 ,  2902.2515 ],\n",
       "       [-3074.705  ,  2446.2197 ,  1904.2667 ,  3259.5635 ],\n",
       "       [ -678.65015,  1676.0516 ,  1446.5074 ,  2157.464  ],\n",
       "       [-2577.638  ,  2239.351  ,  1986.0774 ,  2792.934  ],\n",
       "       [-3307.202  ,  2637.5496 ,  1628.7057 ,  2953.0662 ],\n",
       "       [-2856.1616 ,  2522.281  ,  2083.2715 ,  2784.4263 ],\n",
       "       [-3140.259  ,  2247.1958 ,  1590.2855 ,  3231.5188 ],\n",
       "       [-3102.0393 ,  2111.7966 ,   686.0871 ,  2375.281  ]],\n",
       "      dtype=float32)"
      ]
     },
     "execution_count": 55,
     "metadata": {},
     "output_type": "execute_result"
    }
   ],
   "source": [
    "Classify_layer_pred"
   ]
  },
  {
   "cell_type": "code",
   "execution_count": 57,
   "metadata": {},
   "outputs": [],
   "source": [
    "from sklearn.manifold import TSNE\n",
    "import matplotlib.pyplot as plt\n",
    "import matplotlib.cm as cm"
   ]
  },
  {
   "cell_type": "code",
   "execution_count": 58,
   "metadata": {},
   "outputs": [
    {
     "name": "stdout",
     "output_type": "stream",
     "text": [
      "[t-SNE] Computing 31 nearest neighbors...\n",
      "[t-SNE] Indexed 155 samples in 0.014s...\n",
      "[t-SNE] Computed neighbors for 155 samples in 0.260s...\n",
      "[t-SNE] Computed conditional probabilities for sample 155 / 155\n",
      "[t-SNE] Mean sigma: 213.583415\n",
      "[t-SNE] KL divergence after 250 iterations with early exaggeration: 48.020447\n",
      "[t-SNE] KL divergence after 2000 iterations: 0.219417\n"
     ]
    }
   ],
   "source": [
    "Classify_layer_TSNE = TSNE(2, perplexity = 10, learning_rate=10, verbose=1, n_iter=2000, random_state=2020)\n",
    "Y = Classify_layer_TSNE.fit_transform(Classify_layer_pred)"
   ]
  },
  {
   "cell_type": "code",
   "execution_count": 59,
   "metadata": {},
   "outputs": [],
   "source": [
    "colors = cm.rainbow(np.linspace(0, 1, max(trainset.labels).detach().numpy()+1)) "
   ]
  },
  {
   "cell_type": "code",
   "execution_count": 60,
   "metadata": {},
   "outputs": [
    {
     "data": {
      "text/plain": [
       "array([[5.00000000e-01, 0.00000000e+00, 1.00000000e+00, 1.00000000e+00],\n",
       "       [1.66666667e-01, 8.66025404e-01, 8.66025404e-01, 1.00000000e+00],\n",
       "       [8.33333333e-01, 8.66025404e-01, 5.00000000e-01, 1.00000000e+00],\n",
       "       [1.00000000e+00, 1.22464680e-16, 6.12323400e-17, 1.00000000e+00]])"
      ]
     },
     "execution_count": 60,
     "metadata": {},
     "output_type": "execute_result"
    }
   ],
   "source": [
    "colors"
   ]
  },
  {
   "cell_type": "code",
   "execution_count": 65,
   "metadata": {},
   "outputs": [
    {
     "data": {
      "image/png": "[encoded data removed]",
      "text/plain": [
       "<Figure size 864x864 with 1 Axes>"
      ]
     },
     "metadata": {
      "needs_background": "light"
     },
     "output_type": "display_data"
    }
   ],
   "source": [
    "fig = plt.figure(figsize=(12, 12))\n",
    "ax = fig.add_subplot()\n",
    "for i in range(0,max(trainset.labels).detach().numpy()+1):\n",
    "    label_index = (targets == i)\n",
    "    #color_indx = int(trainset.labels[i].detach().numpy());\n",
    "    ax.scatter(Y[label_index, 0], Y[label_index, 1],color=colors[i])\n",
    "#handles, labels = ax.get_legend_handles_labels()\n",
    "plt.legend(list(le.classes_), loc='best')\n",
    "plt.title('TSNE of Classify Layer Output')\n",
    "plt.show()"
   ]
  },
  {
   "cell_type": "code",
   "execution_count": 67,
   "metadata": {},
   "outputs": [],
   "source": [
    "torch.save(model.state_dict(), 'G1')"
   ]
  },
  {
   "cell_type": "code",
   "execution_count": 66,
   "metadata": {},
   "outputs": [
    {
     "data": {
      "text/plain": [
       "['T_destination',\n",
       " '__annotations__',\n",
       " '__call__',\n",
       " '__class__',\n",
       " '__delattr__',\n",
       " '__dict__',\n",
       " '__dir__',\n",
       " '__doc__',\n",
       " '__eq__',\n",
       " '__format__',\n",
       " '__ge__',\n",
       " '__getattr__',\n",
       " '__getattribute__',\n",
       " '__gt__',\n",
       " '__hash__',\n",
       " '__init__',\n",
       " '__init_subclass__',\n",
       " '__le__',\n",
       " '__lt__',\n",
       " '__module__',\n",
       " '__ne__',\n",
       " '__new__',\n",
       " '__reduce__',\n",
       " '__reduce_ex__',\n",
       " '__repr__',\n",
       " '__setattr__',\n",
       " '__setstate__',\n",
       " '__sizeof__',\n",
       " '__str__',\n",
       " '__subclasshook__',\n",
       " '__weakref__',\n",
       " '_apply',\n",
       " '_backward_hooks',\n",
       " '_buffers',\n",
       " '_call_impl',\n",
       " '_forward_hooks',\n",
       " '_forward_pre_hooks',\n",
       " '_forward_unimplemented',\n",
       " '_get_name',\n",
       " '_load_from_state_dict',\n",
       " '_load_state_dict_pre_hooks',\n",
       " '_modules',\n",
       " '_named_members',\n",
       " '_non_persistent_buffers_set',\n",
       " '_parameters',\n",
       " '_register_load_state_dict_pre_hook',\n",
       " '_register_state_dict_hook',\n",
       " '_replicate_for_data_parallel',\n",
       " '_save_to_state_dict',\n",
       " '_slow_forward',\n",
       " '_state_dict_hooks',\n",
       " '_version',\n",
       " 'add_module',\n",
       " 'apply',\n",
       " 'bfloat16',\n",
       " 'buffers',\n",
       " 'children',\n",
       " 'classify',\n",
       " 'conv1',\n",
       " 'conv2',\n",
       " 'cpu',\n",
       " 'cuda',\n",
       " 'double',\n",
       " 'dump_patches',\n",
       " 'eval',\n",
       " 'extra_repr',\n",
       " 'float',\n",
       " 'forward',\n",
       " 'half',\n",
       " 'load_state_dict',\n",
       " 'modules',\n",
       " 'named_buffers',\n",
       " 'named_children',\n",
       " 'named_modules',\n",
       " 'named_parameters',\n",
       " 'parameters',\n",
       " 'register_backward_hook',\n",
       " 'register_buffer',\n",
       " 'register_forward_hook',\n",
       " 'register_forward_pre_hook',\n",
       " 'register_parameter',\n",
       " 'requires_grad_',\n",
       " 'share_memory',\n",
       " 'state_dict',\n",
       " 'to',\n",
       " 'train',\n",
       " 'training',\n",
       " 'type',\n",
       " 'zero_grad']"
      ]
     },
     "execution_count": 66,
     "metadata": {},
     "output_type": "execute_result"
    }
   ],
   "source": [
    "dir(model)"
   ]
  },
  {
   "cell_type": "code",
   "execution_count": null,
   "metadata": {},
   "outputs": [],
   "source": []
  }
 ],
 "metadata": {
  "kernelspec": {
   "display_name": "Python 3",
   "language": "python",
   "name": "python3"
  },
  "language_info": {
   "codemirror_mode": {
    "name": "ipython",
    "version": 3
   },
   "file_extension": ".py",
   "mimetype": "text/x-python",
   "name": "python",
   "nbconvert_exporter": "python",
   "pygments_lexer": "ipython3",
   "version": "3.7.9"
  }
 },
 "nbformat": 4,
 "nbformat_minor": 2
}
