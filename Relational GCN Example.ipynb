{
 "cells": [
  {
   "cell_type": "code",
   "execution_count": 25,
   "metadata": {},
   "outputs": [],
   "source": [
    "import torch\n",
    "import torch.nn as nn\n",
    "import torch.nn.functional as F\n",
    "from dgl import DGLGraph\n",
    "import dgl.function as fn\n",
    "from functools import partial"
   ]
  },
  {
   "cell_type": "code",
   "execution_count": 2,
   "metadata": {},
   "outputs": [],
   "source": [
    "from dgl.contrib.data import load_data"
   ]
  },
  {
   "cell_type": "code",
   "execution_count": 3,
   "metadata": {},
   "outputs": [
    {
     "name": "stdout",
     "output_type": "stream",
     "text": [
      "Downloading C:\\Users\\ME\\.dgl\\aifb.tgz from https://data.dgl.ai/dataset/aifb.tgz...\n",
      "Loading dataset aifb\n",
      "Number of nodes:  8285\n",
      "Number of edges:  66371\n",
      "Number of relations:  91\n",
      "Number of classes:  4\n",
      "removing nodes that are more than 3 hops away\n"
     ]
    }
   ],
   "source": [
    "data = load_data(dataset='aifb')\n",
    "num_nodes = data.num_nodes\n",
    "num_rels = data.num_rels\n",
    "num_classes = data.num_classes\n",
    "labels = data.labels\n",
    "train_idx = data.train_idx\n",
    "# split training and validation set\n",
    "val_idx = train_idx[:len(train_idx) // 5]\n",
    "train_idx = train_idx[len(train_idx) // 5:]\n",
    "\n",
    "# edge type and normalization factor\n",
    "edge_type = torch.from_numpy(data.edge_type)\n",
    "edge_norm = torch.from_numpy(data.edge_norm).unsqueeze(1)\n",
    "\n",
    "labels = torch.from_numpy(labels).view(-1)"
   ]
  },
  {
   "cell_type": "code",
   "execution_count": 5,
   "metadata": {},
   "outputs": [
    {
     "data": {
      "text/plain": [
       "['__class__',\n",
       " '__delattr__',\n",
       " '__dict__',\n",
       " '__dir__',\n",
       " '__doc__',\n",
       " '__eq__',\n",
       " '__format__',\n",
       " '__ge__',\n",
       " '__getattribute__',\n",
       " '__gt__',\n",
       " '__hash__',\n",
       " '__init__',\n",
       " '__init_subclass__',\n",
       " '__le__',\n",
       " '__lt__',\n",
       " '__module__',\n",
       " '__ne__',\n",
       " '__new__',\n",
       " '__reduce__',\n",
       " '__reduce_ex__',\n",
       " '__repr__',\n",
       " '__setattr__',\n",
       " '__sizeof__',\n",
       " '__str__',\n",
       " '__subclasshook__',\n",
       " '__weakref__',\n",
       " 'dir',\n",
       " 'edge_dst',\n",
       " 'edge_norm',\n",
       " 'edge_src',\n",
       " 'edge_type',\n",
       " 'labels',\n",
       " 'load',\n",
       " 'name',\n",
       " 'num_classes',\n",
       " 'num_nodes',\n",
       " 'num_rels',\n",
       " 'test_idx',\n",
       " 'train_idx']"
      ]
     },
     "execution_count": 5,
     "metadata": {},
     "output_type": "execute_result"
    }
   ],
   "source": [
    "dir(data)"
   ]
  },
  {
   "cell_type": "code",
   "execution_count": 6,
   "metadata": {},
   "outputs": [
    {
     "data": {
      "text/plain": [
       "matrix([[0],\n",
       "        [0],\n",
       "        [0],\n",
       "        ...,\n",
       "        [0],\n",
       "        [0],\n",
       "        [0]])"
      ]
     },
     "execution_count": 6,
     "metadata": {},
     "output_type": "execute_result"
    }
   ],
   "source": [
    "data.labels"
   ]
  },
  {
   "cell_type": "code",
   "execution_count": 7,
   "metadata": {},
   "outputs": [
    {
     "data": {
      "text/plain": [
       "(8285, 1)"
      ]
     },
     "execution_count": 7,
     "metadata": {},
     "output_type": "execute_result"
    }
   ],
   "source": [
    "data.labels.shape"
   ]
  },
  {
   "cell_type": "code",
   "execution_count": 10,
   "metadata": {},
   "outputs": [
    {
     "data": {
      "text/plain": [
       "matrix([[3]])"
      ]
     },
     "execution_count": 10,
     "metadata": {},
     "output_type": "execute_result"
    }
   ],
   "source": [
    "max(data.labels)"
   ]
  },
  {
   "cell_type": "code",
   "execution_count": 14,
   "metadata": {},
   "outputs": [
    {
     "data": {
      "text/plain": [
       "(65439,)"
      ]
     },
     "execution_count": 14,
     "metadata": {},
     "output_type": "execute_result"
    }
   ],
   "source": [
    "data.edge_dst.shape"
   ]
  },
  {
   "cell_type": "code",
   "execution_count": 17,
   "metadata": {},
   "outputs": [
    {
     "data": {
      "text/plain": [
       "(65439,)"
      ]
     },
     "execution_count": 17,
     "metadata": {},
     "output_type": "execute_result"
    }
   ],
   "source": [
    "data.edge_norm.shape"
   ]
  },
  {
   "cell_type": "code",
   "execution_count": 18,
   "metadata": {},
   "outputs": [
    {
     "data": {
      "text/plain": [
       "tensor([0, 1, 2, 3, 4, 5, 6, 7, 8, 9])"
      ]
     },
     "execution_count": 18,
     "metadata": {},
     "output_type": "execute_result"
    }
   ],
   "source": [
    "torch.arange(10)"
   ]
  },
  {
   "cell_type": "code",
   "execution_count": 20,
   "metadata": {},
   "outputs": [
    {
     "data": {
      "text/plain": [
       "array([   0,    0,    1, ..., 8283, 8284, 8284])"
      ]
     },
     "execution_count": 20,
     "metadata": {},
     "output_type": "execute_result"
    }
   ],
   "source": [
    "data.edge_dst"
   ]
  },
  {
   "cell_type": "code",
   "execution_count": 21,
   "metadata": {},
   "outputs": [
    {
     "data": {
      "text/plain": [
       "(65439,)"
      ]
     },
     "execution_count": 21,
     "metadata": {},
     "output_type": "execute_result"
    }
   ],
   "source": [
    "data.edge_dst.shape"
   ]
  },
  {
   "cell_type": "code",
   "execution_count": 22,
   "metadata": {},
   "outputs": [
    {
     "data": {
      "text/plain": [
       "91"
      ]
     },
     "execution_count": 22,
     "metadata": {},
     "output_type": "execute_result"
    }
   ],
   "source": [
    "data.num_rels"
   ]
  },
  {
   "cell_type": "code",
   "execution_count": 26,
   "metadata": {},
   "outputs": [],
   "source": [
    "class RGCNLayer(nn.Module):\n",
    "    def __init__(self, in_feat, out_feat, num_rels, num_bases=-1, bias=None,\n",
    "                 activation=None, is_input_layer=False):\n",
    "        super(RGCNLayer, self).__init__()\n",
    "        self.in_feat = in_feat\n",
    "        self.out_feat = out_feat\n",
    "        self.num_rels = num_rels\n",
    "        self.num_bases = num_bases\n",
    "        self.bias = bias\n",
    "        self.activation = activation\n",
    "        self.is_input_layer = is_input_layer\n",
    "\n",
    "        # sanity check\n",
    "        if self.num_bases <= 0 or self.num_bases > self.num_rels:\n",
    "            self.num_bases = self.num_rels\n",
    "\n",
    "        # weight bases in equation (3)\n",
    "        self.weight = nn.Parameter(torch.Tensor(self.num_bases, self.in_feat,\n",
    "                                                self.out_feat))\n",
    "        if self.num_bases < self.num_rels:\n",
    "            # linear combination coefficients in equation (3)\n",
    "            self.w_comp = nn.Parameter(torch.Tensor(self.num_rels, self.num_bases))\n",
    "\n",
    "        # add bias\n",
    "        if self.bias:\n",
    "            self.bias = nn.Parameter(torch.Tensor(out_feat))\n",
    "\n",
    "        # init trainable parameters\n",
    "        nn.init.xavier_uniform_(self.weight,\n",
    "                                gain=nn.init.calculate_gain('relu'))\n",
    "        if self.num_bases < self.num_rels:\n",
    "            nn.init.xavier_uniform_(self.w_comp,\n",
    "                                    gain=nn.init.calculate_gain('relu'))\n",
    "        if self.bias:\n",
    "            nn.init.xavier_uniform_(self.bias,\n",
    "                                    gain=nn.init.calculate_gain('relu'))\n",
    "\n",
    "    def forward(self, g):\n",
    "        if self.num_bases < self.num_rels:\n",
    "            # generate all weights from bases (equation (3))\n",
    "            weight = self.weight.view(self.in_feat, self.num_bases, self.out_feat)\n",
    "            weight = torch.matmul(self.w_comp, weight).view(self.num_rels,\n",
    "                                                        self.in_feat, self.out_feat)\n",
    "        else:\n",
    "            weight = self.weight\n",
    "\n",
    "        if self.is_input_layer:\n",
    "            def message_func(edges):\n",
    "                # for input layer, matrix multiply can be converted to be\n",
    "                # an embedding lookup using source node id\n",
    "                embed = weight.view(-1, self.out_feat)\n",
    "                index = edges.data['rel_type'] * self.in_feat + edges.src['id']\n",
    "                return {'msg': embed[index] * edges.data['norm']}\n",
    "        else:\n",
    "            def message_func(edges):\n",
    "                w = weight[edges.data['rel_type']]\n",
    "                msg = torch.bmm(edges.src['h'].unsqueeze(1), w).squeeze()\n",
    "                msg = msg * edges.data['norm']\n",
    "                return {'msg': msg}\n",
    "\n",
    "        def apply_func(nodes):\n",
    "            h = nodes.data['h']\n",
    "            if self.bias:\n",
    "                h = h + self.bias\n",
    "            if self.activation:\n",
    "                h = self.activation(h)\n",
    "            return {'h': h}\n",
    "\n",
    "        g.update_all(message_func, fn.sum(msg='msg', out='h'), apply_func)"
   ]
  },
  {
   "cell_type": "code",
   "execution_count": 27,
   "metadata": {},
   "outputs": [],
   "source": [
    "class Model(nn.Module):\n",
    "    def __init__(self, num_nodes, h_dim, out_dim, num_rels,\n",
    "                 num_bases=-1, num_hidden_layers=1):\n",
    "        super(Model, self).__init__()\n",
    "        self.num_nodes = num_nodes\n",
    "        self.h_dim = h_dim\n",
    "        self.out_dim = out_dim\n",
    "        self.num_rels = num_rels\n",
    "        self.num_bases = num_bases\n",
    "        self.num_hidden_layers = num_hidden_layers\n",
    "\n",
    "        # create rgcn layers\n",
    "        self.build_model()\n",
    "\n",
    "        # create initial features\n",
    "        self.features = self.create_features()\n",
    "\n",
    "    def build_model(self):\n",
    "        self.layers = nn.ModuleList()\n",
    "        # input to hidden\n",
    "        i2h = self.build_input_layer()\n",
    "        self.layers.append(i2h)\n",
    "        # hidden to hidden\n",
    "        for _ in range(self.num_hidden_layers):\n",
    "            h2h = self.build_hidden_layer()\n",
    "            self.layers.append(h2h)\n",
    "        # hidden to output\n",
    "        h2o = self.build_output_layer()\n",
    "        self.layers.append(h2o)\n",
    "\n",
    "    # initialize feature for each node\n",
    "    def create_features(self):\n",
    "        features = torch.arange(self.num_nodes)\n",
    "        return features\n",
    "\n",
    "    def build_input_layer(self):\n",
    "        return RGCNLayer(self.num_nodes, self.h_dim, self.num_rels, self.num_bases,\n",
    "                         activation=F.relu, is_input_layer=True)\n",
    "\n",
    "    def build_hidden_layer(self):\n",
    "        return RGCNLayer(self.h_dim, self.h_dim, self.num_rels, self.num_bases,\n",
    "                         activation=F.relu)\n",
    "\n",
    "    def build_output_layer(self):\n",
    "        return RGCNLayer(self.h_dim, self.out_dim, self.num_rels, self.num_bases,\n",
    "                         activation=partial(F.softmax, dim=1))\n",
    "\n",
    "    def forward(self, g):\n",
    "        if self.features is not None:\n",
    "            g.ndata['id'] = self.features\n",
    "        for layer in self.layers:\n",
    "            layer(g)\n",
    "        return g.ndata.pop('h')"
   ]
  },
  {
   "cell_type": "code",
   "execution_count": 39,
   "metadata": {},
   "outputs": [],
   "source": [
    "# configurations\n",
    "n_hidden = 16 # number of hidden units\n",
    "n_bases = -1 # use number of relations as number of bases\n",
    "n_hidden_layers = 0 # use 1 input layer, 1 output layer, no hidden layer\n",
    "n_epochs = 25 # epochs to train\n",
    "lr = 0.01 # learning rate\n",
    "l2norm = 0 # L2 norm coefficient\n",
    "\n",
    "# create graph\n",
    "g = DGLGraph((data.edge_src, data.edge_dst))\n",
    "g.edata.update({'rel_type': edge_type.long(), 'norm': edge_norm.long()})\n",
    "\n",
    "# create model\n",
    "model = Model(len(g),\n",
    "              n_hidden,\n",
    "              num_classes,\n",
    "              num_rels,\n",
    "              num_bases=n_bases,\n",
    "              num_hidden_layers=n_hidden_layers)"
   ]
  },
  {
   "cell_type": "code",
   "execution_count": 44,
   "metadata": {},
   "outputs": [
    {
     "name": "stdout",
     "output_type": "stream",
     "text": [
      "start training...\n",
      "Epoch 00000 | Train Accuracy: 0.9554 | Train Loss: 1.3717 | Validation Accuracy: 0.6786 | Validation loss: 1.3810\n",
      "Epoch 00001 | Train Accuracy: 0.9464 | Train Loss: 1.3520 | Validation Accuracy: 0.7500 | Validation loss: 1.3744\n",
      "Epoch 00002 | Train Accuracy: 0.9554 | Train Loss: 1.3256 | Validation Accuracy: 0.7500 | Validation loss: 1.3661\n",
      "Epoch 00003 | Train Accuracy: 0.9554 | Train Loss: 1.2922 | Validation Accuracy: 0.7500 | Validation loss: 1.3549\n",
      "Epoch 00004 | Train Accuracy: 0.9554 | Train Loss: 1.2534 | Validation Accuracy: 0.7143 | Validation loss: 1.3418\n",
      "Epoch 00005 | Train Accuracy: 0.9732 | Train Loss: 1.2107 | Validation Accuracy: 0.7500 | Validation loss: 1.3267\n",
      "Epoch 00006 | Train Accuracy: 0.9732 | Train Loss: 1.1656 | Validation Accuracy: 0.7500 | Validation loss: 1.3099\n",
      "Epoch 00007 | Train Accuracy: 0.9732 | Train Loss: 1.1198 | Validation Accuracy: 0.7500 | Validation loss: 1.2915\n",
      "Epoch 00008 | Train Accuracy: 0.9732 | Train Loss: 1.0746 | Validation Accuracy: 0.7500 | Validation loss: 1.2716\n",
      "Epoch 00009 | Train Accuracy: 0.9732 | Train Loss: 1.0311 | Validation Accuracy: 0.7500 | Validation loss: 1.2507\n",
      "Epoch 00010 | Train Accuracy: 0.9732 | Train Loss: 0.9905 | Validation Accuracy: 0.7500 | Validation loss: 1.2292\n",
      "Epoch 00011 | Train Accuracy: 0.9732 | Train Loss: 0.9534 | Validation Accuracy: 0.7500 | Validation loss: 1.2078\n",
      "Epoch 00012 | Train Accuracy: 0.9732 | Train Loss: 0.9203 | Validation Accuracy: 0.7143 | Validation loss: 1.1871\n",
      "Epoch 00013 | Train Accuracy: 0.9821 | Train Loss: 0.8913 | Validation Accuracy: 0.7500 | Validation loss: 1.1675\n",
      "Epoch 00014 | Train Accuracy: 0.9821 | Train Loss: 0.8663 | Validation Accuracy: 0.7857 | Validation loss: 1.1494\n",
      "Epoch 00015 | Train Accuracy: 0.9821 | Train Loss: 0.8451 | Validation Accuracy: 0.7857 | Validation loss: 1.1327\n",
      "Epoch 00016 | Train Accuracy: 0.9821 | Train Loss: 0.8274 | Validation Accuracy: 0.7857 | Validation loss: 1.1175\n",
      "Epoch 00017 | Train Accuracy: 0.9821 | Train Loss: 0.8128 | Validation Accuracy: 0.7857 | Validation loss: 1.1038\n",
      "Epoch 00018 | Train Accuracy: 0.9821 | Train Loss: 0.8009 | Validation Accuracy: 0.7857 | Validation loss: 1.0912\n",
      "Epoch 00019 | Train Accuracy: 0.9821 | Train Loss: 0.7913 | Validation Accuracy: 0.8214 | Validation loss: 1.0799\n",
      "Epoch 00020 | Train Accuracy: 0.9821 | Train Loss: 0.7835 | Validation Accuracy: 0.8214 | Validation loss: 1.0696\n",
      "Epoch 00021 | Train Accuracy: 0.9821 | Train Loss: 0.7772 | Validation Accuracy: 0.8214 | Validation loss: 1.0603\n",
      "Epoch 00022 | Train Accuracy: 0.9821 | Train Loss: 0.7721 | Validation Accuracy: 0.8214 | Validation loss: 1.0519\n",
      "Epoch 00023 | Train Accuracy: 1.0000 | Train Loss: 0.7678 | Validation Accuracy: 0.8214 | Validation loss: 1.0444\n",
      "Epoch 00024 | Train Accuracy: 1.0000 | Train Loss: 0.7642 | Validation Accuracy: 0.8214 | Validation loss: 1.0377\n"
     ]
    }
   ],
   "source": [
    "# optimizer\n",
    "optimizer = torch.optim.Adam(model.parameters(), lr=lr, weight_decay=l2norm)\n",
    "\n",
    "print(\"start training...\")\n",
    "model.train()\n",
    "for epoch in range(n_epochs):\n",
    "    optimizer.zero_grad()\n",
    "    logits = model.forward(g)\n",
    "    loss = F.cross_entropy(logits[train_idx], labels[train_idx].long())\n",
    "    loss.backward()\n",
    "\n",
    "    optimizer.step()\n",
    "\n",
    "    train_acc = torch.sum(logits[train_idx].argmax(dim=1) == labels[train_idx])\n",
    "    train_acc = train_acc.item() / len(train_idx)\n",
    "    val_loss = F.cross_entropy(logits[val_idx], labels[val_idx].long())\n",
    "    val_acc = torch.sum(logits[val_idx].argmax(dim=1) == labels[val_idx])\n",
    "    val_acc = val_acc.item() / len(val_idx)\n",
    "    print(\"Epoch {:05d} | \".format(epoch) +\n",
    "          \"Train Accuracy: {:.4f} | Train Loss: {:.4f} | \".format(\n",
    "              train_acc, loss.item()) +\n",
    "          \"Validation Accuracy: {:.4f} | Validation loss: {:.4f}\".format(\n",
    "              val_acc, val_loss.item()))"
   ]
  },
  {
   "cell_type": "code",
   "execution_count": 41,
   "metadata": {},
   "outputs": [
    {
     "data": {
      "text/plain": [
       "tensor([[0.2543, 0.2457, 0.2500, 0.2500],\n",
       "        [0.2510, 0.2480, 0.2521, 0.2489],\n",
       "        [0.2520, 0.2508, 0.2501, 0.2472],\n",
       "        [0.2501, 0.2494, 0.2496, 0.2509],\n",
       "        [0.2524, 0.2479, 0.2501, 0.2497],\n",
       "        [0.2503, 0.2497, 0.2519, 0.2481],\n",
       "        [0.2511, 0.2504, 0.2503, 0.2482],\n",
       "        [0.2498, 0.2507, 0.2520, 0.2475],\n",
       "        [0.2531, 0.2478, 0.2491, 0.2500],\n",
       "        [0.2501, 0.2492, 0.2511, 0.2496],\n",
       "        [0.2515, 0.2492, 0.2494, 0.2500],\n",
       "        [0.2514, 0.2494, 0.2494, 0.2498],\n",
       "        [0.2522, 0.2488, 0.2503, 0.2488],\n",
       "        [0.2511, 0.2497, 0.2493, 0.2499],\n",
       "        [0.2499, 0.2506, 0.2493, 0.2502],\n",
       "        [0.2509, 0.2495, 0.2513, 0.2484],\n",
       "        [0.2509, 0.2497, 0.2500, 0.2493],\n",
       "        [0.2512, 0.2494, 0.2497, 0.2497],\n",
       "        [0.2507, 0.2495, 0.2506, 0.2492],\n",
       "        [0.2497, 0.2500, 0.2502, 0.2501],\n",
       "        [0.2492, 0.2501, 0.2520, 0.2487],\n",
       "        [0.2500, 0.2507, 0.2496, 0.2497],\n",
       "        [0.2484, 0.2504, 0.2514, 0.2498],\n",
       "        [0.2478, 0.2510, 0.2509, 0.2502],\n",
       "        [0.2520, 0.2481, 0.2502, 0.2498],\n",
       "        [0.2503, 0.2482, 0.2497, 0.2518],\n",
       "        [0.2489, 0.2496, 0.2507, 0.2509],\n",
       "        [0.2509, 0.2495, 0.2494, 0.2503],\n",
       "        [0.2538, 0.2488, 0.2471, 0.2502],\n",
       "        [0.2519, 0.2481, 0.2502, 0.2498],\n",
       "        [0.2506, 0.2495, 0.2508, 0.2492],\n",
       "        [0.2503, 0.2496, 0.2504, 0.2497],\n",
       "        [0.2547, 0.2482, 0.2506, 0.2466],\n",
       "        [0.2501, 0.2508, 0.2497, 0.2494],\n",
       "        [0.2513, 0.2472, 0.2494, 0.2521],\n",
       "        [0.2515, 0.2505, 0.2487, 0.2493],\n",
       "        [0.2497, 0.2505, 0.2511, 0.2487],\n",
       "        [0.2517, 0.2493, 0.2502, 0.2489],\n",
       "        [0.2508, 0.2487, 0.2511, 0.2494],\n",
       "        [0.2507, 0.2491, 0.2493, 0.2509],\n",
       "        [0.2505, 0.2504, 0.2510, 0.2481],\n",
       "        [0.2522, 0.2490, 0.2482, 0.2506],\n",
       "        [0.2506, 0.2491, 0.2506, 0.2498],\n",
       "        [0.2501, 0.2470, 0.2491, 0.2538],\n",
       "        [0.2538, 0.2471, 0.2497, 0.2493],\n",
       "        [0.2504, 0.2495, 0.2509, 0.2492],\n",
       "        [0.2520, 0.2491, 0.2483, 0.2505],\n",
       "        [0.2526, 0.2481, 0.2495, 0.2497],\n",
       "        [0.2512, 0.2480, 0.2500, 0.2507],\n",
       "        [0.2514, 0.2503, 0.2505, 0.2478],\n",
       "        [0.2499, 0.2500, 0.2518, 0.2482],\n",
       "        [0.2488, 0.2537, 0.2499, 0.2476],\n",
       "        [0.2492, 0.2489, 0.2511, 0.2507],\n",
       "        [0.2495, 0.2493, 0.2513, 0.2498],\n",
       "        [0.2505, 0.2496, 0.2517, 0.2481],\n",
       "        [0.2497, 0.2510, 0.2511, 0.2481],\n",
       "        [0.2506, 0.2488, 0.2500, 0.2506],\n",
       "        [0.2510, 0.2499, 0.2493, 0.2497],\n",
       "        [0.2517, 0.2485, 0.2512, 0.2486],\n",
       "        [0.2516, 0.2504, 0.2507, 0.2473],\n",
       "        [0.2496, 0.2490, 0.2496, 0.2518],\n",
       "        [0.2496, 0.2503, 0.2525, 0.2476],\n",
       "        [0.2488, 0.2497, 0.2500, 0.2515],\n",
       "        [0.2518, 0.2499, 0.2498, 0.2485],\n",
       "        [0.2520, 0.2487, 0.2481, 0.2513],\n",
       "        [0.2487, 0.2526, 0.2505, 0.2482],\n",
       "        [0.2507, 0.2501, 0.2511, 0.2481],\n",
       "        [0.2502, 0.2507, 0.2508, 0.2482],\n",
       "        [0.2507, 0.2499, 0.2482, 0.2512],\n",
       "        [0.2497, 0.2489, 0.2513, 0.2501],\n",
       "        [0.2515, 0.2472, 0.2495, 0.2518],\n",
       "        [0.2484, 0.2510, 0.2499, 0.2507],\n",
       "        [0.2512, 0.2505, 0.2486, 0.2497],\n",
       "        [0.2515, 0.2507, 0.2479, 0.2498],\n",
       "        [0.2491, 0.2488, 0.2497, 0.2524],\n",
       "        [0.2498, 0.2497, 0.2506, 0.2500],\n",
       "        [0.2508, 0.2495, 0.2500, 0.2497],\n",
       "        [0.2531, 0.2490, 0.2488, 0.2492],\n",
       "        [0.2508, 0.2498, 0.2500, 0.2494],\n",
       "        [0.2506, 0.2501, 0.2516, 0.2477],\n",
       "        [0.2537, 0.2471, 0.2492, 0.2500],\n",
       "        [0.2511, 0.2505, 0.2499, 0.2485],\n",
       "        [0.2509, 0.2498, 0.2509, 0.2484],\n",
       "        [0.2509, 0.2512, 0.2513, 0.2466],\n",
       "        [0.2501, 0.2490, 0.2510, 0.2500],\n",
       "        [0.2516, 0.2491, 0.2497, 0.2495],\n",
       "        [0.2505, 0.2499, 0.2509, 0.2486],\n",
       "        [0.2507, 0.2491, 0.2500, 0.2502],\n",
       "        [0.2510, 0.2497, 0.2500, 0.2493],\n",
       "        [0.2498, 0.2522, 0.2503, 0.2477],\n",
       "        [0.2505, 0.2502, 0.2511, 0.2482],\n",
       "        [0.2517, 0.2493, 0.2472, 0.2519],\n",
       "        [0.2493, 0.2486, 0.2514, 0.2507],\n",
       "        [0.2497, 0.2506, 0.2490, 0.2507],\n",
       "        [0.2516, 0.2500, 0.2508, 0.2476],\n",
       "        [0.2517, 0.2502, 0.2516, 0.2465],\n",
       "        [0.2507, 0.2516, 0.2487, 0.2491],\n",
       "        [0.2509, 0.2499, 0.2511, 0.2480],\n",
       "        [0.2497, 0.2487, 0.2515, 0.2502],\n",
       "        [0.2504, 0.2483, 0.2490, 0.2524],\n",
       "        [0.2514, 0.2495, 0.2523, 0.2467],\n",
       "        [0.2505, 0.2487, 0.2509, 0.2499],\n",
       "        [0.2519, 0.2485, 0.2491, 0.2505],\n",
       "        [0.2519, 0.2489, 0.2490, 0.2501],\n",
       "        [0.2524, 0.2499, 0.2487, 0.2490],\n",
       "        [0.2514, 0.2503, 0.2497, 0.2486],\n",
       "        [0.2507, 0.2506, 0.2503, 0.2484],\n",
       "        [0.2507, 0.2498, 0.2491, 0.2503],\n",
       "        [0.2518, 0.2483, 0.2506, 0.2494],\n",
       "        [0.2499, 0.2496, 0.2516, 0.2489],\n",
       "        [0.2499, 0.2511, 0.2501, 0.2489],\n",
       "        [0.2495, 0.2497, 0.2508, 0.2499]], grad_fn=<IndexBackward>)"
      ]
     },
     "execution_count": 41,
     "metadata": {},
     "output_type": "execute_result"
    }
   ],
   "source": [
    "logits[train_idx]"
   ]
  },
  {
   "cell_type": "code",
   "execution_count": 42,
   "metadata": {},
   "outputs": [
    {
     "data": {
      "text/plain": [
       "tensor([2, 1, 2, 2, 1, 2, 1, 0, 3, 3, 1, 0, 2, 2, 1, 3, 2, 2, 1, 2, 0, 2, 0, 2,\n",
       "        1, 1, 2, 1, 1, 1, 2, 2, 3, 3, 1, 2, 2, 1, 1, 3, 2, 2, 1, 3, 2, 3, 1, 2,\n",
       "        1, 2, 2, 3, 2, 3, 1, 1, 1, 0, 1, 1, 1, 1, 1, 2, 0, 2, 2, 2, 3, 1, 3, 3,\n",
       "        1, 1, 2, 2, 2, 1, 1, 2, 1, 1, 3, 2, 1, 2, 0, 0, 2, 2, 2, 3, 0, 1, 2, 2,\n",
       "        2, 2, 0, 1, 1, 2, 1, 3, 1, 0, 2, 2, 1, 2, 0, 3], dtype=torch.int32)"
      ]
     },
     "execution_count": 42,
     "metadata": {},
     "output_type": "execute_result"
    }
   ],
   "source": [
    "labels[train_idx]"
   ]
  },
  {
   "cell_type": "code",
   "execution_count": 32,
   "metadata": {},
   "outputs": [
    {
     "data": {
      "text/plain": [
       "['__class__',\n",
       " '__contains__',\n",
       " '__copy__',\n",
       " '__delattr__',\n",
       " '__dict__',\n",
       " '__dir__',\n",
       " '__doc__',\n",
       " '__eq__',\n",
       " '__format__',\n",
       " '__ge__',\n",
       " '__getattribute__',\n",
       " '__getitem__',\n",
       " '__gt__',\n",
       " '__hash__',\n",
       " '__init__',\n",
       " '__init_subclass__',\n",
       " '__le__',\n",
       " '__len__',\n",
       " '__lt__',\n",
       " '__module__',\n",
       " '__ne__',\n",
       " '__new__',\n",
       " '__reduce__',\n",
       " '__reduce_ex__',\n",
       " '__repr__',\n",
       " '__setattr__',\n",
       " '__setstate__',\n",
       " '__sizeof__',\n",
       " '__str__',\n",
       " '__subclasshook__',\n",
       " '__weakref__',\n",
       " '_batch_num_edges',\n",
       " '_batch_num_nodes',\n",
       " '_canonical_etypes',\n",
       " '_dsttypes_invmap',\n",
       " '_edge_frames',\n",
       " '_etype2canonical',\n",
       " '_etypes',\n",
       " '_etypes_invmap',\n",
       " '_find_etypes',\n",
       " '_get_e_repr',\n",
       " '_get_n_repr',\n",
       " '_graph',\n",
       " '_idtype_str',\n",
       " '_init',\n",
       " '_is_unibipartite',\n",
       " '_node_frames',\n",
       " '_ntypes',\n",
       " '_pop_e_repr',\n",
       " '_pop_n_repr',\n",
       " '_reset_cached_info',\n",
       " '_set_e_repr',\n",
       " '_set_n_repr',\n",
       " '_srctypes_invmap',\n",
       " 'add_edge',\n",
       " 'add_edges',\n",
       " 'add_nodes',\n",
       " 'add_self_loop',\n",
       " 'adj',\n",
       " 'adjacency_matrix',\n",
       " 'adjacency_matrix_scipy',\n",
       " 'all_edges',\n",
       " 'apply_edges',\n",
       " 'apply_nodes',\n",
       " 'astype',\n",
       " 'batch_num_edges',\n",
       " 'batch_num_nodes',\n",
       " 'batch_size',\n",
       " 'canonical_etypes',\n",
       " 'clone',\n",
       " 'cpu',\n",
       " 'create_formats_',\n",
       " 'device',\n",
       " 'dstdata',\n",
       " 'dstnodes',\n",
       " 'dsttypes',\n",
       " 'edata',\n",
       " 'edge_attr_schemes',\n",
       " 'edge_id',\n",
       " 'edge_ids',\n",
       " 'edge_subgraph',\n",
       " 'edge_type_subgraph',\n",
       " 'edges',\n",
       " 'etypes',\n",
       " 'filter_edges',\n",
       " 'filter_nodes',\n",
       " 'find_edges',\n",
       " 'formats',\n",
       " 'from_networkx',\n",
       " 'from_scipy_sparse_matrix',\n",
       " 'get_etype_id',\n",
       " 'get_ntype_id',\n",
       " 'get_ntype_id_from_dst',\n",
       " 'get_ntype_id_from_src',\n",
       " 'group_apply_edges',\n",
       " 'has_edge_between',\n",
       " 'has_edges_between',\n",
       " 'has_node',\n",
       " 'has_nodes',\n",
       " 'idtype',\n",
       " 'in_degree',\n",
       " 'in_degrees',\n",
       " 'in_edges',\n",
       " 'in_subgraph',\n",
       " 'inc',\n",
       " 'incidence_matrix',\n",
       " 'int',\n",
       " 'is_block',\n",
       " 'is_homogeneous',\n",
       " 'is_multigraph',\n",
       " 'is_readonly',\n",
       " 'is_unibipartite',\n",
       " 'line_graph',\n",
       " 'local_scope',\n",
       " 'local_var',\n",
       " 'long',\n",
       " 'metagraph',\n",
       " 'multi_pull',\n",
       " 'multi_recv',\n",
       " 'multi_send_and_recv',\n",
       " 'multi_update_all',\n",
       " 'ndata',\n",
       " 'node_attr_schemes',\n",
       " 'node_type_subgraph',\n",
       " 'nodes',\n",
       " 'ntypes',\n",
       " 'num_dst_nodes',\n",
       " 'num_edges',\n",
       " 'num_nodes',\n",
       " 'num_src_nodes',\n",
       " 'number_of_dst_nodes',\n",
       " 'number_of_edges',\n",
       " 'number_of_nodes',\n",
       " 'number_of_src_nodes',\n",
       " 'out_degree',\n",
       " 'out_degrees',\n",
       " 'out_edges',\n",
       " 'out_subgraph',\n",
       " 'predecessors',\n",
       " 'prop_edges',\n",
       " 'prop_nodes',\n",
       " 'pull',\n",
       " 'push',\n",
       " 'readonly',\n",
       " 'recv',\n",
       " 'register_apply_edge_func',\n",
       " 'register_apply_node_func',\n",
       " 'register_message_func',\n",
       " 'register_reduce_func',\n",
       " 'remove_edges',\n",
       " 'remove_nodes',\n",
       " 'remove_self_loop',\n",
       " 'reverse',\n",
       " 'send',\n",
       " 'send_and_recv',\n",
       " 'set_batch_num_edges',\n",
       " 'set_batch_num_nodes',\n",
       " 'set_e_initializer',\n",
       " 'set_n_initializer',\n",
       " 'shared_memory',\n",
       " 'srcdata',\n",
       " 'srcnodes',\n",
       " 'srctypes',\n",
       " 'subgraph',\n",
       " 'successors',\n",
       " 'to',\n",
       " 'to_canonical_etype',\n",
       " 'to_networkx',\n",
       " 'to_simple',\n",
       " 'update_all']"
      ]
     },
     "execution_count": 32,
     "metadata": {},
     "output_type": "execute_result"
    }
   ],
   "source": [
    "dir(g)"
   ]
  },
  {
   "cell_type": "code",
   "execution_count": 37,
   "metadata": {},
   "outputs": [],
   "source": [
    "x=edge_type.long()"
   ]
  },
  {
   "cell_type": "code",
   "execution_count": 46,
   "metadata": {},
   "outputs": [
    {
     "data": {
      "text/plain": [
       "(65439,)"
      ]
     },
     "execution_count": 46,
     "metadata": {},
     "output_type": "execute_result"
    }
   ],
   "source": [
    "data.edge_src.shape"
   ]
  },
  {
   "cell_type": "code",
   "execution_count": 49,
   "metadata": {},
   "outputs": [
    {
     "data": {
      "text/plain": [
       "(65439,)"
      ]
     },
     "execution_count": 49,
     "metadata": {},
     "output_type": "execute_result"
    }
   ],
   "source": [
    "data.edge_dst.shape"
   ]
  },
  {
   "cell_type": "code",
   "execution_count": 54,
   "metadata": {},
   "outputs": [
    {
     "data": {
      "text/plain": [
       "tensor([ 0, 37,  0,  ...,  0,  9,  0], dtype=torch.int32)"
      ]
     },
     "execution_count": 54,
     "metadata": {},
     "output_type": "execute_result"
    }
   ],
   "source": [
    "edge_type"
   ]
  },
  {
   "cell_type": "code",
   "execution_count": 55,
   "metadata": {},
   "outputs": [
    {
     "data": {
      "text/plain": [
       "tensor([[1.],\n",
       "        [1.],\n",
       "        [1.],\n",
       "        ...,\n",
       "        [1.],\n",
       "        [1.],\n",
       "        [1.]])"
      ]
     },
     "execution_count": 55,
     "metadata": {},
     "output_type": "execute_result"
    }
   ],
   "source": [
    "edge_norm.to"
   ]
  },
  {
   "cell_type": "code",
   "execution_count": 2,
   "metadata": {},
   "outputs": [],
   "source": [
    "from dgl.contrib.data import load_data\n",
    "import torch"
   ]
  },
  {
   "cell_type": "code",
   "execution_count": 3,
   "metadata": {},
   "outputs": [
    {
     "name": "stdout",
     "output_type": "stream",
     "text": [
      "Downloading C:\\Users\\ME\\.dgl\\aifb.tgz from https://data.dgl.ai/dataset/aifb.tgz...\n",
      "Loading dataset aifb\n",
      "Number of nodes:  8285\n",
      "Number of edges:  66371\n",
      "Number of relations:  91\n",
      "Number of classes:  4\n",
      "removing nodes that are more than 3 hops away\n"
     ]
    }
   ],
   "source": [
    "data = load_data(dataset='aifb')\n",
    "num_nodes = data.num_nodes\n",
    "num_rels = data.num_rels\n",
    "num_classes = data.num_classes\n",
    "labels = data.labels\n",
    "train_idx = data.train_idx\n",
    "# split training and validation set\n",
    "val_idx = train_idx[:len(train_idx) // 5]\n",
    "train_idx = train_idx[len(train_idx) // 5:]\n",
    "\n",
    "# edge type and normalization factor\n",
    "edge_type = torch.from_numpy(data.edge_type)\n",
    "edge_norm = torch.from_numpy(data.edge_norm).unsqueeze(1)\n",
    "\n",
    "labels = torch.from_numpy(labels).view(-1)"
   ]
  },
  {
   "cell_type": "code",
   "execution_count": 6,
   "metadata": {},
   "outputs": [
    {
     "data": {
      "text/plain": [
       "array([ 505, 6106, 4228, 6641, 1593, 2182, 4844,  780, 4875, 6958, 4080,\n",
       "       1728, 3564, 5701, 3817, 4760, 4979, 2985,  296, 2771, 5777, 6161,\n",
       "       6867, 2042,  224, 1220,  660, 2668, 5275, 5915,  483, 7837, 6992,\n",
       "       4860, 2012, 1457, 1386, 5348, 1647,  792, 5614,  448,  356, 4458,\n",
       "       6905, 3757, 2456, 5770, 6437, 7165, 7714, 1542, 4330, 3072, 7204,\n",
       "       6140, 8115, 5577, 6950, 6442, 5273,  693, 5186, 7486, 5367, 2982,\n",
       "       3474, 4021, 3530,  675, 7990, 5706,  461,  307, 5146, 6355, 1956,\n",
       "       7117, 2153, 1218, 1594, 7551, 6813, 7447, 3282, 4808, 2630, 3740,\n",
       "       5360, 3022, 4699,  537, 2325, 3085, 2925,  843, 8217, 4797,  333,\n",
       "       3235,  440, 5960, 6299, 1012, 8110,  489, 7272, 3470, 7218, 1879,\n",
       "       7178, 4202])"
      ]
     },
     "execution_count": 6,
     "metadata": {},
     "output_type": "execute_result"
    }
   ],
   "source": [
    "train_idx"
   ]
  },
  {
   "cell_type": "code",
   "execution_count": null,
   "metadata": {},
   "outputs": [],
   "source": []
  }
 ],
 "metadata": {
  "kernelspec": {
   "display_name": "Python 3",
   "language": "python",
   "name": "python3"
  },
  "language_info": {
   "codemirror_mode": {
    "name": "ipython",
    "version": 3
   },
   "file_extension": ".py",
   "mimetype": "text/x-python",
   "name": "python",
   "nbconvert_exporter": "python",
   "pygments_lexer": "ipython3",
   "version": "3.7.5"
  }
 },
 "nbformat": 4,
 "nbformat_minor": 2
}
