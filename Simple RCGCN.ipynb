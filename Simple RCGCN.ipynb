{
 "cells": [
  {
   "cell_type": "code",
   "execution_count": 15,
   "metadata": {},
   "outputs": [],
   "source": [
    "import torch.nn as nn\n",
    "import torch.nn.functional as F\n",
    "import dgl.nn as dglnn\n",
    "import numpy as np\n",
    "import torch\n",
    "import dgl"
   ]
  },
  {
   "cell_type": "code",
   "execution_count": 5,
   "metadata": {},
   "outputs": [],
   "source": [
    "n_users = 1000\n",
    "n_items = 500\n",
    "n_follows = 3000\n",
    "n_clicks = 5000\n",
    "n_dislikes = 500\n",
    "n_hetero_features = 10\n",
    "n_user_classes = 5\n",
    "n_max_clicks = 10"
   ]
  },
  {
   "cell_type": "code",
   "execution_count": 9,
   "metadata": {},
   "outputs": [],
   "source": [
    "follow_src = np.random.randint(0, n_users, n_follows)\n",
    "follow_dst = np.random.randint(0, n_users, n_follows)\n",
    "click_src = np.random.randint(0, n_users, n_clicks)\n",
    "click_dst = np.random.randint(0, n_items, n_clicks)\n",
    "dislike_src = np.random.randint(0, n_users, n_dislikes)\n",
    "dislike_dst = np.random.randint(0, n_items, n_dislikes)"
   ]
  },
  {
   "cell_type": "code",
   "execution_count": 10,
   "metadata": {},
   "outputs": [
    {
     "data": {
      "text/plain": [
       "(3000,)"
      ]
     },
     "execution_count": 10,
     "metadata": {},
     "output_type": "execute_result"
    }
   ],
   "source": [
    "follow_src.shape"
   ]
  },
  {
   "cell_type": "code",
   "execution_count": 11,
   "metadata": {},
   "outputs": [
    {
     "data": {
      "text/plain": [
       "(3000,)"
      ]
     },
     "execution_count": 11,
     "metadata": {},
     "output_type": "execute_result"
    }
   ],
   "source": [
    "follow_dst.shape"
   ]
  },
  {
   "cell_type": "code",
   "execution_count": 12,
   "metadata": {},
   "outputs": [
    {
     "data": {
      "text/plain": [
       "(500,)"
      ]
     },
     "execution_count": 12,
     "metadata": {},
     "output_type": "execute_result"
    }
   ],
   "source": [
    "dislike_dst.shape"
   ]
  },
  {
   "cell_type": "code",
   "execution_count": 16,
   "metadata": {},
   "outputs": [],
   "source": [
    "hetero_graph = dgl.heterograph({\n",
    "    ('user', 'follow', 'user'): (follow_src, follow_dst),\n",
    "    ('user', 'followed-by', 'user'): (follow_dst, follow_src),\n",
    "    ('user', 'click', 'item'): (click_src, click_dst),\n",
    "    ('item', 'clicked-by', 'user'): (click_dst, click_src),\n",
    "    ('user', 'dislike', 'item'): (dislike_src, dislike_dst),\n",
    "    ('item', 'disliked-by', 'user'): (dislike_dst, dislike_src)})"
   ]
  },
  {
   "cell_type": "code",
   "execution_count": 17,
   "metadata": {},
   "outputs": [
    {
     "data": {
      "text/plain": [
       "['__class__',\n",
       " '__contains__',\n",
       " '__copy__',\n",
       " '__delattr__',\n",
       " '__dict__',\n",
       " '__dir__',\n",
       " '__doc__',\n",
       " '__eq__',\n",
       " '__format__',\n",
       " '__ge__',\n",
       " '__getattribute__',\n",
       " '__getitem__',\n",
       " '__gt__',\n",
       " '__hash__',\n",
       " '__init__',\n",
       " '__init_subclass__',\n",
       " '__le__',\n",
       " '__len__',\n",
       " '__lt__',\n",
       " '__module__',\n",
       " '__ne__',\n",
       " '__new__',\n",
       " '__reduce__',\n",
       " '__reduce_ex__',\n",
       " '__repr__',\n",
       " '__setattr__',\n",
       " '__setstate__',\n",
       " '__sizeof__',\n",
       " '__str__',\n",
       " '__subclasshook__',\n",
       " '__weakref__',\n",
       " '_batch_num_edges',\n",
       " '_batch_num_nodes',\n",
       " '_canonical_etypes',\n",
       " '_dsttypes_invmap',\n",
       " '_edge_frames',\n",
       " '_etype2canonical',\n",
       " '_etypes',\n",
       " '_etypes_invmap',\n",
       " '_find_etypes',\n",
       " '_get_e_repr',\n",
       " '_get_n_repr',\n",
       " '_graph',\n",
       " '_idtype_str',\n",
       " '_init',\n",
       " '_is_unibipartite',\n",
       " '_node_frames',\n",
       " '_ntypes',\n",
       " '_pop_e_repr',\n",
       " '_pop_n_repr',\n",
       " '_reset_cached_info',\n",
       " '_set_e_repr',\n",
       " '_set_n_repr',\n",
       " '_srctypes_invmap',\n",
       " 'add_edge',\n",
       " 'add_edges',\n",
       " 'add_nodes',\n",
       " 'add_self_loop',\n",
       " 'adj',\n",
       " 'adjacency_matrix',\n",
       " 'adjacency_matrix_scipy',\n",
       " 'all_edges',\n",
       " 'apply_edges',\n",
       " 'apply_nodes',\n",
       " 'astype',\n",
       " 'batch_num_edges',\n",
       " 'batch_num_nodes',\n",
       " 'batch_size',\n",
       " 'canonical_etypes',\n",
       " 'clone',\n",
       " 'cpu',\n",
       " 'create_formats_',\n",
       " 'device',\n",
       " 'dstdata',\n",
       " 'dstnodes',\n",
       " 'dsttypes',\n",
       " 'edata',\n",
       " 'edge_attr_schemes',\n",
       " 'edge_id',\n",
       " 'edge_ids',\n",
       " 'edge_subgraph',\n",
       " 'edge_type_subgraph',\n",
       " 'edges',\n",
       " 'etypes',\n",
       " 'filter_edges',\n",
       " 'filter_nodes',\n",
       " 'find_edges',\n",
       " 'formats',\n",
       " 'from_networkx',\n",
       " 'from_scipy_sparse_matrix',\n",
       " 'get_etype_id',\n",
       " 'get_ntype_id',\n",
       " 'get_ntype_id_from_dst',\n",
       " 'get_ntype_id_from_src',\n",
       " 'group_apply_edges',\n",
       " 'has_edge_between',\n",
       " 'has_edges_between',\n",
       " 'has_node',\n",
       " 'has_nodes',\n",
       " 'idtype',\n",
       " 'in_degree',\n",
       " 'in_degrees',\n",
       " 'in_edges',\n",
       " 'in_subgraph',\n",
       " 'inc',\n",
       " 'incidence_matrix',\n",
       " 'int',\n",
       " 'is_block',\n",
       " 'is_homogeneous',\n",
       " 'is_multigraph',\n",
       " 'is_readonly',\n",
       " 'is_unibipartite',\n",
       " 'line_graph',\n",
       " 'local_scope',\n",
       " 'local_var',\n",
       " 'long',\n",
       " 'metagraph',\n",
       " 'multi_pull',\n",
       " 'multi_recv',\n",
       " 'multi_send_and_recv',\n",
       " 'multi_update_all',\n",
       " 'ndata',\n",
       " 'node_attr_schemes',\n",
       " 'node_type_subgraph',\n",
       " 'nodes',\n",
       " 'ntypes',\n",
       " 'num_dst_nodes',\n",
       " 'num_edges',\n",
       " 'num_nodes',\n",
       " 'num_src_nodes',\n",
       " 'number_of_dst_nodes',\n",
       " 'number_of_edges',\n",
       " 'number_of_nodes',\n",
       " 'number_of_src_nodes',\n",
       " 'out_degree',\n",
       " 'out_degrees',\n",
       " 'out_edges',\n",
       " 'out_subgraph',\n",
       " 'predecessors',\n",
       " 'prop_edges',\n",
       " 'prop_nodes',\n",
       " 'pull',\n",
       " 'push',\n",
       " 'readonly',\n",
       " 'recv',\n",
       " 'register_apply_edge_func',\n",
       " 'register_apply_node_func',\n",
       " 'register_message_func',\n",
       " 'register_reduce_func',\n",
       " 'remove_edges',\n",
       " 'remove_nodes',\n",
       " 'remove_self_loop',\n",
       " 'reverse',\n",
       " 'send',\n",
       " 'send_and_recv',\n",
       " 'set_batch_num_edges',\n",
       " 'set_batch_num_nodes',\n",
       " 'set_e_initializer',\n",
       " 'set_n_initializer',\n",
       " 'shared_memory',\n",
       " 'srcdata',\n",
       " 'srcnodes',\n",
       " 'srctypes',\n",
       " 'subgraph',\n",
       " 'successors',\n",
       " 'to',\n",
       " 'to_canonical_etype',\n",
       " 'to_networkx',\n",
       " 'to_simple',\n",
       " 'update_all']"
      ]
     },
     "execution_count": 17,
     "metadata": {},
     "output_type": "execute_result"
    }
   ],
   "source": [
    "dir(hetero_graph)"
   ]
  },
  {
   "cell_type": "code",
   "execution_count": 18,
   "metadata": {},
   "outputs": [],
   "source": [
    "hetero_graph.nodes['user'].data['feature'] = torch.randn(n_users, n_hetero_features)\n",
    "hetero_graph.nodes['item'].data['feature'] = torch.randn(n_items, n_hetero_features)\n",
    "hetero_graph.nodes['user'].data['label'] = torch.randint(0, n_user_classes, (n_users,))\n",
    "hetero_graph.edges['click'].data['label'] = torch.randint(1, n_max_clicks, (n_clicks,)).float()"
   ]
  },
  {
   "cell_type": "code",
   "execution_count": 29,
   "metadata": {},
   "outputs": [
    {
     "data": {
      "text/plain": [
       "tensor([[ 0.8514,  0.9998, -0.5562,  ...,  0.1700,  1.0875, -0.1016],\n",
       "        [-0.5147,  0.4508, -0.2208,  ...,  1.4062,  0.0911,  0.4209],\n",
       "        [ 0.1216,  0.5356,  0.3412,  ...,  2.3806, -0.5839,  1.3165],\n",
       "        ...,\n",
       "        [ 2.4860, -0.2420, -2.5164,  ..., -1.0627, -0.7137, -1.1781],\n",
       "        [ 0.0209, -1.3354,  1.4816,  ...,  0.8056, -0.3182,  0.2704],\n",
       "        [-2.0768, -0.4367, -0.7052,  ...,  0.8856, -0.1017,  0.3964]])"
      ]
     },
     "execution_count": 29,
     "metadata": {},
     "output_type": "execute_result"
    }
   ],
   "source": [
    "hetero_graph.nodes['user'].data['feature']"
   ]
  },
  {
   "cell_type": "code",
   "execution_count": 30,
   "metadata": {},
   "outputs": [
    {
     "data": {
      "text/plain": [
       "torch.Size([1000, 10])"
      ]
     },
     "execution_count": 30,
     "metadata": {},
     "output_type": "execute_result"
    }
   ],
   "source": [
    "hetero_graph.nodes['user'].data['feature'].shape"
   ]
  },
  {
   "cell_type": "code",
   "execution_count": 27,
   "metadata": {},
   "outputs": [
    {
     "data": {
      "text/plain": [
       "tensor([[ 0.2892,  0.0536, -0.5659,  ...,  2.0141,  1.5969, -1.0956],\n",
       "        [ 0.7082, -0.1850,  0.7187,  ..., -1.1740, -0.2240, -0.4934],\n",
       "        [ 0.4287,  0.3628, -0.8518,  ..., -0.1427,  0.6991, -0.3048],\n",
       "        ...,\n",
       "        [-1.2799,  1.3628, -0.7978,  ...,  0.6321, -0.2597,  0.9185],\n",
       "        [ 0.8453, -0.6468,  0.2216,  ...,  1.2142, -0.1533, -2.4434],\n",
       "        [ 0.3474,  1.7530, -0.6332,  ..., -0.0467, -0.3661,  0.8721]])"
      ]
     },
     "execution_count": 27,
     "metadata": {},
     "output_type": "execute_result"
    }
   ],
   "source": [
    "hetero_graph.nodes['item'].data['feature']"
   ]
  },
  {
   "cell_type": "code",
   "execution_count": 28,
   "metadata": {},
   "outputs": [
    {
     "data": {
      "text/plain": [
       "torch.Size([500, 10])"
      ]
     },
     "execution_count": 28,
     "metadata": {},
     "output_type": "execute_result"
    }
   ],
   "source": [
    "hetero_graph.nodes['item'].data['feature'].shape"
   ]
  },
  {
   "cell_type": "code",
   "execution_count": 26,
   "metadata": {},
   "outputs": [
    {
     "data": {
      "text/plain": [
       "tensor([2, 0, 3, 3, 1, 1, 4, 1, 2, 4, 4, 2, 2, 3, 4, 0, 0, 3, 4, 4, 3, 1, 0, 0,\n",
       "        4, 3, 2, 2, 1, 1, 1, 0, 2, 4, 0, 1, 4, 4, 0, 1, 0, 2, 3, 4, 2, 4, 3, 3,\n",
       "        0, 3, 4, 0, 3, 0, 1, 0, 2, 3, 3, 3, 0, 4, 0, 3, 2, 0, 0, 3, 3, 3, 3, 4,\n",
       "        0, 1, 1, 3, 4, 3, 3, 2, 0, 4, 3, 2, 3, 0, 2, 2, 1, 1, 0, 3, 4, 4, 1, 3,\n",
       "        2, 2, 3, 3, 0, 1, 3, 0, 1, 2, 0, 2, 3, 0, 0, 3, 0, 0, 0, 0, 0, 1, 0, 1,\n",
       "        1, 1, 3, 1, 1, 3, 0, 2, 3, 4, 2, 0, 2, 0, 0, 4, 3, 2, 2, 3, 3, 4, 2, 4,\n",
       "        3, 2, 2, 4, 0, 0, 1, 0, 0, 0, 1, 2, 4, 0, 3, 2, 3, 4, 0, 4, 4, 4, 0, 2,\n",
       "        0, 0, 0, 0, 1, 1, 1, 2, 0, 4, 3, 2, 4, 1, 4, 2, 3, 4, 0, 4, 0, 1, 2, 0,\n",
       "        4, 3, 0, 0, 4, 4, 2, 1, 1, 4, 3, 4, 3, 0, 1, 3, 3, 0, 3, 3, 1, 3, 0, 3,\n",
       "        4, 3, 3, 0, 2, 4, 1, 2, 0, 4, 4, 4, 4, 2, 2, 3, 2, 3, 2, 4, 1, 0, 3, 2,\n",
       "        1, 3, 4, 2, 0, 2, 4, 1, 0, 2, 4, 3, 4, 0, 2, 3, 0, 4, 0, 3, 2, 4, 4, 2,\n",
       "        0, 3, 2, 3, 1, 0, 3, 2, 0, 4, 0, 3, 4, 4, 1, 4, 1, 1, 4, 4, 4, 4, 4, 0,\n",
       "        3, 3, 3, 1, 0, 2, 2, 0, 1, 1, 1, 0, 4, 1, 3, 2, 0, 4, 3, 1, 4, 2, 1, 4,\n",
       "        2, 0, 0, 1, 3, 2, 0, 0, 1, 0, 4, 1, 1, 4, 0, 0, 1, 3, 4, 1, 2, 2, 2, 4,\n",
       "        0, 2, 3, 0, 3, 1, 3, 0, 3, 3, 1, 3, 0, 2, 4, 2, 1, 1, 2, 3, 3, 3, 2, 2,\n",
       "        0, 4, 1, 2, 2, 2, 2, 0, 4, 0, 3, 0, 3, 2, 1, 4, 1, 1, 0, 3, 2, 0, 4, 1,\n",
       "        2, 2, 2, 0, 1, 4, 4, 2, 4, 4, 2, 2, 1, 1, 4, 3, 3, 4, 4, 0, 4, 2, 4, 0,\n",
       "        1, 1, 2, 3, 4, 1, 2, 3, 3, 0, 3, 1, 1, 0, 4, 0, 1, 1, 2, 4, 0, 0, 4, 3,\n",
       "        1, 1, 3, 3, 0, 0, 2, 3, 4, 2, 0, 1, 0, 2, 2, 3, 4, 3, 1, 0, 3, 2, 3, 2,\n",
       "        0, 4, 4, 3, 0, 0, 4, 2, 0, 0, 0, 4, 2, 2, 3, 1, 3, 2, 1, 2, 0, 2, 3, 3,\n",
       "        3, 0, 1, 4, 2, 4, 4, 3, 0, 4, 2, 1, 1, 4, 1, 4, 4, 3, 1, 4, 2, 1, 2, 1,\n",
       "        1, 2, 1, 1, 1, 4, 1, 3, 3, 0, 2, 3, 3, 3, 4, 0, 0, 2, 2, 0, 4, 0, 4, 3,\n",
       "        1, 2, 3, 2, 1, 4, 1, 4, 4, 3, 0, 3, 1, 0, 3, 4, 0, 1, 3, 1, 3, 0, 3, 0,\n",
       "        2, 3, 1, 2, 4, 0, 4, 0, 2, 4, 2, 2, 0, 0, 3, 4, 0, 1, 1, 1, 4, 4, 2, 3,\n",
       "        3, 1, 4, 0, 3, 2, 2, 2, 1, 3, 1, 0, 1, 0, 2, 4, 1, 1, 2, 0, 1, 4, 1, 4,\n",
       "        4, 3, 4, 2, 2, 0, 4, 1, 0, 2, 1, 2, 2, 2, 0, 1, 3, 0, 3, 3, 4, 1, 0, 0,\n",
       "        0, 1, 0, 2, 0, 1, 4, 2, 3, 3, 0, 1, 2, 4, 0, 1, 0, 2, 1, 3, 1, 1, 2, 3,\n",
       "        0, 2, 1, 0, 4, 3, 4, 1, 2, 3, 1, 2, 3, 3, 3, 0, 0, 0, 3, 1, 3, 4, 1, 2,\n",
       "        2, 3, 3, 2, 1, 1, 3, 0, 0, 1, 1, 0, 2, 0, 2, 1, 3, 3, 3, 0, 1, 3, 1, 0,\n",
       "        4, 3, 2, 0, 2, 1, 4, 3, 3, 1, 1, 4, 1, 0, 0, 2, 3, 3, 3, 4, 2, 1, 4, 4,\n",
       "        4, 1, 2, 4, 1, 0, 2, 2, 0, 1, 1, 4, 0, 1, 0, 4, 4, 3, 3, 0, 4, 1, 2, 0,\n",
       "        0, 1, 1, 3, 2, 4, 3, 2, 4, 0, 2, 0, 3, 4, 4, 4, 4, 0, 4, 0, 2, 0, 3, 2,\n",
       "        1, 3, 4, 2, 1, 3, 0, 4, 2, 1, 1, 3, 0, 3, 2, 1, 2, 2, 0, 0, 0, 3, 3, 2,\n",
       "        1, 1, 2, 1, 4, 0, 2, 2, 0, 4, 0, 3, 4, 0, 3, 3, 4, 4, 0, 4, 2, 1, 3, 3,\n",
       "        1, 3, 0, 0, 4, 1, 3, 0, 1, 3, 0, 2, 3, 4, 1, 2, 2, 1, 0, 1, 4, 1, 1, 0,\n",
       "        4, 1, 1, 0, 1, 3, 2, 1, 2, 2, 2, 3, 3, 1, 3, 4, 0, 3, 0, 0, 0, 2, 0, 4,\n",
       "        3, 3, 2, 1, 2, 0, 2, 2, 4, 0, 3, 2, 3, 1, 0, 1, 2, 1, 3, 1, 0, 2, 1, 4,\n",
       "        1, 1, 2, 2, 1, 1, 1, 2, 4, 2, 4, 4, 0, 2, 0, 3, 3, 2, 3, 2, 4, 4, 0, 2,\n",
       "        4, 4, 1, 4, 4, 3, 3, 2, 0, 2, 0, 4, 2, 1, 0, 0, 4, 4, 1, 0, 4, 3, 0, 1,\n",
       "        1, 3, 0, 0, 2, 0, 3, 2, 4, 2, 3, 2, 2, 0, 3, 1, 2, 0, 3, 3, 4, 0, 0, 2,\n",
       "        0, 2, 0, 1, 2, 2, 2, 1, 3, 4, 4, 2, 0, 0, 0, 1, 3, 1, 1, 2, 4, 2, 0, 2,\n",
       "        4, 1, 2, 3, 4, 0, 3, 4, 4, 0, 1, 4, 4, 0, 3, 4])"
      ]
     },
     "execution_count": 26,
     "metadata": {},
     "output_type": "execute_result"
    }
   ],
   "source": [
    "hetero_graph.nodes['user'].data['label']"
   ]
  },
  {
   "cell_type": "code",
   "execution_count": 25,
   "metadata": {},
   "outputs": [
    {
     "data": {
      "text/plain": [
       "torch.Size([1000])"
      ]
     },
     "execution_count": 25,
     "metadata": {},
     "output_type": "execute_result"
    }
   ],
   "source": [
    "hetero_graph.nodes['user'].data['label'].shape"
   ]
  },
  {
   "cell_type": "code",
   "execution_count": 20,
   "metadata": {},
   "outputs": [
    {
     "data": {
      "text/plain": [
       "tensor([7., 3., 9.,  ..., 1., 1., 1.])"
      ]
     },
     "execution_count": 20,
     "metadata": {},
     "output_type": "execute_result"
    }
   ],
   "source": [
    "hetero_graph.edges['click'].data['label']"
   ]
  },
  {
   "cell_type": "code",
   "execution_count": 21,
   "metadata": {},
   "outputs": [
    {
     "data": {
      "text/plain": [
       "torch.Size([5000])"
      ]
     },
     "execution_count": 21,
     "metadata": {},
     "output_type": "execute_result"
    }
   ],
   "source": [
    "hetero_graph.edges['click'].data['label'].shape"
   ]
  },
  {
   "cell_type": "code",
   "execution_count": 19,
   "metadata": {},
   "outputs": [],
   "source": [
    "# randomly generate training masks on user nodes and click edges\n",
    "hetero_graph.nodes['user'].data['train_mask'] = torch.zeros(n_users, dtype=torch.bool).bernoulli(0.6)\n",
    "hetero_graph.edges['click'].data['train_mask'] = torch.zeros(n_clicks, dtype=torch.bool).bernoulli(0.6)"
   ]
  },
  {
   "cell_type": "code",
   "execution_count": 32,
   "metadata": {},
   "outputs": [
    {
     "data": {
      "text/plain": [
       "tensor([False,  True, False,  True, False,  True, False,  True,  True,  True,\n",
       "         True,  True, False,  True, False,  True, False, False,  True,  True,\n",
       "         True, False,  True,  True,  True,  True, False,  True,  True,  True,\n",
       "        False,  True, False,  True,  True, False, False, False,  True, False,\n",
       "        False,  True, False,  True,  True,  True,  True, False,  True,  True,\n",
       "        False,  True,  True, False, False,  True, False,  True,  True,  True,\n",
       "        False, False,  True, False, False,  True,  True, False,  True, False,\n",
       "        False,  True,  True, False, False,  True, False, False,  True,  True,\n",
       "        False, False, False, False,  True,  True, False, False,  True,  True,\n",
       "        False,  True,  True,  True,  True,  True,  True,  True, False,  True,\n",
       "        False, False,  True,  True,  True,  True,  True,  True, False,  True,\n",
       "        False,  True, False,  True, False,  True,  True, False, False,  True,\n",
       "         True,  True, False, False, False, False,  True,  True,  True, False,\n",
       "         True,  True, False,  True,  True,  True, False,  True, False,  True,\n",
       "        False, False,  True, False,  True, False, False, False,  True, False,\n",
       "        False, False,  True,  True, False,  True, False,  True,  True, False,\n",
       "         True, False,  True,  True,  True,  True, False,  True, False, False,\n",
       "         True, False, False, False, False,  True,  True,  True,  True,  True,\n",
       "         True,  True, False, False,  True,  True,  True,  True,  True,  True,\n",
       "         True,  True, False, False,  True, False, False,  True,  True,  True,\n",
       "        False,  True, False, False,  True, False,  True, False, False, False,\n",
       "         True, False,  True,  True, False, False,  True, False,  True, False,\n",
       "         True, False,  True, False, False,  True, False, False, False, False,\n",
       "        False, False, False,  True,  True, False, False,  True,  True, False,\n",
       "         True,  True, False,  True,  True,  True,  True,  True,  True,  True,\n",
       "         True, False,  True, False, False, False,  True, False,  True, False,\n",
       "        False,  True,  True,  True,  True,  True, False,  True,  True,  True,\n",
       "         True, False,  True,  True,  True,  True,  True, False,  True,  True,\n",
       "         True,  True,  True,  True, False,  True,  True,  True,  True,  True,\n",
       "        False,  True,  True, False,  True, False,  True,  True,  True, False,\n",
       "         True, False,  True,  True,  True,  True, False,  True,  True,  True,\n",
       "        False, False,  True,  True,  True, False,  True,  True,  True,  True,\n",
       "         True, False,  True, False,  True, False,  True, False, False, False,\n",
       "        False, False,  True,  True,  True,  True,  True, False,  True,  True,\n",
       "         True,  True, False, False,  True, False,  True, False,  True,  True,\n",
       "         True,  True,  True,  True,  True, False,  True,  True, False,  True,\n",
       "         True,  True, False, False,  True,  True,  True,  True,  True, False,\n",
       "         True,  True,  True, False,  True,  True,  True, False,  True,  True,\n",
       "         True, False, False,  True, False,  True, False, False,  True, False,\n",
       "        False,  True,  True,  True,  True,  True, False, False,  True, False,\n",
       "         True, False,  True,  True, False,  True, False, False,  True, False,\n",
       "        False,  True,  True, False,  True,  True, False, False, False, False,\n",
       "         True, False,  True,  True,  True,  True,  True,  True, False, False,\n",
       "         True, False,  True,  True,  True,  True, False,  True,  True, False,\n",
       "         True,  True,  True,  True,  True,  True, False,  True,  True, False,\n",
       "         True, False, False,  True,  True, False, False,  True, False,  True,\n",
       "        False,  True,  True,  True, False, False,  True,  True, False,  True,\n",
       "         True,  True,  True,  True,  True, False, False, False,  True,  True,\n",
       "        False, False, False, False, False,  True,  True,  True,  True,  True,\n",
       "         True,  True,  True,  True,  True, False, False, False,  True, False,\n",
       "         True, False,  True,  True, False, False,  True,  True,  True,  True,\n",
       "         True, False,  True, False,  True, False,  True, False, False, False,\n",
       "        False,  True,  True,  True,  True,  True, False,  True,  True, False,\n",
       "        False,  True,  True,  True,  True, False,  True, False,  True,  True,\n",
       "        False, False,  True,  True,  True, False,  True,  True, False,  True,\n",
       "         True, False,  True,  True, False, False,  True, False,  True,  True,\n",
       "         True,  True,  True, False, False,  True, False,  True, False,  True,\n",
       "         True,  True,  True, False, False,  True,  True, False, False, False,\n",
       "         True,  True,  True,  True,  True, False,  True,  True,  True, False,\n",
       "         True,  True, False, False,  True, False, False,  True, False, False,\n",
       "         True,  True,  True, False,  True, False, False,  True,  True,  True,\n",
       "         True, False, False,  True, False, False,  True, False,  True,  True,\n",
       "        False, False,  True,  True,  True,  True,  True,  True,  True,  True,\n",
       "        False,  True,  True, False, False, False,  True, False, False,  True,\n",
       "        False, False,  True, False,  True, False,  True,  True,  True, False,\n",
       "        False,  True, False,  True,  True,  True,  True, False,  True, False,\n",
       "         True,  True,  True,  True,  True,  True,  True,  True,  True, False,\n",
       "        False,  True,  True, False, False, False,  True,  True,  True,  True,\n",
       "         True, False,  True,  True,  True,  True, False, False, False,  True,\n",
       "         True,  True,  True,  True,  True,  True,  True,  True,  True,  True,\n",
       "         True, False, False,  True,  True,  True, False,  True, False,  True,\n",
       "        False,  True,  True,  True,  True,  True,  True,  True,  True, False,\n",
       "         True, False,  True,  True, False, False, False,  True, False,  True,\n",
       "         True,  True, False,  True,  True,  True, False,  True, False, False,\n",
       "        False,  True,  True,  True, False,  True,  True,  True,  True, False,\n",
       "         True,  True,  True,  True, False,  True, False,  True, False, False,\n",
       "        False,  True,  True,  True,  True,  True,  True, False,  True,  True,\n",
       "         True, False, False, False,  True,  True,  True,  True,  True, False,\n",
       "         True, False, False, False, False,  True,  True,  True,  True, False,\n",
       "         True, False,  True,  True,  True, False, False, False,  True,  True,\n",
       "         True, False, False,  True,  True,  True,  True,  True,  True, False,\n",
       "         True,  True, False, False,  True, False,  True, False,  True, False,\n",
       "        False, False, False, False, False, False,  True, False,  True,  True,\n",
       "         True, False, False, False, False, False, False,  True,  True,  True,\n",
       "        False,  True, False,  True, False, False, False,  True, False,  True,\n",
       "         True,  True, False, False,  True,  True,  True,  True,  True, False,\n",
       "         True,  True, False, False,  True, False,  True,  True, False, False,\n",
       "         True,  True,  True,  True,  True,  True, False,  True,  True,  True,\n",
       "         True, False,  True,  True,  True,  True,  True, False, False, False,\n",
       "        False,  True,  True,  True,  True,  True, False, False,  True,  True,\n",
       "         True,  True, False,  True,  True,  True, False, False, False,  True,\n",
       "         True, False, False, False, False, False, False, False,  True,  True,\n",
       "         True, False, False,  True, False, False,  True,  True, False,  True,\n",
       "         True,  True,  True, False,  True, False,  True,  True, False,  True,\n",
       "         True,  True,  True,  True,  True,  True,  True,  True,  True,  True,\n",
       "        False,  True,  True,  True,  True, False,  True, False,  True, False,\n",
       "         True,  True,  True,  True, False, False,  True, False, False, False,\n",
       "         True, False,  True, False,  True, False,  True, False, False, False,\n",
       "         True, False, False,  True, False, False,  True,  True,  True,  True,\n",
       "         True,  True, False,  True,  True, False,  True,  True,  True, False])"
      ]
     },
     "execution_count": 32,
     "metadata": {},
     "output_type": "execute_result"
    }
   ],
   "source": [
    "hetero_graph.nodes['user'].data['train_mask']"
   ]
  },
  {
   "cell_type": "code",
   "execution_count": 33,
   "metadata": {},
   "outputs": [
    {
     "data": {
      "text/plain": [
       "torch.Size([1000])"
      ]
     },
     "execution_count": 33,
     "metadata": {},
     "output_type": "execute_result"
    }
   ],
   "source": [
    "hetero_graph.nodes['user'].data['train_mask'].shape"
   ]
  },
  {
   "cell_type": "code",
   "execution_count": 34,
   "metadata": {},
   "outputs": [
    {
     "data": {
      "text/plain": [
       "tensor([ True,  True,  True,  ...,  True,  True, False])"
      ]
     },
     "execution_count": 34,
     "metadata": {},
     "output_type": "execute_result"
    }
   ],
   "source": [
    "hetero_graph.edges['click'].data['train_mask']"
   ]
  },
  {
   "cell_type": "code",
   "execution_count": 35,
   "metadata": {},
   "outputs": [
    {
     "data": {
      "text/plain": [
       "torch.Size([5000])"
      ]
     },
     "execution_count": 35,
     "metadata": {},
     "output_type": "execute_result"
    }
   ],
   "source": [
    "hetero_graph.edges['click'].data['train_mask'].shape"
   ]
  },
  {
   "cell_type": "code",
   "execution_count": 23,
   "metadata": {},
   "outputs": [
    {
     "data": {
      "text/plain": [
       "['__call__',\n",
       " '__class__',\n",
       " '__delattr__',\n",
       " '__dir__',\n",
       " '__doc__',\n",
       " '__eq__',\n",
       " '__format__',\n",
       " '__ge__',\n",
       " '__getattribute__',\n",
       " '__getitem__',\n",
       " '__gt__',\n",
       " '__hash__',\n",
       " '__init__',\n",
       " '__init_subclass__',\n",
       " '__le__',\n",
       " '__lt__',\n",
       " '__module__',\n",
       " '__ne__',\n",
       " '__new__',\n",
       " '__reduce__',\n",
       " '__reduce_ex__',\n",
       " '__repr__',\n",
       " '__setattr__',\n",
       " '__sizeof__',\n",
       " '__slots__',\n",
       " '__str__',\n",
       " '__subclasshook__',\n",
       " '_graph',\n",
       " '_typeid_getter']"
      ]
     },
     "execution_count": 23,
     "metadata": {},
     "output_type": "execute_result"
    }
   ],
   "source": [
    "dir(hetero_graph.nodes)"
   ]
  },
  {
   "cell_type": "code",
   "execution_count": 3,
   "metadata": {},
   "outputs": [],
   "source": [
    "# Define a Heterograph Conv model\n",
    "class RGCN(nn.Module):\n",
    "    def __init__(self, in_feats, hid_feats, out_feats, rel_names):\n",
    "        super().__init__()\n",
    "\n",
    "        self.conv1 = dglnn.HeteroGraphConv({\n",
    "            rel: dglnn.GraphConv(in_feats, hid_feats)\n",
    "            for rel in rel_names}, aggregate='sum')\n",
    "        self.conv2 = dglnn.HeteroGraphConv({\n",
    "            rel: dglnn.GraphConv(hid_feats, out_feats)\n",
    "            for rel in rel_names}, aggregate='sum')\n",
    "\n",
    "    def forward(self, graph, inputs):\n",
    "        # inputs are features of nodes\n",
    "        h = self.conv1(graph, inputs)\n",
    "        h = {k: F.relu(v) for k, v in h.items()}\n",
    "        h = self.conv2(graph, h)\n",
    "        return h"
   ]
  },
  {
   "cell_type": "code",
   "execution_count": 31,
   "metadata": {},
   "outputs": [],
   "source": [
    "model = RGCN(n_hetero_features, 20, n_user_classes, hetero_graph.etypes)\n",
    "user_feats = hetero_graph.nodes['user'].data['feature']\n",
    "item_feats = hetero_graph.nodes['item'].data['feature']\n",
    "labels = hetero_graph.nodes['user'].data['label']\n",
    "train_mask = hetero_graph.nodes['user'].data['train_mask']"
   ]
  },
  {
   "cell_type": "code",
   "execution_count": 36,
   "metadata": {},
   "outputs": [],
   "source": [
    "node_features = {'user': user_feats, 'item': item_feats}\n",
    "h_dict = model(hetero_graph, {'user': user_feats, 'item': item_feats})\n",
    "h_user = h_dict['user']\n",
    "h_item = h_dict['item']"
   ]
  },
  {
   "cell_type": "code",
   "execution_count": 37,
   "metadata": {},
   "outputs": [
    {
     "name": "stdout",
     "output_type": "stream",
     "text": [
      "1.7691476345062256\n",
      "1.7608240842819214\n",
      "1.753036618232727\n",
      "1.7457612752914429\n",
      "1.7389553785324097\n"
     ]
    }
   ],
   "source": [
    "opt = torch.optim.Adam(model.parameters())\n",
    "\n",
    "for epoch in range(5):\n",
    "    model.train()\n",
    "    # forward propagation by using all nodes and extracting the user embeddings\n",
    "    logits = model(hetero_graph, node_features)['user']\n",
    "    # compute loss\n",
    "    loss = F.cross_entropy(logits[train_mask], labels[train_mask])\n",
    "    # Compute validation accuracy.  Omitted in this example.\n",
    "    # backward propagation\n",
    "    opt.zero_grad()\n",
    "    loss.backward()\n",
    "    opt.step()\n",
    "    print(loss.item())\n"
   ]
  },
  {
   "cell_type": "code",
   "execution_count": null,
   "metadata": {},
   "outputs": [],
   "source": []
  }
 ],
 "metadata": {
  "kernelspec": {
   "display_name": "Python 3",
   "language": "python",
   "name": "python3"
  },
  "language_info": {
   "codemirror_mode": {
    "name": "ipython",
    "version": 3
   },
   "file_extension": ".py",
   "mimetype": "text/x-python",
   "name": "python",
   "nbconvert_exporter": "python",
   "pygments_lexer": "ipython3",
   "version": "3.7.5"
  }
 },
 "nbformat": 4,
 "nbformat_minor": 2
}
