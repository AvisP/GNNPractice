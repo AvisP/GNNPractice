{
 "cells": [
  {
   "cell_type": "code",
   "execution_count": 1,
   "metadata": {},
   "outputs": [],
   "source": [
    "import torch\n",
    "from torch_geometric.datasets import TUDataset"
   ]
  },
  {
   "cell_type": "code",
   "execution_count": 2,
   "metadata": {},
   "outputs": [
    {
     "name": "stdout",
     "output_type": "stream",
     "text": [
      "Downloading http://ls11-www.cs.tu-dortmund.de/people/morris/graphkerneldatasets/MUTAG.zip\n",
      "Extracting data\\TUDataset\\MUTAG\\MUTAG.zip\n",
      "Processing...\n",
      "Done!\n",
      "\n",
      "Dataset: MUTAG(188):\n",
      "====================\n",
      "Number of graphs: 188\n",
      "Number of features: 7\n",
      "Number of classes: 2\n"
     ]
    }
   ],
   "source": [
    "dataset = TUDataset(root='data/TUDataset', name='MUTAG')\n",
    "\n",
    "print()\n",
    "print(f'Dataset: {dataset}:')\n",
    "print('====================')\n",
    "print(f'Number of graphs: {len(dataset)}')\n",
    "print(f'Number of features: {dataset.num_features}')\n",
    "print(f'Number of classes: {dataset.num_classes}')"
   ]
  },
  {
   "cell_type": "code",
   "execution_count": 3,
   "metadata": {},
   "outputs": [
    {
     "name": "stdout",
     "output_type": "stream",
     "text": [
      "\n",
      "Data(edge_attr=[38, 4], edge_index=[2, 38], x=[17, 7], y=[1])\n",
      "=============================================================\n",
      "Number of nodes: 17\n",
      "Number of edges: 38\n",
      "Average node degree: 2.24\n",
      "Contains isolated nodes: False\n",
      "Contains self-loops: False\n",
      "Is undirected: True\n"
     ]
    }
   ],
   "source": [
    "data = dataset[0]  # Get the first graph object.\n",
    "\n",
    "print()\n",
    "print(data)\n",
    "print('=============================================================')\n",
    "\n",
    "# Gather some statistics about the first graph.\n",
    "print(f'Number of nodes: {data.num_nodes}')\n",
    "print(f'Number of edges: {data.num_edges}')\n",
    "print(f'Average node degree: {data.num_edges / data.num_nodes:.2f}')\n",
    "print(f'Contains isolated nodes: {data.contains_isolated_nodes()}')\n",
    "print(f'Contains self-loops: {data.contains_self_loops()}')\n",
    "print(f'Is undirected: {data.is_undirected()}')"
   ]
  },
  {
   "cell_type": "code",
   "execution_count": 4,
   "metadata": {},
   "outputs": [
    {
     "name": "stdout",
     "output_type": "stream",
     "text": [
      "Number of training graphs: 150\n",
      "Number of test graphs: 38\n"
     ]
    }
   ],
   "source": [
    "torch.manual_seed(12345)\n",
    "dataset = dataset.shuffle()\n",
    "\n",
    "train_dataset = dataset[:150]\n",
    "test_dataset = dataset[150:]\n",
    "\n",
    "print(f'Number of training graphs: {len(train_dataset)}')\n",
    "print(f'Number of test graphs: {len(test_dataset)}')"
   ]
  },
  {
   "cell_type": "code",
   "execution_count": 5,
   "metadata": {},
   "outputs": [],
   "source": [
    "from torch_geometric.data import DataLoader\n",
    "\n",
    "train_loader = DataLoader(train_dataset, batch_size=64, shuffle=True)\n",
    "test_loader = DataLoader(test_dataset, batch_size=64, shuffle=False)"
   ]
  },
  {
   "cell_type": "code",
   "execution_count": 6,
   "metadata": {},
   "outputs": [
    {
     "name": "stdout",
     "output_type": "stream",
     "text": [
      "Step 1:\n",
      "=======\n",
      "Number of graphs in the current batch: 64\n",
      "Batch(batch=[1169], edge_attr=[2592, 4], edge_index=[2, 2592], x=[1169, 7], y=[64])\n",
      "\n",
      "Step 2:\n",
      "=======\n",
      "Number of graphs in the current batch: 64\n",
      "Batch(batch=[1116], edge_attr=[2444, 4], edge_index=[2, 2444], x=[1116, 7], y=[64])\n",
      "\n",
      "Step 3:\n",
      "=======\n",
      "Number of graphs in the current batch: 22\n",
      "Batch(batch=[429], edge_attr=[958, 4], edge_index=[2, 958], x=[429, 7], y=[22])\n",
      "\n"
     ]
    }
   ],
   "source": [
    "for step, data in enumerate(train_loader):\n",
    "    print(f'Step {step + 1}:')\n",
    "    print('=======')\n",
    "    print(f'Number of graphs in the current batch: {data.num_graphs}')\n",
    "    print(data)\n",
    "    print()"
   ]
  },
  {
   "cell_type": "code",
   "execution_count": 7,
   "metadata": {},
   "outputs": [],
   "source": [
    "from torch.nn import Linear\n",
    "import torch.nn.functional as F\n",
    "from torch_geometric.nn import GCNConv\n",
    "from torch_geometric.nn import global_mean_pool"
   ]
  },
  {
   "cell_type": "code",
   "execution_count": 9,
   "metadata": {},
   "outputs": [],
   "source": [
    "class GCN(torch.nn.Module):\n",
    "    def __init__(self, hidden_channels):\n",
    "        super(GCN, self).__init__()\n",
    "        torch.manual_seed(12345)\n",
    "        self.conv1 = GCNConv(dataset.num_node_features, hidden_channels)\n",
    "        self.conv2 = GCNConv(hidden_channels, hidden_channels)\n",
    "        self.conv3 = GCNConv(hidden_channels, hidden_channels)\n",
    "        self.lin = Linear(hidden_channels, dataset.num_classes)\n",
    "\n",
    "    def forward(self, x, edge_index, batch):\n",
    "        # 1. Obtain node embeddings \n",
    "        x = self.conv1(x, edge_index)\n",
    "        x = x.relu()\n",
    "        x = self.conv2(x, edge_index)\n",
    "        x = x.relu()\n",
    "        x = self.conv3(x, edge_index)\n",
    "\n",
    "        # 2. Readout layer\n",
    "        x = global_mean_pool(x, batch)  # [batch_size, hidden_channels]\n",
    "\n",
    "        # 3. Apply a final classifier\n",
    "        x = F.dropout(x, p=0.5, training=self.training)\n",
    "        x = self.lin(x)\n",
    "        \n",
    "        return x"
   ]
  },
  {
   "cell_type": "code",
   "execution_count": 15,
   "metadata": {},
   "outputs": [
    {
     "name": "stdout",
     "output_type": "stream",
     "text": [
      "GCN(\n",
      "  (conv1): GCNConv(7, 64)\n",
      "  (conv2): GCNConv(64, 64)\n",
      "  (conv3): GCNConv(64, 64)\n",
      "  (lin): Linear(in_features=64, out_features=2, bias=True)\n",
      ")\n"
     ]
    }
   ],
   "source": [
    "model = GCN(hidden_channels=64)\n",
    "optimizer = torch.optim.Adam(model.parameters(), lr=0.01)\n",
    "criterion = torch.nn.CrossEntropyLoss()\n",
    "print(model)"
   ]
  },
  {
   "cell_type": "code",
   "execution_count": 20,
   "metadata": {},
   "outputs": [],
   "source": [
    "def train():\n",
    "    model.train()\n",
    "\n",
    "    for data in train_loader:  # Iterate in batches over the training dataset.\n",
    "         out = model(data.x, data.edge_index, data.batch)  # Perform a single forward pass.\n",
    "         loss = criterion(out, data.y)  # Compute the loss.\n",
    "         loss.backward()  # Derive gradients.\n",
    "         optimizer.step()  # Update parameters based on gradients.\n",
    "         optimizer.zero_grad()  # Clear gradients.\n",
    "    return loss\n",
    "\n",
    "def test(loader):\n",
    "     model.eval()\n",
    "\n",
    "     correct = 0\n",
    "     for data in loader:  # Iterate in batches over the training/test dataset.\n",
    "         out = model(data.x, data.edge_index, data.batch)  \n",
    "         pred = out.argmax(dim=1)  # Use the class with highest probability.\n",
    "         correct += int((pred == data.y).sum())  # Check against ground-truth labels.\n",
    "     return correct / len(loader.dataset)  # Derive ratio of correct predictions."
   ]
  },
  {
   "cell_type": "code",
   "execution_count": 21,
   "metadata": {},
   "outputs": [
    {
     "data": {
      "application/javascript": [
       "google.colab.output.setIframeHeight(0, true, {maxHeight: 300})"
      ],
      "text/plain": [
       "<IPython.core.display.Javascript object>"
      ]
     },
     "metadata": {},
     "output_type": "display_data"
    },
    {
     "name": "stdout",
     "output_type": "stream",
     "text": [
      "Epoch: 001, Loss: 0.6066, Train Acc: 0.8333, Test Acc: 0.7368\n",
      "Epoch: 002, Loss: 0.5612, Train Acc: 0.8000, Test Acc: 0.7368\n",
      "Epoch: 003, Loss: 0.4483, Train Acc: 0.8333, Test Acc: 0.7105\n",
      "Epoch: 004, Loss: 0.4561, Train Acc: 0.8133, Test Acc: 0.7105\n",
      "Epoch: 005, Loss: 0.5360, Train Acc: 0.8067, Test Acc: 0.7368\n",
      "Epoch: 006, Loss: 0.3752, Train Acc: 0.8333, Test Acc: 0.7105\n",
      "Epoch: 007, Loss: 0.8071, Train Acc: 0.8400, Test Acc: 0.7105\n",
      "Epoch: 008, Loss: 0.3983, Train Acc: 0.7867, Test Acc: 0.7895\n",
      "Epoch: 009, Loss: 0.3071, Train Acc: 0.8267, Test Acc: 0.7105\n",
      "Epoch: 010, Loss: 0.3858, Train Acc: 0.8267, Test Acc: 0.7105\n",
      "Epoch: 011, Loss: 0.2929, Train Acc: 0.8200, Test Acc: 0.7368\n",
      "Epoch: 012, Loss: 0.2235, Train Acc: 0.8000, Test Acc: 0.7368\n",
      "Epoch: 013, Loss: 0.5332, Train Acc: 0.8333, Test Acc: 0.7632\n",
      "Epoch: 014, Loss: 0.4019, Train Acc: 0.8333, Test Acc: 0.7105\n",
      "Epoch: 015, Loss: 0.3074, Train Acc: 0.8267, Test Acc: 0.7632\n",
      "Epoch: 016, Loss: 0.4656, Train Acc: 0.8000, Test Acc: 0.7895\n",
      "Epoch: 017, Loss: 0.3468, Train Acc: 0.8333, Test Acc: 0.7368\n",
      "Epoch: 018, Loss: 0.5346, Train Acc: 0.8333, Test Acc: 0.7368\n",
      "Epoch: 019, Loss: 0.5325, Train Acc: 0.8200, Test Acc: 0.7105\n",
      "Epoch: 020, Loss: 0.6082, Train Acc: 0.8267, Test Acc: 0.7632\n",
      "Epoch: 021, Loss: 0.1961, Train Acc: 0.8133, Test Acc: 0.7368\n",
      "Epoch: 022, Loss: 0.1635, Train Acc: 0.8000, Test Acc: 0.7632\n",
      "Epoch: 023, Loss: 0.2583, Train Acc: 0.8467, Test Acc: 0.6842\n",
      "Epoch: 024, Loss: 0.3593, Train Acc: 0.8467, Test Acc: 0.6842\n",
      "Epoch: 025, Loss: 0.4697, Train Acc: 0.8400, Test Acc: 0.6842\n",
      "Epoch: 026, Loss: 0.6221, Train Acc: 0.8400, Test Acc: 0.7105\n",
      "Epoch: 027, Loss: 0.5680, Train Acc: 0.8200, Test Acc: 0.6842\n",
      "Epoch: 028, Loss: 0.3246, Train Acc: 0.8333, Test Acc: 0.7105\n",
      "Epoch: 029, Loss: 0.4662, Train Acc: 0.8333, Test Acc: 0.7105\n",
      "Epoch: 030, Loss: 0.3180, Train Acc: 0.8600, Test Acc: 0.6579\n",
      "Epoch: 031, Loss: 0.2749, Train Acc: 0.8467, Test Acc: 0.7105\n",
      "Epoch: 032, Loss: 0.3200, Train Acc: 0.8333, Test Acc: 0.7895\n",
      "Epoch: 033, Loss: 0.6072, Train Acc: 0.8333, Test Acc: 0.6842\n",
      "Epoch: 034, Loss: 0.6330, Train Acc: 0.8200, Test Acc: 0.7368\n",
      "Epoch: 035, Loss: 0.3108, Train Acc: 0.8133, Test Acc: 0.7632\n",
      "Epoch: 036, Loss: 0.3775, Train Acc: 0.8533, Test Acc: 0.7105\n",
      "Epoch: 037, Loss: 0.3127, Train Acc: 0.8333, Test Acc: 0.7105\n",
      "Epoch: 038, Loss: 0.3326, Train Acc: 0.8400, Test Acc: 0.7105\n",
      "Epoch: 039, Loss: 0.4753, Train Acc: 0.8533, Test Acc: 0.6842\n",
      "Epoch: 040, Loss: 0.3633, Train Acc: 0.8600, Test Acc: 0.6842\n",
      "Epoch: 041, Loss: 0.5000, Train Acc: 0.8600, Test Acc: 0.7105\n",
      "Epoch: 042, Loss: 0.3979, Train Acc: 0.8533, Test Acc: 0.7105\n",
      "Epoch: 043, Loss: 0.3557, Train Acc: 0.8600, Test Acc: 0.7105\n",
      "Epoch: 044, Loss: 0.9543, Train Acc: 0.8200, Test Acc: 0.6842\n",
      "Epoch: 045, Loss: 0.4330, Train Acc: 0.8400, Test Acc: 0.7105\n",
      "Epoch: 046, Loss: 0.4143, Train Acc: 0.8133, Test Acc: 0.7895\n",
      "Epoch: 047, Loss: 0.4503, Train Acc: 0.8467, Test Acc: 0.7105\n",
      "Epoch: 048, Loss: 0.4334, Train Acc: 0.8067, Test Acc: 0.7368\n",
      "Epoch: 049, Loss: 0.4820, Train Acc: 0.8000, Test Acc: 0.7105\n",
      "Epoch: 050, Loss: 0.3709, Train Acc: 0.8267, Test Acc: 0.7368\n",
      "Epoch: 051, Loss: 0.5128, Train Acc: 0.7933, Test Acc: 0.7895\n",
      "Epoch: 052, Loss: 0.6858, Train Acc: 0.8267, Test Acc: 0.7632\n",
      "Epoch: 053, Loss: 0.5482, Train Acc: 0.8067, Test Acc: 0.6842\n",
      "Epoch: 054, Loss: 0.3697, Train Acc: 0.8400, Test Acc: 0.6842\n",
      "Epoch: 055, Loss: 0.5015, Train Acc: 0.8533, Test Acc: 0.7368\n",
      "Epoch: 056, Loss: 0.4861, Train Acc: 0.8200, Test Acc: 0.7632\n",
      "Epoch: 057, Loss: 0.4424, Train Acc: 0.8533, Test Acc: 0.7105\n",
      "Epoch: 058, Loss: 0.5734, Train Acc: 0.8533, Test Acc: 0.6842\n",
      "Epoch: 059, Loss: 0.3141, Train Acc: 0.8667, Test Acc: 0.7105\n",
      "Epoch: 060, Loss: 0.3765, Train Acc: 0.8267, Test Acc: 0.7632\n",
      "Epoch: 061, Loss: 0.3558, Train Acc: 0.8600, Test Acc: 0.6842\n",
      "Epoch: 062, Loss: 0.4136, Train Acc: 0.8400, Test Acc: 0.6842\n",
      "Epoch: 063, Loss: 0.3522, Train Acc: 0.8600, Test Acc: 0.7105\n",
      "Epoch: 064, Loss: 0.4016, Train Acc: 0.8533, Test Acc: 0.6842\n",
      "Epoch: 065, Loss: 0.3413, Train Acc: 0.8667, Test Acc: 0.7105\n",
      "Epoch: 066, Loss: 0.5650, Train Acc: 0.8667, Test Acc: 0.7105\n",
      "Epoch: 067, Loss: 0.4401, Train Acc: 0.8667, Test Acc: 0.7105\n",
      "Epoch: 068, Loss: 0.4622, Train Acc: 0.8667, Test Acc: 0.7105\n",
      "Epoch: 069, Loss: 0.2730, Train Acc: 0.8467, Test Acc: 0.6842\n",
      "Epoch: 070, Loss: 0.6866, Train Acc: 0.8400, Test Acc: 0.6842\n",
      "Epoch: 071, Loss: 0.3828, Train Acc: 0.8400, Test Acc: 0.7105\n",
      "Epoch: 072, Loss: 0.3366, Train Acc: 0.8600, Test Acc: 0.7105\n",
      "Epoch: 073, Loss: 0.5296, Train Acc: 0.8600, Test Acc: 0.6842\n",
      "Epoch: 074, Loss: 0.4653, Train Acc: 0.8667, Test Acc: 0.7105\n",
      "Epoch: 075, Loss: 0.4540, Train Acc: 0.8467, Test Acc: 0.7632\n",
      "Epoch: 076, Loss: 0.4250, Train Acc: 0.8133, Test Acc: 0.7632\n",
      "Epoch: 077, Loss: 0.4071, Train Acc: 0.8333, Test Acc: 0.6842\n",
      "Epoch: 078, Loss: 0.5867, Train Acc: 0.8200, Test Acc: 0.6842\n",
      "Epoch: 079, Loss: 0.2898, Train Acc: 0.8333, Test Acc: 0.6842\n",
      "Epoch: 080, Loss: 0.3028, Train Acc: 0.8267, Test Acc: 0.7105\n",
      "Epoch: 081, Loss: 0.4643, Train Acc: 0.8467, Test Acc: 0.7105\n",
      "Epoch: 082, Loss: 0.6072, Train Acc: 0.8333, Test Acc: 0.6842\n",
      "Epoch: 083, Loss: 0.4783, Train Acc: 0.8400, Test Acc: 0.6842\n",
      "Epoch: 084, Loss: 0.2751, Train Acc: 0.8333, Test Acc: 0.7105\n",
      "Epoch: 085, Loss: 0.4249, Train Acc: 0.8267, Test Acc: 0.7632\n",
      "Epoch: 086, Loss: 0.2611, Train Acc: 0.8467, Test Acc: 0.7368\n",
      "Epoch: 087, Loss: 0.4872, Train Acc: 0.8600, Test Acc: 0.6579\n",
      "Epoch: 088, Loss: 0.4217, Train Acc: 0.8333, Test Acc: 0.7632\n",
      "Epoch: 089, Loss: 0.2588, Train Acc: 0.8533, Test Acc: 0.7105\n",
      "Epoch: 090, Loss: 0.1852, Train Acc: 0.8467, Test Acc: 0.7368\n",
      "Epoch: 091, Loss: 0.2946, Train Acc: 0.8533, Test Acc: 0.7368\n",
      "Epoch: 092, Loss: 0.3575, Train Acc: 0.8667, Test Acc: 0.7368\n",
      "Epoch: 093, Loss: 0.6492, Train Acc: 0.8400, Test Acc: 0.6842\n",
      "Epoch: 094, Loss: 0.3595, Train Acc: 0.8333, Test Acc: 0.7105\n",
      "Epoch: 095, Loss: 0.4046, Train Acc: 0.8667, Test Acc: 0.7105\n",
      "Epoch: 096, Loss: 0.4387, Train Acc: 0.8467, Test Acc: 0.6842\n",
      "Epoch: 097, Loss: 0.5745, Train Acc: 0.8533, Test Acc: 0.7105\n",
      "Epoch: 098, Loss: 0.3971, Train Acc: 0.8600, Test Acc: 0.7105\n",
      "Epoch: 099, Loss: 0.4462, Train Acc: 0.8600, Test Acc: 0.6842\n",
      "Epoch: 100, Loss: 0.3845, Train Acc: 0.8600, Test Acc: 0.6842\n",
      "Epoch: 101, Loss: 0.4368, Train Acc: 0.8467, Test Acc: 0.6842\n",
      "Epoch: 102, Loss: 0.6178, Train Acc: 0.8667, Test Acc: 0.7105\n",
      "Epoch: 103, Loss: 0.5087, Train Acc: 0.8467, Test Acc: 0.7105\n",
      "Epoch: 104, Loss: 0.5053, Train Acc: 0.8467, Test Acc: 0.6842\n",
      "Epoch: 105, Loss: 0.4371, Train Acc: 0.8400, Test Acc: 0.6842\n",
      "Epoch: 106, Loss: 0.4798, Train Acc: 0.8400, Test Acc: 0.6842\n",
      "Epoch: 107, Loss: 0.3370, Train Acc: 0.8667, Test Acc: 0.7105\n",
      "Epoch: 108, Loss: 0.4797, Train Acc: 0.8533, Test Acc: 0.6842\n",
      "Epoch: 109, Loss: 0.2254, Train Acc: 0.8667, Test Acc: 0.7105\n",
      "Epoch: 110, Loss: 0.3647, Train Acc: 0.8667, Test Acc: 0.7105\n",
      "Epoch: 111, Loss: 0.3464, Train Acc: 0.8600, Test Acc: 0.6842\n",
      "Epoch: 112, Loss: 0.4997, Train Acc: 0.8600, Test Acc: 0.7105\n",
      "Epoch: 113, Loss: 0.5547, Train Acc: 0.8667, Test Acc: 0.6842\n",
      "Epoch: 114, Loss: 0.3022, Train Acc: 0.8533, Test Acc: 0.7105\n",
      "Epoch: 115, Loss: 0.7019, Train Acc: 0.8467, Test Acc: 0.6842\n",
      "Epoch: 116, Loss: 0.3286, Train Acc: 0.8533, Test Acc: 0.6842\n",
      "Epoch: 117, Loss: 0.5815, Train Acc: 0.8467, Test Acc: 0.7105\n",
      "Epoch: 118, Loss: 0.3745, Train Acc: 0.8667, Test Acc: 0.6842\n",
      "Epoch: 119, Loss: 0.2563, Train Acc: 0.8667, Test Acc: 0.7105\n",
      "Epoch: 120, Loss: 0.3984, Train Acc: 0.8533, Test Acc: 0.7105\n",
      "Epoch: 121, Loss: 0.7692, Train Acc: 0.8400, Test Acc: 0.7105\n",
      "Epoch: 122, Loss: 0.3763, Train Acc: 0.8467, Test Acc: 0.7105\n",
      "Epoch: 123, Loss: 0.3879, Train Acc: 0.8533, Test Acc: 0.7105\n",
      "Epoch: 124, Loss: 0.3228, Train Acc: 0.8667, Test Acc: 0.7105\n",
      "Epoch: 125, Loss: 0.3687, Train Acc: 0.8667, Test Acc: 0.7105\n",
      "Epoch: 126, Loss: 0.2906, Train Acc: 0.8533, Test Acc: 0.6842\n",
      "Epoch: 127, Loss: 0.3577, Train Acc: 0.8667, Test Acc: 0.6842\n",
      "Epoch: 128, Loss: 0.8427, Train Acc: 0.8667, Test Acc: 0.6842\n",
      "Epoch: 129, Loss: 0.4388, Train Acc: 0.8400, Test Acc: 0.6316\n",
      "Epoch: 130, Loss: 0.3858, Train Acc: 0.8333, Test Acc: 0.6316\n",
      "Epoch: 131, Loss: 0.6503, Train Acc: 0.8600, Test Acc: 0.6842\n",
      "Epoch: 132, Loss: 0.4163, Train Acc: 0.8533, Test Acc: 0.7368\n",
      "Epoch: 133, Loss: 0.5578, Train Acc: 0.8667, Test Acc: 0.7105\n",
      "Epoch: 134, Loss: 0.2675, Train Acc: 0.8267, Test Acc: 0.6579\n"
     ]
    },
    {
     "name": "stdout",
     "output_type": "stream",
     "text": [
      "Epoch: 135, Loss: 0.3513, Train Acc: 0.8600, Test Acc: 0.7105\n",
      "Epoch: 136, Loss: 0.4068, Train Acc: 0.8533, Test Acc: 0.6842\n",
      "Epoch: 137, Loss: 0.4427, Train Acc: 0.8467, Test Acc: 0.7105\n",
      "Epoch: 138, Loss: 0.4316, Train Acc: 0.8400, Test Acc: 0.6842\n",
      "Epoch: 139, Loss: 0.3445, Train Acc: 0.8600, Test Acc: 0.7105\n",
      "Epoch: 140, Loss: 0.5308, Train Acc: 0.8667, Test Acc: 0.6842\n",
      "Epoch: 141, Loss: 0.5235, Train Acc: 0.8667, Test Acc: 0.6842\n",
      "Epoch: 142, Loss: 0.2773, Train Acc: 0.8533, Test Acc: 0.7105\n",
      "Epoch: 143, Loss: 0.4170, Train Acc: 0.8600, Test Acc: 0.7105\n",
      "Epoch: 144, Loss: 0.3675, Train Acc: 0.8733, Test Acc: 0.6842\n",
      "Epoch: 145, Loss: 0.3138, Train Acc: 0.8600, Test Acc: 0.7105\n",
      "Epoch: 146, Loss: 0.2580, Train Acc: 0.8533, Test Acc: 0.6842\n",
      "Epoch: 147, Loss: 0.3348, Train Acc: 0.8533, Test Acc: 0.6842\n",
      "Epoch: 148, Loss: 0.5727, Train Acc: 0.8467, Test Acc: 0.7105\n",
      "Epoch: 149, Loss: 0.2897, Train Acc: 0.8467, Test Acc: 0.6842\n",
      "Epoch: 150, Loss: 0.2982, Train Acc: 0.8533, Test Acc: 0.7105\n",
      "Epoch: 151, Loss: 0.4342, Train Acc: 0.8600, Test Acc: 0.7105\n",
      "Epoch: 152, Loss: 0.3814, Train Acc: 0.8533, Test Acc: 0.6842\n",
      "Epoch: 153, Loss: 0.3965, Train Acc: 0.8533, Test Acc: 0.7105\n",
      "Epoch: 154, Loss: 0.6643, Train Acc: 0.8467, Test Acc: 0.7105\n",
      "Epoch: 155, Loss: 0.2692, Train Acc: 0.8333, Test Acc: 0.7105\n",
      "Epoch: 156, Loss: 0.3319, Train Acc: 0.8400, Test Acc: 0.7105\n",
      "Epoch: 157, Loss: 0.2665, Train Acc: 0.8467, Test Acc: 0.7105\n",
      "Epoch: 158, Loss: 0.2404, Train Acc: 0.8600, Test Acc: 0.7105\n",
      "Epoch: 159, Loss: 0.2974, Train Acc: 0.8533, Test Acc: 0.6842\n",
      "Epoch: 160, Loss: 0.2075, Train Acc: 0.8600, Test Acc: 0.7105\n",
      "Epoch: 161, Loss: 0.3953, Train Acc: 0.8467, Test Acc: 0.6842\n",
      "Epoch: 162, Loss: 0.2673, Train Acc: 0.8600, Test Acc: 0.7105\n",
      "Epoch: 163, Loss: 0.2312, Train Acc: 0.8467, Test Acc: 0.7105\n",
      "Epoch: 164, Loss: 0.3162, Train Acc: 0.8467, Test Acc: 0.7105\n",
      "Epoch: 165, Loss: 0.3270, Train Acc: 0.8400, Test Acc: 0.7105\n",
      "Epoch: 166, Loss: 0.2341, Train Acc: 0.8533, Test Acc: 0.7105\n",
      "Epoch: 167, Loss: 0.4171, Train Acc: 0.8600, Test Acc: 0.7105\n",
      "Epoch: 168, Loss: 0.2781, Train Acc: 0.8267, Test Acc: 0.6842\n",
      "Epoch: 169, Loss: 0.1900, Train Acc: 0.8467, Test Acc: 0.7105\n",
      "Epoch: 170, Loss: 0.2423, Train Acc: 0.8400, Test Acc: 0.7105\n",
      "Epoch: 171, Loss: 0.4753, Train Acc: 0.8400, Test Acc: 0.7105\n",
      "Epoch: 172, Loss: 0.3695, Train Acc: 0.8400, Test Acc: 0.6842\n",
      "Epoch: 173, Loss: 0.3043, Train Acc: 0.8533, Test Acc: 0.6579\n",
      "Epoch: 174, Loss: 0.3731, Train Acc: 0.8667, Test Acc: 0.7105\n",
      "Epoch: 175, Loss: 0.4601, Train Acc: 0.8533, Test Acc: 0.7105\n"
     ]
    }
   ],
   "source": [
    "from IPython.display import Javascript\n",
    "display(Javascript('''google.colab.output.setIframeHeight(0, true, {maxHeight: 300})'''))\n",
    "\n",
    "\n",
    "for epoch in range(1, 176):\n",
    "    loss = train()\n",
    "    train_acc = test(train_loader)\n",
    "    test_acc = test(test_loader)\n",
    "    print(f'Epoch: {epoch:03d}, Loss: {loss:.4f}, Train Acc: {train_acc:.4f}, Test Acc: {test_acc:.4f}')"
   ]
  },
  {
   "cell_type": "code",
   "execution_count": 70,
   "metadata": {},
   "outputs": [
    {
     "name": "stdout",
     "output_type": "stream",
     "text": [
      "Batch(batch=[2714], edge_attr=[5994, 4], edge_index=[2, 5994], x=[2714, 7], y=[150])\n"
     ]
    }
   ],
   "source": [
    "final_loader = DataLoader(train_dataset, batch_size=150, shuffle=True)\n",
    "for data in final_loader:\n",
    "    print(data)"
   ]
  },
  {
   "cell_type": "code",
   "execution_count": 71,
   "metadata": {},
   "outputs": [],
   "source": [
    "x = model.conv1(data.x, data.edge_index)\n",
    "x = x.relu()\n",
    "x = model.conv2(x, data.edge_index)\n",
    "x = x.relu()\n",
    "x = model.conv3(x, data.edge_index)\n",
    "\n",
    "# 2. Readout layer\n",
    "x = global_mean_pool(x, data.batch) "
   ]
  },
  {
   "cell_type": "code",
   "execution_count": 72,
   "metadata": {},
   "outputs": [
    {
     "data": {
      "text/plain": [
       "torch.Size([150, 64])"
      ]
     },
     "execution_count": 72,
     "metadata": {},
     "output_type": "execute_result"
    }
   ],
   "source": [
    "x.shape"
   ]
  },
  {
   "cell_type": "code",
   "execution_count": 73,
   "metadata": {},
   "outputs": [
    {
     "data": {
      "text/plain": [
       "tensor([[ 0.0104,  0.0261,  0.1254,  ...,  0.0156, -0.1207, -0.0571],\n",
       "        [-0.0156, -0.0010,  0.1657,  ...,  0.0374, -0.1363, -0.0853],\n",
       "        [ 0.0260,  0.0326,  0.1150,  ...,  0.0135, -0.1281, -0.0523],\n",
       "        ...,\n",
       "        [-0.2665,  0.1849, -0.0837,  ..., -0.1741,  0.1978,  0.2073],\n",
       "        [ 0.6496, -0.5655,  0.8123,  ...,  0.2333, -0.7444, -0.3861],\n",
       "        [-0.0757,  0.0856,  0.0484,  ..., -0.0336, -0.0009,  0.0312]],\n",
       "       grad_fn=<TrueDivideBackward0>)"
      ]
     },
     "execution_count": 73,
     "metadata": {},
     "output_type": "execute_result"
    }
   ],
   "source": [
    "x"
   ]
  },
  {
   "cell_type": "code",
   "execution_count": 42,
   "metadata": {},
   "outputs": [],
   "source": [
    "x = model.conv1(train_loader.dataset.data.x, train_loader.dataset.data.edge_index)"
   ]
  },
  {
   "cell_type": "code",
   "execution_count": 74,
   "metadata": {},
   "outputs": [
    {
     "data": {
      "text/plain": [
       "tensor([1, 1, 1, 0, 0, 0, 0, 0, 0, 0, 1, 1, 0, 1, 0, 0, 0, 1, 1, 0, 0, 1, 1, 1,\n",
       "        1, 1, 1, 1, 1, 0, 1, 1, 1, 0, 0, 1, 1, 0, 1, 0, 1, 0, 1, 1, 0, 1, 0, 0,\n",
       "        1, 0, 1, 1, 1, 1, 1, 1, 1, 0, 1, 1, 1, 1, 0, 0, 1, 0, 0, 1, 0, 1, 1, 1,\n",
       "        1, 0, 0, 0, 1, 1, 1, 0, 1, 1, 1, 1, 1, 1, 1, 1, 1, 1, 1, 0, 1, 1, 1, 1,\n",
       "        1, 1, 0, 0, 0, 0, 0, 1, 1, 0, 1, 1, 1, 1, 1, 1, 0, 1, 1, 1, 0, 1, 0, 1,\n",
       "        0, 1, 0, 1, 1, 1, 1, 0, 0, 0, 1, 1, 1, 1, 1, 1, 1, 0, 1, 1, 0, 1, 1, 1,\n",
       "        1, 0, 1, 0, 1, 0])"
      ]
     },
     "execution_count": 74,
     "metadata": {},
     "output_type": "execute_result"
    }
   ],
   "source": [
    "data.y"
   ]
  },
  {
   "cell_type": "code",
   "execution_count": 78,
   "metadata": {},
   "outputs": [],
   "source": [
    "import matplotlib.pyplot as plt\n",
    "from sklearn.manifold import TSNE\n",
    "\n",
    "def visualize(h, color):\n",
    "    z = TSNE(n_components=2).fit_transform(h.detach().cpu().numpy())\n",
    "\n",
    "    plt.figure(figsize=(10,10))\n",
    "    plt.xlabel('TSNE Component 1')\n",
    "    plt.ylabel('TSNE Component 2')\n",
    "    plt.xticks([])\n",
    "    plt.yticks([])\n",
    "\n",
    "    plt.scatter(z[:, 0], z[:, 1], s=50, c=color, cmap=\"Set2\")\n",
    "#     plt.legend()\n",
    "    plt.show()"
   ]
  },
  {
   "cell_type": "code",
   "execution_count": 79,
   "metadata": {},
   "outputs": [
    {
     "data": {
      "image/png": "[encoded data removed]",
      "text/plain": [
       "<Figure size 720x720 with 1 Axes>"
      ]
     },
     "metadata": {},
     "output_type": "display_data"
    }
   ],
   "source": [
    "visualize(x, color=data.y)"
   ]
  },
  {
   "cell_type": "code",
   "execution_count": 80,
   "metadata": {},
   "outputs": [],
   "source": [
    "from torch_geometric.nn import GraphConv\n",
    "\n",
    "\n",
    "class GNN(torch.nn.Module):\n",
    "    def __init__(self, hidden_channels):\n",
    "        super(GNN, self).__init__()\n",
    "        torch.manual_seed(12345)\n",
    "        self.conv1 = GraphConv(dataset.num_node_features, hidden_channels)\n",
    "        self.conv2 = GraphConv(hidden_channels, hidden_channels)\n",
    "        self.conv3 = GraphConv(hidden_channels, hidden_channels)\n",
    "        self.lin = Linear(hidden_channels, dataset.num_classes)\n",
    "        \n",
    "\n",
    "    def forward(self, x, edge_index, batch):\n",
    "        x = self.conv1(x, edge_index)\n",
    "        x = x.relu()\n",
    "        x = self.conv2(x, edge_index)\n",
    "        x = x.relu()\n",
    "        x = self.conv3(x, edge_index)\n",
    "\n",
    "        x = global_mean_pool(x, batch)\n",
    "\n",
    "        x = F.dropout(x, p=0.5, training=self.training)\n",
    "        x = self.lin(x)\n",
    "        \n",
    "        return x"
   ]
  },
  {
   "cell_type": "code",
   "execution_count": 82,
   "metadata": {},
   "outputs": [
    {
     "name": "stdout",
     "output_type": "stream",
     "text": [
      "GNN(\n",
      "  (conv1): GraphConv(7, 64)\n",
      "  (conv2): GraphConv(64, 64)\n",
      "  (conv3): GraphConv(64, 64)\n",
      "  (lin): Linear(in_features=64, out_features=2, bias=True)\n",
      ")\n"
     ]
    }
   ],
   "source": [
    "model_GNN = GNN(hidden_channels=64)\n",
    "optimizer = torch.optim.Adam(model.parameters(), lr=0.01)\n",
    "print(model_GNN)"
   ]
  },
  {
   "cell_type": "code",
   "execution_count": 83,
   "metadata": {},
   "outputs": [
    {
     "data": {
      "application/javascript": [
       "google.colab.output.setIframeHeight(0, true, {maxHeight: 300})"
      ],
      "text/plain": [
       "<IPython.core.display.Javascript object>"
      ]
     },
     "metadata": {},
     "output_type": "display_data"
    },
    {
     "name": "stdout",
     "output_type": "stream",
     "text": [
      "Epoch: 001, Loss: 0.9490, Train Acc: 0.8467, Test Acc: 0.7368\n",
      "Epoch: 002, Loss: 0.4740, Train Acc: 0.8533, Test Acc: 0.7105\n",
      "Epoch: 003, Loss: 0.5340, Train Acc: 0.8600, Test Acc: 0.7105\n",
      "Epoch: 004, Loss: 0.3735, Train Acc: 0.8667, Test Acc: 0.7105\n",
      "Epoch: 005, Loss: 0.2196, Train Acc: 0.8667, Test Acc: 0.7105\n",
      "Epoch: 006, Loss: 0.5142, Train Acc: 0.8667, Test Acc: 0.7105\n",
      "Epoch: 007, Loss: 0.4857, Train Acc: 0.8600, Test Acc: 0.7105\n",
      "Epoch: 008, Loss: 0.3055, Train Acc: 0.8400, Test Acc: 0.7105\n",
      "Epoch: 009, Loss: 0.4524, Train Acc: 0.8467, Test Acc: 0.7105\n",
      "Epoch: 010, Loss: 0.4476, Train Acc: 0.8600, Test Acc: 0.7105\n",
      "Epoch: 011, Loss: 0.5342, Train Acc: 0.8333, Test Acc: 0.6579\n",
      "Epoch: 012, Loss: 0.5596, Train Acc: 0.8600, Test Acc: 0.7105\n",
      "Epoch: 013, Loss: 0.3178, Train Acc: 0.8533, Test Acc: 0.7105\n",
      "Epoch: 014, Loss: 0.2386, Train Acc: 0.8533, Test Acc: 0.7105\n",
      "Epoch: 015, Loss: 0.4332, Train Acc: 0.8400, Test Acc: 0.7105\n",
      "Epoch: 016, Loss: 0.4300, Train Acc: 0.8467, Test Acc: 0.7105\n",
      "Epoch: 017, Loss: 0.2258, Train Acc: 0.8600, Test Acc: 0.7105\n",
      "Epoch: 018, Loss: 0.5739, Train Acc: 0.8667, Test Acc: 0.7105\n",
      "Epoch: 019, Loss: 0.5215, Train Acc: 0.8200, Test Acc: 0.7368\n",
      "Epoch: 020, Loss: 0.4666, Train Acc: 0.8600, Test Acc: 0.7105\n",
      "Epoch: 021, Loss: 0.4196, Train Acc: 0.8400, Test Acc: 0.6842\n",
      "Epoch: 022, Loss: 0.2460, Train Acc: 0.8467, Test Acc: 0.7105\n",
      "Epoch: 023, Loss: 0.5348, Train Acc: 0.8667, Test Acc: 0.7105\n",
      "Epoch: 024, Loss: 0.2630, Train Acc: 0.8667, Test Acc: 0.7105\n",
      "Epoch: 025, Loss: 0.2301, Train Acc: 0.8600, Test Acc: 0.7105\n",
      "Epoch: 026, Loss: 0.3052, Train Acc: 0.8467, Test Acc: 0.6842\n",
      "Epoch: 027, Loss: 0.3402, Train Acc: 0.8400, Test Acc: 0.7105\n",
      "Epoch: 028, Loss: 0.5553, Train Acc: 0.8467, Test Acc: 0.6842\n",
      "Epoch: 029, Loss: 0.3372, Train Acc: 0.8533, Test Acc: 0.6842\n",
      "Epoch: 030, Loss: 0.4211, Train Acc: 0.8667, Test Acc: 0.7368\n",
      "Epoch: 031, Loss: 0.6526, Train Acc: 0.8600, Test Acc: 0.6842\n",
      "Epoch: 032, Loss: 0.4781, Train Acc: 0.8667, Test Acc: 0.6579\n",
      "Epoch: 033, Loss: 0.4565, Train Acc: 0.8333, Test Acc: 0.6579\n",
      "Epoch: 034, Loss: 0.2856, Train Acc: 0.8467, Test Acc: 0.7105\n",
      "Epoch: 035, Loss: 0.4442, Train Acc: 0.8467, Test Acc: 0.7105\n",
      "Epoch: 036, Loss: 0.4205, Train Acc: 0.8600, Test Acc: 0.7105\n",
      "Epoch: 037, Loss: 0.3325, Train Acc: 0.8600, Test Acc: 0.7105\n",
      "Epoch: 038, Loss: 0.4130, Train Acc: 0.8600, Test Acc: 0.6842\n",
      "Epoch: 039, Loss: 0.4718, Train Acc: 0.8600, Test Acc: 0.6842\n",
      "Epoch: 040, Loss: 0.1856, Train Acc: 0.8533, Test Acc: 0.6842\n",
      "Epoch: 041, Loss: 0.4546, Train Acc: 0.8600, Test Acc: 0.7368\n",
      "Epoch: 042, Loss: 0.4555, Train Acc: 0.8667, Test Acc: 0.7105\n",
      "Epoch: 043, Loss: 0.4883, Train Acc: 0.8533, Test Acc: 0.6842\n",
      "Epoch: 044, Loss: 0.2849, Train Acc: 0.8533, Test Acc: 0.6842\n",
      "Epoch: 045, Loss: 0.3077, Train Acc: 0.8533, Test Acc: 0.7105\n",
      "Epoch: 046, Loss: 0.6104, Train Acc: 0.8600, Test Acc: 0.6842\n",
      "Epoch: 047, Loss: 0.4648, Train Acc: 0.8400, Test Acc: 0.6579\n",
      "Epoch: 048, Loss: 0.3261, Train Acc: 0.8533, Test Acc: 0.6842\n",
      "Epoch: 049, Loss: 0.3227, Train Acc: 0.8733, Test Acc: 0.7105\n",
      "Epoch: 050, Loss: 0.3782, Train Acc: 0.8733, Test Acc: 0.7105\n",
      "Epoch: 051, Loss: 0.4380, Train Acc: 0.8667, Test Acc: 0.6842\n",
      "Epoch: 052, Loss: 0.4605, Train Acc: 0.8667, Test Acc: 0.6842\n",
      "Epoch: 053, Loss: 0.2219, Train Acc: 0.8600, Test Acc: 0.6842\n",
      "Epoch: 054, Loss: 0.4415, Train Acc: 0.8667, Test Acc: 0.6842\n",
      "Epoch: 055, Loss: 0.3782, Train Acc: 0.8667, Test Acc: 0.7105\n",
      "Epoch: 056, Loss: 0.5787, Train Acc: 0.8600, Test Acc: 0.7105\n",
      "Epoch: 057, Loss: 0.6100, Train Acc: 0.8467, Test Acc: 0.6842\n",
      "Epoch: 058, Loss: 0.4633, Train Acc: 0.8400, Test Acc: 0.6842\n",
      "Epoch: 059, Loss: 0.2960, Train Acc: 0.8533, Test Acc: 0.6842\n",
      "Epoch: 060, Loss: 0.3677, Train Acc: 0.8600, Test Acc: 0.7105\n",
      "Epoch: 061, Loss: 0.4103, Train Acc: 0.8600, Test Acc: 0.7105\n",
      "Epoch: 062, Loss: 0.2998, Train Acc: 0.8467, Test Acc: 0.7105\n",
      "Epoch: 063, Loss: 0.5669, Train Acc: 0.8467, Test Acc: 0.6842\n",
      "Epoch: 064, Loss: 0.4300, Train Acc: 0.8467, Test Acc: 0.6842\n",
      "Epoch: 065, Loss: 0.4995, Train Acc: 0.8600, Test Acc: 0.7105\n",
      "Epoch: 066, Loss: 0.3133, Train Acc: 0.8533, Test Acc: 0.6842\n",
      "Epoch: 067, Loss: 0.2564, Train Acc: 0.8533, Test Acc: 0.6579\n",
      "Epoch: 068, Loss: 0.2257, Train Acc: 0.8733, Test Acc: 0.6842\n",
      "Epoch: 069, Loss: 0.3002, Train Acc: 0.8733, Test Acc: 0.7105\n",
      "Epoch: 070, Loss: 0.5772, Train Acc: 0.8533, Test Acc: 0.6842\n",
      "Epoch: 071, Loss: 0.4985, Train Acc: 0.8400, Test Acc: 0.6579\n",
      "Epoch: 072, Loss: 0.5002, Train Acc: 0.8533, Test Acc: 0.6842\n",
      "Epoch: 073, Loss: 0.3421, Train Acc: 0.8667, Test Acc: 0.7105\n",
      "Epoch: 074, Loss: 0.2539, Train Acc: 0.8600, Test Acc: 0.7105\n",
      "Epoch: 075, Loss: 0.1723, Train Acc: 0.8667, Test Acc: 0.6842\n",
      "Epoch: 076, Loss: 0.3766, Train Acc: 0.8600, Test Acc: 0.6842\n",
      "Epoch: 077, Loss: 0.1809, Train Acc: 0.8533, Test Acc: 0.6842\n",
      "Epoch: 078, Loss: 0.4457, Train Acc: 0.8600, Test Acc: 0.7105\n",
      "Epoch: 079, Loss: 0.3325, Train Acc: 0.8600, Test Acc: 0.7105\n",
      "Epoch: 080, Loss: 0.2257, Train Acc: 0.8533, Test Acc: 0.6842\n",
      "Epoch: 081, Loss: 0.2558, Train Acc: 0.8400, Test Acc: 0.6842\n",
      "Epoch: 082, Loss: 0.1801, Train Acc: 0.8533, Test Acc: 0.6842\n",
      "Epoch: 083, Loss: 0.5061, Train Acc: 0.8533, Test Acc: 0.6842\n",
      "Epoch: 084, Loss: 0.3822, Train Acc: 0.8600, Test Acc: 0.6842\n",
      "Epoch: 085, Loss: 0.3801, Train Acc: 0.8667, Test Acc: 0.6842\n",
      "Epoch: 086, Loss: 0.3376, Train Acc: 0.8667, Test Acc: 0.6842\n",
      "Epoch: 087, Loss: 0.1395, Train Acc: 0.8600, Test Acc: 0.7368\n",
      "Epoch: 088, Loss: 0.3546, Train Acc: 0.8667, Test Acc: 0.6842\n",
      "Epoch: 089, Loss: 0.1893, Train Acc: 0.8600, Test Acc: 0.6842\n",
      "Epoch: 090, Loss: 0.3770, Train Acc: 0.8600, Test Acc: 0.6842\n",
      "Epoch: 091, Loss: 0.3366, Train Acc: 0.8533, Test Acc: 0.6842\n",
      "Epoch: 092, Loss: 0.5208, Train Acc: 0.8600, Test Acc: 0.6842\n",
      "Epoch: 093, Loss: 0.3948, Train Acc: 0.8533, Test Acc: 0.6842\n",
      "Epoch: 094, Loss: 0.3507, Train Acc: 0.8667, Test Acc: 0.6842\n",
      "Epoch: 095, Loss: 0.2562, Train Acc: 0.8733, Test Acc: 0.6842\n",
      "Epoch: 096, Loss: 0.2029, Train Acc: 0.8600, Test Acc: 0.6842\n",
      "Epoch: 097, Loss: 0.7322, Train Acc: 0.8600, Test Acc: 0.6842\n",
      "Epoch: 098, Loss: 0.6214, Train Acc: 0.8467, Test Acc: 0.6842\n",
      "Epoch: 099, Loss: 0.5474, Train Acc: 0.8333, Test Acc: 0.6842\n",
      "Epoch: 100, Loss: 0.4520, Train Acc: 0.8267, Test Acc: 0.7368\n",
      "Epoch: 101, Loss: 0.4731, Train Acc: 0.8533, Test Acc: 0.7368\n",
      "Epoch: 102, Loss: 0.1810, Train Acc: 0.8667, Test Acc: 0.6842\n",
      "Epoch: 103, Loss: 0.4568, Train Acc: 0.8333, Test Acc: 0.6842\n",
      "Epoch: 104, Loss: 0.2051, Train Acc: 0.8400, Test Acc: 0.6842\n",
      "Epoch: 105, Loss: 0.2385, Train Acc: 0.8533, Test Acc: 0.6842\n",
      "Epoch: 106, Loss: 0.4722, Train Acc: 0.8600, Test Acc: 0.7632\n",
      "Epoch: 107, Loss: 0.3829, Train Acc: 0.8733, Test Acc: 0.7105\n",
      "Epoch: 108, Loss: 0.5029, Train Acc: 0.8600, Test Acc: 0.6579\n",
      "Epoch: 109, Loss: 0.2476, Train Acc: 0.8400, Test Acc: 0.6579\n",
      "Epoch: 110, Loss: 0.9061, Train Acc: 0.8600, Test Acc: 0.6842\n",
      "Epoch: 111, Loss: 0.4234, Train Acc: 0.8467, Test Acc: 0.6842\n",
      "Epoch: 112, Loss: 0.3105, Train Acc: 0.8467, Test Acc: 0.6842\n",
      "Epoch: 113, Loss: 0.2681, Train Acc: 0.8533, Test Acc: 0.6842\n",
      "Epoch: 114, Loss: 0.2330, Train Acc: 0.8667, Test Acc: 0.6842\n",
      "Epoch: 115, Loss: 0.3610, Train Acc: 0.8667, Test Acc: 0.6842\n",
      "Epoch: 116, Loss: 0.5481, Train Acc: 0.8600, Test Acc: 0.6842\n",
      "Epoch: 117, Loss: 0.3815, Train Acc: 0.8400, Test Acc: 0.6842\n",
      "Epoch: 118, Loss: 0.4474, Train Acc: 0.8400, Test Acc: 0.6842\n",
      "Epoch: 119, Loss: 0.6253, Train Acc: 0.8467, Test Acc: 0.6842\n",
      "Epoch: 120, Loss: 0.2292, Train Acc: 0.8667, Test Acc: 0.6842\n",
      "Epoch: 121, Loss: 0.3898, Train Acc: 0.8600, Test Acc: 0.6842\n",
      "Epoch: 122, Loss: 0.5291, Train Acc: 0.8667, Test Acc: 0.6842\n",
      "Epoch: 123, Loss: 0.3150, Train Acc: 0.8467, Test Acc: 0.7105\n",
      "Epoch: 124, Loss: 0.2392, Train Acc: 0.8400, Test Acc: 0.6842\n",
      "Epoch: 125, Loss: 0.3614, Train Acc: 0.8667, Test Acc: 0.6842\n",
      "Epoch: 126, Loss: 0.5144, Train Acc: 0.8600, Test Acc: 0.6842\n",
      "Epoch: 127, Loss: 0.4692, Train Acc: 0.8533, Test Acc: 0.6842\n",
      "Epoch: 128, Loss: 0.4469, Train Acc: 0.8600, Test Acc: 0.6842\n",
      "Epoch: 129, Loss: 0.2794, Train Acc: 0.8667, Test Acc: 0.6842\n",
      "Epoch: 130, Loss: 0.4296, Train Acc: 0.8667, Test Acc: 0.7105\n",
      "Epoch: 131, Loss: 0.4325, Train Acc: 0.8733, Test Acc: 0.7105\n",
      "Epoch: 132, Loss: 0.3615, Train Acc: 0.8733, Test Acc: 0.6842\n",
      "Epoch: 133, Loss: 0.4800, Train Acc: 0.8533, Test Acc: 0.6842\n",
      "Epoch: 134, Loss: 0.4293, Train Acc: 0.8333, Test Acc: 0.6842\n"
     ]
    },
    {
     "name": "stdout",
     "output_type": "stream",
     "text": [
      "Epoch: 135, Loss: 0.3342, Train Acc: 0.8333, Test Acc: 0.6842\n",
      "Epoch: 136, Loss: 0.3528, Train Acc: 0.8467, Test Acc: 0.6842\n",
      "Epoch: 137, Loss: 0.3513, Train Acc: 0.8600, Test Acc: 0.6842\n",
      "Epoch: 138, Loss: 0.4225, Train Acc: 0.8600, Test Acc: 0.6842\n",
      "Epoch: 139, Loss: 0.6674, Train Acc: 0.8600, Test Acc: 0.6842\n",
      "Epoch: 140, Loss: 0.5781, Train Acc: 0.8600, Test Acc: 0.6842\n",
      "Epoch: 141, Loss: 0.5396, Train Acc: 0.8600, Test Acc: 0.6842\n",
      "Epoch: 142, Loss: 0.4518, Train Acc: 0.8600, Test Acc: 0.6842\n",
      "Epoch: 143, Loss: 0.4706, Train Acc: 0.8733, Test Acc: 0.6842\n",
      "Epoch: 144, Loss: 0.3903, Train Acc: 0.8667, Test Acc: 0.6842\n",
      "Epoch: 145, Loss: 0.4851, Train Acc: 0.8600, Test Acc: 0.7105\n",
      "Epoch: 146, Loss: 0.3828, Train Acc: 0.8667, Test Acc: 0.6842\n",
      "Epoch: 147, Loss: 0.2524, Train Acc: 0.8800, Test Acc: 0.7105\n",
      "Epoch: 148, Loss: 0.2910, Train Acc: 0.8733, Test Acc: 0.7105\n",
      "Epoch: 149, Loss: 0.3635, Train Acc: 0.8733, Test Acc: 0.6842\n",
      "Epoch: 150, Loss: 0.4667, Train Acc: 0.8533, Test Acc: 0.7105\n",
      "Epoch: 151, Loss: 0.4974, Train Acc: 0.8667, Test Acc: 0.6842\n",
      "Epoch: 152, Loss: 0.6563, Train Acc: 0.8733, Test Acc: 0.6842\n",
      "Epoch: 153, Loss: 0.4298, Train Acc: 0.8667, Test Acc: 0.6842\n",
      "Epoch: 154, Loss: 0.3753, Train Acc: 0.8533, Test Acc: 0.7105\n",
      "Epoch: 155, Loss: 0.3387, Train Acc: 0.8667, Test Acc: 0.6842\n",
      "Epoch: 156, Loss: 0.4399, Train Acc: 0.8667, Test Acc: 0.6842\n",
      "Epoch: 157, Loss: 0.4616, Train Acc: 0.8533, Test Acc: 0.6842\n",
      "Epoch: 158, Loss: 0.4538, Train Acc: 0.8533, Test Acc: 0.7105\n",
      "Epoch: 159, Loss: 0.2849, Train Acc: 0.8800, Test Acc: 0.7105\n",
      "Epoch: 160, Loss: 0.2747, Train Acc: 0.8733, Test Acc: 0.7105\n",
      "Epoch: 161, Loss: 0.2365, Train Acc: 0.8667, Test Acc: 0.7368\n",
      "Epoch: 162, Loss: 0.4055, Train Acc: 0.8600, Test Acc: 0.7105\n",
      "Epoch: 163, Loss: 0.2520, Train Acc: 0.8733, Test Acc: 0.7105\n",
      "Epoch: 164, Loss: 0.4812, Train Acc: 0.8733, Test Acc: 0.6842\n",
      "Epoch: 165, Loss: 0.2564, Train Acc: 0.8533, Test Acc: 0.6842\n",
      "Epoch: 166, Loss: 0.4017, Train Acc: 0.8467, Test Acc: 0.7105\n",
      "Epoch: 167, Loss: 0.4372, Train Acc: 0.8533, Test Acc: 0.7105\n",
      "Epoch: 168, Loss: 0.5181, Train Acc: 0.8800, Test Acc: 0.7105\n",
      "Epoch: 169, Loss: 0.3366, Train Acc: 0.8667, Test Acc: 0.7368\n",
      "Epoch: 170, Loss: 0.5896, Train Acc: 0.8667, Test Acc: 0.7105\n",
      "Epoch: 171, Loss: 0.3984, Train Acc: 0.8533, Test Acc: 0.6842\n",
      "Epoch: 172, Loss: 0.4688, Train Acc: 0.8533, Test Acc: 0.7105\n",
      "Epoch: 173, Loss: 0.3796, Train Acc: 0.8600, Test Acc: 0.6842\n",
      "Epoch: 174, Loss: 0.3039, Train Acc: 0.8333, Test Acc: 0.6842\n",
      "Epoch: 175, Loss: 0.3968, Train Acc: 0.8600, Test Acc: 0.6842\n",
      "Epoch: 176, Loss: 0.3700, Train Acc: 0.8733, Test Acc: 0.7105\n",
      "Epoch: 177, Loss: 0.4957, Train Acc: 0.8733, Test Acc: 0.6842\n",
      "Epoch: 178, Loss: 0.3745, Train Acc: 0.8333, Test Acc: 0.6842\n",
      "Epoch: 179, Loss: 0.4970, Train Acc: 0.8533, Test Acc: 0.7105\n",
      "Epoch: 180, Loss: 0.6140, Train Acc: 0.8533, Test Acc: 0.7105\n",
      "Epoch: 181, Loss: 0.3171, Train Acc: 0.8533, Test Acc: 0.7105\n",
      "Epoch: 182, Loss: 0.3592, Train Acc: 0.8667, Test Acc: 0.6842\n",
      "Epoch: 183, Loss: 0.2026, Train Acc: 0.8600, Test Acc: 0.6842\n",
      "Epoch: 184, Loss: 0.2867, Train Acc: 0.8600, Test Acc: 0.6842\n",
      "Epoch: 185, Loss: 0.3949, Train Acc: 0.8733, Test Acc: 0.6842\n",
      "Epoch: 186, Loss: 0.5240, Train Acc: 0.8667, Test Acc: 0.7105\n",
      "Epoch: 187, Loss: 0.5699, Train Acc: 0.8667, Test Acc: 0.7368\n",
      "Epoch: 188, Loss: 0.2560, Train Acc: 0.8600, Test Acc: 0.7105\n",
      "Epoch: 189, Loss: 0.4293, Train Acc: 0.8800, Test Acc: 0.7105\n",
      "Epoch: 190, Loss: 0.1274, Train Acc: 0.8667, Test Acc: 0.7105\n",
      "Epoch: 191, Loss: 0.5823, Train Acc: 0.8533, Test Acc: 0.7368\n",
      "Epoch: 192, Loss: 0.5239, Train Acc: 0.8400, Test Acc: 0.6842\n",
      "Epoch: 193, Loss: 0.4291, Train Acc: 0.8667, Test Acc: 0.6842\n",
      "Epoch: 194, Loss: 0.2623, Train Acc: 0.8733, Test Acc: 0.6842\n",
      "Epoch: 195, Loss: 0.3840, Train Acc: 0.8733, Test Acc: 0.7105\n",
      "Epoch: 196, Loss: 0.6386, Train Acc: 0.8667, Test Acc: 0.7368\n",
      "Epoch: 197, Loss: 0.3422, Train Acc: 0.8800, Test Acc: 0.7105\n",
      "Epoch: 198, Loss: 0.6508, Train Acc: 0.8733, Test Acc: 0.7105\n",
      "Epoch: 199, Loss: 0.5129, Train Acc: 0.8467, Test Acc: 0.7368\n",
      "Epoch: 200, Loss: 0.3934, Train Acc: 0.8400, Test Acc: 0.6842\n"
     ]
    }
   ],
   "source": [
    "from IPython.display import Javascript\n",
    "display(Javascript('''google.colab.output.setIframeHeight(0, true, {maxHeight: 300})'''))\n",
    "\n",
    "for epoch in range(1, 201):\n",
    "    loss = train()\n",
    "    train_acc = test(train_loader)\n",
    "    test_acc = test(test_loader)\n",
    "    print(f'Epoch: {epoch:03d}, Loss: {loss:.4f}, Train Acc: {train_acc:.4f}, Test Acc: {test_acc:.4f}')"
   ]
  },
  {
   "cell_type": "code",
   "execution_count": null,
   "metadata": {},
   "outputs": [],
   "source": []
  }
 ],
 "metadata": {
  "kernelspec": {
   "display_name": "Python 3",
   "language": "python",
   "name": "python3"
  },
  "language_info": {
   "codemirror_mode": {
    "name": "ipython",
    "version": 3
   },
   "file_extension": ".py",
   "mimetype": "text/x-python",
   "name": "python",
   "nbconvert_exporter": "python",
   "pygments_lexer": "ipython3",
   "version": "3.7.5"
  }
 },
 "nbformat": 4,
 "nbformat_minor": 2
}
